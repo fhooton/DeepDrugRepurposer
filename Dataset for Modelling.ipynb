{
 "cells": [
  {
   "cell_type": "code",
   "execution_count": 1,
   "metadata": {
    "ExecuteTime": {
     "end_time": "2019-10-21T22:36:01.918359Z",
     "start_time": "2019-10-21T22:36:01.612816Z"
    }
   },
   "outputs": [],
   "source": [
    "import pandas as pd\n",
    "import numpy as np\n",
    "import pickle"
   ]
  },
  {
   "cell_type": "code",
   "execution_count": 2,
   "metadata": {
    "ExecuteTime": {
     "end_time": "2019-10-21T22:36:02.215991Z",
     "start_time": "2019-10-21T22:36:01.920402Z"
    }
   },
   "outputs": [
    {
     "data": {
      "text/html": [
       "<div>\n",
       "<style scoped>\n",
       "    .dataframe tbody tr th:only-of-type {\n",
       "        vertical-align: middle;\n",
       "    }\n",
       "\n",
       "    .dataframe tbody tr th {\n",
       "        vertical-align: top;\n",
       "    }\n",
       "\n",
       "    .dataframe thead th {\n",
       "        text-align: right;\n",
       "    }\n",
       "</style>\n",
       "<table border=\"1\" class=\"dataframe\">\n",
       "  <thead>\n",
       "    <tr style=\"text-align: right;\">\n",
       "      <th></th>\n",
       "      <th>drug_cas</th>\n",
       "      <th>drug_id</th>\n",
       "      <th>drug_name</th>\n",
       "      <th>target_actions</th>\n",
       "      <th>target_amino</th>\n",
       "      <th>target_gene</th>\n",
       "      <th>target_id</th>\n",
       "      <th>target_name</th>\n",
       "      <th>target_organism</th>\n",
       "      <th>pubchem_id</th>\n",
       "      <th>pubchem_name</th>\n",
       "      <th>target_gene_fingerprint</th>\n",
       "      <th>drug_fingerprint</th>\n",
       "      <th>target_embd</th>\n",
       "    </tr>\n",
       "  </thead>\n",
       "  <tbody>\n",
       "    <tr>\n",
       "      <th>0</th>\n",
       "      <td>128270-60-0</td>\n",
       "      <td>DB00006</td>\n",
       "      <td>Bivalirudin</td>\n",
       "      <td>[inhibitor]</td>\n",
       "      <td>&gt;lcl|BSEQ0016004|Prothrombin\\nMAHVRGLQLPGCLALA...</td>\n",
       "      <td>&gt;lcl|BSEQ0016005|Prothrombin (F2)\\nATGGCGCACGT...</td>\n",
       "      <td>BE0000048</td>\n",
       "      <td>Prothrombin</td>\n",
       "      <td>Human</td>\n",
       "      <td>16129704</td>\n",
       "      <td>Bivalirudin</td>\n",
       "      <td>[1.2739266e-05 -2.7748918e-05 0.00095751503 0....</td>\n",
       "      <td>[0.10044218 0.18559723 -0.12865402 -0.0650997 ...</td>\n",
       "      <td>0.0011788049 -0.00059948955 0.00048735933 -0.0...</td>\n",
       "    </tr>\n",
       "    <tr>\n",
       "      <th>1</th>\n",
       "      <td>65807-02-5</td>\n",
       "      <td>DB00014</td>\n",
       "      <td>Goserelin</td>\n",
       "      <td>[agonist]</td>\n",
       "      <td>&gt;lcl|BSEQ0036957|Lutropin-choriogonadotropic h...</td>\n",
       "      <td>&gt;lcl|BSEQ0010174|Lutropin-choriogonadotropic h...</td>\n",
       "      <td>BE0000134</td>\n",
       "      <td>Lutropin-choriogonadotropic hormone receptor</td>\n",
       "      <td>Human</td>\n",
       "      <td>5311128</td>\n",
       "      <td>goserelin</td>\n",
       "      <td>[1.2739266e-05 -2.7748918e-05 0.00095751503 0....</td>\n",
       "      <td>[0.1331214 0.2391842 -0.14361311 -0.14107014 0...</td>\n",
       "      <td>-2.7273058e-05 -0.0014635038 -0.000130956 0.00...</td>\n",
       "    </tr>\n",
       "    <tr>\n",
       "      <th>2</th>\n",
       "      <td>65807-02-5</td>\n",
       "      <td>DB00014</td>\n",
       "      <td>Goserelin</td>\n",
       "      <td>[agonist]</td>\n",
       "      <td>&gt;lcl|BSEQ0000405|Gonadotropin-releasing hormon...</td>\n",
       "      <td>&gt;lcl|BSEQ0018926|Gonadotropin-releasing hormon...</td>\n",
       "      <td>BE0000203</td>\n",
       "      <td>Gonadotropin-releasing hormone receptor</td>\n",
       "      <td>Human</td>\n",
       "      <td>5311128</td>\n",
       "      <td>goserelin</td>\n",
       "      <td>[1.2739266e-05 -2.7748918e-05 0.00095751503 0....</td>\n",
       "      <td>[0.1331214 0.2391842 -0.14361311 -0.14107014 0...</td>\n",
       "      <td>-0.00060385827 -0.0011927614 -0.00020535699 -0...</td>\n",
       "    </tr>\n",
       "    <tr>\n",
       "      <th>3</th>\n",
       "      <td>16679-58-6</td>\n",
       "      <td>DB00035</td>\n",
       "      <td>Desmopressin</td>\n",
       "      <td>[agonist]</td>\n",
       "      <td>&gt;lcl|BSEQ0000583|Vasopressin V2 receptor\\nMLMA...</td>\n",
       "      <td>&gt;lcl|BSEQ0010065|Vasopressin V2 receptor (AVPR...</td>\n",
       "      <td>BE0000293</td>\n",
       "      <td>Vasopressin V2 receptor</td>\n",
       "      <td>Human</td>\n",
       "      <td>16051933</td>\n",
       "      <td>DESMOPRESSIN</td>\n",
       "      <td>[1.2739266e-05 -2.7748918e-05 0.00095751503 0....</td>\n",
       "      <td>[0.051722348 0.24374117 -0.16236018 -0.1723347...</td>\n",
       "      <td>0.0002876672 9.454535e-06 -0.00021410194 -0.00...</td>\n",
       "    </tr>\n",
       "    <tr>\n",
       "      <th>4</th>\n",
       "      <td>16679-58-6</td>\n",
       "      <td>DB00035</td>\n",
       "      <td>Desmopressin</td>\n",
       "      <td>NaN</td>\n",
       "      <td>&gt;lcl|BSEQ0009979|Vasopressin V1a receptor\\nMRL...</td>\n",
       "      <td>&gt;lcl|BSEQ0009980|Vasopressin V1a receptor (AVP...</td>\n",
       "      <td>BE0000165</td>\n",
       "      <td>Vasopressin V1a receptor</td>\n",
       "      <td>Human</td>\n",
       "      <td>16051933</td>\n",
       "      <td>DESMOPRESSIN</td>\n",
       "      <td>[1.2739266e-05 -2.7748918e-05 0.00095751503 0....</td>\n",
       "      <td>[0.051722348 0.24374117 -0.16236018 -0.1723347...</td>\n",
       "      <td>-0.00047414153 -0.00063484476 0.00041864807 -0...</td>\n",
       "    </tr>\n",
       "  </tbody>\n",
       "</table>\n",
       "</div>"
      ],
      "text/plain": [
       "      drug_cas  drug_id     drug_name target_actions  \\\n",
       "0  128270-60-0  DB00006   Bivalirudin    [inhibitor]   \n",
       "1   65807-02-5  DB00014     Goserelin      [agonist]   \n",
       "2   65807-02-5  DB00014     Goserelin      [agonist]   \n",
       "3   16679-58-6  DB00035  Desmopressin      [agonist]   \n",
       "4   16679-58-6  DB00035  Desmopressin            NaN   \n",
       "\n",
       "                                        target_amino  \\\n",
       "0  >lcl|BSEQ0016004|Prothrombin\\nMAHVRGLQLPGCLALA...   \n",
       "1  >lcl|BSEQ0036957|Lutropin-choriogonadotropic h...   \n",
       "2  >lcl|BSEQ0000405|Gonadotropin-releasing hormon...   \n",
       "3  >lcl|BSEQ0000583|Vasopressin V2 receptor\\nMLMA...   \n",
       "4  >lcl|BSEQ0009979|Vasopressin V1a receptor\\nMRL...   \n",
       "\n",
       "                                         target_gene  target_id  \\\n",
       "0  >lcl|BSEQ0016005|Prothrombin (F2)\\nATGGCGCACGT...  BE0000048   \n",
       "1  >lcl|BSEQ0010174|Lutropin-choriogonadotropic h...  BE0000134   \n",
       "2  >lcl|BSEQ0018926|Gonadotropin-releasing hormon...  BE0000203   \n",
       "3  >lcl|BSEQ0010065|Vasopressin V2 receptor (AVPR...  BE0000293   \n",
       "4  >lcl|BSEQ0009980|Vasopressin V1a receptor (AVP...  BE0000165   \n",
       "\n",
       "                                    target_name target_organism  pubchem_id  \\\n",
       "0                                   Prothrombin           Human    16129704   \n",
       "1  Lutropin-choriogonadotropic hormone receptor           Human     5311128   \n",
       "2       Gonadotropin-releasing hormone receptor           Human     5311128   \n",
       "3                       Vasopressin V2 receptor           Human    16051933   \n",
       "4                      Vasopressin V1a receptor           Human    16051933   \n",
       "\n",
       "   pubchem_name                            target_gene_fingerprint  \\\n",
       "0   Bivalirudin  [1.2739266e-05 -2.7748918e-05 0.00095751503 0....   \n",
       "1     goserelin  [1.2739266e-05 -2.7748918e-05 0.00095751503 0....   \n",
       "2     goserelin  [1.2739266e-05 -2.7748918e-05 0.00095751503 0....   \n",
       "3  DESMOPRESSIN  [1.2739266e-05 -2.7748918e-05 0.00095751503 0....   \n",
       "4  DESMOPRESSIN  [1.2739266e-05 -2.7748918e-05 0.00095751503 0....   \n",
       "\n",
       "                                    drug_fingerprint  \\\n",
       "0  [0.10044218 0.18559723 -0.12865402 -0.0650997 ...   \n",
       "1  [0.1331214 0.2391842 -0.14361311 -0.14107014 0...   \n",
       "2  [0.1331214 0.2391842 -0.14361311 -0.14107014 0...   \n",
       "3  [0.051722348 0.24374117 -0.16236018 -0.1723347...   \n",
       "4  [0.051722348 0.24374117 -0.16236018 -0.1723347...   \n",
       "\n",
       "                                         target_embd  \n",
       "0  0.0011788049 -0.00059948955 0.00048735933 -0.0...  \n",
       "1  -2.7273058e-05 -0.0014635038 -0.000130956 0.00...  \n",
       "2  -0.00060385827 -0.0011927614 -0.00020535699 -0...  \n",
       "3  0.0002876672 9.454535e-06 -0.00021410194 -0.00...  \n",
       "4  -0.00047414153 -0.00063484476 0.00041864807 -0...  "
      ]
     },
     "execution_count": 2,
     "metadata": {},
     "output_type": "execute_result"
    }
   ],
   "source": [
    "df = pickle.load(open('drugbank_embds.pkl', 'rb'))\n",
    "df = df[~pd.isna(df['target_embd'])]\n",
    "df.head()"
   ]
  },
  {
   "cell_type": "code",
   "execution_count": 3,
   "metadata": {
    "ExecuteTime": {
     "end_time": "2019-10-21T22:36:03.253876Z",
     "start_time": "2019-10-21T22:36:02.218092Z"
    }
   },
   "outputs": [],
   "source": [
    "ndf = pd.read_csv('negative_samples/negative_samples_thrsh:12')[['node_0','node_1','shortest_path']]"
   ]
  },
  {
   "cell_type": "code",
   "execution_count": 4,
   "metadata": {
    "ExecuteTime": {
     "end_time": "2019-10-21T22:36:03.260803Z",
     "start_time": "2019-10-21T22:36:03.256364Z"
    }
   },
   "outputs": [],
   "source": [
    "def getData(x):\n",
    "    if type(x) == list:\n",
    "        return [float(i) for i in x[0].split(' ')]\n",
    "    else:\n",
    "        return [float(i) for i in x.split(' ')]"
   ]
  },
  {
   "cell_type": "code",
   "execution_count": 5,
   "metadata": {
    "ExecuteTime": {
     "end_time": "2019-10-21T22:36:03.823973Z",
     "start_time": "2019-10-21T22:36:03.262735Z"
    }
   },
   "outputs": [],
   "source": [
    "df['target_embd'] = df['target_embd'].apply(getData)\n",
    "df['drug_fingerprint'] = df['drug_fingerprint'].apply(getData)"
   ]
  },
  {
   "cell_type": "code",
   "execution_count": 6,
   "metadata": {
    "ExecuteTime": {
     "end_time": "2019-10-21T22:36:03.850519Z",
     "start_time": "2019-10-21T22:36:03.825801Z"
    }
   },
   "outputs": [
    {
     "data": {
      "text/html": [
       "<div>\n",
       "<style scoped>\n",
       "    .dataframe tbody tr th:only-of-type {\n",
       "        vertical-align: middle;\n",
       "    }\n",
       "\n",
       "    .dataframe tbody tr th {\n",
       "        vertical-align: top;\n",
       "    }\n",
       "\n",
       "    .dataframe thead th {\n",
       "        text-align: right;\n",
       "    }\n",
       "</style>\n",
       "<table border=\"1\" class=\"dataframe\">\n",
       "  <thead>\n",
       "    <tr style=\"text-align: right;\">\n",
       "      <th></th>\n",
       "      <th>drug_cas</th>\n",
       "      <th>drug_id</th>\n",
       "      <th>drug_name</th>\n",
       "      <th>target_actions</th>\n",
       "      <th>target_amino</th>\n",
       "      <th>target_gene</th>\n",
       "      <th>target_id</th>\n",
       "      <th>target_name</th>\n",
       "      <th>target_organism</th>\n",
       "      <th>pubchem_id</th>\n",
       "      <th>pubchem_name</th>\n",
       "      <th>target_gene_fingerprint</th>\n",
       "      <th>drug_fingerprint</th>\n",
       "      <th>target_embd</th>\n",
       "    </tr>\n",
       "  </thead>\n",
       "  <tbody>\n",
       "    <tr>\n",
       "      <th>0</th>\n",
       "      <td>128270-60-0</td>\n",
       "      <td>DB00006</td>\n",
       "      <td>Bivalirudin</td>\n",
       "      <td>[inhibitor]</td>\n",
       "      <td>&gt;lcl|BSEQ0016004|Prothrombin\\nMAHVRGLQLPGCLALA...</td>\n",
       "      <td>&gt;lcl|BSEQ0016005|Prothrombin (F2)\\nATGGCGCACGT...</td>\n",
       "      <td>BE0000048</td>\n",
       "      <td>Prothrombin</td>\n",
       "      <td>Human</td>\n",
       "      <td>16129704</td>\n",
       "      <td>Bivalirudin</td>\n",
       "      <td>[1.2739266e-05 -2.7748918e-05 0.00095751503 0....</td>\n",
       "      <td>[0.10044218, 0.18559723, -0.12865402, -0.06509...</td>\n",
       "      <td>[0.0011788049, -0.00059948955, 0.00048735933, ...</td>\n",
       "    </tr>\n",
       "    <tr>\n",
       "      <th>1</th>\n",
       "      <td>65807-02-5</td>\n",
       "      <td>DB00014</td>\n",
       "      <td>Goserelin</td>\n",
       "      <td>[agonist]</td>\n",
       "      <td>&gt;lcl|BSEQ0036957|Lutropin-choriogonadotropic h...</td>\n",
       "      <td>&gt;lcl|BSEQ0010174|Lutropin-choriogonadotropic h...</td>\n",
       "      <td>BE0000134</td>\n",
       "      <td>Lutropin-choriogonadotropic hormone receptor</td>\n",
       "      <td>Human</td>\n",
       "      <td>5311128</td>\n",
       "      <td>goserelin</td>\n",
       "      <td>[1.2739266e-05 -2.7748918e-05 0.00095751503 0....</td>\n",
       "      <td>[0.1331214, 0.2391842, -0.14361311, -0.1410701...</td>\n",
       "      <td>[-2.7273058e-05, -0.0014635038, -0.000130956, ...</td>\n",
       "    </tr>\n",
       "    <tr>\n",
       "      <th>2</th>\n",
       "      <td>65807-02-5</td>\n",
       "      <td>DB00014</td>\n",
       "      <td>Goserelin</td>\n",
       "      <td>[agonist]</td>\n",
       "      <td>&gt;lcl|BSEQ0000405|Gonadotropin-releasing hormon...</td>\n",
       "      <td>&gt;lcl|BSEQ0018926|Gonadotropin-releasing hormon...</td>\n",
       "      <td>BE0000203</td>\n",
       "      <td>Gonadotropin-releasing hormone receptor</td>\n",
       "      <td>Human</td>\n",
       "      <td>5311128</td>\n",
       "      <td>goserelin</td>\n",
       "      <td>[1.2739266e-05 -2.7748918e-05 0.00095751503 0....</td>\n",
       "      <td>[0.1331214, 0.2391842, -0.14361311, -0.1410701...</td>\n",
       "      <td>[-0.00060385827, -0.0011927614, -0.00020535699...</td>\n",
       "    </tr>\n",
       "    <tr>\n",
       "      <th>3</th>\n",
       "      <td>16679-58-6</td>\n",
       "      <td>DB00035</td>\n",
       "      <td>Desmopressin</td>\n",
       "      <td>[agonist]</td>\n",
       "      <td>&gt;lcl|BSEQ0000583|Vasopressin V2 receptor\\nMLMA...</td>\n",
       "      <td>&gt;lcl|BSEQ0010065|Vasopressin V2 receptor (AVPR...</td>\n",
       "      <td>BE0000293</td>\n",
       "      <td>Vasopressin V2 receptor</td>\n",
       "      <td>Human</td>\n",
       "      <td>16051933</td>\n",
       "      <td>DESMOPRESSIN</td>\n",
       "      <td>[1.2739266e-05 -2.7748918e-05 0.00095751503 0....</td>\n",
       "      <td>[0.051722348, 0.24374117, -0.16236018, -0.1723...</td>\n",
       "      <td>[0.0002876672, 9.454535e-06, -0.00021410194, -...</td>\n",
       "    </tr>\n",
       "    <tr>\n",
       "      <th>4</th>\n",
       "      <td>16679-58-6</td>\n",
       "      <td>DB00035</td>\n",
       "      <td>Desmopressin</td>\n",
       "      <td>NaN</td>\n",
       "      <td>&gt;lcl|BSEQ0009979|Vasopressin V1a receptor\\nMRL...</td>\n",
       "      <td>&gt;lcl|BSEQ0009980|Vasopressin V1a receptor (AVP...</td>\n",
       "      <td>BE0000165</td>\n",
       "      <td>Vasopressin V1a receptor</td>\n",
       "      <td>Human</td>\n",
       "      <td>16051933</td>\n",
       "      <td>DESMOPRESSIN</td>\n",
       "      <td>[1.2739266e-05 -2.7748918e-05 0.00095751503 0....</td>\n",
       "      <td>[0.051722348, 0.24374117, -0.16236018, -0.1723...</td>\n",
       "      <td>[-0.00047414153, -0.00063484476, 0.00041864807...</td>\n",
       "    </tr>\n",
       "  </tbody>\n",
       "</table>\n",
       "</div>"
      ],
      "text/plain": [
       "      drug_cas  drug_id     drug_name target_actions  \\\n",
       "0  128270-60-0  DB00006   Bivalirudin    [inhibitor]   \n",
       "1   65807-02-5  DB00014     Goserelin      [agonist]   \n",
       "2   65807-02-5  DB00014     Goserelin      [agonist]   \n",
       "3   16679-58-6  DB00035  Desmopressin      [agonist]   \n",
       "4   16679-58-6  DB00035  Desmopressin            NaN   \n",
       "\n",
       "                                        target_amino  \\\n",
       "0  >lcl|BSEQ0016004|Prothrombin\\nMAHVRGLQLPGCLALA...   \n",
       "1  >lcl|BSEQ0036957|Lutropin-choriogonadotropic h...   \n",
       "2  >lcl|BSEQ0000405|Gonadotropin-releasing hormon...   \n",
       "3  >lcl|BSEQ0000583|Vasopressin V2 receptor\\nMLMA...   \n",
       "4  >lcl|BSEQ0009979|Vasopressin V1a receptor\\nMRL...   \n",
       "\n",
       "                                         target_gene  target_id  \\\n",
       "0  >lcl|BSEQ0016005|Prothrombin (F2)\\nATGGCGCACGT...  BE0000048   \n",
       "1  >lcl|BSEQ0010174|Lutropin-choriogonadotropic h...  BE0000134   \n",
       "2  >lcl|BSEQ0018926|Gonadotropin-releasing hormon...  BE0000203   \n",
       "3  >lcl|BSEQ0010065|Vasopressin V2 receptor (AVPR...  BE0000293   \n",
       "4  >lcl|BSEQ0009980|Vasopressin V1a receptor (AVP...  BE0000165   \n",
       "\n",
       "                                    target_name target_organism  pubchem_id  \\\n",
       "0                                   Prothrombin           Human    16129704   \n",
       "1  Lutropin-choriogonadotropic hormone receptor           Human     5311128   \n",
       "2       Gonadotropin-releasing hormone receptor           Human     5311128   \n",
       "3                       Vasopressin V2 receptor           Human    16051933   \n",
       "4                      Vasopressin V1a receptor           Human    16051933   \n",
       "\n",
       "   pubchem_name                            target_gene_fingerprint  \\\n",
       "0   Bivalirudin  [1.2739266e-05 -2.7748918e-05 0.00095751503 0....   \n",
       "1     goserelin  [1.2739266e-05 -2.7748918e-05 0.00095751503 0....   \n",
       "2     goserelin  [1.2739266e-05 -2.7748918e-05 0.00095751503 0....   \n",
       "3  DESMOPRESSIN  [1.2739266e-05 -2.7748918e-05 0.00095751503 0....   \n",
       "4  DESMOPRESSIN  [1.2739266e-05 -2.7748918e-05 0.00095751503 0....   \n",
       "\n",
       "                                    drug_fingerprint  \\\n",
       "0  [0.10044218, 0.18559723, -0.12865402, -0.06509...   \n",
       "1  [0.1331214, 0.2391842, -0.14361311, -0.1410701...   \n",
       "2  [0.1331214, 0.2391842, -0.14361311, -0.1410701...   \n",
       "3  [0.051722348, 0.24374117, -0.16236018, -0.1723...   \n",
       "4  [0.051722348, 0.24374117, -0.16236018, -0.1723...   \n",
       "\n",
       "                                         target_embd  \n",
       "0  [0.0011788049, -0.00059948955, 0.00048735933, ...  \n",
       "1  [-2.7273058e-05, -0.0014635038, -0.000130956, ...  \n",
       "2  [-0.00060385827, -0.0011927614, -0.00020535699...  \n",
       "3  [0.0002876672, 9.454535e-06, -0.00021410194, -...  \n",
       "4  [-0.00047414153, -0.00063484476, 0.00041864807...  "
      ]
     },
     "execution_count": 6,
     "metadata": {},
     "output_type": "execute_result"
    }
   ],
   "source": [
    "df.head()"
   ]
  },
  {
   "cell_type": "code",
   "execution_count": 7,
   "metadata": {
    "ExecuteTime": {
     "end_time": "2019-10-21T22:36:04.094017Z",
     "start_time": "2019-10-21T22:36:03.852521Z"
    }
   },
   "outputs": [],
   "source": [
    "data_1 = pd.concat([pd.DataFrame(df['target_embd'].values.tolist(), columns=['Target_Vec_'+str(i) for i in range(0, 30)]), \n",
    "               pd.DataFrame(df['drug_fingerprint'].values.tolist(), columns=['Drug_Vec_'+str(i) for i in range(0, 100)])], axis=1)\n",
    "data_1['Class'] = 1"
   ]
  },
  {
   "cell_type": "code",
   "execution_count": 8,
   "metadata": {
    "ExecuteTime": {
     "end_time": "2019-10-21T22:36:18.034260Z",
     "start_time": "2019-10-21T22:36:04.097175Z"
    }
   },
   "outputs": [],
   "source": [
    "d = dict()\n",
    "for item in np.unique(df['drug_id'].values):\n",
    "    try:\n",
    "        _ = d[item]\n",
    "    except:\n",
    "        d.update({item : df[df['drug_id'] == item]['drug_fingerprint'].values[0] })\n",
    "\n",
    "for item in np.unique(df['target_id'].values):\n",
    "    try:\n",
    "        _ = d[item]\n",
    "    except:\n",
    "        d.update({item : df[df['target_id'] == item]['target_embd'].values[0] })"
   ]
  },
  {
   "cell_type": "code",
   "execution_count": 9,
   "metadata": {
    "ExecuteTime": {
     "end_time": "2019-10-21T22:36:18.040534Z",
     "start_time": "2019-10-21T22:36:18.036506Z"
    }
   },
   "outputs": [],
   "source": [
    "def getVec(n1, n2):\n",
    "    try:\n",
    "        if n1.startswith('DB'):\n",
    "            drug = d[n1]\n",
    "            target = d[n2]\n",
    "        else:\n",
    "            drug = d[n2]\n",
    "            target = d[n1]\n",
    "        return target, drug\n",
    "    except:\n",
    "        return np.nan, np.nan"
   ]
  },
  {
   "cell_type": "code",
   "execution_count": 10,
   "metadata": {
    "ExecuteTime": {
     "end_time": "2019-10-21T22:41:02.952974Z",
     "start_time": "2019-10-21T22:36:18.042799Z"
    }
   },
   "outputs": [],
   "source": [
    "ndf[['target_embd', 'drug_fingerprint']] = ndf.apply(lambda x: getVec(x.node_0, x.node_1), \n",
    "                                                         axis=1, result_type='expand')\n",
    "ndf = ndf[~pd.isna(ndf['target_embd'])]\n",
    "ndf['len'] = ndf['target_embd'].apply(lambda x: len(x))\n",
    "ndf = ndf[ndf['len'] == 30]\n",
    "ndf['len2'] = ndf['drug_fingerprint'].apply(lambda x: len(x))\n",
    "ndf = ndf[ndf['len2'] == 100]\n",
    "ndf = ndf.sample(data_1.shape[0])"
   ]
  },
  {
   "cell_type": "code",
   "execution_count": 11,
   "metadata": {
    "ExecuteTime": {
     "end_time": "2019-10-21T22:41:03.154461Z",
     "start_time": "2019-10-21T22:41:02.955026Z"
    }
   },
   "outputs": [],
   "source": [
    "data_2 = pd.concat([pd.DataFrame(ndf['target_embd'].values.tolist(), columns=['Target_Vec_'+str(i) for i in range(0, 30)]), \n",
    "               pd.DataFrame(ndf['drug_fingerprint'].values.tolist(), columns=['Drug_Vec_'+str(i) for i in range(0, 100)])], axis=1)\n",
    "\n",
    "data_2['Class'] = 0"
   ]
  },
  {
   "cell_type": "code",
   "execution_count": 12,
   "metadata": {
    "ExecuteTime": {
     "end_time": "2019-10-21T22:41:03.176320Z",
     "start_time": "2019-10-21T22:41:03.156511Z"
    }
   },
   "outputs": [],
   "source": [
    "data = pd.concat([data_1, data_2])"
   ]
  },
  {
   "cell_type": "code",
   "execution_count": 13,
   "metadata": {
    "ExecuteTime": {
     "end_time": "2019-10-21T22:41:03.181263Z",
     "start_time": "2019-10-21T22:41:03.178588Z"
    }
   },
   "outputs": [],
   "source": [
    "pickle.dump(data,open(\"dataset_vBalanced.pkl\", \"wb\"))"
   ]
  }
 ],
 "metadata": {
  "kernelspec": {
   "display_name": "Python 3",
   "language": "python",
   "name": "python3"
  },
  "language_info": {
   "codemirror_mode": {
    "name": "ipython",
    "version": 3
   },
   "file_extension": ".py",
   "mimetype": "text/x-python",
   "name": "python",
   "nbconvert_exporter": "python",
   "pygments_lexer": "ipython3",
   "version": "3.7.3"
  }
 },
 "nbformat": 4,
 "nbformat_minor": 2
}
