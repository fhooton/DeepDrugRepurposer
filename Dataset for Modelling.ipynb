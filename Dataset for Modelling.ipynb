{
 "cells": [
  {
   "cell_type": "code",
   "execution_count": 27,
   "metadata": {
    "ExecuteTime": {
     "end_time": "2019-10-17T22:58:35.455276Z",
     "start_time": "2019-10-17T22:58:35.451728Z"
    }
   },
   "outputs": [],
   "source": [
    "import pandas as pd\n",
    "import numpy as np\n",
    "import pickle"
   ]
  },
  {
   "cell_type": "code",
   "execution_count": 28,
   "metadata": {
    "ExecuteTime": {
     "end_time": "2019-10-17T22:58:36.536437Z",
     "start_time": "2019-10-17T22:58:36.159688Z"
    }
   },
   "outputs": [
    {
     "data": {
      "text/html": [
       "<div>\n",
       "<style scoped>\n",
       "    .dataframe tbody tr th:only-of-type {\n",
       "        vertical-align: middle;\n",
       "    }\n",
       "\n",
       "    .dataframe tbody tr th {\n",
       "        vertical-align: top;\n",
       "    }\n",
       "\n",
       "    .dataframe thead th {\n",
       "        text-align: right;\n",
       "    }\n",
       "</style>\n",
       "<table border=\"1\" class=\"dataframe\">\n",
       "  <thead>\n",
       "    <tr style=\"text-align: right;\">\n",
       "      <th></th>\n",
       "      <th>drug_cas</th>\n",
       "      <th>drug_id</th>\n",
       "      <th>drug_name</th>\n",
       "      <th>target_actions</th>\n",
       "      <th>target_amino</th>\n",
       "      <th>target_gene</th>\n",
       "      <th>target_id</th>\n",
       "      <th>target_name</th>\n",
       "      <th>target_organism</th>\n",
       "      <th>pubchem_id</th>\n",
       "      <th>pubchem_name</th>\n",
       "      <th>target_gene_fingerprint</th>\n",
       "      <th>drug_fingerprint</th>\n",
       "    </tr>\n",
       "  </thead>\n",
       "  <tbody>\n",
       "    <tr>\n",
       "      <th>31</th>\n",
       "      <td>128270-60-0</td>\n",
       "      <td>DB00006</td>\n",
       "      <td>Bivalirudin</td>\n",
       "      <td>[inhibitor]</td>\n",
       "      <td>&gt;lcl|BSEQ0016004|Prothrombin\\nMAHVRGLQLPGCLALA...</td>\n",
       "      <td>&gt;lcl|BSEQ0016005|Prothrombin (F2)\\nATGGCGCACGT...</td>\n",
       "      <td>BE0000048</td>\n",
       "      <td>Prothrombin</td>\n",
       "      <td>Human</td>\n",
       "      <td>16129704</td>\n",
       "      <td>Bivalirudin</td>\n",
       "      <td>[1.2739266e-05 -2.7748918e-05 0.00095751503 0....</td>\n",
       "      <td>[0.10044218 0.18559723 -0.12865402 -0.0650997 ...</td>\n",
       "    </tr>\n",
       "    <tr>\n",
       "      <th>53</th>\n",
       "      <td>65807-02-5</td>\n",
       "      <td>DB00014</td>\n",
       "      <td>Goserelin</td>\n",
       "      <td>[agonist]</td>\n",
       "      <td>&gt;lcl|BSEQ0036957|Lutropin-choriogonadotropic h...</td>\n",
       "      <td>&gt;lcl|BSEQ0010174|Lutropin-choriogonadotropic h...</td>\n",
       "      <td>BE0000134</td>\n",
       "      <td>Lutropin-choriogonadotropic hormone receptor</td>\n",
       "      <td>Human</td>\n",
       "      <td>5311128</td>\n",
       "      <td>goserelin</td>\n",
       "      <td>[1.2739266e-05 -2.7748918e-05 0.00095751503 0....</td>\n",
       "      <td>[0.1331214 0.2391842 -0.14361311 -0.14107014 0...</td>\n",
       "    </tr>\n",
       "    <tr>\n",
       "      <th>54</th>\n",
       "      <td>65807-02-5</td>\n",
       "      <td>DB00014</td>\n",
       "      <td>Goserelin</td>\n",
       "      <td>[agonist]</td>\n",
       "      <td>&gt;lcl|BSEQ0000405|Gonadotropin-releasing hormon...</td>\n",
       "      <td>&gt;lcl|BSEQ0018926|Gonadotropin-releasing hormon...</td>\n",
       "      <td>BE0000203</td>\n",
       "      <td>Gonadotropin-releasing hormone receptor</td>\n",
       "      <td>Human</td>\n",
       "      <td>5311128</td>\n",
       "      <td>goserelin</td>\n",
       "      <td>[1.2739266e-05 -2.7748918e-05 0.00095751503 0....</td>\n",
       "      <td>[0.1331214 0.2391842 -0.14361311 -0.14107014 0...</td>\n",
       "    </tr>\n",
       "    <tr>\n",
       "      <th>131</th>\n",
       "      <td>16679-58-6</td>\n",
       "      <td>DB00035</td>\n",
       "      <td>Desmopressin</td>\n",
       "      <td>[agonist]</td>\n",
       "      <td>&gt;lcl|BSEQ0000583|Vasopressin V2 receptor\\nMLMA...</td>\n",
       "      <td>&gt;lcl|BSEQ0010065|Vasopressin V2 receptor (AVPR...</td>\n",
       "      <td>BE0000293</td>\n",
       "      <td>Vasopressin V2 receptor</td>\n",
       "      <td>Human</td>\n",
       "      <td>16051933</td>\n",
       "      <td>DESMOPRESSIN</td>\n",
       "      <td>[1.2739266e-05 -2.7748918e-05 0.00095751503 0....</td>\n",
       "      <td>[0.051722348 0.24374117 -0.16236018 -0.1723347...</td>\n",
       "    </tr>\n",
       "    <tr>\n",
       "      <th>132</th>\n",
       "      <td>16679-58-6</td>\n",
       "      <td>DB00035</td>\n",
       "      <td>Desmopressin</td>\n",
       "      <td>NaN</td>\n",
       "      <td>&gt;lcl|BSEQ0009979|Vasopressin V1a receptor\\nMRL...</td>\n",
       "      <td>&gt;lcl|BSEQ0009980|Vasopressin V1a receptor (AVP...</td>\n",
       "      <td>BE0000165</td>\n",
       "      <td>Vasopressin V1a receptor</td>\n",
       "      <td>Human</td>\n",
       "      <td>16051933</td>\n",
       "      <td>DESMOPRESSIN</td>\n",
       "      <td>[1.2739266e-05 -2.7748918e-05 0.00095751503 0....</td>\n",
       "      <td>[0.051722348 0.24374117 -0.16236018 -0.1723347...</td>\n",
       "    </tr>\n",
       "  </tbody>\n",
       "</table>\n",
       "</div>"
      ],
      "text/plain": [
       "        drug_cas  drug_id     drug_name target_actions  \\\n",
       "31   128270-60-0  DB00006   Bivalirudin    [inhibitor]   \n",
       "53    65807-02-5  DB00014     Goserelin      [agonist]   \n",
       "54    65807-02-5  DB00014     Goserelin      [agonist]   \n",
       "131   16679-58-6  DB00035  Desmopressin      [agonist]   \n",
       "132   16679-58-6  DB00035  Desmopressin            NaN   \n",
       "\n",
       "                                          target_amino  \\\n",
       "31   >lcl|BSEQ0016004|Prothrombin\\nMAHVRGLQLPGCLALA...   \n",
       "53   >lcl|BSEQ0036957|Lutropin-choriogonadotropic h...   \n",
       "54   >lcl|BSEQ0000405|Gonadotropin-releasing hormon...   \n",
       "131  >lcl|BSEQ0000583|Vasopressin V2 receptor\\nMLMA...   \n",
       "132  >lcl|BSEQ0009979|Vasopressin V1a receptor\\nMRL...   \n",
       "\n",
       "                                           target_gene  target_id  \\\n",
       "31   >lcl|BSEQ0016005|Prothrombin (F2)\\nATGGCGCACGT...  BE0000048   \n",
       "53   >lcl|BSEQ0010174|Lutropin-choriogonadotropic h...  BE0000134   \n",
       "54   >lcl|BSEQ0018926|Gonadotropin-releasing hormon...  BE0000203   \n",
       "131  >lcl|BSEQ0010065|Vasopressin V2 receptor (AVPR...  BE0000293   \n",
       "132  >lcl|BSEQ0009980|Vasopressin V1a receptor (AVP...  BE0000165   \n",
       "\n",
       "                                      target_name target_organism  pubchem_id  \\\n",
       "31                                    Prothrombin           Human    16129704   \n",
       "53   Lutropin-choriogonadotropic hormone receptor           Human     5311128   \n",
       "54        Gonadotropin-releasing hormone receptor           Human     5311128   \n",
       "131                       Vasopressin V2 receptor           Human    16051933   \n",
       "132                      Vasopressin V1a receptor           Human    16051933   \n",
       "\n",
       "     pubchem_name                            target_gene_fingerprint  \\\n",
       "31    Bivalirudin  [1.2739266e-05 -2.7748918e-05 0.00095751503 0....   \n",
       "53      goserelin  [1.2739266e-05 -2.7748918e-05 0.00095751503 0....   \n",
       "54      goserelin  [1.2739266e-05 -2.7748918e-05 0.00095751503 0....   \n",
       "131  DESMOPRESSIN  [1.2739266e-05 -2.7748918e-05 0.00095751503 0....   \n",
       "132  DESMOPRESSIN  [1.2739266e-05 -2.7748918e-05 0.00095751503 0....   \n",
       "\n",
       "                                      drug_fingerprint  \n",
       "31   [0.10044218 0.18559723 -0.12865402 -0.0650997 ...  \n",
       "53   [0.1331214 0.2391842 -0.14361311 -0.14107014 0...  \n",
       "54   [0.1331214 0.2391842 -0.14361311 -0.14107014 0...  \n",
       "131  [0.051722348 0.24374117 -0.16236018 -0.1723347...  \n",
       "132  [0.051722348 0.24374117 -0.16236018 -0.1723347...  "
      ]
     },
     "execution_count": 28,
     "metadata": {},
     "output_type": "execute_result"
    }
   ],
   "source": [
    "df = pickle.load(open('data/drugbank_fingerprinted (1).pkl', 'rb'))\n",
    "df = df[~pd.isna(df['target_gene_fingerprint'])]\n",
    "df.head()"
   ]
  },
  {
   "cell_type": "code",
   "execution_count": 31,
   "metadata": {
    "ExecuteTime": {
     "end_time": "2019-10-17T22:59:00.633967Z",
     "start_time": "2019-10-17T22:58:59.670602Z"
    }
   },
   "outputs": [],
   "source": [
    "ndf = pd.read_csv('negative_samples/negative_samples_thrsh:12')[['node_0','node_1','shortest_path']]\n",
    "# ndf10 = pd.read_csv('negative_samples/negative_samples_thrsh:10')[['node_1','node_2','path_len']]\n",
    "# ndf8 = pd.read_csv('negative_samples/negative_samples_thrsh:8')[['node_1','node_2','path_len']]\n",
    "#ndf = pd.read_csv('negative_samples/negative_samples_thrsh:6')[['node_1','node_2','path_len']]\n",
    "#ndf = pd.read_csv('negative_samples/negative_samples_thrsh:4')[['node_1','node_2','path_len']]"
   ]
  },
  {
   "cell_type": "code",
   "execution_count": 33,
   "metadata": {
    "ExecuteTime": {
     "end_time": "2019-10-17T22:59:07.462763Z",
     "start_time": "2019-10-17T22:59:07.459258Z"
    }
   },
   "outputs": [],
   "source": [
    "def getData(x):\n",
    "    return [float(i) for i in x[0].split(' ')]"
   ]
  },
  {
   "cell_type": "code",
   "execution_count": 34,
   "metadata": {
    "ExecuteTime": {
     "end_time": "2019-10-17T22:59:09.564597Z",
     "start_time": "2019-10-17T22:59:08.384699Z"
    }
   },
   "outputs": [],
   "source": [
    "df['target_gene_fingerprint'] = df['target_gene_fingerprint'].apply(getData)\n",
    "df['drug_fingerprint'] = df['drug_fingerprint'].apply(getData)"
   ]
  },
  {
   "cell_type": "code",
   "execution_count": 35,
   "metadata": {
    "ExecuteTime": {
     "end_time": "2019-10-17T22:59:11.262088Z",
     "start_time": "2019-10-17T22:59:10.718423Z"
    }
   },
   "outputs": [],
   "source": [
    "data_1 = pd.concat([pd.DataFrame(df['target_gene_fingerprint'].values.tolist(), columns=['Target_Vec_'+str(i) for i in range(0, 100)]), \n",
    "               pd.DataFrame(df['drug_fingerprint'].values.tolist(), columns=['Drug_Vec_'+str(i) for i in range(0, 100)])], axis=1)\n",
    "data_1['Class'] = 1"
   ]
  },
  {
   "cell_type": "code",
   "execution_count": 12,
   "metadata": {
    "ExecuteTime": {
     "end_time": "2019-10-17T21:39:22.171173Z",
     "start_time": "2019-10-17T21:39:22.168306Z"
    }
   },
   "outputs": [],
   "source": [
    "# for col in data_1.columns:\n",
    "#     print('Vector: ', col, 'Unique values :', len(np.unique(x[col].values, return_counts=True)[0]))"
   ]
  },
  {
   "cell_type": "code",
   "execution_count": 36,
   "metadata": {
    "ExecuteTime": {
     "end_time": "2019-10-17T22:59:30.412472Z",
     "start_time": "2019-10-17T22:59:15.921172Z"
    }
   },
   "outputs": [],
   "source": [
    "d = dict()\n",
    "for item in np.unique(df['drug_id'].values):\n",
    "    try:\n",
    "        _ = d[item]\n",
    "    except:\n",
    "        d.update({item : df[df['drug_id'] == item]['drug_fingerprint'].values[0] })\n",
    "\n",
    "for item in np.unique(df['target_id'].values):\n",
    "    try:\n",
    "        _ = d[item]\n",
    "    except:\n",
    "        d.update({item : df[df['target_id'] == item]['target_gene_fingerprint'].values[0] })"
   ]
  },
  {
   "cell_type": "code",
   "execution_count": 37,
   "metadata": {
    "ExecuteTime": {
     "end_time": "2019-10-17T22:59:31.816415Z",
     "start_time": "2019-10-17T22:59:31.811521Z"
    }
   },
   "outputs": [],
   "source": [
    "def getVec(n1, n2):\n",
    "    try:\n",
    "        if n1.startswith('DB'):\n",
    "            drug = d[n1]\n",
    "            target = d[n2]\n",
    "        else:\n",
    "            drug = d[n2]\n",
    "            target = d[n1]\n",
    "        return target, drug\n",
    "    except:\n",
    "        return np.nan, np.nan"
   ]
  },
  {
   "cell_type": "code",
   "execution_count": 39,
   "metadata": {
    "ExecuteTime": {
     "end_time": "2019-10-17T23:04:46.671322Z",
     "start_time": "2019-10-17T22:59:49.898912Z"
    }
   },
   "outputs": [],
   "source": [
    "ndf[['target_gene_fingerprint', 'drug_fingerprint']] = ndf.apply(lambda x: getVec(x.node_0, x.node_1), \n",
    "                                                         axis=1, result_type='expand')\n",
    "ndf = ndf[~pd.isna(ndf['target_gene_fingerprint'])]"
   ]
  },
  {
   "cell_type": "code",
   "execution_count": 40,
   "metadata": {
    "ExecuteTime": {
     "end_time": "2019-10-17T23:06:12.394546Z",
     "start_time": "2019-10-17T23:05:23.270180Z"
    }
   },
   "outputs": [],
   "source": [
    "data_2 = pd.concat([pd.DataFrame(ndf['target_gene_fingerprint'].values.tolist(), columns=['Target_Vec_'+str(i) for i in range(0, 100)]), \n",
    "               pd.DataFrame(ndf['drug_fingerprint'].values.tolist(), columns=['Drug_Vec_'+str(i) for i in range(0, 100)])], axis=1)\n",
    "\n",
    "data_2['Class'] = 0"
   ]
  },
  {
   "cell_type": "code",
   "execution_count": 41,
   "metadata": {
    "ExecuteTime": {
     "end_time": "2019-10-17T23:06:18.749762Z",
     "start_time": "2019-10-17T23:06:14.467837Z"
    }
   },
   "outputs": [],
   "source": [
    "data = pd.concat([data_1, data_2])"
   ]
  },
  {
   "cell_type": "code",
   "execution_count": 43,
   "metadata": {
    "ExecuteTime": {
     "end_time": "2019-10-17T23:06:46.567908Z",
     "start_time": "2019-10-17T23:06:41.029559Z"
    }
   },
   "outputs": [],
   "source": [
    "pickle.dump(data,open(\"dataset_v2.pkl\", \"wb\"))"
   ]
  }
 ],
 "metadata": {
  "kernelspec": {
   "display_name": "Python 3",
   "language": "python",
   "name": "python3"
  },
  "language_info": {
   "codemirror_mode": {
    "name": "ipython",
    "version": 3
   },
   "file_extension": ".py",
   "mimetype": "text/x-python",
   "name": "python",
   "nbconvert_exporter": "python",
   "pygments_lexer": "ipython3",
   "version": "3.7.3"
  }
 },
 "nbformat": 4,
 "nbformat_minor": 2
}
