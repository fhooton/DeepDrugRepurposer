{
 "cells": [
  {
   "cell_type": "code",
   "execution_count": 1,
   "metadata": {
    "ExecuteTime": {
     "end_time": "2019-10-21T22:41:15.712907Z",
     "start_time": "2019-10-21T22:41:13.597175Z"
    }
   },
   "outputs": [
    {
     "name": "stderr",
     "output_type": "stream",
     "text": [
      "Using TensorFlow backend.\n"
     ]
    }
   ],
   "source": [
    "import pickle\n",
    "\n",
    "import pandas as pd\n",
    "import numpy as np\n",
    "import seaborn as sns\n",
    "import matplotlib.pyplot as plt\n",
    "\n",
    "\n",
    "from sklearn.model_selection import train_test_split\n",
    "from sklearn.linear_model import LogisticRegression\n",
    "from sklearn.metrics import confusion_matrix, f1_score\n",
    "from keras.models import Sequential, Model\n",
    "from keras.layers import Dense, Activation, Dropout, Conv1D, Flatten, MaxPooling1D, AveragePooling1D, Concatenate, LeakyReLU\n",
    "from keras.utils.vis_utils import plot_model"
   ]
  },
  {
   "cell_type": "code",
   "execution_count": 2,
   "metadata": {
    "ExecuteTime": {
     "end_time": "2019-10-21T22:41:15.777225Z",
     "start_time": "2019-10-21T22:41:15.715127Z"
    }
   },
   "outputs": [
    {
     "data": {
      "text/html": [
       "<div>\n",
       "<style scoped>\n",
       "    .dataframe tbody tr th:only-of-type {\n",
       "        vertical-align: middle;\n",
       "    }\n",
       "\n",
       "    .dataframe tbody tr th {\n",
       "        vertical-align: top;\n",
       "    }\n",
       "\n",
       "    .dataframe thead th {\n",
       "        text-align: right;\n",
       "    }\n",
       "</style>\n",
       "<table border=\"1\" class=\"dataframe\">\n",
       "  <thead>\n",
       "    <tr style=\"text-align: right;\">\n",
       "      <th></th>\n",
       "      <th>Target_Vec_0</th>\n",
       "      <th>Target_Vec_1</th>\n",
       "      <th>Target_Vec_2</th>\n",
       "      <th>Target_Vec_3</th>\n",
       "      <th>Target_Vec_4</th>\n",
       "      <th>Target_Vec_5</th>\n",
       "      <th>Target_Vec_6</th>\n",
       "      <th>Target_Vec_7</th>\n",
       "      <th>Target_Vec_8</th>\n",
       "      <th>Target_Vec_9</th>\n",
       "      <th>...</th>\n",
       "      <th>Drug_Vec_91</th>\n",
       "      <th>Drug_Vec_92</th>\n",
       "      <th>Drug_Vec_93</th>\n",
       "      <th>Drug_Vec_94</th>\n",
       "      <th>Drug_Vec_95</th>\n",
       "      <th>Drug_Vec_96</th>\n",
       "      <th>Drug_Vec_97</th>\n",
       "      <th>Drug_Vec_98</th>\n",
       "      <th>Drug_Vec_99</th>\n",
       "      <th>Class</th>\n",
       "    </tr>\n",
       "  </thead>\n",
       "  <tbody>\n",
       "    <tr>\n",
       "      <th>0</th>\n",
       "      <td>0.001179</td>\n",
       "      <td>-0.000599</td>\n",
       "      <td>0.000487</td>\n",
       "      <td>-0.000306</td>\n",
       "      <td>0.000802</td>\n",
       "      <td>-0.000354</td>\n",
       "      <td>0.001005</td>\n",
       "      <td>-0.000329</td>\n",
       "      <td>-0.000619</td>\n",
       "      <td>-0.000425</td>\n",
       "      <td>...</td>\n",
       "      <td>-0.027773</td>\n",
       "      <td>-0.261224</td>\n",
       "      <td>-0.349108</td>\n",
       "      <td>0.229779</td>\n",
       "      <td>0.161475</td>\n",
       "      <td>0.124695</td>\n",
       "      <td>0.368989</td>\n",
       "      <td>-0.198983</td>\n",
       "      <td>-0.435481</td>\n",
       "      <td>1</td>\n",
       "    </tr>\n",
       "    <tr>\n",
       "      <th>1</th>\n",
       "      <td>-0.000027</td>\n",
       "      <td>-0.001464</td>\n",
       "      <td>-0.000131</td>\n",
       "      <td>0.000246</td>\n",
       "      <td>0.000441</td>\n",
       "      <td>-0.000762</td>\n",
       "      <td>0.000180</td>\n",
       "      <td>-0.000694</td>\n",
       "      <td>-0.000680</td>\n",
       "      <td>-0.000532</td>\n",
       "      <td>...</td>\n",
       "      <td>-0.009263</td>\n",
       "      <td>-0.166779</td>\n",
       "      <td>-0.276308</td>\n",
       "      <td>0.178456</td>\n",
       "      <td>0.128912</td>\n",
       "      <td>0.083457</td>\n",
       "      <td>0.357332</td>\n",
       "      <td>-0.184330</td>\n",
       "      <td>-0.500235</td>\n",
       "      <td>1</td>\n",
       "    </tr>\n",
       "    <tr>\n",
       "      <th>2</th>\n",
       "      <td>-0.000604</td>\n",
       "      <td>-0.001193</td>\n",
       "      <td>-0.000205</td>\n",
       "      <td>-0.000217</td>\n",
       "      <td>0.000200</td>\n",
       "      <td>-0.000553</td>\n",
       "      <td>0.000444</td>\n",
       "      <td>-0.001070</td>\n",
       "      <td>-0.001007</td>\n",
       "      <td>-0.000424</td>\n",
       "      <td>...</td>\n",
       "      <td>-0.009263</td>\n",
       "      <td>-0.166779</td>\n",
       "      <td>-0.276308</td>\n",
       "      <td>0.178456</td>\n",
       "      <td>0.128912</td>\n",
       "      <td>0.083457</td>\n",
       "      <td>0.357332</td>\n",
       "      <td>-0.184330</td>\n",
       "      <td>-0.500235</td>\n",
       "      <td>1</td>\n",
       "    </tr>\n",
       "    <tr>\n",
       "      <th>3</th>\n",
       "      <td>0.000288</td>\n",
       "      <td>0.000009</td>\n",
       "      <td>-0.000214</td>\n",
       "      <td>-0.000342</td>\n",
       "      <td>-0.000452</td>\n",
       "      <td>-0.000095</td>\n",
       "      <td>0.000965</td>\n",
       "      <td>-0.000946</td>\n",
       "      <td>-0.000221</td>\n",
       "      <td>-0.000475</td>\n",
       "      <td>...</td>\n",
       "      <td>-0.197189</td>\n",
       "      <td>-0.190077</td>\n",
       "      <td>-0.227381</td>\n",
       "      <td>0.206817</td>\n",
       "      <td>0.102296</td>\n",
       "      <td>0.015936</td>\n",
       "      <td>0.315439</td>\n",
       "      <td>-0.296255</td>\n",
       "      <td>-0.259058</td>\n",
       "      <td>1</td>\n",
       "    </tr>\n",
       "    <tr>\n",
       "      <th>4</th>\n",
       "      <td>-0.000474</td>\n",
       "      <td>-0.000635</td>\n",
       "      <td>0.000419</td>\n",
       "      <td>-0.000580</td>\n",
       "      <td>-0.000105</td>\n",
       "      <td>-0.000468</td>\n",
       "      <td>0.000574</td>\n",
       "      <td>-0.001202</td>\n",
       "      <td>0.000006</td>\n",
       "      <td>-0.000512</td>\n",
       "      <td>...</td>\n",
       "      <td>-0.197189</td>\n",
       "      <td>-0.190077</td>\n",
       "      <td>-0.227381</td>\n",
       "      <td>0.206817</td>\n",
       "      <td>0.102296</td>\n",
       "      <td>0.015936</td>\n",
       "      <td>0.315439</td>\n",
       "      <td>-0.296255</td>\n",
       "      <td>-0.259058</td>\n",
       "      <td>1</td>\n",
       "    </tr>\n",
       "  </tbody>\n",
       "</table>\n",
       "<p>5 rows × 131 columns</p>\n",
       "</div>"
      ],
      "text/plain": [
       "   Target_Vec_0  Target_Vec_1  Target_Vec_2  Target_Vec_3  Target_Vec_4  \\\n",
       "0      0.001179     -0.000599      0.000487     -0.000306      0.000802   \n",
       "1     -0.000027     -0.001464     -0.000131      0.000246      0.000441   \n",
       "2     -0.000604     -0.001193     -0.000205     -0.000217      0.000200   \n",
       "3      0.000288      0.000009     -0.000214     -0.000342     -0.000452   \n",
       "4     -0.000474     -0.000635      0.000419     -0.000580     -0.000105   \n",
       "\n",
       "   Target_Vec_5  Target_Vec_6  Target_Vec_7  Target_Vec_8  Target_Vec_9  ...  \\\n",
       "0     -0.000354      0.001005     -0.000329     -0.000619     -0.000425  ...   \n",
       "1     -0.000762      0.000180     -0.000694     -0.000680     -0.000532  ...   \n",
       "2     -0.000553      0.000444     -0.001070     -0.001007     -0.000424  ...   \n",
       "3     -0.000095      0.000965     -0.000946     -0.000221     -0.000475  ...   \n",
       "4     -0.000468      0.000574     -0.001202      0.000006     -0.000512  ...   \n",
       "\n",
       "   Drug_Vec_91  Drug_Vec_92  Drug_Vec_93  Drug_Vec_94  Drug_Vec_95  \\\n",
       "0    -0.027773    -0.261224    -0.349108     0.229779     0.161475   \n",
       "1    -0.009263    -0.166779    -0.276308     0.178456     0.128912   \n",
       "2    -0.009263    -0.166779    -0.276308     0.178456     0.128912   \n",
       "3    -0.197189    -0.190077    -0.227381     0.206817     0.102296   \n",
       "4    -0.197189    -0.190077    -0.227381     0.206817     0.102296   \n",
       "\n",
       "   Drug_Vec_96  Drug_Vec_97  Drug_Vec_98  Drug_Vec_99  Class  \n",
       "0     0.124695     0.368989    -0.198983    -0.435481      1  \n",
       "1     0.083457     0.357332    -0.184330    -0.500235      1  \n",
       "2     0.083457     0.357332    -0.184330    -0.500235      1  \n",
       "3     0.015936     0.315439    -0.296255    -0.259058      1  \n",
       "4     0.015936     0.315439    -0.296255    -0.259058      1  \n",
       "\n",
       "[5 rows x 131 columns]"
      ]
     },
     "execution_count": 2,
     "metadata": {},
     "output_type": "execute_result"
    }
   ],
   "source": [
    "df = pickle.load(open('dataset_vBalanced.pkl', 'rb'))\n",
    "df.head()"
   ]
  },
  {
   "cell_type": "code",
   "execution_count": 3,
   "metadata": {
    "ExecuteTime": {
     "end_time": "2019-10-21T22:41:15.803004Z",
     "start_time": "2019-10-21T22:41:15.779553Z"
    }
   },
   "outputs": [],
   "source": [
    "X = df.iloc[:,:-1].values\n",
    "Y = df.iloc[:,-1].values"
   ]
  },
  {
   "cell_type": "code",
   "execution_count": 4,
   "metadata": {
    "ExecuteTime": {
     "end_time": "2019-10-21T22:41:16.204942Z",
     "start_time": "2019-10-21T22:41:16.138415Z"
    }
   },
   "outputs": [],
   "source": [
    "train_x, test_x, train_y, test_y = train_test_split(X, Y, train_size=0.8)"
   ]
  },
  {
   "cell_type": "code",
   "execution_count": 5,
   "metadata": {
    "ExecuteTime": {
     "end_time": "2019-10-21T22:41:17.548395Z",
     "start_time": "2019-10-21T22:41:17.542694Z"
    }
   },
   "outputs": [],
   "source": [
    "def plotHeatmap(m, test_ip, test_y, keras=True):\n",
    "    y_pred = m.predict(test_ip)\n",
    "    if keras:\n",
    "        y_pred = [1 if y[0]>=0.5 else 0 for y in y_pred ]\n",
    "    arr = confusion_matrix(test_y, y_pred)\n",
    "    df_cm = pd.DataFrame(arr, index = ['False', 'True'],\n",
    "                      columns =  ['False', 'True'])\n",
    "    plt.figure(figsize = (10,10))\n",
    "    sns.heatmap(df_cm, annot=True, fmt='.1f')\n",
    "    plt.title('F1 Score ' + str(f1_score(test_y, y_pred)))\n",
    "    plt.show()"
   ]
  },
  {
   "cell_type": "markdown",
   "metadata": {},
   "source": [
    "## Logistic"
   ]
  },
  {
   "cell_type": "code",
   "execution_count": 6,
   "metadata": {
    "ExecuteTime": {
     "end_time": "2019-10-21T22:41:21.764133Z",
     "start_time": "2019-10-21T22:41:19.121393Z"
    }
   },
   "outputs": [
    {
     "name": "stderr",
     "output_type": "stream",
     "text": [
      "/home/sarthak/anaconda3/lib/python3.7/site-packages/sklearn/linear_model/logistic.py:432: FutureWarning: Default solver will be changed to 'lbfgs' in 0.22. Specify a solver to silence this warning.\n",
      "  FutureWarning)\n"
     ]
    },
    {
     "name": "stdout",
     "output_type": "stream",
     "text": [
      "Score of Logistic : 0.5824605006213386\n"
     ]
    },
    {
     "data": {
      "image/png": "[encoded data removed]",
      "text/plain": [
       "<Figure size 720x720 with 2 Axes>"
      ]
     },
     "metadata": {
      "needs_background": "light"
     },
     "output_type": "display_data"
    }
   ],
   "source": [
    "lr = LogisticRegression()\n",
    "lr.fit(train_x, train_y)\n",
    "print('Score of Logistic :', lr.score(test_x, test_y))\n",
    "plotHeatmap(lr, test_x, test_y, keras=False)"
   ]
  },
  {
   "cell_type": "markdown",
   "metadata": {},
   "source": [
    "## Deep NN"
   ]
  },
  {
   "cell_type": "code",
   "execution_count": 8,
   "metadata": {
    "ExecuteTime": {
     "end_time": "2019-10-21T22:41:34.022557Z",
     "start_time": "2019-10-21T22:41:33.904764Z"
    }
   },
   "outputs": [],
   "source": [
    "ipDim = train_x.shape[1]\n",
    "model = Sequential()\n",
    "model.add(Dense(100, activation='relu', input_dim=ipDim))\n",
    "model.add(Dropout(0.5))\n",
    "model.add(Dense(50, activation='relu'))\n",
    "model.add(Dropout(0.5))\n",
    "model.add(Dense(25, activation='relu'))\n",
    "model.add(Dense(1, activation='sigmoid'))\n",
    "\n",
    "model.compile(optimizer='rmsprop',\n",
    "              loss='binary_crossentropy',\n",
    "              metrics=['accuracy'])"
   ]
  },
  {
   "cell_type": "code",
   "execution_count": 9,
   "metadata": {
    "ExecuteTime": {
     "end_time": "2019-10-21T22:41:35.106311Z",
     "start_time": "2019-10-21T22:41:35.058340Z"
    }
   },
   "outputs": [],
   "source": [
    "plot_model(model, to_file='Model-DN1.svg', show_layer_names=True, show_shapes=True)"
   ]
  },
  {
   "cell_type": "code",
   "execution_count": 10,
   "metadata": {
    "ExecuteTime": {
     "end_time": "2019-10-21T22:41:44.305844Z",
     "start_time": "2019-10-21T22:41:37.355030Z"
    },
    "scrolled": true
   },
   "outputs": [
    {
     "name": "stdout",
     "output_type": "stream",
     "text": [
      "Epoch 1/4\n",
      "22529/22529 [==============================] - 2s 109us/step - loss: 0.6921 - acc: 0.5253\n",
      "Epoch 2/4\n",
      "22529/22529 [==============================] - 1s 62us/step - loss: 0.6882 - acc: 0.5426\n",
      "Epoch 3/4\n",
      "22529/22529 [==============================] - 1s 62us/step - loss: 0.6824 - acc: 0.5548\n",
      "Epoch 4/4\n",
      "22529/22529 [==============================] - 1s 61us/step - loss: 0.6782 - acc: 0.5736\n"
     ]
    },
    {
     "data": {
      "text/plain": [
       "<keras.callbacks.History at 0x7f4698397ba8>"
      ]
     },
     "execution_count": 10,
     "metadata": {},
     "output_type": "execute_result"
    }
   ],
   "source": [
    "model.fit(train_x, train_y, epochs=4, batch_size=64)"
   ]
  },
  {
   "cell_type": "code",
   "execution_count": 11,
   "metadata": {
    "ExecuteTime": {
     "end_time": "2019-10-21T22:41:44.791844Z",
     "start_time": "2019-10-21T22:41:44.307832Z"
    }
   },
   "outputs": [
    {
     "data": {
      "image/png": "[encoded data removed]",
      "text/plain": [
       "<Figure size 720x720 with 2 Axes>"
      ]
     },
     "metadata": {
      "needs_background": "light"
     },
     "output_type": "display_data"
    }
   ],
   "source": [
    "plotHeatmap(model, test_x, test_y)"
   ]
  },
  {
   "cell_type": "markdown",
   "metadata": {},
   "source": [
    "## Deep Conv NN"
   ]
  },
  {
   "cell_type": "code",
   "execution_count": 12,
   "metadata": {
    "ExecuteTime": {
     "end_time": "2019-10-21T22:41:49.688902Z",
     "start_time": "2019-10-21T22:41:49.627869Z"
    }
   },
   "outputs": [],
   "source": [
    "ndata, nfeature = X.shape\n",
    "X_Conv = X.reshape(ndata, nfeature, 1)\n",
    "input_shape = (nfeature, 1)\n",
    "ctrain_x, ctest_x, ctrain_y, ctest_y = train_test_split(X_Conv, Y, train_size=0.8)"
   ]
  },
  {
   "cell_type": "code",
   "execution_count": 13,
   "metadata": {
    "ExecuteTime": {
     "end_time": "2019-10-21T22:41:52.667680Z",
     "start_time": "2019-10-21T22:41:52.504175Z"
    }
   },
   "outputs": [],
   "source": [
    "model = Sequential()\n",
    "\n",
    "model.add(Conv1D(filters=30, kernel_size=2, input_shape=input_shape,kernel_initializer= 'uniform')) \n",
    "model.add(LeakyReLU(alpha=0.3))\n",
    "model.add(Conv1D(filters=10, kernel_size=2, kernel_initializer= 'uniform')) \n",
    "model.add(LeakyReLU(alpha=0.3))\n",
    "\n",
    "model.add(Flatten())\n",
    "model.add(Dense(100))\n",
    "model.add(LeakyReLU(alpha=0.3))\n",
    "model.add(Dropout(0.5))\n",
    "model.add(Dense(50))\n",
    "model.add(LeakyReLU(alpha=0.3))\n",
    "model.add(Dropout(0.5))\n",
    "model.add(Dense(25))\n",
    "model.add(LeakyReLU(alpha=0.3))\n",
    "model.add(Dense(1, activation='sigmoid'))\n",
    "\n",
    "model.compile(optimizer='rmsprop',\n",
    "              loss='binary_crossentropy',\n",
    "              metrics=['accuracy'])\n"
   ]
  },
  {
   "cell_type": "code",
   "execution_count": 14,
   "metadata": {
    "ExecuteTime": {
     "end_time": "2019-10-21T22:41:53.612422Z",
     "start_time": "2019-10-21T22:41:53.554698Z"
    }
   },
   "outputs": [],
   "source": [
    "plot_model(model, to_file='Model-CNN1.svg', show_layer_names=True, show_shapes=True)"
   ]
  },
  {
   "cell_type": "code",
   "execution_count": 15,
   "metadata": {
    "ExecuteTime": {
     "end_time": "2019-10-21T22:42:49.588585Z",
     "start_time": "2019-10-21T22:41:55.353660Z"
    }
   },
   "outputs": [
    {
     "name": "stdout",
     "output_type": "stream",
     "text": [
      "Epoch 1/4\n",
      "22529/22529 [==============================] - 10s 440us/step - loss: 0.6937 - acc: 0.4996\n",
      "Epoch 2/4\n",
      "22529/22529 [==============================] - 8s 374us/step - loss: 0.6940 - acc: 0.4981\n",
      "Epoch 3/4\n",
      "22529/22529 [==============================] - 19s 841us/step - loss: 0.6940 - acc: 0.4996\n",
      "Epoch 4/4\n",
      "22529/22529 [==============================] - 16s 728us/step - loss: 0.6938 - acc: 0.4984\n"
     ]
    },
    {
     "data": {
      "text/plain": [
       "<keras.callbacks.History at 0x7f46644dca90>"
      ]
     },
     "execution_count": 15,
     "metadata": {},
     "output_type": "execute_result"
    }
   ],
   "source": [
    "model.fit(ctrain_x, train_y, epochs=4, batch_size=32)"
   ]
  },
  {
   "cell_type": "code",
   "execution_count": 16,
   "metadata": {
    "ExecuteTime": {
     "end_time": "2019-10-21T22:42:53.762210Z",
     "start_time": "2019-10-21T22:42:52.592173Z"
    }
   },
   "outputs": [
    {
     "data": {
      "image/png": "[encoded data removed]",
      "text/plain": [
       "<Figure size 720x720 with 2 Axes>"
      ]
     },
     "metadata": {
      "needs_background": "light"
     },
     "output_type": "display_data"
    }
   ],
   "source": [
    "plotHeatmap(model, ctest_x, test_y)"
   ]
  },
  {
   "cell_type": "markdown",
   "metadata": {},
   "source": [
    "## Deep Conv NN with seperate conv for target and drug"
   ]
  },
  {
   "cell_type": "code",
   "execution_count": 17,
   "metadata": {
    "ExecuteTime": {
     "end_time": "2019-10-21T22:42:57.310059Z",
     "start_time": "2019-10-21T22:42:57.217249Z"
    }
   },
   "outputs": [],
   "source": [
    "target = df.iloc[:, :30].values\n",
    "drug = df.iloc[:, 30:-1].values\n",
    "t_data, t_feature = target.shape\n",
    "d_data, d_feature = drug.shape\n",
    "t_input_shape = (t_feature, 1)\n",
    "d_input_shape = (d_feature, 1)\n",
    "train_idx, test_idx, dt_train_y, dt_test_y = train_test_split(np.arange(0, X.shape[0]), Y, train_size=0.8)\n",
    "train_target = target[train_idx]\n",
    "test_target = target[test_idx]\n",
    "train_drug = drug[train_idx]\n",
    "test_drug = drug[test_idx]"
   ]
  },
  {
   "cell_type": "code",
   "execution_count": 18,
   "metadata": {
    "ExecuteTime": {
     "end_time": "2019-10-21T22:42:57.869546Z",
     "start_time": "2019-10-21T22:42:57.863147Z"
    }
   },
   "outputs": [],
   "source": [
    "train_size = train_target.shape[0]\n",
    "test_size = test_target.shape[0]\n",
    "\n",
    "train_target = train_target.reshape(train_size, t_feature, 1)\n",
    "test_target = test_target.reshape(test_size, t_feature, 1)\n",
    "train_drug = train_drug.reshape(train_size, d_feature, 1)\n",
    "test_drug = test_drug.reshape(test_size, d_feature, 1)"
   ]
  },
  {
   "cell_type": "code",
   "execution_count": 19,
   "metadata": {
    "ExecuteTime": {
     "end_time": "2019-10-21T22:43:03.461736Z",
     "start_time": "2019-10-21T22:43:03.241434Z"
    }
   },
   "outputs": [],
   "source": [
    "model1 = Sequential(layers=[\n",
    "    # input layers and convolutional layers\n",
    "    Conv1D(filters=30, kernel_size=2, input_shape=t_input_shape,kernel_initializer= 'uniform', activation= 'relu'),\n",
    "    Conv1D(filters=10, kernel_size=2, kernel_initializer= 'uniform', activation= 'relu'),\n",
    "    Dropout(.5),\n",
    "    Flatten()\n",
    "])\n",
    "\n",
    "model2 = Sequential(layers=[\n",
    "    # input layers and convolutional layers\n",
    "    Conv1D(filters=15, kernel_size=2, input_shape=d_input_shape,kernel_initializer= 'uniform', activation= 'relu'),\n",
    "    Conv1D(filters=10, kernel_size=2, kernel_initializer= 'uniform', activation= 'relu'),\n",
    "    Dropout(.5),\n",
    "    Flatten()\n",
    "\n",
    "])\n",
    "\n",
    "mergedOut = Concatenate()([model1.output,model2.output])\n",
    "# mergedOut = Flatten()(mergedOut)    \n",
    "mergedOut = Dense(256, activation='relu')(mergedOut)\n",
    "mergedOut = Dropout(.5)(mergedOut)\n",
    "mergedOut = Dense(128, activation='relu')(mergedOut)\n",
    "mergedOut = Dropout(.35)(mergedOut)\n",
    "\n",
    "# output layer\n",
    "mergedOut = Dense(1, activation='sigmoid')(mergedOut)\n",
    "newModel = Model([model1.input,model2.input], mergedOut)\n",
    "\n",
    "newModel.compile(optimizer='rmsprop',\n",
    "              loss='binary_crossentropy',\n",
    "              metrics=['accuracy'])"
   ]
  },
  {
   "cell_type": "code",
   "execution_count": 20,
   "metadata": {
    "ExecuteTime": {
     "end_time": "2019-10-21T22:43:07.126516Z",
     "start_time": "2019-10-21T22:43:07.063518Z"
    }
   },
   "outputs": [],
   "source": [
    "plot_model(newModel, to_file='Model-CNN2.svg', show_layer_names=True, show_shapes=True)"
   ]
  },
  {
   "cell_type": "code",
   "execution_count": 21,
   "metadata": {
    "ExecuteTime": {
     "end_time": "2019-10-21T22:50:12.773146Z",
     "start_time": "2019-10-21T22:43:10.966376Z"
    }
   },
   "outputs": [
    {
     "name": "stdout",
     "output_type": "stream",
     "text": [
      "Epoch 1/15\n",
      "22529/22529 [==============================] - 28s 1ms/step - loss: 0.6932 - acc: 0.5057\n",
      "Epoch 2/15\n",
      "22529/22529 [==============================] - 26s 1ms/step - loss: 0.6917 - acc: 0.5246\n",
      "Epoch 3/15\n",
      "22529/22529 [==============================] - 26s 1ms/step - loss: 0.6897 - acc: 0.5344\n",
      "Epoch 4/15\n",
      "22529/22529 [==============================] - 26s 1ms/step - loss: 0.6887 - acc: 0.5437\n",
      "Epoch 5/15\n",
      "22529/22529 [==============================] - 26s 1ms/step - loss: 0.6890 - acc: 0.5345\n",
      "Epoch 6/15\n",
      "22529/22529 [==============================] - 28s 1ms/step - loss: 0.6880 - acc: 0.5424\n",
      "Epoch 7/15\n",
      "22529/22529 [==============================] - 26s 1ms/step - loss: 0.6868 - acc: 0.5441\n",
      "Epoch 8/15\n",
      "22529/22529 [==============================] - 27s 1ms/step - loss: 0.6872 - acc: 0.5442\n",
      "Epoch 9/15\n",
      "22529/22529 [==============================] - 27s 1ms/step - loss: 0.6848 - acc: 0.5507\n",
      "Epoch 10/15\n",
      "22529/22529 [==============================] - 28s 1ms/step - loss: 0.6850 - acc: 0.5488\n",
      "Epoch 11/15\n",
      "22529/22529 [==============================] - 28s 1ms/step - loss: 0.6851 - acc: 0.5542\n",
      "Epoch 12/15\n",
      "22529/22529 [==============================] - 27s 1ms/step - loss: 0.6847 - acc: 0.5528\n",
      "Epoch 13/15\n",
      "22529/22529 [==============================] - 29s 1ms/step - loss: 0.6849 - acc: 0.5547\n",
      "Epoch 14/15\n",
      "22529/22529 [==============================] - 27s 1ms/step - loss: 0.6842 - acc: 0.5544\n",
      "Epoch 15/15\n",
      "22529/22529 [==============================] - 44s 2ms/step - loss: 0.6839 - acc: 0.5598\n"
     ]
    },
    {
     "data": {
      "text/plain": [
       "<keras.callbacks.History at 0x7f4644e1e1d0>"
      ]
     },
     "execution_count": 21,
     "metadata": {},
     "output_type": "execute_result"
    }
   ],
   "source": [
    "newModel.fit([train_target, train_drug], dt_train_y,epochs=15, batch_size=32)   "
   ]
  },
  {
   "cell_type": "code",
   "execution_count": 22,
   "metadata": {
    "ExecuteTime": {
     "end_time": "2019-10-21T22:50:18.204253Z",
     "start_time": "2019-10-21T22:50:16.532964Z"
    }
   },
   "outputs": [
    {
     "data": {
      "image/png": "[encoded data removed]",
      "text/plain": [
       "<Figure size 720x720 with 2 Axes>"
      ]
     },
     "metadata": {
      "needs_background": "light"
     },
     "output_type": "display_data"
    }
   ],
   "source": [
    "plotHeatmap(newModel, [test_target, test_drug], test_y)"
   ]
  },
  {
   "cell_type": "code",
   "execution_count": null,
   "metadata": {},
   "outputs": [],
   "source": []
  }
 ],
 "metadata": {
  "kernelspec": {
   "display_name": "Python 3",
   "language": "python",
   "name": "python3"
  },
  "language_info": {
   "codemirror_mode": {
    "name": "ipython",
    "version": 3
   },
   "file_extension": ".py",
   "mimetype": "text/x-python",
   "name": "python",
   "nbconvert_exporter": "python",
   "pygments_lexer": "ipython3",
   "version": "3.7.3"
  }
 },
 "nbformat": 4,
 "nbformat_minor": 2
}
