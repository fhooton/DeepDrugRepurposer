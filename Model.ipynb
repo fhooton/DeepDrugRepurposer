{
 "cells": [
  {
   "cell_type": "code",
   "execution_count": 1,
   "metadata": {
    "ExecuteTime": {
     "end_time": "2019-10-19T21:38:00.172874Z",
     "start_time": "2019-10-19T21:37:41.349598Z"
    }
   },
   "outputs": [
    {
     "name": "stderr",
     "output_type": "stream",
     "text": [
      "Using TensorFlow backend.\n"
     ]
    }
   ],
   "source": [
    "import pickle\n",
    "import pandas as pd\n",
    "import numpy as np\n",
    "from sklearn.model_selection import train_test_split\n",
    "from sklearn.linear_model import LogisticRegression\n",
    "from sklearn.metrics import confusion_matrix\n",
    "from keras.models import Sequential, Model\n",
    "from keras.layers import Dense, Activation, Dropout, Conv1D, Flatten, MaxPooling1D, AveragePooling1D, Concatenate"
   ]
  },
  {
   "cell_type": "code",
   "execution_count": 2,
   "metadata": {
    "ExecuteTime": {
     "end_time": "2019-10-19T21:38:01.965859Z",
     "start_time": "2019-10-19T21:38:01.827574Z"
    }
   },
   "outputs": [
    {
     "data": {
      "text/html": [
       "<div>\n",
       "<style scoped>\n",
       "    .dataframe tbody tr th:only-of-type {\n",
       "        vertical-align: middle;\n",
       "    }\n",
       "\n",
       "    .dataframe tbody tr th {\n",
       "        vertical-align: top;\n",
       "    }\n",
       "\n",
       "    .dataframe thead th {\n",
       "        text-align: right;\n",
       "    }\n",
       "</style>\n",
       "<table border=\"1\" class=\"dataframe\">\n",
       "  <thead>\n",
       "    <tr style=\"text-align: right;\">\n",
       "      <th></th>\n",
       "      <th>Target_Vec_0</th>\n",
       "      <th>Target_Vec_1</th>\n",
       "      <th>Target_Vec_2</th>\n",
       "      <th>Target_Vec_3</th>\n",
       "      <th>Target_Vec_4</th>\n",
       "      <th>Target_Vec_5</th>\n",
       "      <th>Target_Vec_6</th>\n",
       "      <th>Target_Vec_7</th>\n",
       "      <th>Target_Vec_8</th>\n",
       "      <th>Target_Vec_9</th>\n",
       "      <th>...</th>\n",
       "      <th>Drug_Vec_91</th>\n",
       "      <th>Drug_Vec_92</th>\n",
       "      <th>Drug_Vec_93</th>\n",
       "      <th>Drug_Vec_94</th>\n",
       "      <th>Drug_Vec_95</th>\n",
       "      <th>Drug_Vec_96</th>\n",
       "      <th>Drug_Vec_97</th>\n",
       "      <th>Drug_Vec_98</th>\n",
       "      <th>Drug_Vec_99</th>\n",
       "      <th>Class</th>\n",
       "    </tr>\n",
       "  </thead>\n",
       "  <tbody>\n",
       "    <tr>\n",
       "      <th>0</th>\n",
       "      <td>0.000013</td>\n",
       "      <td>-0.000028</td>\n",
       "      <td>0.000958</td>\n",
       "      <td>0.000242</td>\n",
       "      <td>0.000192</td>\n",
       "      <td>-0.000136</td>\n",
       "      <td>0.000343</td>\n",
       "      <td>0.000361</td>\n",
       "      <td>0.000666</td>\n",
       "      <td>0.001198</td>\n",
       "      <td>...</td>\n",
       "      <td>-0.027773</td>\n",
       "      <td>-0.261224</td>\n",
       "      <td>-0.349108</td>\n",
       "      <td>0.229779</td>\n",
       "      <td>0.161475</td>\n",
       "      <td>0.124695</td>\n",
       "      <td>0.368989</td>\n",
       "      <td>-0.198983</td>\n",
       "      <td>-0.435481</td>\n",
       "      <td>1</td>\n",
       "    </tr>\n",
       "    <tr>\n",
       "      <th>1</th>\n",
       "      <td>0.000013</td>\n",
       "      <td>-0.000028</td>\n",
       "      <td>0.000958</td>\n",
       "      <td>0.000242</td>\n",
       "      <td>0.000192</td>\n",
       "      <td>-0.000136</td>\n",
       "      <td>0.000343</td>\n",
       "      <td>0.000361</td>\n",
       "      <td>0.000666</td>\n",
       "      <td>0.001198</td>\n",
       "      <td>...</td>\n",
       "      <td>-0.009263</td>\n",
       "      <td>-0.166779</td>\n",
       "      <td>-0.276308</td>\n",
       "      <td>0.178456</td>\n",
       "      <td>0.128912</td>\n",
       "      <td>0.083457</td>\n",
       "      <td>0.357332</td>\n",
       "      <td>-0.184330</td>\n",
       "      <td>-0.500235</td>\n",
       "      <td>1</td>\n",
       "    </tr>\n",
       "    <tr>\n",
       "      <th>2</th>\n",
       "      <td>0.000013</td>\n",
       "      <td>-0.000028</td>\n",
       "      <td>0.000958</td>\n",
       "      <td>0.000242</td>\n",
       "      <td>0.000192</td>\n",
       "      <td>-0.000136</td>\n",
       "      <td>0.000343</td>\n",
       "      <td>0.000361</td>\n",
       "      <td>0.000666</td>\n",
       "      <td>0.001198</td>\n",
       "      <td>...</td>\n",
       "      <td>-0.009263</td>\n",
       "      <td>-0.166779</td>\n",
       "      <td>-0.276308</td>\n",
       "      <td>0.178456</td>\n",
       "      <td>0.128912</td>\n",
       "      <td>0.083457</td>\n",
       "      <td>0.357332</td>\n",
       "      <td>-0.184330</td>\n",
       "      <td>-0.500235</td>\n",
       "      <td>1</td>\n",
       "    </tr>\n",
       "    <tr>\n",
       "      <th>3</th>\n",
       "      <td>0.000013</td>\n",
       "      <td>-0.000028</td>\n",
       "      <td>0.000958</td>\n",
       "      <td>0.000242</td>\n",
       "      <td>0.000192</td>\n",
       "      <td>-0.000136</td>\n",
       "      <td>0.000343</td>\n",
       "      <td>0.000361</td>\n",
       "      <td>0.000666</td>\n",
       "      <td>0.001198</td>\n",
       "      <td>...</td>\n",
       "      <td>-0.197189</td>\n",
       "      <td>-0.190077</td>\n",
       "      <td>-0.227381</td>\n",
       "      <td>0.206817</td>\n",
       "      <td>0.102296</td>\n",
       "      <td>0.015936</td>\n",
       "      <td>0.315439</td>\n",
       "      <td>-0.296255</td>\n",
       "      <td>-0.259058</td>\n",
       "      <td>1</td>\n",
       "    </tr>\n",
       "    <tr>\n",
       "      <th>4</th>\n",
       "      <td>0.000013</td>\n",
       "      <td>-0.000028</td>\n",
       "      <td>0.000958</td>\n",
       "      <td>0.000242</td>\n",
       "      <td>0.000192</td>\n",
       "      <td>-0.000136</td>\n",
       "      <td>0.000343</td>\n",
       "      <td>0.000361</td>\n",
       "      <td>0.000666</td>\n",
       "      <td>0.001198</td>\n",
       "      <td>...</td>\n",
       "      <td>-0.197189</td>\n",
       "      <td>-0.190077</td>\n",
       "      <td>-0.227381</td>\n",
       "      <td>0.206817</td>\n",
       "      <td>0.102296</td>\n",
       "      <td>0.015936</td>\n",
       "      <td>0.315439</td>\n",
       "      <td>-0.296255</td>\n",
       "      <td>-0.259058</td>\n",
       "      <td>1</td>\n",
       "    </tr>\n",
       "  </tbody>\n",
       "</table>\n",
       "<p>5 rows × 201 columns</p>\n",
       "</div>"
      ],
      "text/plain": [
       "   Target_Vec_0  Target_Vec_1  Target_Vec_2  Target_Vec_3  Target_Vec_4  \\\n",
       "0      0.000013     -0.000028      0.000958      0.000242      0.000192   \n",
       "1      0.000013     -0.000028      0.000958      0.000242      0.000192   \n",
       "2      0.000013     -0.000028      0.000958      0.000242      0.000192   \n",
       "3      0.000013     -0.000028      0.000958      0.000242      0.000192   \n",
       "4      0.000013     -0.000028      0.000958      0.000242      0.000192   \n",
       "\n",
       "   Target_Vec_5  Target_Vec_6  Target_Vec_7  Target_Vec_8  Target_Vec_9  ...  \\\n",
       "0     -0.000136      0.000343      0.000361      0.000666      0.001198  ...   \n",
       "1     -0.000136      0.000343      0.000361      0.000666      0.001198  ...   \n",
       "2     -0.000136      0.000343      0.000361      0.000666      0.001198  ...   \n",
       "3     -0.000136      0.000343      0.000361      0.000666      0.001198  ...   \n",
       "4     -0.000136      0.000343      0.000361      0.000666      0.001198  ...   \n",
       "\n",
       "   Drug_Vec_91  Drug_Vec_92  Drug_Vec_93  Drug_Vec_94  Drug_Vec_95  \\\n",
       "0    -0.027773    -0.261224    -0.349108     0.229779     0.161475   \n",
       "1    -0.009263    -0.166779    -0.276308     0.178456     0.128912   \n",
       "2    -0.009263    -0.166779    -0.276308     0.178456     0.128912   \n",
       "3    -0.197189    -0.190077    -0.227381     0.206817     0.102296   \n",
       "4    -0.197189    -0.190077    -0.227381     0.206817     0.102296   \n",
       "\n",
       "   Drug_Vec_96  Drug_Vec_97  Drug_Vec_98  Drug_Vec_99  Class  \n",
       "0     0.124695     0.368989    -0.198983    -0.435481      1  \n",
       "1     0.083457     0.357332    -0.184330    -0.500235      1  \n",
       "2     0.083457     0.357332    -0.184330    -0.500235      1  \n",
       "3     0.015936     0.315439    -0.296255    -0.259058      1  \n",
       "4     0.015936     0.315439    -0.296255    -0.259058      1  \n",
       "\n",
       "[5 rows x 201 columns]"
      ]
     },
     "execution_count": 2,
     "metadata": {},
     "output_type": "execute_result"
    }
   ],
   "source": [
    "df = pickle.load(open('dataset_vBalanced_new.pkl', 'rb'))\n",
    "df.head()"
   ]
  },
  {
   "cell_type": "code",
   "execution_count": 3,
   "metadata": {
    "ExecuteTime": {
     "end_time": "2019-10-19T21:38:03.318875Z",
     "start_time": "2019-10-19T21:38:03.275509Z"
    }
   },
   "outputs": [],
   "source": [
    "X = df.iloc[:,:-1].values\n",
    "Y = df.iloc[:,-1].values"
   ]
  },
  {
   "cell_type": "code",
   "execution_count": 4,
   "metadata": {
    "ExecuteTime": {
     "end_time": "2019-10-19T21:38:04.684593Z",
     "start_time": "2019-10-19T21:38:04.535938Z"
    }
   },
   "outputs": [],
   "source": [
    "train_x, test_x, train_y, test_y = train_test_split(X, Y, train_size=0.8)"
   ]
  },
  {
   "cell_type": "markdown",
   "metadata": {},
   "source": [
    "## Logistic"
   ]
  },
  {
   "cell_type": "code",
   "execution_count": 5,
   "metadata": {
    "ExecuteTime": {
     "end_time": "2019-10-19T21:38:10.996348Z",
     "start_time": "2019-10-19T21:38:08.302007Z"
    }
   },
   "outputs": [
    {
     "name": "stderr",
     "output_type": "stream",
     "text": [
      "/home/sarthak/anaconda3/lib/python3.7/site-packages/sklearn/linear_model/logistic.py:432: FutureWarning: Default solver will be changed to 'lbfgs' in 0.22. Specify a solver to silence this warning.\n",
      "  FutureWarning)\n"
     ]
    },
    {
     "name": "stdout",
     "output_type": "stream",
     "text": [
      "Score of Logistic : 0.7740102964672466\n"
     ]
    },
    {
     "data": {
      "text/plain": [
       "array([[1547,   34],\n",
       "       [1239, 2813]])"
      ]
     },
     "execution_count": 5,
     "metadata": {},
     "output_type": "execute_result"
    }
   ],
   "source": [
    "lr = LogisticRegression()\n",
    "lr.fit(train_x, train_y)\n",
    "print('Score of Logistic :', lr.score(test_x, test_y))\n",
    "y_pred = lr.predict(test_x)\n",
    "confusion_matrix(y_pred, test_y)"
   ]
  },
  {
   "cell_type": "markdown",
   "metadata": {},
   "source": [
    "## Deep NN"
   ]
  },
  {
   "cell_type": "code",
   "execution_count": 6,
   "metadata": {
    "ExecuteTime": {
     "end_time": "2019-10-19T21:38:21.956585Z",
     "start_time": "2019-10-19T21:38:21.643651Z"
    }
   },
   "outputs": [
    {
     "name": "stderr",
     "output_type": "stream",
     "text": [
      "WARNING: Logging before flag parsing goes to stderr.\n",
      "W1019 21:38:21.646733 139647467345280 deprecation_wrapper.py:119] From /home/sarthak/anaconda3/lib/python3.7/site-packages/keras/backend/tensorflow_backend.py:74: The name tf.get_default_graph is deprecated. Please use tf.compat.v1.get_default_graph instead.\n",
      "\n",
      "W1019 21:38:21.760612 139647467345280 deprecation_wrapper.py:119] From /home/sarthak/anaconda3/lib/python3.7/site-packages/keras/backend/tensorflow_backend.py:517: The name tf.placeholder is deprecated. Please use tf.compat.v1.placeholder instead.\n",
      "\n",
      "W1019 21:38:21.798738 139647467345280 deprecation_wrapper.py:119] From /home/sarthak/anaconda3/lib/python3.7/site-packages/keras/backend/tensorflow_backend.py:4138: The name tf.random_uniform is deprecated. Please use tf.random.uniform instead.\n",
      "\n",
      "W1019 21:38:21.830993 139647467345280 deprecation_wrapper.py:119] From /home/sarthak/anaconda3/lib/python3.7/site-packages/keras/backend/tensorflow_backend.py:133: The name tf.placeholder_with_default is deprecated. Please use tf.compat.v1.placeholder_with_default instead.\n",
      "\n",
      "W1019 21:38:21.838238 139647467345280 deprecation.py:506] From /home/sarthak/anaconda3/lib/python3.7/site-packages/keras/backend/tensorflow_backend.py:3445: calling dropout (from tensorflow.python.ops.nn_ops) with keep_prob is deprecated and will be removed in a future version.\n",
      "Instructions for updating:\n",
      "Please use `rate` instead of `keep_prob`. Rate should be set to `rate = 1 - keep_prob`.\n",
      "W1019 21:38:21.900418 139647467345280 deprecation_wrapper.py:119] From /home/sarthak/anaconda3/lib/python3.7/site-packages/keras/optimizers.py:790: The name tf.train.Optimizer is deprecated. Please use tf.compat.v1.train.Optimizer instead.\n",
      "\n",
      "W1019 21:38:21.915596 139647467345280 deprecation_wrapper.py:119] From /home/sarthak/anaconda3/lib/python3.7/site-packages/keras/backend/tensorflow_backend.py:3376: The name tf.log is deprecated. Please use tf.math.log instead.\n",
      "\n",
      "W1019 21:38:21.919808 139647467345280 deprecation.py:323] From /home/sarthak/anaconda3/lib/python3.7/site-packages/tensorflow/python/ops/nn_impl.py:180: add_dispatch_support.<locals>.wrapper (from tensorflow.python.ops.array_ops) is deprecated and will be removed in a future version.\n",
      "Instructions for updating:\n",
      "Use tf.where in 2.0, which has the same broadcast rule as np.where\n"
     ]
    }
   ],
   "source": [
    "model = Sequential()\n",
    "model.add(Dense(100, activation='relu', input_dim=200))\n",
    "model.add(Dropout(0.5))\n",
    "model.add(Dense(50, activation='relu'))\n",
    "model.add(Dropout(0.5))\n",
    "model.add(Dense(25, activation='relu'))\n",
    "model.add(Dense(1, activation='sigmoid'))\n",
    "\n",
    "model.compile(optimizer='rmsprop',\n",
    "              loss='binary_crossentropy',\n",
    "              metrics=['accuracy'])"
   ]
  },
  {
   "cell_type": "code",
   "execution_count": 7,
   "metadata": {
    "ExecuteTime": {
     "end_time": "2019-10-19T21:39:23.755693Z",
     "start_time": "2019-10-19T21:38:32.756474Z"
    }
   },
   "outputs": [
    {
     "name": "stdout",
     "output_type": "stream",
     "text": [
      "Epoch 1/30\n",
      "22529/22529 [==============================] - 4s 183us/step - loss: 0.4806 - acc: 0.7550\n",
      "Epoch 2/30\n",
      "22529/22529 [==============================] - 1s 66us/step - loss: 0.4570 - acc: 0.7665\n",
      "Epoch 3/30\n",
      "22529/22529 [==============================] - 1s 65us/step - loss: 0.4557 - acc: 0.7675\n",
      "Epoch 4/30\n",
      "22529/22529 [==============================] - 1s 65us/step - loss: 0.4526 - acc: 0.7666\n",
      "Epoch 5/30\n",
      "22529/22529 [==============================] - 1s 66us/step - loss: 0.4513 - acc: 0.7672\n",
      "Epoch 6/30\n",
      "22529/22529 [==============================] - 2s 68us/step - loss: 0.4497 - acc: 0.7673\n",
      "Epoch 7/30\n",
      "22529/22529 [==============================] - 2s 89us/step - loss: 0.4479 - acc: 0.7675\n",
      "Epoch 8/30\n",
      "22529/22529 [==============================] - 2s 89us/step - loss: 0.4469 - acc: 0.7671\n",
      "Epoch 9/30\n",
      "22529/22529 [==============================] - 2s 91us/step - loss: 0.4462 - acc: 0.7668\n",
      "Epoch 10/30\n",
      "22529/22529 [==============================] - 2s 89us/step - loss: 0.4449 - acc: 0.7674\n",
      "Epoch 11/30\n",
      "22529/22529 [==============================] - 2s 90us/step - loss: 0.4438 - acc: 0.7686\n",
      "Epoch 12/30\n",
      "22529/22529 [==============================] - 1s 66us/step - loss: 0.4428 - acc: 0.7679\n",
      "Epoch 13/30\n",
      "22529/22529 [==============================] - 1s 65us/step - loss: 0.4418 - acc: 0.7682\n",
      "Epoch 14/30\n",
      "22529/22529 [==============================] - 1s 65us/step - loss: 0.4415 - acc: 0.7677\n",
      "Epoch 15/30\n",
      "22529/22529 [==============================] - 1s 64us/step - loss: 0.4408 - acc: 0.7682\n",
      "Epoch 16/30\n",
      "22529/22529 [==============================] - 1s 65us/step - loss: 0.4395 - acc: 0.7701\n",
      "Epoch 17/30\n",
      "22529/22529 [==============================] - 1s 65us/step - loss: 0.4398 - acc: 0.7697\n",
      "Epoch 18/30\n",
      "22529/22529 [==============================] - 1s 66us/step - loss: 0.4376 - acc: 0.7703\n",
      "Epoch 19/30\n",
      "22529/22529 [==============================] - 2s 68us/step - loss: 0.4378 - acc: 0.7683\n",
      "Epoch 20/30\n",
      "22529/22529 [==============================] - 2s 67us/step - loss: 0.4361 - acc: 0.7717\n",
      "Epoch 21/30\n",
      "22529/22529 [==============================] - 2s 68us/step - loss: 0.4349 - acc: 0.7716\n",
      "Epoch 22/30\n",
      "22529/22529 [==============================] - 2s 67us/step - loss: 0.4351 - acc: 0.7706\n",
      "Epoch 23/30\n",
      "22529/22529 [==============================] - 2s 68us/step - loss: 0.4336 - acc: 0.7705\n",
      "Epoch 24/30\n",
      "22529/22529 [==============================] - 2s 69us/step - loss: 0.4348 - acc: 0.7732\n",
      "Epoch 25/30\n",
      "22529/22529 [==============================] - 2s 68us/step - loss: 0.4341 - acc: 0.7725\n",
      "Epoch 26/30\n",
      "22529/22529 [==============================] - 2s 68us/step - loss: 0.4334 - acc: 0.7734\n",
      "Epoch 27/30\n",
      "22529/22529 [==============================] - 2s 68us/step - loss: 0.4327 - acc: 0.7724\n",
      "Epoch 28/30\n",
      "22529/22529 [==============================] - 1s 67us/step - loss: 0.4291 - acc: 0.7753\n",
      "Epoch 29/30\n",
      "22529/22529 [==============================] - 1s 66us/step - loss: 0.4321 - acc: 0.7724\n",
      "Epoch 30/30\n",
      "22529/22529 [==============================] - 1s 66us/step - loss: 0.4315 - acc: 0.7745\n"
     ]
    },
    {
     "data": {
      "text/plain": [
       "<keras.callbacks.History at 0x7f01eb4d6668>"
      ]
     },
     "execution_count": 7,
     "metadata": {},
     "output_type": "execute_result"
    }
   ],
   "source": [
    "model.fit(train_x, train_y, epochs=30, batch_size=64)"
   ]
  },
  {
   "cell_type": "markdown",
   "metadata": {},
   "source": [
    "## Deep Conv NN"
   ]
  },
  {
   "cell_type": "code",
   "execution_count": 8,
   "metadata": {
    "ExecuteTime": {
     "end_time": "2019-10-18T16:40:03.684484Z",
     "start_time": "2019-10-18T16:40:03.570164Z"
    }
   },
   "outputs": [],
   "source": [
    "ndata, nfeature = X.shape\n",
    "X_Conv = X.reshape(ndata, nfeature, 1)\n",
    "input_shape = (nfeature, 1)\n",
    "ctrain_x, ctest_x, ctrain_y, ctest_y = train_test_split(X_Conv, Y, train_size=0.8)"
   ]
  },
  {
   "cell_type": "code",
   "execution_count": 9,
   "metadata": {
    "ExecuteTime": {
     "end_time": "2019-10-18T16:40:08.054994Z",
     "start_time": "2019-10-18T16:40:07.874443Z"
    }
   },
   "outputs": [
    {
     "name": "stderr",
     "output_type": "stream",
     "text": [
      "W1018 16:40:07.932295 140654707774848 deprecation_wrapper.py:119] From /home/sarthak/anaconda3/lib/python3.7/site-packages/keras/backend/tensorflow_backend.py:3976: The name tf.nn.max_pool is deprecated. Please use tf.nn.max_pool2d instead.\n",
      "\n"
     ]
    }
   ],
   "source": [
    "model = Sequential()\n",
    "\n",
    "model.add(Conv1D(filters=30, kernel_size=2, input_shape=input_shape,kernel_initializer= 'uniform', activation= 'relu')) \n",
    "model.add(Conv1D(filters=12, kernel_size=2, kernel_initializer= 'uniform', activation= 'relu')) \n",
    "model.add(Conv1D(filters=10, kernel_size=2, kernel_initializer= 'uniform', activation= 'relu')) \n",
    "\n",
    "model.add(MaxPooling1D(pool_size=2))\n",
    "\n",
    "model.add(Flatten())\n",
    "model.add(Dense(100, activation='relu'))\n",
    "model.add(Dropout(0.5))\n",
    "model.add(Dense(50, activation='relu'))\n",
    "model.add(Dropout(0.5))\n",
    "model.add(Dense(25, activation='relu'))\n",
    "model.add(Dense(1, activation='sigmoid'))\n",
    "\n",
    "model.compile(optimizer='rmsprop',\n",
    "              loss='binary_crossentropy',\n",
    "              metrics=['accuracy'])"
   ]
  },
  {
   "cell_type": "code",
   "execution_count": 10,
   "metadata": {
    "ExecuteTime": {
     "end_time": "2019-10-18T16:40:50.552419Z",
     "start_time": "2019-10-18T16:40:10.536166Z"
    }
   },
   "outputs": [
    {
     "name": "stdout",
     "output_type": "stream",
     "text": [
      "Epoch 1/2\n",
      "22529/22529 [==============================] - 16s 720us/step - loss: 0.6932 - acc: 0.5071\n",
      "Epoch 2/2\n",
      "22529/22529 [==============================] - 23s 1ms/step - loss: 0.6934 - acc: 0.5002\n"
     ]
    },
    {
     "data": {
      "text/plain": [
       "<keras.callbacks.History at 0x7fec8816b4a8>"
      ]
     },
     "execution_count": 10,
     "metadata": {},
     "output_type": "execute_result"
    }
   ],
   "source": [
    "model.fit(ctrain_x, train_y, epochs=2, batch_size=32)"
   ]
  },
  {
   "cell_type": "markdown",
   "metadata": {},
   "source": [
    "## Deep Conv NN with seperate conv for target and drug"
   ]
  },
  {
   "cell_type": "code",
   "execution_count": 11,
   "metadata": {
    "ExecuteTime": {
     "end_time": "2019-10-18T16:40:56.917441Z",
     "start_time": "2019-10-18T16:40:56.770314Z"
    }
   },
   "outputs": [],
   "source": [
    "target = df.iloc[:, :100].values\n",
    "drug = df.iloc[:, 100:-1].values\n",
    "ndata, nfeature = target.shape\n",
    "input_shape = (nfeature, 1)\n",
    "train_idx, test_idx, dt_train_y, dt_test_y = train_test_split(np.arange(0, ndata), Y, train_size=0.8)\n",
    "train_target = target[train_idx]\n",
    "test_target = target[test_idx]\n",
    "train_drug = drug[train_idx]\n",
    "test_drug = drug[test_idx]"
   ]
  },
  {
   "cell_type": "code",
   "execution_count": 12,
   "metadata": {
    "ExecuteTime": {
     "end_time": "2019-10-18T16:40:57.694169Z",
     "start_time": "2019-10-18T16:40:57.688954Z"
    }
   },
   "outputs": [],
   "source": [
    "train_size = train_target.shape[0]\n",
    "test_size = test_target.shape[0]\n",
    "train_target = train_target.reshape(train_size, nfeature, 1)\n",
    "test_target = test_target.reshape(test_size, nfeature, 1)\n",
    "train_drug = train_target.reshape(train_size, nfeature, 1)\n",
    "test_drug = test_target.reshape(test_size, nfeature, 1)"
   ]
  },
  {
   "cell_type": "code",
   "execution_count": 13,
   "metadata": {
    "ExecuteTime": {
     "end_time": "2019-10-18T16:41:01.191850Z",
     "start_time": "2019-10-18T16:41:00.973606Z"
    }
   },
   "outputs": [],
   "source": [
    "model1 = Sequential(layers=[\n",
    "    # input layers and convolutional layers\n",
    "    Conv1D(filters=30, kernel_size=2, input_shape=input_shape,kernel_initializer= 'uniform', activation= 'relu'),\n",
    "    Conv1D(filters=10, kernel_size=2, kernel_initializer= 'uniform', activation= 'relu'),\n",
    "    Dropout(.5),\n",
    "\n",
    "])\n",
    "\n",
    "model2 = Sequential(layers=[\n",
    "    # input layers and convolutional layers\n",
    "    Conv1D(filters=30, kernel_size=2, input_shape=input_shape,kernel_initializer= 'uniform', activation= 'relu'),\n",
    "    Conv1D(filters=10, kernel_size=2, kernel_initializer= 'uniform', activation= 'relu'),\n",
    "    Dropout(.5),\n",
    "\n",
    "])\n",
    "\n",
    "mergedOut = Concatenate()([model1.output,model2.output])\n",
    "mergedOut = Flatten()(mergedOut)    \n",
    "mergedOut = Dense(256, activation='relu')(mergedOut)\n",
    "mergedOut = Dropout(.5)(mergedOut)\n",
    "mergedOut = Dense(128, activation='relu')(mergedOut)\n",
    "mergedOut = Dropout(.35)(mergedOut)\n",
    "\n",
    "# output layer\n",
    "mergedOut = Dense(1, activation='sigmoid')(mergedOut)\n",
    "newModel = Model([model1.input,model2.input], mergedOut)\n",
    "\n",
    "newModel.compile(optimizer='rmsprop',\n",
    "              loss='binary_crossentropy',\n",
    "              metrics=['accuracy'])"
   ]
  },
  {
   "cell_type": "code",
   "execution_count": 14,
   "metadata": {
    "ExecuteTime": {
     "end_time": "2019-10-18T16:42:04.140893Z",
     "start_time": "2019-10-18T16:41:02.798778Z"
    }
   },
   "outputs": [
    {
     "name": "stdout",
     "output_type": "stream",
     "text": [
      "Epoch 1/2\n",
      "22529/22529 [==============================] - 33s 1ms/step - loss: 0.5480 - acc: 0.6834\n",
      "Epoch 2/2\n",
      "22529/22529 [==============================] - 28s 1ms/step - loss: 0.5425 - acc: 0.6880\n"
     ]
    },
    {
     "data": {
      "text/plain": [
       "<keras.callbacks.History at 0x7fec65225160>"
      ]
     },
     "execution_count": 14,
     "metadata": {},
     "output_type": "execute_result"
    }
   ],
   "source": [
    "newModel.fit([train_target, train_drug], dt_train_y,epochs=2, batch_size=32)   "
   ]
  }
 ],
 "metadata": {
  "kernelspec": {
   "display_name": "Python 3",
   "language": "python",
   "name": "python3"
  },
  "language_info": {
   "codemirror_mode": {
    "name": "ipython",
    "version": 3
   },
   "file_extension": ".py",
   "mimetype": "text/x-python",
   "name": "python",
   "nbconvert_exporter": "python",
   "pygments_lexer": "ipython3",
   "version": "3.7.3"
  }
 },
 "nbformat": 4,
 "nbformat_minor": 2
}
