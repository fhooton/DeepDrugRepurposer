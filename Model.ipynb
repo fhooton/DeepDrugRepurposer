{
 "cells": [
  {
   "cell_type": "code",
   "execution_count": 7,
   "metadata": {
    "ExecuteTime": {
     "end_time": "2019-10-17T15:57:06.289520Z",
     "start_time": "2019-10-17T15:57:06.161306Z"
    }
   },
   "outputs": [
    {
     "ename": "ModuleNotFoundError",
     "evalue": "No module named 'keras'",
     "output_type": "error",
     "traceback": [
      "\u001b[0;31m---------------------------------------------------------------------------\u001b[0m",
      "\u001b[0;31mModuleNotFoundError\u001b[0m                       Traceback (most recent call last)",
      "\u001b[0;32m<ipython-input-7-0d41458d4428>\u001b[0m in \u001b[0;36m<module>\u001b[0;34m\u001b[0m\n\u001b[1;32m      1\u001b[0m \u001b[0;32mimport\u001b[0m \u001b[0mpickle\u001b[0m\u001b[0;34m\u001b[0m\u001b[0;34m\u001b[0m\u001b[0m\n\u001b[0;32m----> 2\u001b[0;31m \u001b[0;32mimport\u001b[0m \u001b[0mkeras\u001b[0m\u001b[0;34m\u001b[0m\u001b[0;34m\u001b[0m\u001b[0m\n\u001b[0m\u001b[1;32m      3\u001b[0m \u001b[0;32mimport\u001b[0m \u001b[0mpandas\u001b[0m \u001b[0;32mas\u001b[0m \u001b[0mpd\u001b[0m\u001b[0;34m\u001b[0m\u001b[0;34m\u001b[0m\u001b[0m\n\u001b[1;32m      4\u001b[0m \u001b[0;32mimport\u001b[0m \u001b[0mnumpy\u001b[0m \u001b[0;32mas\u001b[0m \u001b[0mnp\u001b[0m\u001b[0;34m\u001b[0m\u001b[0;34m\u001b[0m\u001b[0m\n\u001b[1;32m      5\u001b[0m \u001b[0;32mfrom\u001b[0m \u001b[0msklearn\u001b[0m\u001b[0;34m.\u001b[0m\u001b[0mmodel_selection\u001b[0m \u001b[0;32mimport\u001b[0m \u001b[0mtrain_test_split\u001b[0m\u001b[0;34m\u001b[0m\u001b[0;34m\u001b[0m\u001b[0m\n",
      "\u001b[0;31mModuleNotFoundError\u001b[0m: No module named 'keras'"
     ]
    }
   ],
   "source": [
    "import pickle\n",
    "import keras \n",
    "import pandas as pd\n",
    "import numpy as np\n",
    "from sklearn.model_selection import train_test_split\n",
    "from sklearn.linear_model import LogisticRegression"
   ]
  },
  {
   "cell_type": "code",
   "execution_count": 5,
   "metadata": {
    "ExecuteTime": {
     "end_time": "2019-10-17T15:53:46.711580Z",
     "start_time": "2019-10-17T15:53:46.656154Z"
    }
   },
   "outputs": [
    {
     "data": {
      "text/html": [
       "<div>\n",
       "<style scoped>\n",
       "    .dataframe tbody tr th:only-of-type {\n",
       "        vertical-align: middle;\n",
       "    }\n",
       "\n",
       "    .dataframe tbody tr th {\n",
       "        vertical-align: top;\n",
       "    }\n",
       "\n",
       "    .dataframe thead th {\n",
       "        text-align: right;\n",
       "    }\n",
       "</style>\n",
       "<table border=\"1\" class=\"dataframe\">\n",
       "  <thead>\n",
       "    <tr style=\"text-align: right;\">\n",
       "      <th></th>\n",
       "      <th>Target_Vec_0</th>\n",
       "      <th>Target_Vec_1</th>\n",
       "      <th>Target_Vec_2</th>\n",
       "      <th>Target_Vec_3</th>\n",
       "      <th>Target_Vec_4</th>\n",
       "      <th>Target_Vec_5</th>\n",
       "      <th>Target_Vec_6</th>\n",
       "      <th>Target_Vec_7</th>\n",
       "      <th>Target_Vec_8</th>\n",
       "      <th>Target_Vec_9</th>\n",
       "      <th>...</th>\n",
       "      <th>Drug_Vec_91</th>\n",
       "      <th>Drug_Vec_92</th>\n",
       "      <th>Drug_Vec_93</th>\n",
       "      <th>Drug_Vec_94</th>\n",
       "      <th>Drug_Vec_95</th>\n",
       "      <th>Drug_Vec_96</th>\n",
       "      <th>Drug_Vec_97</th>\n",
       "      <th>Drug_Vec_98</th>\n",
       "      <th>Drug_Vec_99</th>\n",
       "      <th>Class</th>\n",
       "    </tr>\n",
       "  </thead>\n",
       "  <tbody>\n",
       "    <tr>\n",
       "      <th>0</th>\n",
       "      <td>0.000013</td>\n",
       "      <td>-0.000028</td>\n",
       "      <td>0.000958</td>\n",
       "      <td>0.000242</td>\n",
       "      <td>0.000192</td>\n",
       "      <td>-0.000136</td>\n",
       "      <td>0.000343</td>\n",
       "      <td>0.000361</td>\n",
       "      <td>0.000666</td>\n",
       "      <td>0.001198</td>\n",
       "      <td>...</td>\n",
       "      <td>-0.027773</td>\n",
       "      <td>-0.261224</td>\n",
       "      <td>-0.349108</td>\n",
       "      <td>0.229779</td>\n",
       "      <td>0.161475</td>\n",
       "      <td>0.124695</td>\n",
       "      <td>0.368989</td>\n",
       "      <td>-0.198983</td>\n",
       "      <td>-0.435481</td>\n",
       "      <td>1</td>\n",
       "    </tr>\n",
       "    <tr>\n",
       "      <th>1</th>\n",
       "      <td>0.000013</td>\n",
       "      <td>-0.000028</td>\n",
       "      <td>0.000958</td>\n",
       "      <td>0.000242</td>\n",
       "      <td>0.000192</td>\n",
       "      <td>-0.000136</td>\n",
       "      <td>0.000343</td>\n",
       "      <td>0.000361</td>\n",
       "      <td>0.000666</td>\n",
       "      <td>0.001198</td>\n",
       "      <td>...</td>\n",
       "      <td>-0.009263</td>\n",
       "      <td>-0.166779</td>\n",
       "      <td>-0.276308</td>\n",
       "      <td>0.178456</td>\n",
       "      <td>0.128912</td>\n",
       "      <td>0.083457</td>\n",
       "      <td>0.357332</td>\n",
       "      <td>-0.184330</td>\n",
       "      <td>-0.500235</td>\n",
       "      <td>1</td>\n",
       "    </tr>\n",
       "    <tr>\n",
       "      <th>2</th>\n",
       "      <td>0.000013</td>\n",
       "      <td>-0.000028</td>\n",
       "      <td>0.000958</td>\n",
       "      <td>0.000242</td>\n",
       "      <td>0.000192</td>\n",
       "      <td>-0.000136</td>\n",
       "      <td>0.000343</td>\n",
       "      <td>0.000361</td>\n",
       "      <td>0.000666</td>\n",
       "      <td>0.001198</td>\n",
       "      <td>...</td>\n",
       "      <td>-0.009263</td>\n",
       "      <td>-0.166779</td>\n",
       "      <td>-0.276308</td>\n",
       "      <td>0.178456</td>\n",
       "      <td>0.128912</td>\n",
       "      <td>0.083457</td>\n",
       "      <td>0.357332</td>\n",
       "      <td>-0.184330</td>\n",
       "      <td>-0.500235</td>\n",
       "      <td>1</td>\n",
       "    </tr>\n",
       "    <tr>\n",
       "      <th>3</th>\n",
       "      <td>0.000013</td>\n",
       "      <td>-0.000028</td>\n",
       "      <td>0.000958</td>\n",
       "      <td>0.000242</td>\n",
       "      <td>0.000192</td>\n",
       "      <td>-0.000136</td>\n",
       "      <td>0.000343</td>\n",
       "      <td>0.000361</td>\n",
       "      <td>0.000666</td>\n",
       "      <td>0.001198</td>\n",
       "      <td>...</td>\n",
       "      <td>-0.197189</td>\n",
       "      <td>-0.190077</td>\n",
       "      <td>-0.227381</td>\n",
       "      <td>0.206817</td>\n",
       "      <td>0.102296</td>\n",
       "      <td>0.015936</td>\n",
       "      <td>0.315439</td>\n",
       "      <td>-0.296255</td>\n",
       "      <td>-0.259058</td>\n",
       "      <td>1</td>\n",
       "    </tr>\n",
       "    <tr>\n",
       "      <th>4</th>\n",
       "      <td>0.000013</td>\n",
       "      <td>-0.000028</td>\n",
       "      <td>0.000958</td>\n",
       "      <td>0.000242</td>\n",
       "      <td>0.000192</td>\n",
       "      <td>-0.000136</td>\n",
       "      <td>0.000343</td>\n",
       "      <td>0.000361</td>\n",
       "      <td>0.000666</td>\n",
       "      <td>0.001198</td>\n",
       "      <td>...</td>\n",
       "      <td>-0.197189</td>\n",
       "      <td>-0.190077</td>\n",
       "      <td>-0.227381</td>\n",
       "      <td>0.206817</td>\n",
       "      <td>0.102296</td>\n",
       "      <td>0.015936</td>\n",
       "      <td>0.315439</td>\n",
       "      <td>-0.296255</td>\n",
       "      <td>-0.259058</td>\n",
       "      <td>1</td>\n",
       "    </tr>\n",
       "  </tbody>\n",
       "</table>\n",
       "<p>5 rows × 201 columns</p>\n",
       "</div>"
      ],
      "text/plain": [
       "   Target_Vec_0  Target_Vec_1  Target_Vec_2  Target_Vec_3  Target_Vec_4  \\\n",
       "0      0.000013     -0.000028      0.000958      0.000242      0.000192   \n",
       "1      0.000013     -0.000028      0.000958      0.000242      0.000192   \n",
       "2      0.000013     -0.000028      0.000958      0.000242      0.000192   \n",
       "3      0.000013     -0.000028      0.000958      0.000242      0.000192   \n",
       "4      0.000013     -0.000028      0.000958      0.000242      0.000192   \n",
       "\n",
       "   Target_Vec_5  Target_Vec_6  Target_Vec_7  Target_Vec_8  Target_Vec_9  ...  \\\n",
       "0     -0.000136      0.000343      0.000361      0.000666      0.001198  ...   \n",
       "1     -0.000136      0.000343      0.000361      0.000666      0.001198  ...   \n",
       "2     -0.000136      0.000343      0.000361      0.000666      0.001198  ...   \n",
       "3     -0.000136      0.000343      0.000361      0.000666      0.001198  ...   \n",
       "4     -0.000136      0.000343      0.000361      0.000666      0.001198  ...   \n",
       "\n",
       "   Drug_Vec_91  Drug_Vec_92  Drug_Vec_93  Drug_Vec_94  Drug_Vec_95  \\\n",
       "0    -0.027773    -0.261224    -0.349108     0.229779     0.161475   \n",
       "1    -0.009263    -0.166779    -0.276308     0.178456     0.128912   \n",
       "2    -0.009263    -0.166779    -0.276308     0.178456     0.128912   \n",
       "3    -0.197189    -0.190077    -0.227381     0.206817     0.102296   \n",
       "4    -0.197189    -0.190077    -0.227381     0.206817     0.102296   \n",
       "\n",
       "   Drug_Vec_96  Drug_Vec_97  Drug_Vec_98  Drug_Vec_99  Class  \n",
       "0     0.124695     0.368989    -0.198983    -0.435481      1  \n",
       "1     0.083457     0.357332    -0.184330    -0.500235      1  \n",
       "2     0.083457     0.357332    -0.184330    -0.500235      1  \n",
       "3     0.015936     0.315439    -0.296255    -0.259058      1  \n",
       "4     0.015936     0.315439    -0.296255    -0.259058      1  \n",
       "\n",
       "[5 rows x 201 columns]"
      ]
     },
     "execution_count": 5,
     "metadata": {},
     "output_type": "execute_result"
    }
   ],
   "source": [
    "df = pickle.load(open('dataset.pkl', 'rb'))\n",
    "df.head()"
   ]
  },
  {
   "cell_type": "code",
   "execution_count": 6,
   "metadata": {
    "ExecuteTime": {
     "end_time": "2019-10-17T15:53:48.745673Z",
     "start_time": "2019-10-17T15:53:48.740228Z"
    }
   },
   "outputs": [
    {
     "data": {
      "text/plain": [
       "(array([0, 1]), array([ 7894, 14081]))"
      ]
     },
     "execution_count": 6,
     "metadata": {},
     "output_type": "execute_result"
    }
   ],
   "source": [
    "np.unique(df.Class.values, return_counts=True)"
   ]
  },
  {
   "cell_type": "code",
   "execution_count": null,
   "metadata": {},
   "outputs": [],
   "source": []
  }
 ],
 "metadata": {
  "kernelspec": {
   "display_name": "Python 3",
   "language": "python",
   "name": "python3"
  },
  "language_info": {
   "codemirror_mode": {
    "name": "ipython",
    "version": 3
   },
   "file_extension": ".py",
   "mimetype": "text/x-python",
   "name": "python",
   "nbconvert_exporter": "python",
   "pygments_lexer": "ipython3",
   "version": "3.6.7"
  }
 },
 "nbformat": 4,
 "nbformat_minor": 2
}
