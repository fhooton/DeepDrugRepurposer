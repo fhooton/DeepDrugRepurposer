{
 "cells": [
  {
   "cell_type": "code",
   "execution_count": 1,
   "metadata": {
    "ExecuteTime": {
     "end_time": "2019-11-10T17:58:42.491734Z",
     "start_time": "2019-11-10T17:58:04.358744Z"
    }
   },
   "outputs": [
    {
     "name": "stderr",
     "output_type": "stream",
     "text": [
      "Using TensorFlow backend.\n"
     ]
    }
   ],
   "source": [
    "import pickle\n",
    "\n",
    "import pandas as pd\n",
    "import numpy as np\n",
    "import seaborn as sns\n",
    "import matplotlib.pyplot as plt\n",
    "\n",
    "\n",
    "from sklearn.model_selection import train_test_split\n",
    "from sklearn.linear_model import LogisticRegression\n",
    "from sklearn.metrics import confusion_matrix, f1_score\n",
    "from keras.models import Sequential, Model\n",
    "from keras.layers import Dense, Activation, Dropout, Conv1D, Flatten, MaxPooling1D, AveragePooling1D, Concatenate, LeakyReLU\n",
    "from keras.utils.vis_utils import plot_model"
   ]
  },
  {
   "cell_type": "code",
   "execution_count": 2,
   "metadata": {
    "ExecuteTime": {
     "end_time": "2019-11-10T17:58:50.746082Z",
     "start_time": "2019-11-10T17:58:49.978520Z"
    }
   },
   "outputs": [
    {
     "data": {
      "text/html": [
       "<div>\n",
       "<style scoped>\n",
       "    .dataframe tbody tr th:only-of-type {\n",
       "        vertical-align: middle;\n",
       "    }\n",
       "\n",
       "    .dataframe tbody tr th {\n",
       "        vertical-align: top;\n",
       "    }\n",
       "\n",
       "    .dataframe thead th {\n",
       "        text-align: right;\n",
       "    }\n",
       "</style>\n",
       "<table border=\"1\" class=\"dataframe\">\n",
       "  <thead>\n",
       "    <tr style=\"text-align: right;\">\n",
       "      <th></th>\n",
       "      <th>Target_Vec_0</th>\n",
       "      <th>Target_Vec_1</th>\n",
       "      <th>Target_Vec_2</th>\n",
       "      <th>Target_Vec_3</th>\n",
       "      <th>Target_Vec_4</th>\n",
       "      <th>Target_Vec_5</th>\n",
       "      <th>Target_Vec_6</th>\n",
       "      <th>Target_Vec_7</th>\n",
       "      <th>Target_Vec_8</th>\n",
       "      <th>Target_Vec_9</th>\n",
       "      <th>...</th>\n",
       "      <th>Drug_Vec_91</th>\n",
       "      <th>Drug_Vec_92</th>\n",
       "      <th>Drug_Vec_93</th>\n",
       "      <th>Drug_Vec_94</th>\n",
       "      <th>Drug_Vec_95</th>\n",
       "      <th>Drug_Vec_96</th>\n",
       "      <th>Drug_Vec_97</th>\n",
       "      <th>Drug_Vec_98</th>\n",
       "      <th>Drug_Vec_99</th>\n",
       "      <th>Class</th>\n",
       "    </tr>\n",
       "  </thead>\n",
       "  <tbody>\n",
       "    <tr>\n",
       "      <th>0</th>\n",
       "      <td>0.001179</td>\n",
       "      <td>-0.000599</td>\n",
       "      <td>0.000487</td>\n",
       "      <td>-0.000306</td>\n",
       "      <td>0.000802</td>\n",
       "      <td>-0.000354</td>\n",
       "      <td>0.001005</td>\n",
       "      <td>-0.000329</td>\n",
       "      <td>-0.000619</td>\n",
       "      <td>-0.000425</td>\n",
       "      <td>...</td>\n",
       "      <td>-0.027773</td>\n",
       "      <td>-0.261224</td>\n",
       "      <td>-0.349108</td>\n",
       "      <td>0.229779</td>\n",
       "      <td>0.161475</td>\n",
       "      <td>0.124695</td>\n",
       "      <td>0.368989</td>\n",
       "      <td>-0.198983</td>\n",
       "      <td>-0.435481</td>\n",
       "      <td>1</td>\n",
       "    </tr>\n",
       "    <tr>\n",
       "      <th>1</th>\n",
       "      <td>-0.000027</td>\n",
       "      <td>-0.001464</td>\n",
       "      <td>-0.000131</td>\n",
       "      <td>0.000246</td>\n",
       "      <td>0.000441</td>\n",
       "      <td>-0.000762</td>\n",
       "      <td>0.000180</td>\n",
       "      <td>-0.000694</td>\n",
       "      <td>-0.000680</td>\n",
       "      <td>-0.000532</td>\n",
       "      <td>...</td>\n",
       "      <td>-0.009263</td>\n",
       "      <td>-0.166779</td>\n",
       "      <td>-0.276308</td>\n",
       "      <td>0.178456</td>\n",
       "      <td>0.128912</td>\n",
       "      <td>0.083457</td>\n",
       "      <td>0.357332</td>\n",
       "      <td>-0.184330</td>\n",
       "      <td>-0.500235</td>\n",
       "      <td>1</td>\n",
       "    </tr>\n",
       "    <tr>\n",
       "      <th>2</th>\n",
       "      <td>-0.000604</td>\n",
       "      <td>-0.001193</td>\n",
       "      <td>-0.000205</td>\n",
       "      <td>-0.000217</td>\n",
       "      <td>0.000200</td>\n",
       "      <td>-0.000553</td>\n",
       "      <td>0.000444</td>\n",
       "      <td>-0.001070</td>\n",
       "      <td>-0.001007</td>\n",
       "      <td>-0.000424</td>\n",
       "      <td>...</td>\n",
       "      <td>-0.009263</td>\n",
       "      <td>-0.166779</td>\n",
       "      <td>-0.276308</td>\n",
       "      <td>0.178456</td>\n",
       "      <td>0.128912</td>\n",
       "      <td>0.083457</td>\n",
       "      <td>0.357332</td>\n",
       "      <td>-0.184330</td>\n",
       "      <td>-0.500235</td>\n",
       "      <td>1</td>\n",
       "    </tr>\n",
       "    <tr>\n",
       "      <th>3</th>\n",
       "      <td>0.000288</td>\n",
       "      <td>0.000009</td>\n",
       "      <td>-0.000214</td>\n",
       "      <td>-0.000342</td>\n",
       "      <td>-0.000452</td>\n",
       "      <td>-0.000095</td>\n",
       "      <td>0.000965</td>\n",
       "      <td>-0.000946</td>\n",
       "      <td>-0.000221</td>\n",
       "      <td>-0.000475</td>\n",
       "      <td>...</td>\n",
       "      <td>-0.197189</td>\n",
       "      <td>-0.190077</td>\n",
       "      <td>-0.227381</td>\n",
       "      <td>0.206817</td>\n",
       "      <td>0.102296</td>\n",
       "      <td>0.015936</td>\n",
       "      <td>0.315439</td>\n",
       "      <td>-0.296255</td>\n",
       "      <td>-0.259058</td>\n",
       "      <td>1</td>\n",
       "    </tr>\n",
       "    <tr>\n",
       "      <th>4</th>\n",
       "      <td>-0.000474</td>\n",
       "      <td>-0.000635</td>\n",
       "      <td>0.000419</td>\n",
       "      <td>-0.000580</td>\n",
       "      <td>-0.000105</td>\n",
       "      <td>-0.000468</td>\n",
       "      <td>0.000574</td>\n",
       "      <td>-0.001202</td>\n",
       "      <td>0.000006</td>\n",
       "      <td>-0.000512</td>\n",
       "      <td>...</td>\n",
       "      <td>-0.197189</td>\n",
       "      <td>-0.190077</td>\n",
       "      <td>-0.227381</td>\n",
       "      <td>0.206817</td>\n",
       "      <td>0.102296</td>\n",
       "      <td>0.015936</td>\n",
       "      <td>0.315439</td>\n",
       "      <td>-0.296255</td>\n",
       "      <td>-0.259058</td>\n",
       "      <td>1</td>\n",
       "    </tr>\n",
       "  </tbody>\n",
       "</table>\n",
       "<p>5 rows × 131 columns</p>\n",
       "</div>"
      ],
      "text/plain": [
       "   Target_Vec_0  Target_Vec_1  Target_Vec_2  Target_Vec_3  Target_Vec_4  \\\n",
       "0      0.001179     -0.000599      0.000487     -0.000306      0.000802   \n",
       "1     -0.000027     -0.001464     -0.000131      0.000246      0.000441   \n",
       "2     -0.000604     -0.001193     -0.000205     -0.000217      0.000200   \n",
       "3      0.000288      0.000009     -0.000214     -0.000342     -0.000452   \n",
       "4     -0.000474     -0.000635      0.000419     -0.000580     -0.000105   \n",
       "\n",
       "   Target_Vec_5  Target_Vec_6  Target_Vec_7  Target_Vec_8  Target_Vec_9  ...  \\\n",
       "0     -0.000354      0.001005     -0.000329     -0.000619     -0.000425  ...   \n",
       "1     -0.000762      0.000180     -0.000694     -0.000680     -0.000532  ...   \n",
       "2     -0.000553      0.000444     -0.001070     -0.001007     -0.000424  ...   \n",
       "3     -0.000095      0.000965     -0.000946     -0.000221     -0.000475  ...   \n",
       "4     -0.000468      0.000574     -0.001202      0.000006     -0.000512  ...   \n",
       "\n",
       "   Drug_Vec_91  Drug_Vec_92  Drug_Vec_93  Drug_Vec_94  Drug_Vec_95  \\\n",
       "0    -0.027773    -0.261224    -0.349108     0.229779     0.161475   \n",
       "1    -0.009263    -0.166779    -0.276308     0.178456     0.128912   \n",
       "2    -0.009263    -0.166779    -0.276308     0.178456     0.128912   \n",
       "3    -0.197189    -0.190077    -0.227381     0.206817     0.102296   \n",
       "4    -0.197189    -0.190077    -0.227381     0.206817     0.102296   \n",
       "\n",
       "   Drug_Vec_96  Drug_Vec_97  Drug_Vec_98  Drug_Vec_99  Class  \n",
       "0     0.124695     0.368989    -0.198983    -0.435481      1  \n",
       "1     0.083457     0.357332    -0.184330    -0.500235      1  \n",
       "2     0.083457     0.357332    -0.184330    -0.500235      1  \n",
       "3     0.015936     0.315439    -0.296255    -0.259058      1  \n",
       "4     0.015936     0.315439    -0.296255    -0.259058      1  \n",
       "\n",
       "[5 rows x 131 columns]"
      ]
     },
     "execution_count": 2,
     "metadata": {},
     "output_type": "execute_result"
    }
   ],
   "source": [
    "df = pickle.load(open('dataset_vBalanced.pkl', 'rb'))\n",
    "df.head()"
   ]
  },
  {
   "cell_type": "code",
   "execution_count": 3,
   "metadata": {
    "ExecuteTime": {
     "end_time": "2019-11-10T17:58:55.550409Z",
     "start_time": "2019-11-10T17:58:55.520382Z"
    }
   },
   "outputs": [],
   "source": [
    "X = df.iloc[:,:-1].values\n",
    "Y = df.iloc[:,-1].values"
   ]
  },
  {
   "cell_type": "code",
   "execution_count": 4,
   "metadata": {
    "ExecuteTime": {
     "end_time": "2019-11-10T17:58:57.035817Z",
     "start_time": "2019-11-10T17:58:56.908402Z"
    }
   },
   "outputs": [],
   "source": [
    "train_x, test_x, train_y, test_y = train_test_split(X, Y, train_size=0.8)"
   ]
  },
  {
   "cell_type": "code",
   "execution_count": 5,
   "metadata": {
    "ExecuteTime": {
     "end_time": "2019-11-10T17:58:58.101622Z",
     "start_time": "2019-11-10T17:58:58.095792Z"
    }
   },
   "outputs": [],
   "source": [
    "def plotHeatmap(m, test_ip, test_y, keras=True):\n",
    "    y_pred = m.predict(test_ip)\n",
    "    if keras:\n",
    "        y_pred = [1 if y[0]>=0.5 else 0 for y in y_pred ]\n",
    "    arr = confusion_matrix(test_y, y_pred)\n",
    "    df_cm = pd.DataFrame(arr, index = ['False', 'True'],\n",
    "                      columns =  ['False', 'True'])\n",
    "    plt.figure(figsize = (10,10))\n",
    "    sns.heatmap(df_cm, annot=True, fmt='.1f')\n",
    "    plt.xlabel('Predicted Outcome')\n",
    "    plt.ylabel('True Outcome')\n",
    "    plt.title('F1 Score ' + str(f1_score(test_y, y_pred)))\n",
    "    plt.show()"
   ]
  },
  {
   "cell_type": "markdown",
   "metadata": {},
   "source": [
    "## Logistic"
   ]
  },
  {
   "cell_type": "code",
   "execution_count": 6,
   "metadata": {
    "ExecuteTime": {
     "end_time": "2019-11-10T17:59:02.828448Z",
     "start_time": "2019-11-10T17:58:59.998494Z"
    }
   },
   "outputs": [
    {
     "name": "stderr",
     "output_type": "stream",
     "text": [
      "/home/sarthak/anaconda3/lib/python3.7/site-packages/sklearn/linear_model/logistic.py:432: FutureWarning: Default solver will be changed to 'lbfgs' in 0.22. Specify a solver to silence this warning.\n",
      "  FutureWarning)\n"
     ]
    },
    {
     "name": "stdout",
     "output_type": "stream",
     "text": [
      "Score of Logistic : 0.5753594887271436\n"
     ]
    },
    {
     "data": {
      "image/png": "[encoded data removed]",
      "text/plain": [
       "<Figure size 720x720 with 2 Axes>"
      ]
     },
     "metadata": {
      "needs_background": "light"
     },
     "output_type": "display_data"
    }
   ],
   "source": [
    "lr = LogisticRegression()\n",
    "lr.fit(train_x, train_y)\n",
    "print('Score of Logistic :', lr.score(test_x, test_y))\n",
    "plotHeatmap(lr, test_x, test_y, keras=False)"
   ]
  },
  {
   "cell_type": "markdown",
   "metadata": {},
   "source": [
    "## Deep NN"
   ]
  },
  {
   "cell_type": "code",
   "execution_count": 8,
   "metadata": {
    "ExecuteTime": {
     "end_time": "2019-11-10T17:59:12.665815Z",
     "start_time": "2019-11-10T17:59:12.644968Z"
    }
   },
   "outputs": [],
   "source": [
    "ipDim = train_x.shape[1]\n",
    "model = Sequential()\n",
    "model.add(Dense(1000, activation='relu'))\n",
    "model.add(Dropout(0.5))\n",
    "# model.add(Dense(50, activation='relu'))\n",
    "# model.add(Dropout(0.5))\n",
    "model.add(Dense(550, activation='relu'))\n",
    "model.add(Dense(1, activation='sigmoid'))\n",
    "\n",
    "model.compile(optimizer='rmsprop',\n",
    "              loss='binary_crossentropy',\n",
    "              metrics=['accuracy'])\n",
    "\n",
    "# plot_model(model, to_file='Model-DN1.svg', show_layer_names=True, show_shapes=True)"
   ]
  },
  {
   "cell_type": "code",
   "execution_count": null,
   "metadata": {
    "ExecuteTime": {
     "start_time": "2019-11-10T17:59:20.203Z"
    },
    "scrolled": true
   },
   "outputs": [
    {
     "name": "stdout",
     "output_type": "stream",
     "text": [
      "WARNING:tensorflow:From /home/sarthak/anaconda3/lib/python3.7/site-packages/keras/backend/tensorflow_backend.py:517: The name tf.placeholder is deprecated. Please use tf.compat.v1.placeholder instead.\n",
      "\n",
      "WARNING:tensorflow:From /home/sarthak/anaconda3/lib/python3.7/site-packages/keras/backend/tensorflow_backend.py:4138: The name tf.random_uniform is deprecated. Please use tf.random.uniform instead.\n",
      "\n",
      "WARNING:tensorflow:From /home/sarthak/anaconda3/lib/python3.7/site-packages/keras/backend/tensorflow_backend.py:133: The name tf.placeholder_with_default is deprecated. Please use tf.compat.v1.placeholder_with_default instead.\n",
      "\n",
      "WARNING:tensorflow:From /home/sarthak/anaconda3/lib/python3.7/site-packages/keras/backend/tensorflow_backend.py:3445: calling dropout (from tensorflow.python.ops.nn_ops) with keep_prob is deprecated and will be removed in a future version.\n",
      "Instructions for updating:\n",
      "Please use `rate` instead of `keep_prob`. Rate should be set to `rate = 1 - keep_prob`.\n",
      "WARNING:tensorflow:From /home/sarthak/anaconda3/lib/python3.7/site-packages/keras/backend/tensorflow_backend.py:3376: The name tf.log is deprecated. Please use tf.math.log instead.\n",
      "\n",
      "WARNING:tensorflow:From /home/sarthak/anaconda3/lib/python3.7/site-packages/tensorflow/python/ops/nn_impl.py:180: add_dispatch_support.<locals>.wrapper (from tensorflow.python.ops.array_ops) is deprecated and will be removed in a future version.\n",
      "Instructions for updating:\n",
      "Use tf.where in 2.0, which has the same broadcast rule as np.where\n",
      "Epoch 1/300\n",
      "22529/22529 [==============================] - 5s 244us/step - loss: 0.6897 - acc: 0.5422\n",
      "Epoch 2/300\n",
      "22529/22529 [==============================] - 2s 110us/step - loss: 0.6757 - acc: 0.5674\n",
      "Epoch 3/300\n",
      "22529/22529 [==============================] - 2s 109us/step - loss: 0.6679 - acc: 0.5821\n",
      "Epoch 4/300\n",
      "22529/22529 [==============================] - 2s 110us/step - loss: 0.6623 - acc: 0.5943\n",
      "Epoch 5/300\n",
      "22529/22529 [==============================] - 2s 110us/step - loss: 0.6561 - acc: 0.6008\n",
      "Epoch 6/300\n",
      "22529/22529 [==============================] - 2s 109us/step - loss: 0.6520 - acc: 0.6063\n",
      "Epoch 7/300\n",
      "22529/22529 [==============================] - 2s 108us/step - loss: 0.6464 - acc: 0.6140\n",
      "Epoch 8/300\n",
      "22529/22529 [==============================] - 2s 108us/step - loss: 0.6436 - acc: 0.6150\n",
      "Epoch 9/300\n",
      "22529/22529 [==============================] - 2s 108us/step - loss: 0.6400 - acc: 0.6241\n",
      "Epoch 10/300\n",
      "22529/22529 [==============================] - 2s 106us/step - loss: 0.6353 - acc: 0.6263\n",
      "Epoch 11/300\n",
      "22529/22529 [==============================] - 2s 108us/step - loss: 0.6303 - acc: 0.6335\n",
      "Epoch 12/300\n",
      "22529/22529 [==============================] - 2s 110us/step - loss: 0.6257 - acc: 0.6374\n",
      "Epoch 13/300\n",
      "22529/22529 [==============================] - 2s 110us/step - loss: 0.6250 - acc: 0.6387\n",
      "Epoch 14/300\n",
      "22529/22529 [==============================] - 2s 108us/step - loss: 0.6219 - acc: 0.6405\n",
      "Epoch 15/300\n",
      "22529/22529 [==============================] - 2s 109us/step - loss: 0.6181 - acc: 0.6457\n",
      "Epoch 16/300\n",
      "22529/22529 [==============================] - 2s 110us/step - loss: 0.6132 - acc: 0.6501\n",
      "Epoch 17/300\n",
      "22529/22529 [==============================] - 3s 111us/step - loss: 0.6106 - acc: 0.6517\n",
      "Epoch 18/300\n",
      "22529/22529 [==============================] - 2s 111us/step - loss: 0.6090 - acc: 0.6534\n",
      "Epoch 19/300\n",
      "22529/22529 [==============================] - 2s 109us/step - loss: 0.6067 - acc: 0.6589\n",
      "Epoch 20/300\n",
      "22529/22529 [==============================] - 2s 109us/step - loss: 0.6038 - acc: 0.6601\n",
      "Epoch 21/300\n",
      "22529/22529 [==============================] - 2s 107us/step - loss: 0.6026 - acc: 0.6623\n",
      "Epoch 22/300\n",
      "22529/22529 [==============================] - 2s 108us/step - loss: 0.5979 - acc: 0.6672\n",
      "Epoch 23/300\n",
      "22529/22529 [==============================] - 2s 110us/step - loss: 0.5969 - acc: 0.6662\n",
      "Epoch 24/300\n",
      "22529/22529 [==============================] - 2s 109us/step - loss: 0.5938 - acc: 0.6697\n",
      "Epoch 25/300\n",
      "22529/22529 [==============================] - 2s 110us/step - loss: 0.5927 - acc: 0.6731\n",
      "Epoch 26/300\n",
      "22529/22529 [==============================] - 3s 111us/step - loss: 0.5906 - acc: 0.6728\n",
      "Epoch 27/300\n",
      "22529/22529 [==============================] - 3s 112us/step - loss: 0.5871 - acc: 0.6815\n",
      "Epoch 28/300\n",
      "22529/22529 [==============================] - 3s 111us/step - loss: 0.5885 - acc: 0.6793\n",
      "Epoch 29/300\n",
      "22529/22529 [==============================] - 2s 108us/step - loss: 0.5864 - acc: 0.6804\n",
      "Epoch 30/300\n",
      "22529/22529 [==============================] - 2s 106us/step - loss: 0.5821 - acc: 0.6817\n",
      "Epoch 31/300\n",
      "22529/22529 [==============================] - 3s 113us/step - loss: 0.5819 - acc: 0.6841\n",
      "Epoch 32/300\n",
      "22529/22529 [==============================] - 3s 119us/step - loss: 0.5810 - acc: 0.6845\n",
      "Epoch 33/300\n",
      "22529/22529 [==============================] - 3s 113us/step - loss: 0.5765 - acc: 0.6896\n",
      "Epoch 34/300\n",
      "22529/22529 [==============================] - 2s 107us/step - loss: 0.5767 - acc: 0.6870\n",
      "Epoch 35/300\n",
      "22529/22529 [==============================] - 2s 107us/step - loss: 0.5745 - acc: 0.6879\n",
      "Epoch 36/300\n",
      "22529/22529 [==============================] - 2s 108us/step - loss: 0.5751 - acc: 0.6912\n",
      "Epoch 37/300\n",
      "22529/22529 [==============================] - 2s 108us/step - loss: 0.5701 - acc: 0.6902\n",
      "Epoch 38/300\n",
      "22529/22529 [==============================] - 2s 105us/step - loss: 0.5717 - acc: 0.6921\n",
      "Epoch 39/300\n",
      "22529/22529 [==============================] - 2s 108us/step - loss: 0.5681 - acc: 0.6932\n",
      "Epoch 40/300\n",
      "22529/22529 [==============================] - 2s 109us/step - loss: 0.5691 - acc: 0.6967\n",
      "Epoch 41/300\n",
      "22529/22529 [==============================] - 2s 106us/step - loss: 0.5704 - acc: 0.6945\n",
      "Epoch 42/300\n",
      "22529/22529 [==============================] - 2s 108us/step - loss: 0.5653 - acc: 0.7006\n",
      "Epoch 43/300\n",
      "22529/22529 [==============================] - 2s 107us/step - loss: 0.5636 - acc: 0.6971\n",
      "Epoch 44/300\n",
      "22529/22529 [==============================] - 2s 107us/step - loss: 0.5627 - acc: 0.7029\n",
      "Epoch 45/300\n",
      "22529/22529 [==============================] - 2s 108us/step - loss: 0.5634 - acc: 0.7010\n",
      "Epoch 46/300\n",
      "22529/22529 [==============================] - 2s 107us/step - loss: 0.5626 - acc: 0.7027\n",
      "Epoch 47/300\n",
      "22529/22529 [==============================] - 2s 107us/step - loss: 0.5596 - acc: 0.7040\n",
      "Epoch 48/300\n",
      "22529/22529 [==============================] - 2s 106us/step - loss: 0.5602 - acc: 0.7066\n",
      "Epoch 49/300\n",
      "22529/22529 [==============================] - 2s 107us/step - loss: 0.5570 - acc: 0.7071\n",
      "Epoch 50/300\n",
      "22529/22529 [==============================] - 2s 105us/step - loss: 0.5586 - acc: 0.7038\n",
      "Epoch 51/300\n",
      "22529/22529 [==============================] - 2s 106us/step - loss: 0.5545 - acc: 0.7062\n",
      "Epoch 52/300\n",
      "22529/22529 [==============================] - 2s 108us/step - loss: 0.5572 - acc: 0.7038\n",
      "Epoch 53/300\n",
      "22529/22529 [==============================] - 2s 108us/step - loss: 0.5549 - acc: 0.7091\n",
      "Epoch 54/300\n",
      "22529/22529 [==============================] - 2s 110us/step - loss: 0.5519 - acc: 0.7107\n",
      "Epoch 55/300\n",
      "22529/22529 [==============================] - 2s 109us/step - loss: 0.5530 - acc: 0.7090\n",
      "Epoch 56/300\n",
      "22529/22529 [==============================] - 2s 108us/step - loss: 0.5501 - acc: 0.7145\n",
      "Epoch 57/300\n",
      "22529/22529 [==============================] - 2s 106us/step - loss: 0.5534 - acc: 0.7090\n",
      "Epoch 58/300\n",
      "22529/22529 [==============================] - 2s 107us/step - loss: 0.5506 - acc: 0.7140\n",
      "Epoch 59/300\n",
      "22529/22529 [==============================] - 2s 105us/step - loss: 0.5494 - acc: 0.7117\n",
      "Epoch 60/300\n",
      "22529/22529 [==============================] - 2s 106us/step - loss: 0.5482 - acc: 0.7114\n",
      "Epoch 61/300\n",
      "22529/22529 [==============================] - 2s 107us/step - loss: 0.5456 - acc: 0.7141\n",
      "Epoch 62/300\n",
      "22529/22529 [==============================] - 2s 106us/step - loss: 0.5449 - acc: 0.7197\n",
      "Epoch 63/300\n",
      "22529/22529 [==============================] - 2s 106us/step - loss: 0.5470 - acc: 0.7144\n",
      "Epoch 64/300\n",
      "22529/22529 [==============================] - 2s 107us/step - loss: 0.5444 - acc: 0.7131\n",
      "Epoch 65/300\n",
      "22529/22529 [==============================] - 2s 109us/step - loss: 0.5449 - acc: 0.7178\n",
      "Epoch 66/300\n"
     ]
    },
    {
     "name": "stdout",
     "output_type": "stream",
     "text": [
      "22529/22529 [==============================] - 2s 108us/step - loss: 0.5426 - acc: 0.7163\n",
      "Epoch 67/300\n",
      "22529/22529 [==============================] - 2s 108us/step - loss: 0.5432 - acc: 0.7201\n",
      "Epoch 68/300\n",
      "22529/22529 [==============================] - 2s 108us/step - loss: 0.5416 - acc: 0.7166\n",
      "Epoch 69/300\n",
      "22529/22529 [==============================] - 2s 107us/step - loss: 0.5426 - acc: 0.7179\n",
      "Epoch 70/300\n",
      "22529/22529 [==============================] - 2s 108us/step - loss: 0.5422 - acc: 0.7197\n",
      "Epoch 71/300\n",
      "22529/22529 [==============================] - 2s 108us/step - loss: 0.5431 - acc: 0.7225\n",
      "Epoch 72/300\n",
      "22529/22529 [==============================] - 2s 108us/step - loss: 0.5416 - acc: 0.7220\n",
      "Epoch 73/300\n",
      "22529/22529 [==============================] - 2s 107us/step - loss: 0.5406 - acc: 0.7238\n",
      "Epoch 74/300\n",
      "22529/22529 [==============================] - 2s 108us/step - loss: 0.5395 - acc: 0.7197\n",
      "Epoch 75/300\n",
      "22529/22529 [==============================] - 2s 109us/step - loss: 0.5375 - acc: 0.7214\n",
      "Epoch 76/300\n",
      "22529/22529 [==============================] - 2s 108us/step - loss: 0.5355 - acc: 0.7293\n",
      "Epoch 77/300\n",
      "22529/22529 [==============================] - 2s 108us/step - loss: 0.5375 - acc: 0.7232\n",
      "Epoch 78/300\n",
      "22529/22529 [==============================] - 2s 111us/step - loss: 0.5349 - acc: 0.7249\n",
      "Epoch 79/300\n",
      "22529/22529 [==============================] - 2s 109us/step - loss: 0.5332 - acc: 0.7265\n",
      "Epoch 80/300\n",
      "22529/22529 [==============================] - 2s 108us/step - loss: 0.5354 - acc: 0.7284\n",
      "Epoch 81/300\n",
      "22529/22529 [==============================] - 2s 109us/step - loss: 0.5338 - acc: 0.7289\n",
      "Epoch 82/300\n",
      "22529/22529 [==============================] - 2s 107us/step - loss: 0.5358 - acc: 0.7246\n",
      "Epoch 83/300\n",
      "22529/22529 [==============================] - 2s 109us/step - loss: 0.5330 - acc: 0.7266\n",
      "Epoch 84/300\n",
      "22529/22529 [==============================] - 2s 107us/step - loss: 0.5326 - acc: 0.7256\n",
      "Epoch 85/300\n",
      "22529/22529 [==============================] - 2s 107us/step - loss: 0.5319 - acc: 0.7257\n",
      "Epoch 86/300\n",
      "22529/22529 [==============================] - 2s 110us/step - loss: 0.5322 - acc: 0.7260\n",
      "Epoch 87/300\n",
      "22529/22529 [==============================] - 2s 109us/step - loss: 0.5305 - acc: 0.7262\n",
      "Epoch 88/300\n",
      "22529/22529 [==============================] - 2s 109us/step - loss: 0.5293 - acc: 0.7303\n",
      "Epoch 89/300\n",
      "22529/22529 [==============================] - 3s 111us/step - loss: 0.5299 - acc: 0.7275\n",
      "Epoch 90/300\n",
      "22529/22529 [==============================] - 2s 110us/step - loss: 0.5276 - acc: 0.7301\n",
      "Epoch 91/300\n",
      "22529/22529 [==============================] - 2s 110us/step - loss: 0.5299 - acc: 0.7321\n",
      "Epoch 92/300\n",
      "22529/22529 [==============================] - 2s 109us/step - loss: 0.5283 - acc: 0.7288\n",
      "Epoch 93/300\n",
      "22529/22529 [==============================] - 2s 108us/step - loss: 0.5249 - acc: 0.7315\n",
      "Epoch 94/300\n",
      "22529/22529 [==============================] - 2s 107us/step - loss: 0.5273 - acc: 0.7316\n",
      "Epoch 95/300\n",
      "22529/22529 [==============================] - 2s 108us/step - loss: 0.5256 - acc: 0.7330\n",
      "Epoch 96/300\n",
      "22529/22529 [==============================] - 2s 107us/step - loss: 0.5250 - acc: 0.7319\n",
      "Epoch 97/300\n",
      "22529/22529 [==============================] - 2s 108us/step - loss: 0.5254 - acc: 0.7334\n",
      "Epoch 98/300\n",
      "22529/22529 [==============================] - 2s 107us/step - loss: 0.5239 - acc: 0.7316\n",
      "Epoch 99/300\n",
      "22529/22529 [==============================] - 2s 109us/step - loss: 0.5240 - acc: 0.7346\n",
      "Epoch 100/300\n",
      "22529/22529 [==============================] - 2s 108us/step - loss: 0.5238 - acc: 0.7315\n",
      "Epoch 101/300\n",
      "22529/22529 [==============================] - 3s 111us/step - loss: 0.5234 - acc: 0.7359\n",
      "Epoch 102/300\n",
      "22529/22529 [==============================] - 2s 108us/step - loss: 0.5246 - acc: 0.7326\n",
      "Epoch 103/300\n",
      "22529/22529 [==============================] - 2s 109us/step - loss: 0.5243 - acc: 0.7345\n",
      "Epoch 104/300\n",
      "22529/22529 [==============================] - 2s 111us/step - loss: 0.5221 - acc: 0.7339\n",
      "Epoch 105/300\n",
      "22529/22529 [==============================] - 2s 108us/step - loss: 0.5214 - acc: 0.7367\n",
      "Epoch 106/300\n",
      "22529/22529 [==============================] - 2s 109us/step - loss: 0.5205 - acc: 0.7372\n",
      "Epoch 107/300\n",
      "22529/22529 [==============================] - 2s 108us/step - loss: 0.5207 - acc: 0.7372\n",
      "Epoch 108/300\n",
      "22529/22529 [==============================] - 2s 108us/step - loss: 0.5222 - acc: 0.7374\n",
      "Epoch 109/300\n",
      "22529/22529 [==============================] - 2s 108us/step - loss: 0.5213 - acc: 0.7385\n",
      "Epoch 110/300\n",
      "22529/22529 [==============================] - 2s 108us/step - loss: 0.5202 - acc: 0.7396\n",
      "Epoch 111/300\n",
      "22529/22529 [==============================] - 2s 109us/step - loss: 0.5186 - acc: 0.7399\n",
      "Epoch 112/300\n",
      "22529/22529 [==============================] - 2s 106us/step - loss: 0.5186 - acc: 0.7378\n",
      "Epoch 113/300\n",
      "22529/22529 [==============================] - 2s 107us/step - loss: 0.5157 - acc: 0.7382\n",
      "Epoch 114/300\n",
      "22529/22529 [==============================] - 2s 110us/step - loss: 0.5162 - acc: 0.7397\n",
      "Epoch 115/300\n",
      "22529/22529 [==============================] - 2s 109us/step - loss: 0.5185 - acc: 0.7386\n",
      "Epoch 116/300\n",
      "22529/22529 [==============================] - 2s 108us/step - loss: 0.5170 - acc: 0.7367\n",
      "Epoch 117/300\n",
      "22529/22529 [==============================] - 2s 107us/step - loss: 0.5185 - acc: 0.7390\n",
      "Epoch 118/300\n",
      "22529/22529 [==============================] - 2s 108us/step - loss: 0.5158 - acc: 0.7389\n",
      "Epoch 119/300\n",
      "22529/22529 [==============================] - 2s 107us/step - loss: 0.5167 - acc: 0.7380\n",
      "Epoch 120/300\n",
      "22529/22529 [==============================] - 2s 107us/step - loss: 0.5176 - acc: 0.7414\n",
      "Epoch 121/300\n",
      "22529/22529 [==============================] - 2s 108us/step - loss: 0.5174 - acc: 0.7426\n",
      "Epoch 122/300\n",
      "22529/22529 [==============================] - 2s 109us/step - loss: 0.5141 - acc: 0.7430\n",
      "Epoch 123/300\n",
      "22529/22529 [==============================] - 2s 110us/step - loss: 0.5111 - acc: 0.7428\n",
      "Epoch 124/300\n",
      "22529/22529 [==============================] - 3s 118us/step - loss: 0.5131 - acc: 0.7433\n",
      "Epoch 125/300\n",
      "22529/22529 [==============================] - 3s 119us/step - loss: 0.5127 - acc: 0.7433\n",
      "Epoch 126/300\n",
      "22529/22529 [==============================] - 3s 119us/step - loss: 0.5116 - acc: 0.7438\n",
      "Epoch 127/300\n",
      "22529/22529 [==============================] - 3s 118us/step - loss: 0.5118 - acc: 0.7465\n",
      "Epoch 128/300\n",
      "22529/22529 [==============================] - 2s 108us/step - loss: 0.5116 - acc: 0.7438\n",
      "Epoch 129/300\n",
      "22529/22529 [==============================] - 2s 107us/step - loss: 0.5136 - acc: 0.7430\n",
      "Epoch 130/300\n",
      "22529/22529 [==============================] - 2s 107us/step - loss: 0.5108 - acc: 0.7409\n",
      "Epoch 131/300\n",
      "22529/22529 [==============================] - 2s 109us/step - loss: 0.5116 - acc: 0.7460\n",
      "Epoch 132/300\n",
      "22529/22529 [==============================] - 2s 108us/step - loss: 0.5112 - acc: 0.7477\n",
      "Epoch 133/300\n",
      "22529/22529 [==============================] - 2s 107us/step - loss: 0.5120 - acc: 0.7438\n",
      "Epoch 134/300\n",
      "22529/22529 [==============================] - 2s 108us/step - loss: 0.5078 - acc: 0.7458\n",
      "Epoch 135/300\n",
      "22529/22529 [==============================] - 2s 108us/step - loss: 0.5069 - acc: 0.7467\n",
      "Epoch 136/300\n",
      "22529/22529 [==============================] - 2s 107us/step - loss: 0.5110 - acc: 0.7465\n",
      "Epoch 137/300\n",
      "22529/22529 [==============================] - 2s 105us/step - loss: 0.5079 - acc: 0.7479\n",
      "Epoch 138/300\n",
      "22529/22529 [==============================] - 2s 107us/step - loss: 0.5089 - acc: 0.7455\n",
      "Epoch 139/300\n",
      "22529/22529 [==============================] - 2s 109us/step - loss: 0.5107 - acc: 0.7445\n",
      "Epoch 140/300\n",
      "22529/22529 [==============================] - 2s 108us/step - loss: 0.5115 - acc: 0.7438\n",
      "Epoch 141/300\n",
      "22529/22529 [==============================] - 2s 108us/step - loss: 0.5058 - acc: 0.7457\n",
      "Epoch 142/300\n",
      "22529/22529 [==============================] - 2s 108us/step - loss: 0.5098 - acc: 0.7445\n",
      "Epoch 143/300\n",
      "22529/22529 [==============================] - 2s 107us/step - loss: 0.5065 - acc: 0.7483\n",
      "Epoch 144/300\n",
      "22529/22529 [==============================] - 2s 108us/step - loss: 0.5088 - acc: 0.7469\n",
      "Epoch 145/300\n"
     ]
    },
    {
     "name": "stdout",
     "output_type": "stream",
     "text": [
      "22529/22529 [==============================] - 2s 108us/step - loss: 0.5067 - acc: 0.7474\n",
      "Epoch 146/300\n",
      "22529/22529 [==============================] - 2s 106us/step - loss: 0.5062 - acc: 0.7479\n",
      "Epoch 147/300\n",
      "22529/22529 [==============================] - 2s 108us/step - loss: 0.5077 - acc: 0.7492\n",
      "Epoch 148/300\n",
      "22529/22529 [==============================] - 2s 108us/step - loss: 0.5032 - acc: 0.7485\n",
      "Epoch 149/300\n",
      "22529/22529 [==============================] - 2s 108us/step - loss: 0.5067 - acc: 0.7474\n",
      "Epoch 150/300\n",
      "22529/22529 [==============================] - 2s 108us/step - loss: 0.5034 - acc: 0.7510\n",
      "Epoch 151/300\n",
      "22529/22529 [==============================] - 2s 107us/step - loss: 0.5049 - acc: 0.7504\n",
      "Epoch 152/300\n",
      "22529/22529 [==============================] - 2s 107us/step - loss: 0.5044 - acc: 0.7492\n",
      "Epoch 153/300\n",
      "22529/22529 [==============================] - 2s 108us/step - loss: 0.5043 - acc: 0.7490\n",
      "Epoch 154/300\n",
      "22529/22529 [==============================] - 2s 107us/step - loss: 0.5050 - acc: 0.7494\n",
      "Epoch 155/300\n",
      "22529/22529 [==============================] - 2s 109us/step - loss: 0.5076 - acc: 0.7474\n",
      "Epoch 156/300\n",
      "22529/22529 [==============================] - 2s 109us/step - loss: 0.5041 - acc: 0.7489\n",
      "Epoch 157/300\n",
      "22529/22529 [==============================] - 3s 118us/step - loss: 0.5035 - acc: 0.7517\n",
      "Epoch 158/300\n",
      "22529/22529 [==============================] - 3s 120us/step - loss: 0.5016 - acc: 0.7520\n",
      "Epoch 159/300\n",
      "22529/22529 [==============================] - 2s 110us/step - loss: 0.5049 - acc: 0.7486\n",
      "Epoch 160/300\n",
      "22529/22529 [==============================] - 2s 107us/step - loss: 0.5048 - acc: 0.7482\n",
      "Epoch 161/300\n",
      "22529/22529 [==============================] - 2s 106us/step - loss: 0.5033 - acc: 0.7508\n",
      "Epoch 162/300\n",
      "22529/22529 [==============================] - 2s 105us/step - loss: 0.5013 - acc: 0.7508\n",
      "Epoch 163/300\n",
      "22529/22529 [==============================] - 2s 108us/step - loss: 0.5018 - acc: 0.7517\n",
      "Epoch 164/300\n",
      "22529/22529 [==============================] - 2s 109us/step - loss: 0.5011 - acc: 0.7509\n",
      "Epoch 165/300\n",
      "22529/22529 [==============================] - 2s 110us/step - loss: 0.5013 - acc: 0.7509\n",
      "Epoch 166/300\n",
      "22529/22529 [==============================] - 2s 107us/step - loss: 0.5010 - acc: 0.7584\n",
      "Epoch 167/300\n",
      "22529/22529 [==============================] - 2s 106us/step - loss: 0.4990 - acc: 0.7541\n",
      "Epoch 168/300\n",
      "22529/22529 [==============================] - 2s 107us/step - loss: 0.5005 - acc: 0.7513\n",
      "Epoch 169/300\n",
      "22529/22529 [==============================] - 2s 107us/step - loss: 0.4986 - acc: 0.7536\n",
      "Epoch 170/300\n",
      "22529/22529 [==============================] - 2s 109us/step - loss: 0.4989 - acc: 0.7537\n",
      "Epoch 171/300\n",
      "22529/22529 [==============================] - 2s 107us/step - loss: 0.4976 - acc: 0.7536\n",
      "Epoch 172/300\n",
      "22529/22529 [==============================] - 2s 109us/step - loss: 0.4984 - acc: 0.7522\n",
      "Epoch 173/300\n",
      "22529/22529 [==============================] - 2s 108us/step - loss: 0.5014 - acc: 0.7501\n",
      "Epoch 174/300\n",
      "22529/22529 [==============================] - 2s 108us/step - loss: 0.4999 - acc: 0.7525\n",
      "Epoch 175/300\n",
      "22529/22529 [==============================] - 2s 107us/step - loss: 0.4971 - acc: 0.7562\n",
      "Epoch 176/300\n",
      "22529/22529 [==============================] - 2s 108us/step - loss: 0.4980 - acc: 0.7530\n",
      "Epoch 177/300\n",
      "22529/22529 [==============================] - 2s 108us/step - loss: 0.4992 - acc: 0.7534\n",
      "Epoch 178/300\n",
      "22529/22529 [==============================] - 2s 108us/step - loss: 0.4970 - acc: 0.7558\n",
      "Epoch 179/300\n",
      "22529/22529 [==============================] - 2s 108us/step - loss: 0.4954 - acc: 0.7570\n",
      "Epoch 180/300\n",
      "22529/22529 [==============================] - 2s 108us/step - loss: 0.4939 - acc: 0.7597\n",
      "Epoch 181/300\n",
      "22529/22529 [==============================] - 2s 107us/step - loss: 0.4958 - acc: 0.7563\n",
      "Epoch 182/300\n",
      "22529/22529 [==============================] - 2s 107us/step - loss: 0.4956 - acc: 0.7589\n",
      "Epoch 183/300\n",
      "22529/22529 [==============================] - 2s 109us/step - loss: 0.4984 - acc: 0.7556\n",
      "Epoch 184/300\n",
      "22529/22529 [==============================] - 2s 107us/step - loss: 0.4931 - acc: 0.7572\n",
      "Epoch 185/300\n",
      "22529/22529 [==============================] - 2s 107us/step - loss: 0.4959 - acc: 0.7554\n",
      "Epoch 186/300\n",
      "22529/22529 [==============================] - 2s 107us/step - loss: 0.4960 - acc: 0.7550\n",
      "Epoch 187/300\n",
      "22529/22529 [==============================] - 2s 108us/step - loss: 0.4992 - acc: 0.7572\n",
      "Epoch 188/300\n",
      "22529/22529 [==============================] - 2s 110us/step - loss: 0.4951 - acc: 0.7549\n",
      "Epoch 189/300\n",
      "22529/22529 [==============================] - 2s 109us/step - loss: 0.4970 - acc: 0.7576\n",
      "Epoch 190/300\n",
      "22529/22529 [==============================] - 2s 108us/step - loss: 0.4967 - acc: 0.7548\n",
      "Epoch 191/300\n",
      "22529/22529 [==============================] - 2s 109us/step - loss: 0.4954 - acc: 0.7556\n",
      "Epoch 192/300\n",
      "22529/22529 [==============================] - 2s 108us/step - loss: 0.4942 - acc: 0.7539\n",
      "Epoch 193/300\n",
      "22529/22529 [==============================] - 2s 109us/step - loss: 0.4935 - acc: 0.7560\n",
      "Epoch 194/300\n",
      "22529/22529 [==============================] - 2s 109us/step - loss: 0.4926 - acc: 0.7536\n",
      "Epoch 195/300\n",
      "22529/22529 [==============================] - 2s 108us/step - loss: 0.4915 - acc: 0.7599\n",
      "Epoch 196/300\n",
      "22529/22529 [==============================] - 2s 108us/step - loss: 0.4945 - acc: 0.7547\n",
      "Epoch 197/300\n",
      "22529/22529 [==============================] - 2s 107us/step - loss: 0.4909 - acc: 0.7582\n",
      "Epoch 198/300\n",
      "22529/22529 [==============================] - 2s 110us/step - loss: 0.4909 - acc: 0.7591\n",
      "Epoch 199/300\n",
      "22529/22529 [==============================] - 2s 110us/step - loss: 0.4936 - acc: 0.7585\n",
      "Epoch 200/300\n",
      "22529/22529 [==============================] - 2s 109us/step - loss: 0.4916 - acc: 0.7586\n",
      "Epoch 201/300\n",
      "22529/22529 [==============================] - 2s 110us/step - loss: 0.4939 - acc: 0.7579\n",
      "Epoch 202/300\n",
      "22529/22529 [==============================] - 2s 110us/step - loss: 0.4919 - acc: 0.7580\n",
      "Epoch 203/300\n",
      "22529/22529 [==============================] - 2s 109us/step - loss: 0.4931 - acc: 0.7563\n",
      "Epoch 204/300\n",
      "22529/22529 [==============================] - 2s 109us/step - loss: 0.4923 - acc: 0.7587\n",
      "Epoch 205/300\n",
      "22529/22529 [==============================] - 2s 107us/step - loss: 0.4917 - acc: 0.7595\n",
      "Epoch 206/300\n",
      "22529/22529 [==============================] - 2s 109us/step - loss: 0.4905 - acc: 0.7593\n",
      "Epoch 207/300\n",
      "22529/22529 [==============================] - 2s 108us/step - loss: 0.4878 - acc: 0.7610\n",
      "Epoch 208/300\n",
      "22529/22529 [==============================] - 2s 107us/step - loss: 0.4915 - acc: 0.7598\n",
      "Epoch 209/300\n",
      "22529/22529 [==============================] - 2s 107us/step - loss: 0.4913 - acc: 0.7616\n",
      "Epoch 210/300\n",
      "22529/22529 [==============================] - 2s 107us/step - loss: 0.4895 - acc: 0.7590\n",
      "Epoch 211/300\n",
      "22529/22529 [==============================] - 2s 108us/step - loss: 0.4911 - acc: 0.7602\n",
      "Epoch 212/300\n",
      "22529/22529 [==============================] - 2s 108us/step - loss: 0.4911 - acc: 0.7590\n",
      "Epoch 213/300\n",
      "22529/22529 [==============================] - 2s 108us/step - loss: 0.4911 - acc: 0.7577\n",
      "Epoch 214/300\n",
      "22529/22529 [==============================] - 2s 108us/step - loss: 0.4914 - acc: 0.7591\n",
      "Epoch 215/300\n",
      "22529/22529 [==============================] - 2s 108us/step - loss: 0.4896 - acc: 0.7623\n",
      "Epoch 216/300\n",
      "22529/22529 [==============================] - 2s 106us/step - loss: 0.4886 - acc: 0.7593\n",
      "Epoch 217/300\n",
      "22529/22529 [==============================] - 2s 107us/step - loss: 0.4896 - acc: 0.7609\n",
      "Epoch 218/300\n",
      "22529/22529 [==============================] - 2s 106us/step - loss: 0.4864 - acc: 0.7615\n",
      "Epoch 219/300\n",
      "22529/22529 [==============================] - 2s 107us/step - loss: 0.4879 - acc: 0.7612\n",
      "Epoch 220/300\n",
      "22529/22529 [==============================] - 2s 108us/step - loss: 0.4898 - acc: 0.7604\n",
      "Epoch 221/300\n",
      "22529/22529 [==============================] - 2s 106us/step - loss: 0.4887 - acc: 0.7603\n",
      "Epoch 222/300\n",
      "22529/22529 [==============================] - 2s 107us/step - loss: 0.4874 - acc: 0.7608\n",
      "Epoch 223/300\n"
     ]
    },
    {
     "name": "stdout",
     "output_type": "stream",
     "text": [
      "22529/22529 [==============================] - 2s 109us/step - loss: 0.4885 - acc: 0.7631\n",
      "Epoch 224/300\n",
      "22529/22529 [==============================] - 2s 109us/step - loss: 0.4875 - acc: 0.7593\n",
      "Epoch 225/300\n",
      "22529/22529 [==============================] - 2s 108us/step - loss: 0.4870 - acc: 0.7655\n",
      "Epoch 226/300\n",
      "22529/22529 [==============================] - 2s 109us/step - loss: 0.4871 - acc: 0.7655\n",
      "Epoch 227/300\n",
      "22529/22529 [==============================] - 2s 110us/step - loss: 0.4887 - acc: 0.7622\n",
      "Epoch 228/300\n",
      "22529/22529 [==============================] - 2s 110us/step - loss: 0.4866 - acc: 0.7613\n",
      "Epoch 229/300\n",
      "22529/22529 [==============================] - 2s 109us/step - loss: 0.4872 - acc: 0.7635\n",
      "Epoch 230/300\n",
      "22529/22529 [==============================] - 2s 111us/step - loss: 0.4882 - acc: 0.7635\n",
      "Epoch 231/300\n",
      "22529/22529 [==============================] - 2s 107us/step - loss: 0.4853 - acc: 0.7625\n",
      "Epoch 232/300\n",
      "22529/22529 [==============================] - 2s 109us/step - loss: 0.4866 - acc: 0.7639\n",
      "Epoch 233/300\n",
      "22529/22529 [==============================] - 2s 108us/step - loss: 0.4851 - acc: 0.7633\n",
      "Epoch 234/300\n",
      "22529/22529 [==============================] - 2s 111us/step - loss: 0.4828 - acc: 0.7639\n",
      "Epoch 235/300\n",
      "22529/22529 [==============================] - 2s 110us/step - loss: 0.4838 - acc: 0.7641\n",
      "Epoch 236/300\n",
      "22529/22529 [==============================] - 2s 110us/step - loss: 0.4857 - acc: 0.7658\n",
      "Epoch 237/300\n",
      "22529/22529 [==============================] - 2s 109us/step - loss: 0.4860 - acc: 0.7643\n",
      "Epoch 238/300\n",
      "22529/22529 [==============================] - 2s 110us/step - loss: 0.4838 - acc: 0.7646\n",
      "Epoch 239/300\n",
      "22529/22529 [==============================] - 2s 108us/step - loss: 0.4831 - acc: 0.7663\n",
      "Epoch 240/300\n",
      "22529/22529 [==============================] - 2s 110us/step - loss: 0.4832 - acc: 0.7672\n",
      "Epoch 241/300\n",
      "22529/22529 [==============================] - 2s 109us/step - loss: 0.4853 - acc: 0.7637\n",
      "Epoch 242/300\n",
      "22529/22529 [==============================] - 2s 110us/step - loss: 0.4819 - acc: 0.7649\n",
      "Epoch 243/300\n",
      "22529/22529 [==============================] - 2s 107us/step - loss: 0.4828 - acc: 0.7660\n",
      "Epoch 244/300\n",
      "22529/22529 [==============================] - 2s 108us/step - loss: 0.4826 - acc: 0.7651\n",
      "Epoch 245/300\n",
      "22529/22529 [==============================] - 2s 110us/step - loss: 0.4853 - acc: 0.7632\n",
      "Epoch 246/300\n",
      "22529/22529 [==============================] - 2s 106us/step - loss: 0.4851 - acc: 0.7641\n",
      "Epoch 247/300\n",
      "22529/22529 [==============================] - 2s 109us/step - loss: 0.4828 - acc: 0.7665\n",
      "Epoch 248/300\n",
      "22529/22529 [==============================] - 3s 111us/step - loss: 0.4823 - acc: 0.7639\n",
      "Epoch 249/300\n",
      "22529/22529 [==============================] - 3s 112us/step - loss: 0.4814 - acc: 0.7667\n",
      "Epoch 250/300\n",
      "22529/22529 [==============================] - 3s 111us/step - loss: 0.4825 - acc: 0.7628\n",
      "Epoch 251/300\n",
      "22529/22529 [==============================] - 3s 122us/step - loss: 0.4822 - acc: 0.7655\n",
      "Epoch 252/300\n",
      "22529/22529 [==============================] - 3s 123us/step - loss: 0.4830 - acc: 0.7633\n",
      "Epoch 253/300\n",
      "22529/22529 [==============================] - 3s 123us/step - loss: 0.4802 - acc: 0.7662\n",
      "Epoch 254/300\n",
      "22529/22529 [==============================] - 3s 121us/step - loss: 0.4833 - acc: 0.7630\n",
      "Epoch 255/300\n",
      "22529/22529 [==============================] - 2s 106us/step - loss: 0.4812 - acc: 0.7686\n",
      "Epoch 256/300\n",
      "22529/22529 [==============================] - 2s 106us/step - loss: 0.4823 - acc: 0.7673\n",
      "Epoch 257/300\n",
      "22529/22529 [==============================] - 2s 107us/step - loss: 0.4805 - acc: 0.7707\n",
      "Epoch 258/300\n",
      "22529/22529 [==============================] - 2s 108us/step - loss: 0.4815 - acc: 0.7662\n",
      "Epoch 259/300\n",
      "22529/22529 [==============================] - 2s 110us/step - loss: 0.4804 - acc: 0.7716\n",
      "Epoch 260/300\n",
      "22529/22529 [==============================] - 2s 109us/step - loss: 0.4813 - acc: 0.7685\n",
      "Epoch 261/300\n",
      "22529/22529 [==============================] - 2s 110us/step - loss: 0.4827 - acc: 0.7713\n",
      "Epoch 262/300\n",
      "22529/22529 [==============================] - 2s 110us/step - loss: 0.4800 - acc: 0.7673\n",
      "Epoch 263/300\n",
      "22529/22529 [==============================] - 2s 109us/step - loss: 0.4809 - acc: 0.7639\n",
      "Epoch 264/300\n",
      "22529/22529 [==============================] - 2s 109us/step - loss: 0.4775 - acc: 0.7693\n",
      "Epoch 265/300\n",
      "22529/22529 [==============================] - 2s 107us/step - loss: 0.4803 - acc: 0.7679\n",
      "Epoch 266/300\n",
      "22529/22529 [==============================] - 2s 109us/step - loss: 0.4769 - acc: 0.7714\n",
      "Epoch 267/300\n",
      "22529/22529 [==============================] - 2s 108us/step - loss: 0.4782 - acc: 0.7687\n",
      "Epoch 268/300\n",
      "22529/22529 [==============================] - 2s 107us/step - loss: 0.4815 - acc: 0.7673\n",
      "Epoch 269/300\n",
      "22529/22529 [==============================] - 2s 108us/step - loss: 0.4771 - acc: 0.7704\n",
      "Epoch 270/300\n",
      "22529/22529 [==============================] - 2s 106us/step - loss: 0.4764 - acc: 0.7719\n",
      "Epoch 271/300\n",
      "22529/22529 [==============================] - 2s 107us/step - loss: 0.4775 - acc: 0.7695\n",
      "Epoch 272/300\n",
      "22529/22529 [==============================] - 2s 108us/step - loss: 0.4796 - acc: 0.7707\n",
      "Epoch 273/300\n",
      "22529/22529 [==============================] - 2s 110us/step - loss: 0.4774 - acc: 0.7717\n",
      "Epoch 274/300\n",
      "22529/22529 [==============================] - 2s 107us/step - loss: 0.4766 - acc: 0.7687\n",
      "Epoch 275/300\n",
      "22529/22529 [==============================] - 2s 108us/step - loss: 0.4775 - acc: 0.7711\n",
      "Epoch 276/300\n",
      "22529/22529 [==============================] - 2s 107us/step - loss: 0.4775 - acc: 0.7703\n",
      "Epoch 277/300\n",
      "22529/22529 [==============================] - 2s 107us/step - loss: 0.4769 - acc: 0.7700\n",
      "Epoch 278/300\n",
      "22529/22529 [==============================] - 2s 107us/step - loss: 0.4768 - acc: 0.7723\n",
      "Epoch 279/300\n",
      "22529/22529 [==============================] - 2s 108us/step - loss: 0.4761 - acc: 0.7693\n",
      "Epoch 280/300\n",
      "22529/22529 [==============================] - 2s 107us/step - loss: 0.4776 - acc: 0.7668\n",
      "Epoch 281/300\n",
      "22529/22529 [==============================] - 2s 108us/step - loss: 0.4765 - acc: 0.7682\n",
      "Epoch 282/300\n",
      "22529/22529 [==============================] - 3s 119us/step - loss: 0.4780 - acc: 0.7685\n",
      "Epoch 283/300\n",
      "22529/22529 [==============================] - 3s 122us/step - loss: 0.4771 - acc: 0.7695\n",
      "Epoch 284/300\n",
      "22529/22529 [==============================] - 3s 112us/step - loss: 0.4762 - acc: 0.7683\n",
      "Epoch 285/300\n",
      "22529/22529 [==============================] - 2s 110us/step - loss: 0.4794 - acc: 0.7692\n",
      "Epoch 286/300\n",
      "22529/22529 [==============================] - 2s 111us/step - loss: 0.4781 - acc: 0.7730\n",
      "Epoch 287/300\n",
      "22529/22529 [==============================] - 3s 111us/step - loss: 0.4724 - acc: 0.7724\n",
      "Epoch 288/300\n",
      "22529/22529 [==============================] - 2s 110us/step - loss: 0.4765 - acc: 0.7705\n",
      "Epoch 289/300\n",
      "22529/22529 [==============================] - 2s 109us/step - loss: 0.4766 - acc: 0.7683\n",
      "Epoch 290/300\n",
      "22529/22529 [==============================] - 2s 108us/step - loss: 0.4767 - acc: 0.7684\n",
      "Epoch 291/300\n",
      "22529/22529 [==============================] - 3s 112us/step - loss: 0.4771 - acc: 0.7716\n",
      "Epoch 292/300\n",
      "22529/22529 [==============================] - 2s 107us/step - loss: 0.4733 - acc: 0.7731\n",
      "Epoch 293/300\n",
      "22529/22529 [==============================] - 2s 107us/step - loss: 0.4734 - acc: 0.7737\n",
      "Epoch 294/300\n",
      "22529/22529 [==============================] - 2s 109us/step - loss: 0.4766 - acc: 0.7700\n",
      "Epoch 295/300\n",
      "22529/22529 [==============================] - 2s 107us/step - loss: 0.4757 - acc: 0.7725\n",
      "Epoch 296/300\n",
      "22529/22529 [==============================] - 2s 107us/step - loss: 0.4740 - acc: 0.7740\n",
      "Epoch 297/300\n",
      "22529/22529 [==============================] - 2s 108us/step - loss: 0.4724 - acc: 0.7719\n",
      "Epoch 298/300\n",
      "22529/22529 [==============================] - 2s 107us/step - loss: 0.4776 - acc: 0.7684\n",
      "Epoch 299/300\n",
      "22529/22529 [==============================] - 2s 108us/step - loss: 0.4740 - acc: 0.7707\n",
      "Epoch 300/300\n",
      " 6272/22529 [=======>......................] - ETA: 1s - loss: 0.4671 - acc: 0.7805"
     ]
    }
   ],
   "source": [
    "model.fit(train_x, train_y, epochs=300, batch_size=128)"
   ]
  },
  {
   "cell_type": "code",
   "execution_count": 29,
   "metadata": {
    "ExecuteTime": {
     "end_time": "2019-10-22T20:04:54.417735Z",
     "start_time": "2019-10-22T20:04:53.779450Z"
    }
   },
   "outputs": [
    {
     "data": {
      "image/png": "[encoded data removed]",
      "text/plain": [
       "<Figure size 720x720 with 2 Axes>"
      ]
     },
     "metadata": {
      "needs_background": "light"
     },
     "output_type": "display_data"
    }
   ],
   "source": [
    "plotHeatmap(model, test_x, test_y)"
   ]
  },
  {
   "cell_type": "markdown",
   "metadata": {},
   "source": [
    "## Deep Conv NN"
   ]
  },
  {
   "cell_type": "code",
   "execution_count": 12,
   "metadata": {
    "ExecuteTime": {
     "end_time": "2019-10-21T22:41:49.688902Z",
     "start_time": "2019-10-21T22:41:49.627869Z"
    }
   },
   "outputs": [],
   "source": [
    "ndata, nfeature = X.shape\n",
    "X_Conv = X.reshape(ndata, nfeature, 1)\n",
    "input_shape = (nfeature, 1)\n",
    "ctrain_x, ctest_x, ctrain_y, ctest_y = train_test_split(X_Conv, Y, train_size=0.8)"
   ]
  },
  {
   "cell_type": "code",
   "execution_count": 13,
   "metadata": {
    "ExecuteTime": {
     "end_time": "2019-10-21T22:41:52.667680Z",
     "start_time": "2019-10-21T22:41:52.504175Z"
    }
   },
   "outputs": [],
   "source": [
    "model = Sequential()\n",
    "\n",
    "model.add(Conv1D(filters=30, kernel_size=2, input_shape=input_shape,kernel_initializer= 'uniform')) \n",
    "model.add(LeakyReLU(alpha=0.3))\n",
    "model.add(Conv1D(filters=10, kernel_size=2, kernel_initializer= 'uniform')) \n",
    "model.add(LeakyReLU(alpha=0.3))\n",
    "\n",
    "model.add(Flatten())\n",
    "model.add(Dense(100))\n",
    "model.add(LeakyReLU(alpha=0.3))\n",
    "model.add(Dropout(0.5))\n",
    "model.add(Dense(50))\n",
    "model.add(LeakyReLU(alpha=0.3))\n",
    "model.add(Dropout(0.5))\n",
    "model.add(Dense(25))\n",
    "model.add(LeakyReLU(alpha=0.3))\n",
    "model.add(Dense(1, activation='sigmoid'))\n",
    "\n",
    "model.compile(optimizer='rmsprop',\n",
    "              loss='binary_crossentropy',\n",
    "              metrics=['accuracy'])\n"
   ]
  },
  {
   "cell_type": "code",
   "execution_count": 14,
   "metadata": {
    "ExecuteTime": {
     "end_time": "2019-10-21T22:41:53.612422Z",
     "start_time": "2019-10-21T22:41:53.554698Z"
    }
   },
   "outputs": [],
   "source": [
    "plot_model(model, to_file='Model-CNN1.svg', show_layer_names=True, show_shapes=True)"
   ]
  },
  {
   "cell_type": "code",
   "execution_count": 15,
   "metadata": {
    "ExecuteTime": {
     "end_time": "2019-10-21T22:42:49.588585Z",
     "start_time": "2019-10-21T22:41:55.353660Z"
    }
   },
   "outputs": [
    {
     "name": "stdout",
     "output_type": "stream",
     "text": [
      "Epoch 1/4\n",
      "22529/22529 [==============================] - 10s 440us/step - loss: 0.6937 - acc: 0.4996\n",
      "Epoch 2/4\n",
      "22529/22529 [==============================] - 8s 374us/step - loss: 0.6940 - acc: 0.4981\n",
      "Epoch 3/4\n",
      "22529/22529 [==============================] - 19s 841us/step - loss: 0.6940 - acc: 0.4996\n",
      "Epoch 4/4\n",
      "22529/22529 [==============================] - 16s 728us/step - loss: 0.6938 - acc: 0.4984\n"
     ]
    },
    {
     "data": {
      "text/plain": [
       "<keras.callbacks.History at 0x7f46644dca90>"
      ]
     },
     "execution_count": 15,
     "metadata": {},
     "output_type": "execute_result"
    }
   ],
   "source": [
    "model.fit(ctrain_x, train_y, epochs=4, batch_size=32)"
   ]
  },
  {
   "cell_type": "code",
   "execution_count": 16,
   "metadata": {
    "ExecuteTime": {
     "end_time": "2019-10-21T22:42:53.762210Z",
     "start_time": "2019-10-21T22:42:52.592173Z"
    }
   },
   "outputs": [
    {
     "data": {
      "image/png": "[encoded data removed]",
      "text/plain": [
       "<Figure size 720x720 with 2 Axes>"
      ]
     },
     "metadata": {
      "needs_background": "light"
     },
     "output_type": "display_data"
    }
   ],
   "source": [
    "plotHeatmap(model, ctest_x, test_y)"
   ]
  },
  {
   "cell_type": "markdown",
   "metadata": {},
   "source": [
    "## Deep Conv NN with seperate conv for target and drug"
   ]
  },
  {
   "cell_type": "code",
   "execution_count": 17,
   "metadata": {
    "ExecuteTime": {
     "end_time": "2019-10-21T22:42:57.310059Z",
     "start_time": "2019-10-21T22:42:57.217249Z"
    }
   },
   "outputs": [],
   "source": [
    "target = df.iloc[:, :30].values\n",
    "drug = df.iloc[:, 30:-1].values\n",
    "t_data, t_feature = target.shape\n",
    "d_data, d_feature = drug.shape\n",
    "t_input_shape = (t_feature, 1)\n",
    "d_input_shape = (d_feature, 1)\n",
    "train_idx, test_idx, dt_train_y, dt_test_y = train_test_split(np.arange(0, X.shape[0]), Y, train_size=0.8)\n",
    "train_target = target[train_idx]\n",
    "test_target = target[test_idx]\n",
    "train_drug = drug[train_idx]\n",
    "test_drug = drug[test_idx]"
   ]
  },
  {
   "cell_type": "code",
   "execution_count": 18,
   "metadata": {
    "ExecuteTime": {
     "end_time": "2019-10-21T22:42:57.869546Z",
     "start_time": "2019-10-21T22:42:57.863147Z"
    }
   },
   "outputs": [],
   "source": [
    "train_size = train_target.shape[0]\n",
    "test_size = test_target.shape[0]\n",
    "\n",
    "train_target = train_target.reshape(train_size, t_feature, 1)\n",
    "test_target = test_target.reshape(test_size, t_feature, 1)\n",
    "train_drug = train_drug.reshape(train_size, d_feature, 1)\n",
    "test_drug = test_drug.reshape(test_size, d_feature, 1)"
   ]
  },
  {
   "cell_type": "code",
   "execution_count": 19,
   "metadata": {
    "ExecuteTime": {
     "end_time": "2019-10-21T22:43:03.461736Z",
     "start_time": "2019-10-21T22:43:03.241434Z"
    }
   },
   "outputs": [],
   "source": [
    "model1 = Sequential(layers=[\n",
    "    # input layers and convolutional layers\n",
    "    Conv1D(filters=30, kernel_size=2, input_shape=t_input_shape,kernel_initializer= 'uniform', activation= 'relu'),\n",
    "    Conv1D(filters=10, kernel_size=2, kernel_initializer= 'uniform', activation= 'relu'),\n",
    "    Dropout(.5),\n",
    "    Flatten()\n",
    "])\n",
    "\n",
    "model2 = Sequential(layers=[\n",
    "    # input layers and convolutional layers\n",
    "    Conv1D(filters=15, kernel_size=2, input_shape=d_input_shape,kernel_initializer= 'uniform', activation= 'relu'),\n",
    "    Conv1D(filters=10, kernel_size=2, kernel_initializer= 'uniform', activation= 'relu'),\n",
    "    Dropout(.5),\n",
    "    Flatten()\n",
    "\n",
    "])\n",
    "\n",
    "mergedOut = Concatenate()([model1.output,model2.output])\n",
    "# mergedOut = Flatten()(mergedOut)    \n",
    "mergedOut = Dense(256, activation='relu')(mergedOut)\n",
    "mergedOut = Dropout(.5)(mergedOut)\n",
    "mergedOut = Dense(128, activation='relu')(mergedOut)\n",
    "mergedOut = Dropout(.35)(mergedOut)\n",
    "\n",
    "# output layer\n",
    "mergedOut = Dense(1, activation='sigmoid')(mergedOut)\n",
    "newModel = Model([model1.input,model2.input], mergedOut)\n",
    "\n",
    "newModel.compile(optimizer='rmsprop',\n",
    "              loss='binary_crossentropy',\n",
    "              metrics=['accuracy'])"
   ]
  },
  {
   "cell_type": "code",
   "execution_count": 20,
   "metadata": {
    "ExecuteTime": {
     "end_time": "2019-10-21T22:43:07.126516Z",
     "start_time": "2019-10-21T22:43:07.063518Z"
    }
   },
   "outputs": [],
   "source": [
    "plot_model(newModel, to_file='Model-CNN2.svg', show_layer_names=True, show_shapes=True)"
   ]
  },
  {
   "cell_type": "code",
   "execution_count": 21,
   "metadata": {
    "ExecuteTime": {
     "end_time": "2019-10-21T22:50:12.773146Z",
     "start_time": "2019-10-21T22:43:10.966376Z"
    }
   },
   "outputs": [
    {
     "name": "stdout",
     "output_type": "stream",
     "text": [
      "Epoch 1/15\n",
      "22529/22529 [==============================] - 28s 1ms/step - loss: 0.6932 - acc: 0.5057\n",
      "Epoch 2/15\n",
      "22529/22529 [==============================] - 26s 1ms/step - loss: 0.6917 - acc: 0.5246\n",
      "Epoch 3/15\n",
      "22529/22529 [==============================] - 26s 1ms/step - loss: 0.6897 - acc: 0.5344\n",
      "Epoch 4/15\n",
      "22529/22529 [==============================] - 26s 1ms/step - loss: 0.6887 - acc: 0.5437\n",
      "Epoch 5/15\n",
      "22529/22529 [==============================] - 26s 1ms/step - loss: 0.6890 - acc: 0.5345\n",
      "Epoch 6/15\n",
      "22529/22529 [==============================] - 28s 1ms/step - loss: 0.6880 - acc: 0.5424\n",
      "Epoch 7/15\n",
      "22529/22529 [==============================] - 26s 1ms/step - loss: 0.6868 - acc: 0.5441\n",
      "Epoch 8/15\n",
      "22529/22529 [==============================] - 27s 1ms/step - loss: 0.6872 - acc: 0.5442\n",
      "Epoch 9/15\n",
      "22529/22529 [==============================] - 27s 1ms/step - loss: 0.6848 - acc: 0.5507\n",
      "Epoch 10/15\n",
      "22529/22529 [==============================] - 28s 1ms/step - loss: 0.6850 - acc: 0.5488\n",
      "Epoch 11/15\n",
      "22529/22529 [==============================] - 28s 1ms/step - loss: 0.6851 - acc: 0.5542\n",
      "Epoch 12/15\n",
      "22529/22529 [==============================] - 27s 1ms/step - loss: 0.6847 - acc: 0.5528\n",
      "Epoch 13/15\n",
      "22529/22529 [==============================] - 29s 1ms/step - loss: 0.6849 - acc: 0.5547\n",
      "Epoch 14/15\n",
      "22529/22529 [==============================] - 27s 1ms/step - loss: 0.6842 - acc: 0.5544\n",
      "Epoch 15/15\n",
      "22529/22529 [==============================] - 44s 2ms/step - loss: 0.6839 - acc: 0.5598\n"
     ]
    },
    {
     "data": {
      "text/plain": [
       "<keras.callbacks.History at 0x7f4644e1e1d0>"
      ]
     },
     "execution_count": 21,
     "metadata": {},
     "output_type": "execute_result"
    }
   ],
   "source": [
    "newModel.fit([train_target, train_drug], dt_train_y,epochs=15, batch_size=32)   "
   ]
  },
  {
   "cell_type": "code",
   "execution_count": 22,
   "metadata": {
    "ExecuteTime": {
     "end_time": "2019-10-21T22:50:18.204253Z",
     "start_time": "2019-10-21T22:50:16.532964Z"
    }
   },
   "outputs": [
    {
     "data": {
      "image/png": "[encoded data removed]",
      "text/plain": [
       "<Figure size 720x720 with 2 Axes>"
      ]
     },
     "metadata": {
      "needs_background": "light"
     },
     "output_type": "display_data"
    }
   ],
   "source": [
    "plotHeatmap(newModel, [test_target, test_drug], test_y)"
   ]
  },
  {
   "cell_type": "code",
   "execution_count": null,
   "metadata": {},
   "outputs": [],
   "source": []
  }
 ],
 "metadata": {
  "kernelspec": {
   "display_name": "Python 3",
   "language": "python",
   "name": "python3"
  },
  "language_info": {
   "codemirror_mode": {
    "name": "ipython",
    "version": 3
   },
   "file_extension": ".py",
   "mimetype": "text/x-python",
   "name": "python",
   "nbconvert_exporter": "python",
   "pygments_lexer": "ipython3",
   "version": "3.7.3"
  }
 },
 "nbformat": 4,
 "nbformat_minor": 2
}
