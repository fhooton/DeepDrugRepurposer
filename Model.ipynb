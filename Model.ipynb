{
 "cells": [
  {
   "cell_type": "code",
   "execution_count": 1,
   "metadata": {
    "ExecuteTime": {
     "end_time": "2019-10-22T19:01:08.918979Z",
     "start_time": "2019-10-22T19:00:52.678928Z"
    }
   },
   "outputs": [
    {
     "name": "stderr",
     "output_type": "stream",
     "text": [
      "Using TensorFlow backend.\n"
     ]
    }
   ],
   "source": [
    "import pickle\n",
    "\n",
    "import pandas as pd\n",
    "import numpy as np\n",
    "import seaborn as sns\n",
    "import matplotlib.pyplot as plt\n",
    "\n",
    "\n",
    "from sklearn.model_selection import train_test_split\n",
    "from sklearn.linear_model import LogisticRegression\n",
    "from sklearn.metrics import confusion_matrix, f1_score\n",
    "from keras.models import Sequential, Model\n",
    "from keras.layers import Dense, Activation, Dropout, Conv1D, Flatten, MaxPooling1D, AveragePooling1D, Concatenate, LeakyReLU\n",
    "from keras.utils.vis_utils import plot_model"
   ]
  },
  {
   "cell_type": "code",
   "execution_count": 2,
   "metadata": {
    "ExecuteTime": {
     "end_time": "2019-10-22T19:01:12.709918Z",
     "start_time": "2019-10-22T19:01:12.075278Z"
    }
   },
   "outputs": [
    {
     "data": {
      "text/html": [
       "<div>\n",
       "<style scoped>\n",
       "    .dataframe tbody tr th:only-of-type {\n",
       "        vertical-align: middle;\n",
       "    }\n",
       "\n",
       "    .dataframe tbody tr th {\n",
       "        vertical-align: top;\n",
       "    }\n",
       "\n",
       "    .dataframe thead th {\n",
       "        text-align: right;\n",
       "    }\n",
       "</style>\n",
       "<table border=\"1\" class=\"dataframe\">\n",
       "  <thead>\n",
       "    <tr style=\"text-align: right;\">\n",
       "      <th></th>\n",
       "      <th>Target_Vec_0</th>\n",
       "      <th>Target_Vec_1</th>\n",
       "      <th>Target_Vec_2</th>\n",
       "      <th>Target_Vec_3</th>\n",
       "      <th>Target_Vec_4</th>\n",
       "      <th>Target_Vec_5</th>\n",
       "      <th>Target_Vec_6</th>\n",
       "      <th>Target_Vec_7</th>\n",
       "      <th>Target_Vec_8</th>\n",
       "      <th>Target_Vec_9</th>\n",
       "      <th>...</th>\n",
       "      <th>Drug_Vec_91</th>\n",
       "      <th>Drug_Vec_92</th>\n",
       "      <th>Drug_Vec_93</th>\n",
       "      <th>Drug_Vec_94</th>\n",
       "      <th>Drug_Vec_95</th>\n",
       "      <th>Drug_Vec_96</th>\n",
       "      <th>Drug_Vec_97</th>\n",
       "      <th>Drug_Vec_98</th>\n",
       "      <th>Drug_Vec_99</th>\n",
       "      <th>Class</th>\n",
       "    </tr>\n",
       "  </thead>\n",
       "  <tbody>\n",
       "    <tr>\n",
       "      <th>0</th>\n",
       "      <td>0.001179</td>\n",
       "      <td>-0.000599</td>\n",
       "      <td>0.000487</td>\n",
       "      <td>-0.000306</td>\n",
       "      <td>0.000802</td>\n",
       "      <td>-0.000354</td>\n",
       "      <td>0.001005</td>\n",
       "      <td>-0.000329</td>\n",
       "      <td>-0.000619</td>\n",
       "      <td>-0.000425</td>\n",
       "      <td>...</td>\n",
       "      <td>-0.027773</td>\n",
       "      <td>-0.261224</td>\n",
       "      <td>-0.349108</td>\n",
       "      <td>0.229779</td>\n",
       "      <td>0.161475</td>\n",
       "      <td>0.124695</td>\n",
       "      <td>0.368989</td>\n",
       "      <td>-0.198983</td>\n",
       "      <td>-0.435481</td>\n",
       "      <td>1</td>\n",
       "    </tr>\n",
       "    <tr>\n",
       "      <th>1</th>\n",
       "      <td>-0.000027</td>\n",
       "      <td>-0.001464</td>\n",
       "      <td>-0.000131</td>\n",
       "      <td>0.000246</td>\n",
       "      <td>0.000441</td>\n",
       "      <td>-0.000762</td>\n",
       "      <td>0.000180</td>\n",
       "      <td>-0.000694</td>\n",
       "      <td>-0.000680</td>\n",
       "      <td>-0.000532</td>\n",
       "      <td>...</td>\n",
       "      <td>-0.009263</td>\n",
       "      <td>-0.166779</td>\n",
       "      <td>-0.276308</td>\n",
       "      <td>0.178456</td>\n",
       "      <td>0.128912</td>\n",
       "      <td>0.083457</td>\n",
       "      <td>0.357332</td>\n",
       "      <td>-0.184330</td>\n",
       "      <td>-0.500235</td>\n",
       "      <td>1</td>\n",
       "    </tr>\n",
       "    <tr>\n",
       "      <th>2</th>\n",
       "      <td>-0.000604</td>\n",
       "      <td>-0.001193</td>\n",
       "      <td>-0.000205</td>\n",
       "      <td>-0.000217</td>\n",
       "      <td>0.000200</td>\n",
       "      <td>-0.000553</td>\n",
       "      <td>0.000444</td>\n",
       "      <td>-0.001070</td>\n",
       "      <td>-0.001007</td>\n",
       "      <td>-0.000424</td>\n",
       "      <td>...</td>\n",
       "      <td>-0.009263</td>\n",
       "      <td>-0.166779</td>\n",
       "      <td>-0.276308</td>\n",
       "      <td>0.178456</td>\n",
       "      <td>0.128912</td>\n",
       "      <td>0.083457</td>\n",
       "      <td>0.357332</td>\n",
       "      <td>-0.184330</td>\n",
       "      <td>-0.500235</td>\n",
       "      <td>1</td>\n",
       "    </tr>\n",
       "    <tr>\n",
       "      <th>3</th>\n",
       "      <td>0.000288</td>\n",
       "      <td>0.000009</td>\n",
       "      <td>-0.000214</td>\n",
       "      <td>-0.000342</td>\n",
       "      <td>-0.000452</td>\n",
       "      <td>-0.000095</td>\n",
       "      <td>0.000965</td>\n",
       "      <td>-0.000946</td>\n",
       "      <td>-0.000221</td>\n",
       "      <td>-0.000475</td>\n",
       "      <td>...</td>\n",
       "      <td>-0.197189</td>\n",
       "      <td>-0.190077</td>\n",
       "      <td>-0.227381</td>\n",
       "      <td>0.206817</td>\n",
       "      <td>0.102296</td>\n",
       "      <td>0.015936</td>\n",
       "      <td>0.315439</td>\n",
       "      <td>-0.296255</td>\n",
       "      <td>-0.259058</td>\n",
       "      <td>1</td>\n",
       "    </tr>\n",
       "    <tr>\n",
       "      <th>4</th>\n",
       "      <td>-0.000474</td>\n",
       "      <td>-0.000635</td>\n",
       "      <td>0.000419</td>\n",
       "      <td>-0.000580</td>\n",
       "      <td>-0.000105</td>\n",
       "      <td>-0.000468</td>\n",
       "      <td>0.000574</td>\n",
       "      <td>-0.001202</td>\n",
       "      <td>0.000006</td>\n",
       "      <td>-0.000512</td>\n",
       "      <td>...</td>\n",
       "      <td>-0.197189</td>\n",
       "      <td>-0.190077</td>\n",
       "      <td>-0.227381</td>\n",
       "      <td>0.206817</td>\n",
       "      <td>0.102296</td>\n",
       "      <td>0.015936</td>\n",
       "      <td>0.315439</td>\n",
       "      <td>-0.296255</td>\n",
       "      <td>-0.259058</td>\n",
       "      <td>1</td>\n",
       "    </tr>\n",
       "  </tbody>\n",
       "</table>\n",
       "<p>5 rows × 131 columns</p>\n",
       "</div>"
      ],
      "text/plain": [
       "   Target_Vec_0  Target_Vec_1  Target_Vec_2  Target_Vec_3  Target_Vec_4  \\\n",
       "0      0.001179     -0.000599      0.000487     -0.000306      0.000802   \n",
       "1     -0.000027     -0.001464     -0.000131      0.000246      0.000441   \n",
       "2     -0.000604     -0.001193     -0.000205     -0.000217      0.000200   \n",
       "3      0.000288      0.000009     -0.000214     -0.000342     -0.000452   \n",
       "4     -0.000474     -0.000635      0.000419     -0.000580     -0.000105   \n",
       "\n",
       "   Target_Vec_5  Target_Vec_6  Target_Vec_7  Target_Vec_8  Target_Vec_9  ...  \\\n",
       "0     -0.000354      0.001005     -0.000329     -0.000619     -0.000425  ...   \n",
       "1     -0.000762      0.000180     -0.000694     -0.000680     -0.000532  ...   \n",
       "2     -0.000553      0.000444     -0.001070     -0.001007     -0.000424  ...   \n",
       "3     -0.000095      0.000965     -0.000946     -0.000221     -0.000475  ...   \n",
       "4     -0.000468      0.000574     -0.001202      0.000006     -0.000512  ...   \n",
       "\n",
       "   Drug_Vec_91  Drug_Vec_92  Drug_Vec_93  Drug_Vec_94  Drug_Vec_95  \\\n",
       "0    -0.027773    -0.261224    -0.349108     0.229779     0.161475   \n",
       "1    -0.009263    -0.166779    -0.276308     0.178456     0.128912   \n",
       "2    -0.009263    -0.166779    -0.276308     0.178456     0.128912   \n",
       "3    -0.197189    -0.190077    -0.227381     0.206817     0.102296   \n",
       "4    -0.197189    -0.190077    -0.227381     0.206817     0.102296   \n",
       "\n",
       "   Drug_Vec_96  Drug_Vec_97  Drug_Vec_98  Drug_Vec_99  Class  \n",
       "0     0.124695     0.368989    -0.198983    -0.435481      1  \n",
       "1     0.083457     0.357332    -0.184330    -0.500235      1  \n",
       "2     0.083457     0.357332    -0.184330    -0.500235      1  \n",
       "3     0.015936     0.315439    -0.296255    -0.259058      1  \n",
       "4     0.015936     0.315439    -0.296255    -0.259058      1  \n",
       "\n",
       "[5 rows x 131 columns]"
      ]
     },
     "execution_count": 2,
     "metadata": {},
     "output_type": "execute_result"
    }
   ],
   "source": [
    "df = pickle.load(open('dataset_vBalanced.pkl', 'rb'))\n",
    "df.head()"
   ]
  },
  {
   "cell_type": "code",
   "execution_count": 3,
   "metadata": {
    "ExecuteTime": {
     "end_time": "2019-10-22T19:01:19.675561Z",
     "start_time": "2019-10-22T19:01:19.652880Z"
    }
   },
   "outputs": [],
   "source": [
    "X = df.iloc[:,:-1].values\n",
    "Y = df.iloc[:,-1].values"
   ]
  },
  {
   "cell_type": "code",
   "execution_count": 4,
   "metadata": {
    "ExecuteTime": {
     "end_time": "2019-10-22T19:01:21.058976Z",
     "start_time": "2019-10-22T19:01:20.978068Z"
    }
   },
   "outputs": [],
   "source": [
    "train_x, test_x, train_y, test_y = train_test_split(X, Y, train_size=0.8)"
   ]
  },
  {
   "cell_type": "code",
   "execution_count": 7,
   "metadata": {
    "ExecuteTime": {
     "end_time": "2019-10-22T19:06:31.699118Z",
     "start_time": "2019-10-22T19:06:31.693466Z"
    }
   },
   "outputs": [],
   "source": [
    "def plotHeatmap(m, test_ip, test_y, keras=True):\n",
    "    y_pred = m.predict(test_ip)\n",
    "    if keras:\n",
    "        y_pred = [1 if y[0]>=0.5 else 0 for y in y_pred ]\n",
    "    arr = confusion_matrix(test_y, y_pred)\n",
    "    df_cm = pd.DataFrame(arr, index = ['False', 'True'],\n",
    "                      columns =  ['False', 'True'])\n",
    "    plt.figure(figsize = (10,10))\n",
    "    sns.heatmap(df_cm, annot=True, fmt='.1f')\n",
    "    plt.xlabel('Predicted Outcome')\n",
    "    plt.ylabel('True Outcome')\n",
    "    plt.title('F1 Score ' + str(f1_score(test_y, y_pred)))\n",
    "    plt.show()"
   ]
  },
  {
   "cell_type": "markdown",
   "metadata": {},
   "source": [
    "## Logistic"
   ]
  },
  {
   "cell_type": "code",
   "execution_count": 8,
   "metadata": {
    "ExecuteTime": {
     "end_time": "2019-10-22T19:06:35.921329Z",
     "start_time": "2019-10-22T19:06:33.074879Z"
    }
   },
   "outputs": [
    {
     "name": "stderr",
     "output_type": "stream",
     "text": [
      "/home/sarthak/anaconda3/lib/python3.7/site-packages/sklearn/linear_model/logistic.py:432: FutureWarning: Default solver will be changed to 'lbfgs' in 0.22. Specify a solver to silence this warning.\n",
      "  FutureWarning)\n"
     ]
    },
    {
     "name": "stdout",
     "output_type": "stream",
     "text": [
      "Score of Logistic : 0.5828155512160483\n"
     ]
    },
    {
     "data": {
      "image/png": "[encoded data removed]",
      "text/plain": [
       "<Figure size 720x720 with 2 Axes>"
      ]
     },
     "metadata": {
      "needs_background": "light"
     },
     "output_type": "display_data"
    }
   ],
   "source": [
    "lr = LogisticRegression()\n",
    "lr.fit(train_x, train_y)\n",
    "print('Score of Logistic :', lr.score(test_x, test_y))\n",
    "plotHeatmap(lr, test_x, test_y, keras=False)"
   ]
  },
  {
   "cell_type": "markdown",
   "metadata": {},
   "source": [
    "## Deep NN"
   ]
  },
  {
   "cell_type": "code",
   "execution_count": 27,
   "metadata": {
    "ExecuteTime": {
     "end_time": "2019-10-22T19:50:59.723208Z",
     "start_time": "2019-10-22T19:50:59.705424Z"
    }
   },
   "outputs": [],
   "source": [
    "ipDim = train_x.shape[1]\n",
    "model = Sequential()\n",
    "model.add(Dense(1000, activation='relu'))\n",
    "model.add(Dropout(0.5))\n",
    "# model.add(Dense(50, activation='relu'))\n",
    "# model.add(Dropout(0.5))\n",
    "model.add(Dense(550, activation='relu'))\n",
    "model.add(Dense(1, activation='sigmoid'))\n",
    "\n",
    "model.compile(optimizer='rmsprop',\n",
    "              loss='binary_crossentropy',\n",
    "              metrics=['accuracy'])\n",
    "\n",
    "# plot_model(model, to_file='Model-DN1.svg', show_layer_names=True, show_shapes=True)"
   ]
  },
  {
   "cell_type": "code",
   "execution_count": 28,
   "metadata": {
    "ExecuteTime": {
     "end_time": "2019-10-22T20:00:59.739238Z",
     "start_time": "2019-10-22T19:51:00.270306Z"
    },
    "scrolled": true
   },
   "outputs": [
    {
     "name": "stdout",
     "output_type": "stream",
     "text": [
      "Epoch 1/300\n",
      "22529/22529 [==============================] - 3s 138us/step - loss: 0.6895 - acc: 0.5400\n",
      "Epoch 2/300\n",
      "22529/22529 [==============================] - 2s 97us/step - loss: 0.6778 - acc: 0.5680\n",
      "Epoch 3/300\n",
      "22529/22529 [==============================] - 2s 95us/step - loss: 0.6694 - acc: 0.5823\n",
      "Epoch 4/300\n",
      "22529/22529 [==============================] - 2s 91us/step - loss: 0.6633 - acc: 0.5894\n",
      "Epoch 5/300\n",
      "22529/22529 [==============================] - 2s 89us/step - loss: 0.6603 - acc: 0.5966\n",
      "Epoch 6/300\n",
      "22529/22529 [==============================] - 2s 94us/step - loss: 0.6553 - acc: 0.6027\n",
      "Epoch 7/300\n",
      "22529/22529 [==============================] - 2s 96us/step - loss: 0.6499 - acc: 0.6109\n",
      "Epoch 8/300\n",
      "22529/22529 [==============================] - 2s 96us/step - loss: 0.6449 - acc: 0.6133\n",
      "Epoch 9/300\n",
      "22529/22529 [==============================] - 2s 90us/step - loss: 0.6403 - acc: 0.6195\n",
      "Epoch 10/300\n",
      "22529/22529 [==============================] - 2s 87us/step - loss: 0.6380 - acc: 0.6250\n",
      "Epoch 11/300\n",
      "22529/22529 [==============================] - 2s 92us/step - loss: 0.6314 - acc: 0.6325\n",
      "Epoch 12/300\n",
      "22529/22529 [==============================] - 2s 90us/step - loss: 0.6321 - acc: 0.6337\n",
      "Epoch 13/300\n",
      "22529/22529 [==============================] - 2s 90us/step - loss: 0.6269 - acc: 0.6349\n",
      "Epoch 14/300\n",
      "22529/22529 [==============================] - 2s 87us/step - loss: 0.6228 - acc: 0.6448\n",
      "Epoch 15/300\n",
      "22529/22529 [==============================] - 2s 94us/step - loss: 0.6193 - acc: 0.6437\n",
      "Epoch 16/300\n",
      "22529/22529 [==============================] - 2s 88us/step - loss: 0.6161 - acc: 0.6500\n",
      "Epoch 17/300\n",
      "22529/22529 [==============================] - 2s 86us/step - loss: 0.6138 - acc: 0.6485\n",
      "Epoch 18/300\n",
      "22529/22529 [==============================] - 2s 87us/step - loss: 0.6111 - acc: 0.6529\n",
      "Epoch 19/300\n",
      "22529/22529 [==============================] - 2s 89us/step - loss: 0.6073 - acc: 0.6576\n",
      "Epoch 20/300\n",
      "22529/22529 [==============================] - 2s 86us/step - loss: 0.6036 - acc: 0.6614\n",
      "Epoch 21/300\n",
      "22529/22529 [==============================] - 2s 86us/step - loss: 0.6054 - acc: 0.6599\n",
      "Epoch 22/300\n",
      "22529/22529 [==============================] - 2s 90us/step - loss: 0.5993 - acc: 0.6674\n",
      "Epoch 23/300\n",
      "22529/22529 [==============================] - 2s 92us/step - loss: 0.5964 - acc: 0.6710\n",
      "Epoch 24/300\n",
      "22529/22529 [==============================] - 2s 88us/step - loss: 0.5962 - acc: 0.6696\n",
      "Epoch 25/300\n",
      "22529/22529 [==============================] - 2s 86us/step - loss: 0.5930 - acc: 0.6741\n",
      "Epoch 26/300\n",
      "22529/22529 [==============================] - 2s 85us/step - loss: 0.5920 - acc: 0.6754\n",
      "Epoch 27/300\n",
      "22529/22529 [==============================] - 2s 89us/step - loss: 0.5904 - acc: 0.6771\n",
      "Epoch 28/300\n",
      "22529/22529 [==============================] - 2s 85us/step - loss: 0.5880 - acc: 0.6801\n",
      "Epoch 29/300\n",
      "22529/22529 [==============================] - 2s 86us/step - loss: 0.5874 - acc: 0.6798\n",
      "Epoch 30/300\n",
      "22529/22529 [==============================] - 2s 85us/step - loss: 0.5844 - acc: 0.6796\n",
      "Epoch 31/300\n",
      "22529/22529 [==============================] - 2s 88us/step - loss: 0.5824 - acc: 0.6822\n",
      "Epoch 32/300\n",
      "22529/22529 [==============================] - 2s 86us/step - loss: 0.5827 - acc: 0.6841\n",
      "Epoch 33/300\n",
      "22529/22529 [==============================] - 2s 88us/step - loss: 0.5795 - acc: 0.6837\n",
      "Epoch 34/300\n",
      "22529/22529 [==============================] - 2s 86us/step - loss: 0.5789 - acc: 0.6877\n",
      "Epoch 35/300\n",
      "22529/22529 [==============================] - 2s 90us/step - loss: 0.5763 - acc: 0.6867\n",
      "Epoch 36/300\n",
      "22529/22529 [==============================] - 2s 89us/step - loss: 0.5763 - acc: 0.6889\n",
      "Epoch 37/300\n",
      "22529/22529 [==============================] - 2s 88us/step - loss: 0.5717 - acc: 0.6888\n",
      "Epoch 38/300\n",
      "22529/22529 [==============================] - 2s 90us/step - loss: 0.5728 - acc: 0.6932\n",
      "Epoch 39/300\n",
      "22529/22529 [==============================] - 2s 89us/step - loss: 0.5740 - acc: 0.6942\n",
      "Epoch 40/300\n",
      "22529/22529 [==============================] - 2s 88us/step - loss: 0.5736 - acc: 0.6944\n",
      "Epoch 41/300\n",
      "22529/22529 [==============================] - 2s 87us/step - loss: 0.5682 - acc: 0.6932\n",
      "Epoch 42/300\n",
      "22529/22529 [==============================] - 2s 88us/step - loss: 0.5677 - acc: 0.6974\n",
      "Epoch 43/300\n",
      "22529/22529 [==============================] - 2s 88us/step - loss: 0.5659 - acc: 0.6997\n",
      "Epoch 44/300\n",
      "22529/22529 [==============================] - 2s 92us/step - loss: 0.5689 - acc: 0.6999\n",
      "Epoch 45/300\n",
      "22529/22529 [==============================] - 2s 85us/step - loss: 0.5648 - acc: 0.6979\n",
      "Epoch 46/300\n",
      "22529/22529 [==============================] - 2s 86us/step - loss: 0.5631 - acc: 0.7005\n",
      "Epoch 47/300\n",
      "22529/22529 [==============================] - 2s 90us/step - loss: 0.5635 - acc: 0.7034\n",
      "Epoch 48/300\n",
      "22529/22529 [==============================] - 2s 98us/step - loss: 0.5623 - acc: 0.7015\n",
      "Epoch 49/300\n",
      "22529/22529 [==============================] - 2s 92us/step - loss: 0.5587 - acc: 0.7033\n",
      "Epoch 50/300\n",
      "22529/22529 [==============================] - 2s 91us/step - loss: 0.5602 - acc: 0.7070\n",
      "Epoch 51/300\n",
      "22529/22529 [==============================] - 2s 87us/step - loss: 0.5576 - acc: 0.7058\n",
      "Epoch 52/300\n",
      "22529/22529 [==============================] - 2s 85us/step - loss: 0.5548 - acc: 0.7066\n",
      "Epoch 53/300\n",
      "22529/22529 [==============================] - 2s 85us/step - loss: 0.5562 - acc: 0.7120\n",
      "Epoch 54/300\n",
      "22529/22529 [==============================] - 2s 85us/step - loss: 0.5588 - acc: 0.7048\n",
      "Epoch 55/300\n",
      "22529/22529 [==============================] - 2s 88us/step - loss: 0.5522 - acc: 0.7131\n",
      "Epoch 56/300\n",
      "22529/22529 [==============================] - 2s 88us/step - loss: 0.5544 - acc: 0.7088\n",
      "Epoch 57/300\n",
      "22529/22529 [==============================] - 2s 85us/step - loss: 0.5525 - acc: 0.7116\n",
      "Epoch 58/300\n",
      "22529/22529 [==============================] - 2s 85us/step - loss: 0.5522 - acc: 0.7150\n",
      "Epoch 59/300\n",
      "22529/22529 [==============================] - 2s 85us/step - loss: 0.5512 - acc: 0.7146\n",
      "Epoch 60/300\n",
      "22529/22529 [==============================] - 2s 88us/step - loss: 0.5516 - acc: 0.7156\n",
      "Epoch 61/300\n",
      "22529/22529 [==============================] - 2s 85us/step - loss: 0.5488 - acc: 0.7136\n",
      "Epoch 62/300\n",
      "22529/22529 [==============================] - 2s 84us/step - loss: 0.5502 - acc: 0.7141\n",
      "Epoch 63/300\n",
      "22529/22529 [==============================] - 2s 88us/step - loss: 0.5479 - acc: 0.7161\n",
      "Epoch 64/300\n",
      "22529/22529 [==============================] - 2s 92us/step - loss: 0.5463 - acc: 0.7181\n",
      "Epoch 65/300\n",
      "22529/22529 [==============================] - 2s 100us/step - loss: 0.5461 - acc: 0.7195\n",
      "Epoch 66/300\n",
      "22529/22529 [==============================] - 2s 97us/step - loss: 0.5454 - acc: 0.7160\n",
      "Epoch 67/300\n",
      "22529/22529 [==============================] - 2s 101us/step - loss: 0.5450 - acc: 0.7194\n",
      "Epoch 68/300\n",
      "22529/22529 [==============================] - 2s 97us/step - loss: 0.5460 - acc: 0.7196\n",
      "Epoch 69/300\n",
      "22529/22529 [==============================] - 2s 92us/step - loss: 0.5423 - acc: 0.7202\n",
      "Epoch 70/300\n",
      "22529/22529 [==============================] - 2s 87us/step - loss: 0.5402 - acc: 0.7202\n",
      "Epoch 71/300\n",
      "22529/22529 [==============================] - 2s 94us/step - loss: 0.5459 - acc: 0.7209\n",
      "Epoch 72/300\n",
      "22529/22529 [==============================] - 2s 87us/step - loss: 0.5405 - acc: 0.7231\n",
      "Epoch 73/300\n",
      "22529/22529 [==============================] - 2s 87us/step - loss: 0.5420 - acc: 0.7235\n",
      "Epoch 74/300\n",
      "22529/22529 [==============================] - 2s 87us/step - loss: 0.5391 - acc: 0.7186\n",
      "Epoch 75/300\n",
      "22529/22529 [==============================] - 2s 91us/step - loss: 0.5381 - acc: 0.7255\n",
      "Epoch 76/300\n",
      "22529/22529 [==============================] - 2s 87us/step - loss: 0.5394 - acc: 0.7229\n",
      "Epoch 77/300\n",
      "22529/22529 [==============================] - 2s 89us/step - loss: 0.5389 - acc: 0.7245\n",
      "Epoch 78/300\n",
      "22529/22529 [==============================] - 2s 90us/step - loss: 0.5372 - acc: 0.7253\n",
      "Epoch 79/300\n",
      "22529/22529 [==============================] - 2s 90us/step - loss: 0.5377 - acc: 0.7247\n",
      "Epoch 80/300\n",
      "22529/22529 [==============================] - 2s 89us/step - loss: 0.5334 - acc: 0.7283\n",
      "Epoch 81/300\n"
     ]
    },
    {
     "name": "stdout",
     "output_type": "stream",
     "text": [
      "22529/22529 [==============================] - 2s 88us/step - loss: 0.5352 - acc: 0.7269\n",
      "Epoch 82/300\n",
      "22529/22529 [==============================] - 2s 88us/step - loss: 0.5349 - acc: 0.7232\n",
      "Epoch 83/300\n",
      "22529/22529 [==============================] - 2s 91us/step - loss: 0.5354 - acc: 0.7293\n",
      "Epoch 84/300\n",
      "22529/22529 [==============================] - 2s 88us/step - loss: 0.5331 - acc: 0.7286\n",
      "Epoch 85/300\n",
      "22529/22529 [==============================] - 2s 93us/step - loss: 0.5342 - acc: 0.7300\n",
      "Epoch 86/300\n",
      "22529/22529 [==============================] - 2s 97us/step - loss: 0.5358 - acc: 0.7280\n",
      "Epoch 87/300\n",
      "22529/22529 [==============================] - 2s 98us/step - loss: 0.5313 - acc: 0.7316\n",
      "Epoch 88/300\n",
      "22529/22529 [==============================] - 2s 89us/step - loss: 0.5315 - acc: 0.7312\n",
      "Epoch 89/300\n",
      "22529/22529 [==============================] - 2s 91us/step - loss: 0.5313 - acc: 0.7278\n",
      "Epoch 90/300\n",
      "22529/22529 [==============================] - 2s 89us/step - loss: 0.5348 - acc: 0.7298\n",
      "Epoch 91/300\n",
      "22529/22529 [==============================] - 2s 92us/step - loss: 0.5328 - acc: 0.7315\n",
      "Epoch 92/300\n",
      "22529/22529 [==============================] - 2s 85us/step - loss: 0.5287 - acc: 0.7338\n",
      "Epoch 93/300\n",
      "22529/22529 [==============================] - 2s 86us/step - loss: 0.5289 - acc: 0.7301\n",
      "Epoch 94/300\n",
      "22529/22529 [==============================] - 2s 85us/step - loss: 0.5288 - acc: 0.7339\n",
      "Epoch 95/300\n",
      "22529/22529 [==============================] - 2s 89us/step - loss: 0.5274 - acc: 0.7336\n",
      "Epoch 96/300\n",
      "22529/22529 [==============================] - 2s 86us/step - loss: 0.5287 - acc: 0.7299\n",
      "Epoch 97/300\n",
      "22529/22529 [==============================] - 2s 85us/step - loss: 0.5279 - acc: 0.7346\n",
      "Epoch 98/300\n",
      "22529/22529 [==============================] - 2s 85us/step - loss: 0.5268 - acc: 0.7345\n",
      "Epoch 99/300\n",
      "22529/22529 [==============================] - 2s 89us/step - loss: 0.5281 - acc: 0.7331\n",
      "Epoch 100/300\n",
      "22529/22529 [==============================] - 2s 88us/step - loss: 0.5225 - acc: 0.7382\n",
      "Epoch 101/300\n",
      "22529/22529 [==============================] - 2s 88us/step - loss: 0.5295 - acc: 0.7307\n",
      "Epoch 102/300\n",
      "22529/22529 [==============================] - 2s 87us/step - loss: 0.5222 - acc: 0.7394\n",
      "Epoch 103/300\n",
      "22529/22529 [==============================] - 2s 91us/step - loss: 0.5264 - acc: 0.7375\n",
      "Epoch 104/300\n",
      "22529/22529 [==============================] - 2s 88us/step - loss: 0.5238 - acc: 0.7365\n",
      "Epoch 105/300\n",
      "22529/22529 [==============================] - 2s 86us/step - loss: 0.5243 - acc: 0.7361\n",
      "Epoch 106/300\n",
      "22529/22529 [==============================] - 2s 88us/step - loss: 0.5215 - acc: 0.7416\n",
      "Epoch 107/300\n",
      "22529/22529 [==============================] - 2s 90us/step - loss: 0.5255 - acc: 0.7325\n",
      "Epoch 108/300\n",
      "22529/22529 [==============================] - 2s 91us/step - loss: 0.5228 - acc: 0.7361\n",
      "Epoch 109/300\n",
      "22529/22529 [==============================] - 2s 86us/step - loss: 0.5210 - acc: 0.7418\n",
      "Epoch 110/300\n",
      "22529/22529 [==============================] - 2s 91us/step - loss: 0.5212 - acc: 0.7389\n",
      "Epoch 111/300\n",
      "22529/22529 [==============================] - 2s 87us/step - loss: 0.5207 - acc: 0.7387\n",
      "Epoch 112/300\n",
      "22529/22529 [==============================] - 2s 85us/step - loss: 0.5225 - acc: 0.7386\n",
      "Epoch 113/300\n",
      "22529/22529 [==============================] - 2s 86us/step - loss: 0.5199 - acc: 0.7420\n",
      "Epoch 114/300\n",
      "22529/22529 [==============================] - 2s 85us/step - loss: 0.5199 - acc: 0.7423\n",
      "Epoch 115/300\n",
      "22529/22529 [==============================] - 2s 89us/step - loss: 0.5165 - acc: 0.7411\n",
      "Epoch 116/300\n",
      "22529/22529 [==============================] - 2s 86us/step - loss: 0.5206 - acc: 0.7408\n",
      "Epoch 117/300\n",
      "22529/22529 [==============================] - 2s 87us/step - loss: 0.5171 - acc: 0.7410\n",
      "Epoch 118/300\n",
      "22529/22529 [==============================] - 2s 86us/step - loss: 0.5173 - acc: 0.7444\n",
      "Epoch 119/300\n",
      "22529/22529 [==============================] - 2s 89us/step - loss: 0.5207 - acc: 0.7399\n",
      "Epoch 120/300\n",
      "22529/22529 [==============================] - 2s 88us/step - loss: 0.5175 - acc: 0.7434\n",
      "Epoch 121/300\n",
      "22529/22529 [==============================] - 2s 86us/step - loss: 0.5194 - acc: 0.7419\n",
      "Epoch 122/300\n",
      "22529/22529 [==============================] - 2s 86us/step - loss: 0.5152 - acc: 0.7447\n",
      "Epoch 123/300\n",
      "22529/22529 [==============================] - 2s 89us/step - loss: 0.5159 - acc: 0.7422\n",
      "Epoch 124/300\n",
      "22529/22529 [==============================] - 2s 87us/step - loss: 0.5152 - acc: 0.7454\n",
      "Epoch 125/300\n",
      "22529/22529 [==============================] - 2s 87us/step - loss: 0.5166 - acc: 0.7443\n",
      "Epoch 126/300\n",
      "22529/22529 [==============================] - 2s 87us/step - loss: 0.5165 - acc: 0.7420\n",
      "Epoch 127/300\n",
      "22529/22529 [==============================] - 2s 90us/step - loss: 0.5145 - acc: 0.7437\n",
      "Epoch 128/300\n",
      "22529/22529 [==============================] - 2s 86us/step - loss: 0.5170 - acc: 0.7440\n",
      "Epoch 129/300\n",
      "22529/22529 [==============================] - 2s 86us/step - loss: 0.5127 - acc: 0.7460\n",
      "Epoch 130/300\n",
      "22529/22529 [==============================] - 2s 87us/step - loss: 0.5125 - acc: 0.7448\n",
      "Epoch 131/300\n",
      "22529/22529 [==============================] - 2s 91us/step - loss: 0.5129 - acc: 0.7470\n",
      "Epoch 132/300\n",
      "22529/22529 [==============================] - 2s 87us/step - loss: 0.5158 - acc: 0.7436\n",
      "Epoch 133/300\n",
      "22529/22529 [==============================] - 2s 86us/step - loss: 0.5117 - acc: 0.7477\n",
      "Epoch 134/300\n",
      "22529/22529 [==============================] - 2s 87us/step - loss: 0.5127 - acc: 0.7466\n",
      "Epoch 135/300\n",
      "22529/22529 [==============================] - 2s 89us/step - loss: 0.5135 - acc: 0.7425\n",
      "Epoch 136/300\n",
      "22529/22529 [==============================] - 2s 86us/step - loss: 0.5115 - acc: 0.7485\n",
      "Epoch 137/300\n",
      "22529/22529 [==============================] - 2s 86us/step - loss: 0.5123 - acc: 0.7458\n",
      "Epoch 138/300\n",
      "22529/22529 [==============================] - 2s 86us/step - loss: 0.5148 - acc: 0.7433\n",
      "Epoch 139/300\n",
      "22529/22529 [==============================] - 2s 87us/step - loss: 0.5122 - acc: 0.7483\n",
      "Epoch 140/300\n",
      "22529/22529 [==============================] - 2s 89us/step - loss: 0.5114 - acc: 0.7446\n",
      "Epoch 141/300\n",
      "22529/22529 [==============================] - 2s 85us/step - loss: 0.5102 - acc: 0.7490\n",
      "Epoch 142/300\n",
      "22529/22529 [==============================] - 2s 85us/step - loss: 0.5108 - acc: 0.7483\n",
      "Epoch 143/300\n",
      "22529/22529 [==============================] - 2s 88us/step - loss: 0.5096 - acc: 0.7458\n",
      "Epoch 144/300\n",
      "22529/22529 [==============================] - 2s 88us/step - loss: 0.5064 - acc: 0.7505\n",
      "Epoch 145/300\n",
      "22529/22529 [==============================] - 2s 87us/step - loss: 0.5120 - acc: 0.7503\n",
      "Epoch 146/300\n",
      "22529/22529 [==============================] - 2s 85us/step - loss: 0.5063 - acc: 0.7534\n",
      "Epoch 147/300\n",
      "22529/22529 [==============================] - 2s 90us/step - loss: 0.5105 - acc: 0.7462\n",
      "Epoch 148/300\n",
      "22529/22529 [==============================] - 2s 91us/step - loss: 0.5063 - acc: 0.7525\n",
      "Epoch 149/300\n",
      "22529/22529 [==============================] - 2s 84us/step - loss: 0.5105 - acc: 0.7473\n",
      "Epoch 150/300\n",
      "22529/22529 [==============================] - 2s 86us/step - loss: 0.5050 - acc: 0.7495\n",
      "Epoch 151/300\n",
      "22529/22529 [==============================] - 2s 87us/step - loss: 0.5082 - acc: 0.7467\n",
      "Epoch 152/300\n",
      "22529/22529 [==============================] - 2s 92us/step - loss: 0.5069 - acc: 0.7513\n",
      "Epoch 153/300\n",
      "22529/22529 [==============================] - 2s 87us/step - loss: 0.5084 - acc: 0.7489\n",
      "Epoch 154/300\n",
      "22529/22529 [==============================] - 2s 84us/step - loss: 0.5046 - acc: 0.7510\n",
      "Epoch 155/300\n",
      "22529/22529 [==============================] - 2s 87us/step - loss: 0.5060 - acc: 0.7489\n",
      "Epoch 156/300\n",
      "22529/22529 [==============================] - 2s 90us/step - loss: 0.5053 - acc: 0.7512\n",
      "Epoch 157/300\n",
      "22529/22529 [==============================] - 2s 88us/step - loss: 0.5064 - acc: 0.7536\n",
      "Epoch 158/300\n",
      "22529/22529 [==============================] - 2s 92us/step - loss: 0.5052 - acc: 0.7503\n",
      "Epoch 159/300\n",
      "22529/22529 [==============================] - 2s 89us/step - loss: 0.5052 - acc: 0.7517\n",
      "Epoch 160/300\n"
     ]
    },
    {
     "name": "stdout",
     "output_type": "stream",
     "text": [
      "22529/22529 [==============================] - 2s 89us/step - loss: 0.5043 - acc: 0.7525\n",
      "Epoch 161/300\n",
      "22529/22529 [==============================] - 2s 88us/step - loss: 0.5049 - acc: 0.7526\n",
      "Epoch 162/300\n",
      "22529/22529 [==============================] - 2s 89us/step - loss: 0.5024 - acc: 0.7509\n",
      "Epoch 163/300\n",
      "22529/22529 [==============================] - 2s 91us/step - loss: 0.5063 - acc: 0.7523\n",
      "Epoch 164/300\n",
      "22529/22529 [==============================] - 2s 91us/step - loss: 0.5035 - acc: 0.7508\n",
      "Epoch 165/300\n",
      "22529/22529 [==============================] - 2s 86us/step - loss: 0.5046 - acc: 0.7529\n",
      "Epoch 166/300\n",
      "22529/22529 [==============================] - 2s 89us/step - loss: 0.5012 - acc: 0.7542\n",
      "Epoch 167/300\n",
      "22529/22529 [==============================] - 2s 91us/step - loss: 0.5012 - acc: 0.7556\n",
      "Epoch 168/300\n",
      "22529/22529 [==============================] - 2s 93us/step - loss: 0.5017 - acc: 0.7544\n",
      "Epoch 169/300\n",
      "22529/22529 [==============================] - 2s 87us/step - loss: 0.5026 - acc: 0.7537\n",
      "Epoch 170/300\n",
      "22529/22529 [==============================] - 2s 88us/step - loss: 0.5008 - acc: 0.7552\n",
      "Epoch 171/300\n",
      "22529/22529 [==============================] - 2s 92us/step - loss: 0.5037 - acc: 0.7531\n",
      "Epoch 172/300\n",
      "22529/22529 [==============================] - 2s 90us/step - loss: 0.5001 - acc: 0.7577\n",
      "Epoch 173/300\n",
      "22529/22529 [==============================] - 2s 88us/step - loss: 0.5018 - acc: 0.7543\n",
      "Epoch 174/300\n",
      "22529/22529 [==============================] - 2s 88us/step - loss: 0.4999 - acc: 0.7552\n",
      "Epoch 175/300\n",
      "22529/22529 [==============================] - 2s 87us/step - loss: 0.4977 - acc: 0.7584\n",
      "Epoch 176/300\n",
      "22529/22529 [==============================] - 2s 91us/step - loss: 0.5027 - acc: 0.7528\n",
      "Epoch 177/300\n",
      "22529/22529 [==============================] - 2s 88us/step - loss: 0.5013 - acc: 0.7542\n",
      "Epoch 178/300\n",
      "22529/22529 [==============================] - 2s 86us/step - loss: 0.5012 - acc: 0.7526\n",
      "Epoch 179/300\n",
      "22529/22529 [==============================] - 2s 88us/step - loss: 0.5010 - acc: 0.7525\n",
      "Epoch 180/300\n",
      "22529/22529 [==============================] - 2s 92us/step - loss: 0.4972 - acc: 0.7578\n",
      "Epoch 181/300\n",
      "22529/22529 [==============================] - 2s 90us/step - loss: 0.4993 - acc: 0.7551\n",
      "Epoch 182/300\n",
      "22529/22529 [==============================] - 2s 88us/step - loss: 0.4962 - acc: 0.7563\n",
      "Epoch 183/300\n",
      "22529/22529 [==============================] - 2s 86us/step - loss: 0.4980 - acc: 0.7540\n",
      "Epoch 184/300\n",
      "22529/22529 [==============================] - 2s 90us/step - loss: 0.4999 - acc: 0.7566\n",
      "Epoch 185/300\n",
      "22529/22529 [==============================] - 2s 89us/step - loss: 0.4992 - acc: 0.7554\n",
      "Epoch 186/300\n",
      "22529/22529 [==============================] - 2s 87us/step - loss: 0.4988 - acc: 0.7568\n",
      "Epoch 187/300\n",
      "22529/22529 [==============================] - 2s 86us/step - loss: 0.4977 - acc: 0.7570\n",
      "Epoch 188/300\n",
      "22529/22529 [==============================] - 2s 89us/step - loss: 0.4969 - acc: 0.7589\n",
      "Epoch 189/300\n",
      "22529/22529 [==============================] - 2s 90us/step - loss: 0.4961 - acc: 0.7588\n",
      "Epoch 190/300\n",
      "22529/22529 [==============================] - 2s 88us/step - loss: 0.4975 - acc: 0.7572\n",
      "Epoch 191/300\n",
      "22529/22529 [==============================] - 2s 88us/step - loss: 0.4938 - acc: 0.7596\n",
      "Epoch 192/300\n",
      "22529/22529 [==============================] - 2s 90us/step - loss: 0.4981 - acc: 0.7567\n",
      "Epoch 193/300\n",
      "22529/22529 [==============================] - 2s 85us/step - loss: 0.4979 - acc: 0.7580\n",
      "Epoch 194/300\n",
      "22529/22529 [==============================] - 2s 87us/step - loss: 0.4973 - acc: 0.7596\n",
      "Epoch 195/300\n",
      "22529/22529 [==============================] - 2s 84us/step - loss: 0.4970 - acc: 0.7613\n",
      "Epoch 196/300\n",
      "22529/22529 [==============================] - 2s 88us/step - loss: 0.4934 - acc: 0.7625\n",
      "Epoch 197/300\n",
      "22529/22529 [==============================] - 2s 87us/step - loss: 0.4924 - acc: 0.7617\n",
      "Epoch 198/300\n",
      "22529/22529 [==============================] - 2s 85us/step - loss: 0.4962 - acc: 0.7599\n",
      "Epoch 199/300\n",
      "22529/22529 [==============================] - 2s 85us/step - loss: 0.4942 - acc: 0.7593\n",
      "Epoch 200/300\n",
      "22529/22529 [==============================] - 2s 91us/step - loss: 0.4917 - acc: 0.7605\n",
      "Epoch 201/300\n",
      "22529/22529 [==============================] - 2s 86us/step - loss: 0.4962 - acc: 0.7607\n",
      "Epoch 202/300\n",
      "22529/22529 [==============================] - 2s 85us/step - loss: 0.4919 - acc: 0.7616\n",
      "Epoch 203/300\n",
      "22529/22529 [==============================] - 2s 87us/step - loss: 0.4933 - acc: 0.7630\n",
      "Epoch 204/300\n",
      "22529/22529 [==============================] - 2s 91us/step - loss: 0.4944 - acc: 0.7597\n",
      "Epoch 205/300\n",
      "22529/22529 [==============================] - 2s 85us/step - loss: 0.4932 - acc: 0.7601\n",
      "Epoch 206/300\n",
      "22529/22529 [==============================] - 2s 86us/step - loss: 0.4940 - acc: 0.7638\n",
      "Epoch 207/300\n",
      "22529/22529 [==============================] - 2s 86us/step - loss: 0.4917 - acc: 0.7639\n",
      "Epoch 208/300\n",
      "22529/22529 [==============================] - 2s 91us/step - loss: 0.4931 - acc: 0.7598\n",
      "Epoch 209/300\n",
      "22529/22529 [==============================] - 2s 88us/step - loss: 0.4955 - acc: 0.7591\n",
      "Epoch 210/300\n",
      "22529/22529 [==============================] - 2s 92us/step - loss: 0.4912 - acc: 0.7628\n",
      "Epoch 211/300\n",
      "22529/22529 [==============================] - 2s 87us/step - loss: 0.4952 - acc: 0.7611\n",
      "Epoch 212/300\n",
      "22529/22529 [==============================] - 2s 91us/step - loss: 0.4923 - acc: 0.7609\n",
      "Epoch 213/300\n",
      "22529/22529 [==============================] - 2s 86us/step - loss: 0.4876 - acc: 0.7663\n",
      "Epoch 214/300\n",
      "22529/22529 [==============================] - 2s 85us/step - loss: 0.4917 - acc: 0.7622\n",
      "Epoch 215/300\n",
      "22529/22529 [==============================] - 2s 86us/step - loss: 0.4907 - acc: 0.7616\n",
      "Epoch 216/300\n",
      "22529/22529 [==============================] - 2s 91us/step - loss: 0.4924 - acc: 0.7639\n",
      "Epoch 217/300\n",
      "22529/22529 [==============================] - 2s 89us/step - loss: 0.4900 - acc: 0.7636\n",
      "Epoch 218/300\n",
      "22529/22529 [==============================] - 2s 90us/step - loss: 0.4893 - acc: 0.7628\n",
      "Epoch 219/300\n",
      "22529/22529 [==============================] - 2s 88us/step - loss: 0.4910 - acc: 0.7612\n",
      "Epoch 220/300\n",
      "22529/22529 [==============================] - 2s 95us/step - loss: 0.4901 - acc: 0.7671\n",
      "Epoch 221/300\n",
      "22529/22529 [==============================] - 2s 98us/step - loss: 0.4901 - acc: 0.7598\n",
      "Epoch 222/300\n",
      "22529/22529 [==============================] - 2s 100us/step - loss: 0.4896 - acc: 0.7623\n",
      "Epoch 223/300\n",
      "22529/22529 [==============================] - 2s 98us/step - loss: 0.4886 - acc: 0.7643\n",
      "Epoch 224/300\n",
      "22529/22529 [==============================] - 2s 102us/step - loss: 0.4928 - acc: 0.7628\n",
      "Epoch 225/300\n",
      "22529/22529 [==============================] - 2s 89us/step - loss: 0.4893 - acc: 0.7624\n",
      "Epoch 226/300\n",
      "22529/22529 [==============================] - 2s 88us/step - loss: 0.4892 - acc: 0.7643\n",
      "Epoch 227/300\n",
      "22529/22529 [==============================] - 2s 89us/step - loss: 0.4874 - acc: 0.7636\n",
      "Epoch 228/300\n",
      "22529/22529 [==============================] - 2s 90us/step - loss: 0.4876 - acc: 0.7658\n",
      "Epoch 229/300\n",
      "22529/22529 [==============================] - 2s 88us/step - loss: 0.4874 - acc: 0.7665\n",
      "Epoch 230/300\n",
      "22529/22529 [==============================] - 2s 86us/step - loss: 0.4880 - acc: 0.7641\n",
      "Epoch 231/300\n",
      "22529/22529 [==============================] - 2s 86us/step - loss: 0.4866 - acc: 0.7659\n",
      "Epoch 232/300\n",
      "22529/22529 [==============================] - 2s 90us/step - loss: 0.4885 - acc: 0.7656\n",
      "Epoch 233/300\n",
      "22529/22529 [==============================] - 2s 86us/step - loss: 0.4894 - acc: 0.7636\n",
      "Epoch 234/300\n",
      "22529/22529 [==============================] - 2s 85us/step - loss: 0.4852 - acc: 0.7675\n",
      "Epoch 235/300\n",
      "22529/22529 [==============================] - 2s 86us/step - loss: 0.4849 - acc: 0.7683\n",
      "Epoch 236/300\n",
      "22529/22529 [==============================] - 2s 89us/step - loss: 0.4863 - acc: 0.7647\n",
      "Epoch 237/300\n",
      "22529/22529 [==============================] - 2s 86us/step - loss: 0.4861 - acc: 0.7628\n",
      "Epoch 238/300\n",
      "22529/22529 [==============================] - 2s 88us/step - loss: 0.4875 - acc: 0.7668\n",
      "Epoch 239/300\n"
     ]
    },
    {
     "name": "stdout",
     "output_type": "stream",
     "text": [
      "22529/22529 [==============================] - 2s 92us/step - loss: 0.4881 - acc: 0.7641\n",
      "Epoch 240/300\n",
      "22529/22529 [==============================] - 2s 98us/step - loss: 0.4874 - acc: 0.7662\n",
      "Epoch 241/300\n",
      "22529/22529 [==============================] - 2s 85us/step - loss: 0.4828 - acc: 0.7679\n",
      "Epoch 242/300\n",
      "22529/22529 [==============================] - 2s 86us/step - loss: 0.4849 - acc: 0.7651\n",
      "Epoch 243/300\n",
      "22529/22529 [==============================] - 2s 87us/step - loss: 0.4875 - acc: 0.7651\n",
      "Epoch 244/300\n",
      "22529/22529 [==============================] - 2s 89us/step - loss: 0.4884 - acc: 0.7674\n",
      "Epoch 245/300\n",
      "22529/22529 [==============================] - 2s 85us/step - loss: 0.4854 - acc: 0.7660\n",
      "Epoch 246/300\n",
      "22529/22529 [==============================] - 2s 86us/step - loss: 0.4859 - acc: 0.7649\n",
      "Epoch 247/300\n",
      "22529/22529 [==============================] - 2s 85us/step - loss: 0.4840 - acc: 0.7675\n",
      "Epoch 248/300\n",
      "22529/22529 [==============================] - 2s 90us/step - loss: 0.4856 - acc: 0.7667\n",
      "Epoch 249/300\n",
      "22529/22529 [==============================] - 2s 87us/step - loss: 0.4883 - acc: 0.7637\n",
      "Epoch 250/300\n",
      "22529/22529 [==============================] - 2s 85us/step - loss: 0.4828 - acc: 0.7721\n",
      "Epoch 251/300\n",
      "22529/22529 [==============================] - 2s 87us/step - loss: 0.4836 - acc: 0.7693\n",
      "Epoch 252/300\n",
      "22529/22529 [==============================] - 2s 90us/step - loss: 0.4859 - acc: 0.7649\n",
      "Epoch 253/300\n",
      "22529/22529 [==============================] - 2s 85us/step - loss: 0.4834 - acc: 0.7689\n",
      "Epoch 254/300\n",
      "22529/22529 [==============================] - 2s 85us/step - loss: 0.4820 - acc: 0.7679\n",
      "Epoch 255/300\n",
      "22529/22529 [==============================] - 2s 88us/step - loss: 0.4843 - acc: 0.7676\n",
      "Epoch 256/300\n",
      "22529/22529 [==============================] - 2s 87us/step - loss: 0.4825 - acc: 0.7672\n",
      "Epoch 257/300\n",
      "22529/22529 [==============================] - 2s 86us/step - loss: 0.4840 - acc: 0.7676\n",
      "Epoch 258/300\n",
      "22529/22529 [==============================] - 2s 86us/step - loss: 0.4834 - acc: 0.7680\n",
      "Epoch 259/300\n",
      "22529/22529 [==============================] - 2s 86us/step - loss: 0.4837 - acc: 0.7687\n",
      "Epoch 260/300\n",
      "22529/22529 [==============================] - 2s 88us/step - loss: 0.4832 - acc: 0.7686\n",
      "Epoch 261/300\n",
      "22529/22529 [==============================] - 2s 85us/step - loss: 0.4831 - acc: 0.7646\n",
      "Epoch 262/300\n",
      "22529/22529 [==============================] - 2s 85us/step - loss: 0.4818 - acc: 0.7697\n",
      "Epoch 263/300\n",
      "22529/22529 [==============================] - 2s 88us/step - loss: 0.4798 - acc: 0.7712\n",
      "Epoch 264/300\n",
      "22529/22529 [==============================] - 2s 90us/step - loss: 0.4853 - acc: 0.7668\n",
      "Epoch 265/300\n",
      "22529/22529 [==============================] - 2s 87us/step - loss: 0.4841 - acc: 0.7697\n",
      "Epoch 266/300\n",
      "22529/22529 [==============================] - 2s 85us/step - loss: 0.4818 - acc: 0.7675\n",
      "Epoch 267/300\n",
      "22529/22529 [==============================] - 2s 89us/step - loss: 0.4809 - acc: 0.7703\n",
      "Epoch 268/300\n",
      "22529/22529 [==============================] - 2s 93us/step - loss: 0.4842 - acc: 0.7672\n",
      "Epoch 269/300\n",
      "22529/22529 [==============================] - 2s 84us/step - loss: 0.4795 - acc: 0.7700\n",
      "Epoch 270/300\n",
      "22529/22529 [==============================] - 2s 85us/step - loss: 0.4809 - acc: 0.7726\n",
      "Epoch 271/300\n",
      "22529/22529 [==============================] - 2s 86us/step - loss: 0.4852 - acc: 0.7668\n",
      "Epoch 272/300\n",
      "22529/22529 [==============================] - 2s 87us/step - loss: 0.4830 - acc: 0.7669\n",
      "Epoch 273/300\n",
      "22529/22529 [==============================] - 2s 85us/step - loss: 0.4805 - acc: 0.7705\n",
      "Epoch 274/300\n",
      "22529/22529 [==============================] - 2s 87us/step - loss: 0.4805 - acc: 0.7695\n",
      "Epoch 275/300\n",
      "22529/22529 [==============================] - 2s 86us/step - loss: 0.4827 - acc: 0.7679\n",
      "Epoch 276/300\n",
      "22529/22529 [==============================] - 2s 88us/step - loss: 0.4800 - acc: 0.7710\n",
      "Epoch 277/300\n",
      "22529/22529 [==============================] - 2s 93us/step - loss: 0.4774 - acc: 0.7728\n",
      "Epoch 278/300\n",
      "22529/22529 [==============================] - 2s 87us/step - loss: 0.4782 - acc: 0.7739\n",
      "Epoch 279/300\n",
      "22529/22529 [==============================] - 2s 87us/step - loss: 0.4808 - acc: 0.7708\n",
      "Epoch 280/300\n",
      "22529/22529 [==============================] - 2s 87us/step - loss: 0.4821 - acc: 0.7700\n",
      "Epoch 281/300\n",
      "22529/22529 [==============================] - 2s 88us/step - loss: 0.4792 - acc: 0.7715\n",
      "Epoch 282/300\n",
      "22529/22529 [==============================] - 2s 88us/step - loss: 0.4804 - acc: 0.7728\n",
      "Epoch 283/300\n",
      "22529/22529 [==============================] - 2s 87us/step - loss: 0.4817 - acc: 0.7699\n",
      "Epoch 284/300\n",
      "22529/22529 [==============================] - 2s 90us/step - loss: 0.4768 - acc: 0.7722\n",
      "Epoch 285/300\n",
      "22529/22529 [==============================] - 2s 88us/step - loss: 0.4763 - acc: 0.7712\n",
      "Epoch 286/300\n",
      "22529/22529 [==============================] - 2s 86us/step - loss: 0.4791 - acc: 0.7692\n",
      "Epoch 287/300\n",
      "22529/22529 [==============================] - 2s 88us/step - loss: 0.4746 - acc: 0.7743\n",
      "Epoch 288/300\n",
      "22529/22529 [==============================] - 2s 87us/step - loss: 0.4770 - acc: 0.7713\n",
      "Epoch 289/300\n",
      "22529/22529 [==============================] - 2s 92us/step - loss: 0.4776 - acc: 0.7724\n",
      "Epoch 290/300\n",
      "22529/22529 [==============================] - 2s 87us/step - loss: 0.4778 - acc: 0.7695\n",
      "Epoch 291/300\n",
      "22529/22529 [==============================] - 2s 87us/step - loss: 0.4780 - acc: 0.7739\n",
      "Epoch 292/300\n",
      "22529/22529 [==============================] - 2s 89us/step - loss: 0.4758 - acc: 0.7726\n",
      "Epoch 293/300\n",
      "22529/22529 [==============================] - 2s 90us/step - loss: 0.4786 - acc: 0.7715\n",
      "Epoch 294/300\n",
      "22529/22529 [==============================] - 2s 87us/step - loss: 0.4750 - acc: 0.7734\n",
      "Epoch 295/300\n",
      "22529/22529 [==============================] - 2s 88us/step - loss: 0.4785 - acc: 0.7730\n",
      "Epoch 296/300\n",
      "22529/22529 [==============================] - 2s 90us/step - loss: 0.4758 - acc: 0.7723\n",
      "Epoch 297/300\n",
      "22529/22529 [==============================] - 2s 92us/step - loss: 0.4760 - acc: 0.7722\n",
      "Epoch 298/300\n",
      "22529/22529 [==============================] - 2s 88us/step - loss: 0.4785 - acc: 0.7726\n",
      "Epoch 299/300\n",
      "22529/22529 [==============================] - 2s 89us/step - loss: 0.4745 - acc: 0.7726\n",
      "Epoch 300/300\n",
      "22529/22529 [==============================] - 2s 88us/step - loss: 0.4758 - acc: 0.7715\n"
     ]
    },
    {
     "data": {
      "text/plain": [
       "<keras.callbacks.History at 0x7f1e3432efd0>"
      ]
     },
     "execution_count": 28,
     "metadata": {},
     "output_type": "execute_result"
    }
   ],
   "source": [
    "model.fit(train_x, train_y, epochs=300, batch_size=128)"
   ]
  },
  {
   "cell_type": "code",
   "execution_count": 29,
   "metadata": {
    "ExecuteTime": {
     "end_time": "2019-10-22T20:04:54.417735Z",
     "start_time": "2019-10-22T20:04:53.779450Z"
    }
   },
   "outputs": [
    {
     "data": {
      "image/png": "[encoded data removed]",
      "text/plain": [
       "<Figure size 720x720 with 2 Axes>"
      ]
     },
     "metadata": {
      "needs_background": "light"
     },
     "output_type": "display_data"
    }
   ],
   "source": [
    "plotHeatmap(model, test_x, test_y)"
   ]
  },
  {
   "cell_type": "markdown",
   "metadata": {},
   "source": [
    "## Deep Conv NN"
   ]
  },
  {
   "cell_type": "code",
   "execution_count": 12,
   "metadata": {
    "ExecuteTime": {
     "end_time": "2019-10-21T22:41:49.688902Z",
     "start_time": "2019-10-21T22:41:49.627869Z"
    }
   },
   "outputs": [],
   "source": [
    "ndata, nfeature = X.shape\n",
    "X_Conv = X.reshape(ndata, nfeature, 1)\n",
    "input_shape = (nfeature, 1)\n",
    "ctrain_x, ctest_x, ctrain_y, ctest_y = train_test_split(X_Conv, Y, train_size=0.8)"
   ]
  },
  {
   "cell_type": "code",
   "execution_count": 13,
   "metadata": {
    "ExecuteTime": {
     "end_time": "2019-10-21T22:41:52.667680Z",
     "start_time": "2019-10-21T22:41:52.504175Z"
    }
   },
   "outputs": [],
   "source": [
    "model = Sequential()\n",
    "\n",
    "model.add(Conv1D(filters=30, kernel_size=2, input_shape=input_shape,kernel_initializer= 'uniform')) \n",
    "model.add(LeakyReLU(alpha=0.3))\n",
    "model.add(Conv1D(filters=10, kernel_size=2, kernel_initializer= 'uniform')) \n",
    "model.add(LeakyReLU(alpha=0.3))\n",
    "\n",
    "model.add(Flatten())\n",
    "model.add(Dense(100))\n",
    "model.add(LeakyReLU(alpha=0.3))\n",
    "model.add(Dropout(0.5))\n",
    "model.add(Dense(50))\n",
    "model.add(LeakyReLU(alpha=0.3))\n",
    "model.add(Dropout(0.5))\n",
    "model.add(Dense(25))\n",
    "model.add(LeakyReLU(alpha=0.3))\n",
    "model.add(Dense(1, activation='sigmoid'))\n",
    "\n",
    "model.compile(optimizer='rmsprop',\n",
    "              loss='binary_crossentropy',\n",
    "              metrics=['accuracy'])\n"
   ]
  },
  {
   "cell_type": "code",
   "execution_count": 14,
   "metadata": {
    "ExecuteTime": {
     "end_time": "2019-10-21T22:41:53.612422Z",
     "start_time": "2019-10-21T22:41:53.554698Z"
    }
   },
   "outputs": [],
   "source": [
    "plot_model(model, to_file='Model-CNN1.svg', show_layer_names=True, show_shapes=True)"
   ]
  },
  {
   "cell_type": "code",
   "execution_count": 15,
   "metadata": {
    "ExecuteTime": {
     "end_time": "2019-10-21T22:42:49.588585Z",
     "start_time": "2019-10-21T22:41:55.353660Z"
    }
   },
   "outputs": [
    {
     "name": "stdout",
     "output_type": "stream",
     "text": [
      "Epoch 1/4\n",
      "22529/22529 [==============================] - 10s 440us/step - loss: 0.6937 - acc: 0.4996\n",
      "Epoch 2/4\n",
      "22529/22529 [==============================] - 8s 374us/step - loss: 0.6940 - acc: 0.4981\n",
      "Epoch 3/4\n",
      "22529/22529 [==============================] - 19s 841us/step - loss: 0.6940 - acc: 0.4996\n",
      "Epoch 4/4\n",
      "22529/22529 [==============================] - 16s 728us/step - loss: 0.6938 - acc: 0.4984\n"
     ]
    },
    {
     "data": {
      "text/plain": [
       "<keras.callbacks.History at 0x7f46644dca90>"
      ]
     },
     "execution_count": 15,
     "metadata": {},
     "output_type": "execute_result"
    }
   ],
   "source": [
    "model.fit(ctrain_x, train_y, epochs=4, batch_size=32)"
   ]
  },
  {
   "cell_type": "code",
   "execution_count": 16,
   "metadata": {
    "ExecuteTime": {
     "end_time": "2019-10-21T22:42:53.762210Z",
     "start_time": "2019-10-21T22:42:52.592173Z"
    }
   },
   "outputs": [
    {
     "data": {
      "image/png": "[encoded data removed]",
      "text/plain": [
       "<Figure size 720x720 with 2 Axes>"
      ]
     },
     "metadata": {
      "needs_background": "light"
     },
     "output_type": "display_data"
    }
   ],
   "source": [
    "plotHeatmap(model, ctest_x, test_y)"
   ]
  },
  {
   "cell_type": "markdown",
   "metadata": {},
   "source": [
    "## Deep Conv NN with seperate conv for target and drug"
   ]
  },
  {
   "cell_type": "code",
   "execution_count": 17,
   "metadata": {
    "ExecuteTime": {
     "end_time": "2019-10-21T22:42:57.310059Z",
     "start_time": "2019-10-21T22:42:57.217249Z"
    }
   },
   "outputs": [],
   "source": [
    "target = df.iloc[:, :30].values\n",
    "drug = df.iloc[:, 30:-1].values\n",
    "t_data, t_feature = target.shape\n",
    "d_data, d_feature = drug.shape\n",
    "t_input_shape = (t_feature, 1)\n",
    "d_input_shape = (d_feature, 1)\n",
    "train_idx, test_idx, dt_train_y, dt_test_y = train_test_split(np.arange(0, X.shape[0]), Y, train_size=0.8)\n",
    "train_target = target[train_idx]\n",
    "test_target = target[test_idx]\n",
    "train_drug = drug[train_idx]\n",
    "test_drug = drug[test_idx]"
   ]
  },
  {
   "cell_type": "code",
   "execution_count": 18,
   "metadata": {
    "ExecuteTime": {
     "end_time": "2019-10-21T22:42:57.869546Z",
     "start_time": "2019-10-21T22:42:57.863147Z"
    }
   },
   "outputs": [],
   "source": [
    "train_size = train_target.shape[0]\n",
    "test_size = test_target.shape[0]\n",
    "\n",
    "train_target = train_target.reshape(train_size, t_feature, 1)\n",
    "test_target = test_target.reshape(test_size, t_feature, 1)\n",
    "train_drug = train_drug.reshape(train_size, d_feature, 1)\n",
    "test_drug = test_drug.reshape(test_size, d_feature, 1)"
   ]
  },
  {
   "cell_type": "code",
   "execution_count": 19,
   "metadata": {
    "ExecuteTime": {
     "end_time": "2019-10-21T22:43:03.461736Z",
     "start_time": "2019-10-21T22:43:03.241434Z"
    }
   },
   "outputs": [],
   "source": [
    "model1 = Sequential(layers=[\n",
    "    # input layers and convolutional layers\n",
    "    Conv1D(filters=30, kernel_size=2, input_shape=t_input_shape,kernel_initializer= 'uniform', activation= 'relu'),\n",
    "    Conv1D(filters=10, kernel_size=2, kernel_initializer= 'uniform', activation= 'relu'),\n",
    "    Dropout(.5),\n",
    "    Flatten()\n",
    "])\n",
    "\n",
    "model2 = Sequential(layers=[\n",
    "    # input layers and convolutional layers\n",
    "    Conv1D(filters=15, kernel_size=2, input_shape=d_input_shape,kernel_initializer= 'uniform', activation= 'relu'),\n",
    "    Conv1D(filters=10, kernel_size=2, kernel_initializer= 'uniform', activation= 'relu'),\n",
    "    Dropout(.5),\n",
    "    Flatten()\n",
    "\n",
    "])\n",
    "\n",
    "mergedOut = Concatenate()([model1.output,model2.output])\n",
    "# mergedOut = Flatten()(mergedOut)    \n",
    "mergedOut = Dense(256, activation='relu')(mergedOut)\n",
    "mergedOut = Dropout(.5)(mergedOut)\n",
    "mergedOut = Dense(128, activation='relu')(mergedOut)\n",
    "mergedOut = Dropout(.35)(mergedOut)\n",
    "\n",
    "# output layer\n",
    "mergedOut = Dense(1, activation='sigmoid')(mergedOut)\n",
    "newModel = Model([model1.input,model2.input], mergedOut)\n",
    "\n",
    "newModel.compile(optimizer='rmsprop',\n",
    "              loss='binary_crossentropy',\n",
    "              metrics=['accuracy'])"
   ]
  },
  {
   "cell_type": "code",
   "execution_count": 20,
   "metadata": {
    "ExecuteTime": {
     "end_time": "2019-10-21T22:43:07.126516Z",
     "start_time": "2019-10-21T22:43:07.063518Z"
    }
   },
   "outputs": [],
   "source": [
    "plot_model(newModel, to_file='Model-CNN2.svg', show_layer_names=True, show_shapes=True)"
   ]
  },
  {
   "cell_type": "code",
   "execution_count": 21,
   "metadata": {
    "ExecuteTime": {
     "end_time": "2019-10-21T22:50:12.773146Z",
     "start_time": "2019-10-21T22:43:10.966376Z"
    }
   },
   "outputs": [
    {
     "name": "stdout",
     "output_type": "stream",
     "text": [
      "Epoch 1/15\n",
      "22529/22529 [==============================] - 28s 1ms/step - loss: 0.6932 - acc: 0.5057\n",
      "Epoch 2/15\n",
      "22529/22529 [==============================] - 26s 1ms/step - loss: 0.6917 - acc: 0.5246\n",
      "Epoch 3/15\n",
      "22529/22529 [==============================] - 26s 1ms/step - loss: 0.6897 - acc: 0.5344\n",
      "Epoch 4/15\n",
      "22529/22529 [==============================] - 26s 1ms/step - loss: 0.6887 - acc: 0.5437\n",
      "Epoch 5/15\n",
      "22529/22529 [==============================] - 26s 1ms/step - loss: 0.6890 - acc: 0.5345\n",
      "Epoch 6/15\n",
      "22529/22529 [==============================] - 28s 1ms/step - loss: 0.6880 - acc: 0.5424\n",
      "Epoch 7/15\n",
      "22529/22529 [==============================] - 26s 1ms/step - loss: 0.6868 - acc: 0.5441\n",
      "Epoch 8/15\n",
      "22529/22529 [==============================] - 27s 1ms/step - loss: 0.6872 - acc: 0.5442\n",
      "Epoch 9/15\n",
      "22529/22529 [==============================] - 27s 1ms/step - loss: 0.6848 - acc: 0.5507\n",
      "Epoch 10/15\n",
      "22529/22529 [==============================] - 28s 1ms/step - loss: 0.6850 - acc: 0.5488\n",
      "Epoch 11/15\n",
      "22529/22529 [==============================] - 28s 1ms/step - loss: 0.6851 - acc: 0.5542\n",
      "Epoch 12/15\n",
      "22529/22529 [==============================] - 27s 1ms/step - loss: 0.6847 - acc: 0.5528\n",
      "Epoch 13/15\n",
      "22529/22529 [==============================] - 29s 1ms/step - loss: 0.6849 - acc: 0.5547\n",
      "Epoch 14/15\n",
      "22529/22529 [==============================] - 27s 1ms/step - loss: 0.6842 - acc: 0.5544\n",
      "Epoch 15/15\n",
      "22529/22529 [==============================] - 44s 2ms/step - loss: 0.6839 - acc: 0.5598\n"
     ]
    },
    {
     "data": {
      "text/plain": [
       "<keras.callbacks.History at 0x7f4644e1e1d0>"
      ]
     },
     "execution_count": 21,
     "metadata": {},
     "output_type": "execute_result"
    }
   ],
   "source": [
    "newModel.fit([train_target, train_drug], dt_train_y,epochs=15, batch_size=32)   "
   ]
  },
  {
   "cell_type": "code",
   "execution_count": 22,
   "metadata": {
    "ExecuteTime": {
     "end_time": "2019-10-21T22:50:18.204253Z",
     "start_time": "2019-10-21T22:50:16.532964Z"
    }
   },
   "outputs": [
    {
     "data": {
      "image/png": "[encoded data removed]",
      "text/plain": [
       "<Figure size 720x720 with 2 Axes>"
      ]
     },
     "metadata": {
      "needs_background": "light"
     },
     "output_type": "display_data"
    }
   ],
   "source": [
    "plotHeatmap(newModel, [test_target, test_drug], test_y)"
   ]
  },
  {
   "cell_type": "code",
   "execution_count": null,
   "metadata": {},
   "outputs": [],
   "source": []
  }
 ],
 "metadata": {
  "kernelspec": {
   "display_name": "Python 3",
   "language": "python",
   "name": "python3"
  },
  "language_info": {
   "codemirror_mode": {
    "name": "ipython",
    "version": 3
   },
   "file_extension": ".py",
   "mimetype": "text/x-python",
   "name": "python",
   "nbconvert_exporter": "python",
   "pygments_lexer": "ipython3",
   "version": "3.7.3"
  }
 },
 "nbformat": 4,
 "nbformat_minor": 2
}
