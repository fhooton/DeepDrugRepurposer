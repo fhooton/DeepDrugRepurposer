{
 "cells": [
  {
   "cell_type": "code",
   "execution_count": 15,
   "metadata": {
    "ExecuteTime": {
     "end_time": "2019-10-17T23:08:57.088547Z",
     "start_time": "2019-10-17T23:08:57.083947Z"
    }
   },
   "outputs": [],
   "source": [
    "import pickle\n",
    "import pandas as pd\n",
    "import numpy as np\n",
    "from sklearn.model_selection import train_test_split\n",
    "from sklearn.linear_model import LogisticRegression\n",
    "from sklearn.metrics import confusion_matrix\n",
    "from keras.models import Sequential, Model\n",
    "from keras.layers import Dense, Activation, Dropout, Conv1D, Flatten, MaxPooling1D, AveragePooling1D, Concatenate"
   ]
  },
  {
   "cell_type": "code",
   "execution_count": 16,
   "metadata": {
    "ExecuteTime": {
     "end_time": "2019-10-17T23:09:02.800994Z",
     "start_time": "2019-10-17T23:08:58.283874Z"
    }
   },
   "outputs": [
    {
     "data": {
      "text/html": [
       "<div>\n",
       "<style scoped>\n",
       "    .dataframe tbody tr th:only-of-type {\n",
       "        vertical-align: middle;\n",
       "    }\n",
       "\n",
       "    .dataframe tbody tr th {\n",
       "        vertical-align: top;\n",
       "    }\n",
       "\n",
       "    .dataframe thead th {\n",
       "        text-align: right;\n",
       "    }\n",
       "</style>\n",
       "<table border=\"1\" class=\"dataframe\">\n",
       "  <thead>\n",
       "    <tr style=\"text-align: right;\">\n",
       "      <th></th>\n",
       "      <th>Target_Vec_0</th>\n",
       "      <th>Target_Vec_1</th>\n",
       "      <th>Target_Vec_2</th>\n",
       "      <th>Target_Vec_3</th>\n",
       "      <th>Target_Vec_4</th>\n",
       "      <th>Target_Vec_5</th>\n",
       "      <th>Target_Vec_6</th>\n",
       "      <th>Target_Vec_7</th>\n",
       "      <th>Target_Vec_8</th>\n",
       "      <th>Target_Vec_9</th>\n",
       "      <th>...</th>\n",
       "      <th>Drug_Vec_91</th>\n",
       "      <th>Drug_Vec_92</th>\n",
       "      <th>Drug_Vec_93</th>\n",
       "      <th>Drug_Vec_94</th>\n",
       "      <th>Drug_Vec_95</th>\n",
       "      <th>Drug_Vec_96</th>\n",
       "      <th>Drug_Vec_97</th>\n",
       "      <th>Drug_Vec_98</th>\n",
       "      <th>Drug_Vec_99</th>\n",
       "      <th>Class</th>\n",
       "    </tr>\n",
       "  </thead>\n",
       "  <tbody>\n",
       "    <tr>\n",
       "      <th>0</th>\n",
       "      <td>0.000013</td>\n",
       "      <td>-0.000028</td>\n",
       "      <td>0.000958</td>\n",
       "      <td>0.000242</td>\n",
       "      <td>0.000192</td>\n",
       "      <td>-0.000136</td>\n",
       "      <td>0.000343</td>\n",
       "      <td>0.000361</td>\n",
       "      <td>0.000666</td>\n",
       "      <td>0.001198</td>\n",
       "      <td>...</td>\n",
       "      <td>-0.027773</td>\n",
       "      <td>-0.261224</td>\n",
       "      <td>-0.349108</td>\n",
       "      <td>0.229779</td>\n",
       "      <td>0.161475</td>\n",
       "      <td>0.124695</td>\n",
       "      <td>0.368989</td>\n",
       "      <td>-0.198983</td>\n",
       "      <td>-0.435481</td>\n",
       "      <td>1</td>\n",
       "    </tr>\n",
       "    <tr>\n",
       "      <th>1</th>\n",
       "      <td>0.000013</td>\n",
       "      <td>-0.000028</td>\n",
       "      <td>0.000958</td>\n",
       "      <td>0.000242</td>\n",
       "      <td>0.000192</td>\n",
       "      <td>-0.000136</td>\n",
       "      <td>0.000343</td>\n",
       "      <td>0.000361</td>\n",
       "      <td>0.000666</td>\n",
       "      <td>0.001198</td>\n",
       "      <td>...</td>\n",
       "      <td>-0.009263</td>\n",
       "      <td>-0.166779</td>\n",
       "      <td>-0.276308</td>\n",
       "      <td>0.178456</td>\n",
       "      <td>0.128912</td>\n",
       "      <td>0.083457</td>\n",
       "      <td>0.357332</td>\n",
       "      <td>-0.184330</td>\n",
       "      <td>-0.500235</td>\n",
       "      <td>1</td>\n",
       "    </tr>\n",
       "    <tr>\n",
       "      <th>2</th>\n",
       "      <td>0.000013</td>\n",
       "      <td>-0.000028</td>\n",
       "      <td>0.000958</td>\n",
       "      <td>0.000242</td>\n",
       "      <td>0.000192</td>\n",
       "      <td>-0.000136</td>\n",
       "      <td>0.000343</td>\n",
       "      <td>0.000361</td>\n",
       "      <td>0.000666</td>\n",
       "      <td>0.001198</td>\n",
       "      <td>...</td>\n",
       "      <td>-0.009263</td>\n",
       "      <td>-0.166779</td>\n",
       "      <td>-0.276308</td>\n",
       "      <td>0.178456</td>\n",
       "      <td>0.128912</td>\n",
       "      <td>0.083457</td>\n",
       "      <td>0.357332</td>\n",
       "      <td>-0.184330</td>\n",
       "      <td>-0.500235</td>\n",
       "      <td>1</td>\n",
       "    </tr>\n",
       "    <tr>\n",
       "      <th>3</th>\n",
       "      <td>0.000013</td>\n",
       "      <td>-0.000028</td>\n",
       "      <td>0.000958</td>\n",
       "      <td>0.000242</td>\n",
       "      <td>0.000192</td>\n",
       "      <td>-0.000136</td>\n",
       "      <td>0.000343</td>\n",
       "      <td>0.000361</td>\n",
       "      <td>0.000666</td>\n",
       "      <td>0.001198</td>\n",
       "      <td>...</td>\n",
       "      <td>-0.197189</td>\n",
       "      <td>-0.190077</td>\n",
       "      <td>-0.227381</td>\n",
       "      <td>0.206817</td>\n",
       "      <td>0.102296</td>\n",
       "      <td>0.015936</td>\n",
       "      <td>0.315439</td>\n",
       "      <td>-0.296255</td>\n",
       "      <td>-0.259058</td>\n",
       "      <td>1</td>\n",
       "    </tr>\n",
       "    <tr>\n",
       "      <th>4</th>\n",
       "      <td>0.000013</td>\n",
       "      <td>-0.000028</td>\n",
       "      <td>0.000958</td>\n",
       "      <td>0.000242</td>\n",
       "      <td>0.000192</td>\n",
       "      <td>-0.000136</td>\n",
       "      <td>0.000343</td>\n",
       "      <td>0.000361</td>\n",
       "      <td>0.000666</td>\n",
       "      <td>0.001198</td>\n",
       "      <td>...</td>\n",
       "      <td>-0.197189</td>\n",
       "      <td>-0.190077</td>\n",
       "      <td>-0.227381</td>\n",
       "      <td>0.206817</td>\n",
       "      <td>0.102296</td>\n",
       "      <td>0.015936</td>\n",
       "      <td>0.315439</td>\n",
       "      <td>-0.296255</td>\n",
       "      <td>-0.259058</td>\n",
       "      <td>1</td>\n",
       "    </tr>\n",
       "  </tbody>\n",
       "</table>\n",
       "<p>5 rows × 201 columns</p>\n",
       "</div>"
      ],
      "text/plain": [
       "   Target_Vec_0  Target_Vec_1  Target_Vec_2  Target_Vec_3  Target_Vec_4  \\\n",
       "0      0.000013     -0.000028      0.000958      0.000242      0.000192   \n",
       "1      0.000013     -0.000028      0.000958      0.000242      0.000192   \n",
       "2      0.000013     -0.000028      0.000958      0.000242      0.000192   \n",
       "3      0.000013     -0.000028      0.000958      0.000242      0.000192   \n",
       "4      0.000013     -0.000028      0.000958      0.000242      0.000192   \n",
       "\n",
       "   Target_Vec_5  Target_Vec_6  Target_Vec_7  Target_Vec_8  Target_Vec_9  ...  \\\n",
       "0     -0.000136      0.000343      0.000361      0.000666      0.001198  ...   \n",
       "1     -0.000136      0.000343      0.000361      0.000666      0.001198  ...   \n",
       "2     -0.000136      0.000343      0.000361      0.000666      0.001198  ...   \n",
       "3     -0.000136      0.000343      0.000361      0.000666      0.001198  ...   \n",
       "4     -0.000136      0.000343      0.000361      0.000666      0.001198  ...   \n",
       "\n",
       "   Drug_Vec_91  Drug_Vec_92  Drug_Vec_93  Drug_Vec_94  Drug_Vec_95  \\\n",
       "0    -0.027773    -0.261224    -0.349108     0.229779     0.161475   \n",
       "1    -0.009263    -0.166779    -0.276308     0.178456     0.128912   \n",
       "2    -0.009263    -0.166779    -0.276308     0.178456     0.128912   \n",
       "3    -0.197189    -0.190077    -0.227381     0.206817     0.102296   \n",
       "4    -0.197189    -0.190077    -0.227381     0.206817     0.102296   \n",
       "\n",
       "   Drug_Vec_96  Drug_Vec_97  Drug_Vec_98  Drug_Vec_99  Class  \n",
       "0     0.124695     0.368989    -0.198983    -0.435481      1  \n",
       "1     0.083457     0.357332    -0.184330    -0.500235      1  \n",
       "2     0.083457     0.357332    -0.184330    -0.500235      1  \n",
       "3     0.015936     0.315439    -0.296255    -0.259058      1  \n",
       "4     0.015936     0.315439    -0.296255    -0.259058      1  \n",
       "\n",
       "[5 rows x 201 columns]"
      ]
     },
     "execution_count": 16,
     "metadata": {},
     "output_type": "execute_result"
    }
   ],
   "source": [
    "df = pickle.load(open('dataset_v2.pkl', 'rb'))\n",
    "df.head()"
   ]
  },
  {
   "cell_type": "code",
   "execution_count": 3,
   "metadata": {
    "ExecuteTime": {
     "end_time": "2019-10-17T22:56:30.432448Z",
     "start_time": "2019-10-17T22:56:30.395245Z"
    }
   },
   "outputs": [],
   "source": [
    "X = df.iloc[:,:-1].values\n",
    "Y = df.iloc[:,-1].values"
   ]
  },
  {
   "cell_type": "code",
   "execution_count": 4,
   "metadata": {
    "ExecuteTime": {
     "end_time": "2019-10-17T22:56:32.014010Z",
     "start_time": "2019-10-17T22:56:31.880238Z"
    }
   },
   "outputs": [],
   "source": [
    "train_x, test_x, train_y, test_y = train_test_split(X, Y, train_size=0.8)"
   ]
  },
  {
   "cell_type": "markdown",
   "metadata": {},
   "source": [
    "## Logistic"
   ]
  },
  {
   "cell_type": "code",
   "execution_count": null,
   "metadata": {},
   "outputs": [],
   "source": [
    "lr = LogisticRegression()\n",
    "lr.fit(train_x, train_y)\n",
    "print('Score of Logistic :', lr.score(test_x, test_y))\n",
    "y_pred = lr.predict(test_x)\n",
    "confusion_matrix(y_pred, test_y)"
   ]
  },
  {
   "cell_type": "markdown",
   "metadata": {},
   "source": [
    "## Deep NN"
   ]
  },
  {
   "cell_type": "code",
   "execution_count": 5,
   "metadata": {
    "ExecuteTime": {
     "end_time": "2019-10-17T22:56:32.919967Z",
     "start_time": "2019-10-17T22:56:32.762909Z"
    }
   },
   "outputs": [
    {
     "name": "stderr",
     "output_type": "stream",
     "text": [
      "WARNING: Logging before flag parsing goes to stderr.\n",
      "W1017 22:56:32.766088 140409136866688 deprecation_wrapper.py:119] From /home/sarthak/anaconda3/lib/python3.7/site-packages/keras/backend/tensorflow_backend.py:74: The name tf.get_default_graph is deprecated. Please use tf.compat.v1.get_default_graph instead.\n",
      "\n",
      "W1017 22:56:32.785097 140409136866688 deprecation_wrapper.py:119] From /home/sarthak/anaconda3/lib/python3.7/site-packages/keras/backend/tensorflow_backend.py:517: The name tf.placeholder is deprecated. Please use tf.compat.v1.placeholder instead.\n",
      "\n",
      "W1017 22:56:32.788446 140409136866688 deprecation_wrapper.py:119] From /home/sarthak/anaconda3/lib/python3.7/site-packages/keras/backend/tensorflow_backend.py:4138: The name tf.random_uniform is deprecated. Please use tf.random.uniform instead.\n",
      "\n",
      "W1017 22:56:32.803271 140409136866688 deprecation_wrapper.py:119] From /home/sarthak/anaconda3/lib/python3.7/site-packages/keras/backend/tensorflow_backend.py:133: The name tf.placeholder_with_default is deprecated. Please use tf.compat.v1.placeholder_with_default instead.\n",
      "\n",
      "W1017 22:56:32.811797 140409136866688 deprecation.py:506] From /home/sarthak/anaconda3/lib/python3.7/site-packages/keras/backend/tensorflow_backend.py:3445: calling dropout (from tensorflow.python.ops.nn_ops) with keep_prob is deprecated and will be removed in a future version.\n",
      "Instructions for updating:\n",
      "Please use `rate` instead of `keep_prob`. Rate should be set to `rate = 1 - keep_prob`.\n",
      "W1017 22:56:32.877796 140409136866688 deprecation_wrapper.py:119] From /home/sarthak/anaconda3/lib/python3.7/site-packages/keras/optimizers.py:790: The name tf.train.Optimizer is deprecated. Please use tf.compat.v1.train.Optimizer instead.\n",
      "\n",
      "W1017 22:56:32.894987 140409136866688 deprecation_wrapper.py:119] From /home/sarthak/anaconda3/lib/python3.7/site-packages/keras/backend/tensorflow_backend.py:3376: The name tf.log is deprecated. Please use tf.math.log instead.\n",
      "\n",
      "W1017 22:56:32.900050 140409136866688 deprecation.py:323] From /home/sarthak/anaconda3/lib/python3.7/site-packages/tensorflow/python/ops/nn_impl.py:180: add_dispatch_support.<locals>.wrapper (from tensorflow.python.ops.array_ops) is deprecated and will be removed in a future version.\n",
      "Instructions for updating:\n",
      "Use tf.where in 2.0, which has the same broadcast rule as np.where\n"
     ]
    }
   ],
   "source": [
    "model = Sequential()\n",
    "model.add(Dense(100, activation='relu', input_dim=200))\n",
    "model.add(Dropout(0.5))\n",
    "model.add(Dense(50, activation='relu'))\n",
    "model.add(Dropout(0.5))\n",
    "model.add(Dense(25, activation='relu'))\n",
    "model.add(Dense(1, activation='sigmoid'))\n",
    "\n",
    "model.compile(optimizer='rmsprop',\n",
    "              loss='binary_crossentropy',\n",
    "              metrics=['accuracy'])"
   ]
  },
  {
   "cell_type": "code",
   "execution_count": 6,
   "metadata": {
    "ExecuteTime": {
     "end_time": "2019-10-17T22:56:41.755562Z",
     "start_time": "2019-10-17T22:56:34.279230Z"
    }
   },
   "outputs": [
    {
     "name": "stdout",
     "output_type": "stream",
     "text": [
      "Epoch 1/2\n",
      "17580/17580 [==============================] - 4s 229us/step - loss: 0.6577 - acc: 0.6387\n",
      "Epoch 2/2\n",
      "17580/17580 [==============================] - 3s 169us/step - loss: 0.6551 - acc: 0.6415\n"
     ]
    },
    {
     "data": {
      "text/plain": [
       "<keras.callbacks.History at 0x7fb388389518>"
      ]
     },
     "execution_count": 6,
     "metadata": {},
     "output_type": "execute_result"
    }
   ],
   "source": [
    "model.fit(train_x, train_y, epochs=2, batch_size=32)"
   ]
  },
  {
   "cell_type": "markdown",
   "metadata": {},
   "source": [
    "## Deep Conv NN"
   ]
  },
  {
   "cell_type": "code",
   "execution_count": 8,
   "metadata": {
    "ExecuteTime": {
     "end_time": "2019-10-17T22:56:51.647076Z",
     "start_time": "2019-10-17T22:56:51.512809Z"
    }
   },
   "outputs": [],
   "source": [
    "ndata, nfeature = X.shape\n",
    "X_Conv = X.reshape(ndata, nfeature, 1)\n",
    "input_shape = (nfeature, 1)\n",
    "ctrain_x, ctest_x, ctrain_y, ctest_y = train_test_split(X_Conv, Y, train_size=0.8)"
   ]
  },
  {
   "cell_type": "code",
   "execution_count": 9,
   "metadata": {
    "ExecuteTime": {
     "end_time": "2019-10-17T22:56:54.404420Z",
     "start_time": "2019-10-17T22:56:54.216598Z"
    }
   },
   "outputs": [
    {
     "name": "stderr",
     "output_type": "stream",
     "text": [
      "W1017 22:56:54.277067 140409136866688 deprecation_wrapper.py:119] From /home/sarthak/anaconda3/lib/python3.7/site-packages/keras/backend/tensorflow_backend.py:3976: The name tf.nn.max_pool is deprecated. Please use tf.nn.max_pool2d instead.\n",
      "\n"
     ]
    }
   ],
   "source": [
    "model = Sequential()\n",
    "\n",
    "model.add(Conv1D(filters=30, kernel_size=2, input_shape=input_shape,kernel_initializer= 'uniform', activation= 'relu')) \n",
    "model.add(Conv1D(filters=12, kernel_size=2, kernel_initializer= 'uniform', activation= 'relu')) \n",
    "model.add(Conv1D(filters=10, kernel_size=2, kernel_initializer= 'uniform', activation= 'relu')) \n",
    "\n",
    "model.add(MaxPooling1D(pool_size=2))\n",
    "\n",
    "model.add(Flatten())\n",
    "model.add(Dense(100, activation='relu'))\n",
    "model.add(Dropout(0.5))\n",
    "model.add(Dense(50, activation='relu'))\n",
    "model.add(Dropout(0.5))\n",
    "model.add(Dense(25, activation='relu'))\n",
    "model.add(Dense(1, activation='sigmoid'))\n",
    "\n",
    "model.compile(optimizer='rmsprop',\n",
    "              loss='binary_crossentropy',\n",
    "              metrics=['accuracy'])"
   ]
  },
  {
   "cell_type": "code",
   "execution_count": 10,
   "metadata": {
    "ExecuteTime": {
     "end_time": "2019-10-17T22:57:30.184085Z",
     "start_time": "2019-10-17T22:57:00.436913Z"
    }
   },
   "outputs": [
    {
     "name": "stdout",
     "output_type": "stream",
     "text": [
      "Epoch 1/2\n",
      "17580/17580 [==============================] - 16s 883us/step - loss: 0.6562 - acc: 0.6414\n",
      "Epoch 2/2\n",
      "17580/17580 [==============================] - 14s 783us/step - loss: 0.6536 - acc: 0.6415\n"
     ]
    },
    {
     "data": {
      "text/plain": [
       "<keras.callbacks.History at 0x7fb340449fd0>"
      ]
     },
     "execution_count": 10,
     "metadata": {},
     "output_type": "execute_result"
    }
   ],
   "source": [
    "model.fit(ctrain_x, train_y, epochs=2, batch_size=32)"
   ]
  },
  {
   "cell_type": "markdown",
   "metadata": {},
   "source": [
    "## Deep Conv NN with seperate conv for target and drug"
   ]
  },
  {
   "cell_type": "code",
   "execution_count": 11,
   "metadata": {
    "ExecuteTime": {
     "end_time": "2019-10-17T22:57:31.903791Z",
     "start_time": "2019-10-17T22:57:31.765956Z"
    }
   },
   "outputs": [],
   "source": [
    "target = df.iloc[:, :100].values\n",
    "drug = df.iloc[:, 100:-1].values\n",
    "ndata, nfeature = target.shape\n",
    "input_shape = (nfeature, 1)\n",
    "train_idx, test_idx, dt_train_y, dt_test_y = train_test_split(np.arange(0, ndata), Y, train_size=0.8)\n",
    "train_target = target[train_idx]\n",
    "test_target = target[test_idx]\n",
    "train_drug = drug[train_idx]\n",
    "test_drug = drug[test_idx]"
   ]
  },
  {
   "cell_type": "code",
   "execution_count": 12,
   "metadata": {
    "ExecuteTime": {
     "end_time": "2019-10-17T22:57:32.809453Z",
     "start_time": "2019-10-17T22:57:32.804111Z"
    }
   },
   "outputs": [],
   "source": [
    "train_size = train_target.shape[0]\n",
    "test_size = test_target.shape[0]\n",
    "train_target = train_target.reshape(train_size, nfeature, 1)\n",
    "test_target = test_target.reshape(test_size, nfeature, 1)\n",
    "train_drug = train_target.reshape(train_size, nfeature, 1)\n",
    "test_drug = test_target.reshape(test_size, nfeature, 1)"
   ]
  },
  {
   "cell_type": "code",
   "execution_count": 13,
   "metadata": {
    "ExecuteTime": {
     "end_time": "2019-10-17T22:57:34.288474Z",
     "start_time": "2019-10-17T22:57:34.065340Z"
    }
   },
   "outputs": [],
   "source": [
    "model1 = Sequential(layers=[\n",
    "    # input layers and convolutional layers\n",
    "    Conv1D(filters=30, kernel_size=2, input_shape=input_shape,kernel_initializer= 'uniform', activation= 'relu'),\n",
    "    Conv1D(filters=10, kernel_size=2, kernel_initializer= 'uniform', activation= 'relu'),\n",
    "    Dropout(.5),\n",
    "\n",
    "])\n",
    "\n",
    "model2 = Sequential(layers=[\n",
    "    # input layers and convolutional layers\n",
    "    Conv1D(filters=30, kernel_size=2, input_shape=input_shape,kernel_initializer= 'uniform', activation= 'relu'),\n",
    "    Conv1D(filters=10, kernel_size=2, kernel_initializer= 'uniform', activation= 'relu'),\n",
    "    Dropout(.5),\n",
    "\n",
    "])\n",
    "\n",
    "mergedOut = Concatenate()([model1.output,model2.output])\n",
    "mergedOut = Flatten()(mergedOut)    \n",
    "mergedOut = Dense(256, activation='relu')(mergedOut)\n",
    "mergedOut = Dropout(.5)(mergedOut)\n",
    "mergedOut = Dense(128, activation='relu')(mergedOut)\n",
    "mergedOut = Dropout(.35)(mergedOut)\n",
    "\n",
    "# output layer\n",
    "mergedOut = Dense(1, activation='sigmoid')(mergedOut)\n",
    "newModel = Model([model1.input,model2.input], mergedOut)\n",
    "\n",
    "newModel.compile(optimizer='rmsprop',\n",
    "              loss='binary_crossentropy',\n",
    "              metrics=['accuracy'])"
   ]
  },
  {
   "cell_type": "code",
   "execution_count": 14,
   "metadata": {
    "ExecuteTime": {
     "end_time": "2019-10-17T22:58:05.384455Z",
     "start_time": "2019-10-17T22:57:35.216435Z"
    }
   },
   "outputs": [
    {
     "name": "stdout",
     "output_type": "stream",
     "text": [
      "Epoch 1/2\n",
      "17580/17580 [==============================] - 16s 887us/step - loss: 0.6559 - acc: 0.6406\n",
      "Epoch 2/2\n",
      "17580/17580 [==============================] - 14s 788us/step - loss: 0.6546 - acc: 0.6411\n"
     ]
    },
    {
     "data": {
      "text/plain": [
       "<keras.callbacks.History at 0x7fb340449d30>"
      ]
     },
     "execution_count": 14,
     "metadata": {},
     "output_type": "execute_result"
    }
   ],
   "source": [
    "newModel.fit([train_target, train_drug], dt_train_y,epochs=2, batch_size=32)   "
   ]
  }
 ],
 "metadata": {
  "kernelspec": {
   "display_name": "Python 3",
   "language": "python",
   "name": "python3"
  },
  "language_info": {
   "codemirror_mode": {
    "name": "ipython",
    "version": 3
   },
   "file_extension": ".py",
   "mimetype": "text/x-python",
   "name": "python",
   "nbconvert_exporter": "python",
   "pygments_lexer": "ipython3",
   "version": "3.7.3"
  }
 },
 "nbformat": 4,
 "nbformat_minor": 2
}
