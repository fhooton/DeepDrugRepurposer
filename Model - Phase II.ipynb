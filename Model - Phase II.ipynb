{
 "cells": [
  {
   "cell_type": "code",
   "execution_count": 1,
   "metadata": {
    "scrolled": true
   },
   "outputs": [
    {
     "name": "stderr",
     "output_type": "stream",
     "text": [
      "Using TensorFlow backend.\n",
      "/usr/local/lib/python3.5/dist-packages/tensorflow/python/framework/dtypes.py:516: FutureWarning: Passing (type, 1) or '1type' as a synonym of type is deprecated; in a future version of numpy, it will be understood as (type, (1,)) / '(1,)type'.\n",
      "  _np_qint8 = np.dtype([(\"qint8\", np.int8, 1)])\n",
      "/usr/local/lib/python3.5/dist-packages/tensorflow/python/framework/dtypes.py:517: FutureWarning: Passing (type, 1) or '1type' as a synonym of type is deprecated; in a future version of numpy, it will be understood as (type, (1,)) / '(1,)type'.\n",
      "  _np_quint8 = np.dtype([(\"quint8\", np.uint8, 1)])\n",
      "/usr/local/lib/python3.5/dist-packages/tensorflow/python/framework/dtypes.py:518: FutureWarning: Passing (type, 1) or '1type' as a synonym of type is deprecated; in a future version of numpy, it will be understood as (type, (1,)) / '(1,)type'.\n",
      "  _np_qint16 = np.dtype([(\"qint16\", np.int16, 1)])\n",
      "/usr/local/lib/python3.5/dist-packages/tensorflow/python/framework/dtypes.py:519: FutureWarning: Passing (type, 1) or '1type' as a synonym of type is deprecated; in a future version of numpy, it will be understood as (type, (1,)) / '(1,)type'.\n",
      "  _np_quint16 = np.dtype([(\"quint16\", np.uint16, 1)])\n",
      "/usr/local/lib/python3.5/dist-packages/tensorflow/python/framework/dtypes.py:520: FutureWarning: Passing (type, 1) or '1type' as a synonym of type is deprecated; in a future version of numpy, it will be understood as (type, (1,)) / '(1,)type'.\n",
      "  _np_qint32 = np.dtype([(\"qint32\", np.int32, 1)])\n",
      "/usr/local/lib/python3.5/dist-packages/tensorflow/python/framework/dtypes.py:525: FutureWarning: Passing (type, 1) or '1type' as a synonym of type is deprecated; in a future version of numpy, it will be understood as (type, (1,)) / '(1,)type'.\n",
      "  np_resource = np.dtype([(\"resource\", np.ubyte, 1)])\n",
      "/usr/local/lib/python3.5/dist-packages/tensorboard/compat/tensorflow_stub/dtypes.py:541: FutureWarning: Passing (type, 1) or '1type' as a synonym of type is deprecated; in a future version of numpy, it will be understood as (type, (1,)) / '(1,)type'.\n",
      "  _np_qint8 = np.dtype([(\"qint8\", np.int8, 1)])\n",
      "/usr/local/lib/python3.5/dist-packages/tensorboard/compat/tensorflow_stub/dtypes.py:542: FutureWarning: Passing (type, 1) or '1type' as a synonym of type is deprecated; in a future version of numpy, it will be understood as (type, (1,)) / '(1,)type'.\n",
      "  _np_quint8 = np.dtype([(\"quint8\", np.uint8, 1)])\n",
      "/usr/local/lib/python3.5/dist-packages/tensorboard/compat/tensorflow_stub/dtypes.py:543: FutureWarning: Passing (type, 1) or '1type' as a synonym of type is deprecated; in a future version of numpy, it will be understood as (type, (1,)) / '(1,)type'.\n",
      "  _np_qint16 = np.dtype([(\"qint16\", np.int16, 1)])\n",
      "/usr/local/lib/python3.5/dist-packages/tensorboard/compat/tensorflow_stub/dtypes.py:544: FutureWarning: Passing (type, 1) or '1type' as a synonym of type is deprecated; in a future version of numpy, it will be understood as (type, (1,)) / '(1,)type'.\n",
      "  _np_quint16 = np.dtype([(\"quint16\", np.uint16, 1)])\n",
      "/usr/local/lib/python3.5/dist-packages/tensorboard/compat/tensorflow_stub/dtypes.py:545: FutureWarning: Passing (type, 1) or '1type' as a synonym of type is deprecated; in a future version of numpy, it will be understood as (type, (1,)) / '(1,)type'.\n",
      "  _np_qint32 = np.dtype([(\"qint32\", np.int32, 1)])\n",
      "/usr/local/lib/python3.5/dist-packages/tensorboard/compat/tensorflow_stub/dtypes.py:550: FutureWarning: Passing (type, 1) or '1type' as a synonym of type is deprecated; in a future version of numpy, it will be understood as (type, (1,)) / '(1,)type'.\n",
      "  np_resource = np.dtype([(\"resource\", np.ubyte, 1)])\n"
     ]
    }
   ],
   "source": [
    "import pickle as pkl\n",
    "\n",
    "import pandas as pd\n",
    "import numpy as np\n",
    "import seaborn as sns\n",
    "import matplotlib.pyplot as plt\n",
    "\n",
    "from sklearn.preprocessing import LabelEncoder\n",
    "\n",
    "from sklearn.model_selection import train_test_split\n",
    "from sklearn.linear_model import LogisticRegression\n",
    "from sklearn.metrics import confusion_matrix, f1_score\n",
    "from keras.models import Sequential, Model\n",
    "from keras.layers import Dense, Activation, Dropout, Conv1D, Flatten, MaxPooling1D, AveragePooling1D, Concatenate, LeakyReLU\n",
    "from keras.utils.vis_utils import plot_model"
   ]
  },
  {
   "cell_type": "markdown",
   "metadata": {},
   "source": [
    "### Get postive samples"
   ]
  },
  {
   "cell_type": "code",
   "execution_count": 36,
   "metadata": {},
   "outputs": [],
   "source": [
    "drugbank = pkl.load(open('data/drugbank_embds.pkl', 'rb'))"
   ]
  },
  {
   "cell_type": "code",
   "execution_count": 3,
   "metadata": {},
   "outputs": [],
   "source": [
    "drugbank['target_gene_code'] = drugbank['target_gene'].apply(lambda x: ''.join(list(x.split('\\n')[1:])))\n",
    "drugbank['target_amino_code'] = drugbank['target_amino'].apply(lambda x: ''.join(list(x.split('\\n')[1:])))"
   ]
  },
  {
   "cell_type": "code",
   "execution_count": 4,
   "metadata": {},
   "outputs": [],
   "source": [
    "with open ('data/chem_cid_SMILE_fngr_vector_fngr.pickle', 'rb') as f:\n",
    "    smiles_df = pkl.load(f)\n",
    "    \n",
    "smiles_df['cid'] = smiles_df['cid'].astype(int)\n",
    "drugbank = pd.merge(smiles_df, drugbank, right_on = 'pubchem_id', left_on = 'cid', how = 'right')"
   ]
  },
  {
   "cell_type": "code",
   "execution_count": 5,
   "metadata": {
    "scrolled": true
   },
   "outputs": [],
   "source": [
    "drugbank = drugbank[['drug_id', 'target_id', 'fingerprint', 'target_gene_code']]\n",
    "drugbank = drugbank[~ drugbank['fingerprint'].isna()]\n",
    "drugbank = drugbank.rename(columns = {'fingerprint': 'drug_fingerprint_code', 'target_id': 'gene_id'})"
   ]
  },
  {
   "cell_type": "code",
   "execution_count": 6,
   "metadata": {},
   "outputs": [
    {
     "data": {
      "text/html": [
       "<div>\n",
       "<style scoped>\n",
       "    .dataframe tbody tr th:only-of-type {\n",
       "        vertical-align: middle;\n",
       "    }\n",
       "\n",
       "    .dataframe tbody tr th {\n",
       "        vertical-align: top;\n",
       "    }\n",
       "\n",
       "    .dataframe thead th {\n",
       "        text-align: right;\n",
       "    }\n",
       "</style>\n",
       "<table border=\"1\" class=\"dataframe\">\n",
       "  <thead>\n",
       "    <tr style=\"text-align: right;\">\n",
       "      <th></th>\n",
       "      <th>drug_id</th>\n",
       "      <th>gene_id</th>\n",
       "      <th>drug_fingerprint_code</th>\n",
       "      <th>target_gene_code</th>\n",
       "    </tr>\n",
       "  </thead>\n",
       "  <tbody>\n",
       "    <tr>\n",
       "      <th>0</th>\n",
       "      <td>DB03313</td>\n",
       "      <td>BE0001349</td>\n",
       "      <td>2246728737 3545365497 2246699815 2664995851 86...</td>\n",
       "      <td>ATGGTCTCAGGAACGGTGGGCAGAGGTACGGCGCTGGGCGCGGTGC...</td>\n",
       "    </tr>\n",
       "    <tr>\n",
       "      <th>1</th>\n",
       "      <td>DB03313</td>\n",
       "      <td>BE0004335</td>\n",
       "      <td>2246728737 3545365497 2246699815 2664995851 86...</td>\n",
       "      <td>ATGCAAAATCAATTAAATGAATTAAAACGAAAAATGCTGGAATTTT...</td>\n",
       "    </tr>\n",
       "    <tr>\n",
       "      <th>2</th>\n",
       "      <td>DB03313</td>\n",
       "      <td>BE0004290</td>\n",
       "      <td>2246728737 3545365497 2246699815 2664995851 86...</td>\n",
       "      <td>ATGAACAAACCAACGATTCTGCGCCTAATCAAGTATCTGAGCATTA...</td>\n",
       "    </tr>\n",
       "    <tr>\n",
       "      <th>3</th>\n",
       "      <td>DB03313</td>\n",
       "      <td>BE0003624</td>\n",
       "      <td>2246728737 3545365497 2246699815 2664995851 86...</td>\n",
       "      <td>ATGAGACTGATTTGTATGAGAAAATTTAACAGCCATTCGATTCCGA...</td>\n",
       "    </tr>\n",
       "    <tr>\n",
       "      <th>4</th>\n",
       "      <td>DB03313</td>\n",
       "      <td>BE0004644</td>\n",
       "      <td>2246728737 3545365497 2246699815 2664995851 86...</td>\n",
       "      <td>ATGAAATTAGATAAATTATTTGAGAAATTTCTTTCTCTTTTTAAAA...</td>\n",
       "    </tr>\n",
       "    <tr>\n",
       "      <th>...</th>\n",
       "      <td>...</td>\n",
       "      <td>...</td>\n",
       "      <td>...</td>\n",
       "      <td>...</td>\n",
       "    </tr>\n",
       "    <tr>\n",
       "      <th>14071</th>\n",
       "      <td>DB02843</td>\n",
       "      <td>BE0001369</td>\n",
       "      <td>2245384272 3153477100 2976033787 1916236386 29...</td>\n",
       "      <td>ATGAGCACTGTAAAAGCACCGACGCTGCCCGCCAGCATCTTCCGCG...</td>\n",
       "    </tr>\n",
       "    <tr>\n",
       "      <th>14072</th>\n",
       "      <td>DB02843</td>\n",
       "      <td>BE0000916</td>\n",
       "      <td>2245384272 3153477100 2976033787 1916236386 29...</td>\n",
       "      <td>ATGTCCCGGCCCCTGTCAGACCAAGAGAAAAGAAAGCAAATCAGTG...</td>\n",
       "    </tr>\n",
       "    <tr>\n",
       "      <th>14073</th>\n",
       "      <td>DB02843</td>\n",
       "      <td>BE0002493</td>\n",
       "      <td>2245384272 3153477100 2976033787 1916236386 29...</td>\n",
       "      <td>ATGAAACGCAAGGGCATCATCCTCGCCGGAGGCTCGGGCACCCGCC...</td>\n",
       "    </tr>\n",
       "    <tr>\n",
       "      <th>14074</th>\n",
       "      <td>DB02843</td>\n",
       "      <td>BE0001698</td>\n",
       "      <td>2245384272 3153477100 2976033787 1916236386 29...</td>\n",
       "      <td>ATGTCACAACCTATTTTTAACGATAAGCAATTTCAGGAAGCGCTTT...</td>\n",
       "    </tr>\n",
       "    <tr>\n",
       "      <th>14075</th>\n",
       "      <td>DB02843</td>\n",
       "      <td>BE0001703</td>\n",
       "      <td>2245384272 3153477100 2976033787 1916236386 29...</td>\n",
       "      <td>ATGAACAAAACGCTAATCGCCGCAGCTGTGGCAGGGATAGTTTTAC...</td>\n",
       "    </tr>\n",
       "  </tbody>\n",
       "</table>\n",
       "<p>14076 rows × 4 columns</p>\n",
       "</div>"
      ],
      "text/plain": [
       "       drug_id    gene_id                              drug_fingerprint_code  \\\n",
       "0      DB03313  BE0001349  2246728737 3545365497 2246699815 2664995851 86...   \n",
       "1      DB03313  BE0004335  2246728737 3545365497 2246699815 2664995851 86...   \n",
       "2      DB03313  BE0004290  2246728737 3545365497 2246699815 2664995851 86...   \n",
       "3      DB03313  BE0003624  2246728737 3545365497 2246699815 2664995851 86...   \n",
       "4      DB03313  BE0004644  2246728737 3545365497 2246699815 2664995851 86...   \n",
       "...        ...        ...                                                ...   \n",
       "14071  DB02843  BE0001369  2245384272 3153477100 2976033787 1916236386 29...   \n",
       "14072  DB02843  BE0000916  2245384272 3153477100 2976033787 1916236386 29...   \n",
       "14073  DB02843  BE0002493  2245384272 3153477100 2976033787 1916236386 29...   \n",
       "14074  DB02843  BE0001698  2245384272 3153477100 2976033787 1916236386 29...   \n",
       "14075  DB02843  BE0001703  2245384272 3153477100 2976033787 1916236386 29...   \n",
       "\n",
       "                                        target_gene_code  \n",
       "0      ATGGTCTCAGGAACGGTGGGCAGAGGTACGGCGCTGGGCGCGGTGC...  \n",
       "1      ATGCAAAATCAATTAAATGAATTAAAACGAAAAATGCTGGAATTTT...  \n",
       "2      ATGAACAAACCAACGATTCTGCGCCTAATCAAGTATCTGAGCATTA...  \n",
       "3      ATGAGACTGATTTGTATGAGAAAATTTAACAGCCATTCGATTCCGA...  \n",
       "4      ATGAAATTAGATAAATTATTTGAGAAATTTCTTTCTCTTTTTAAAA...  \n",
       "...                                                  ...  \n",
       "14071  ATGAGCACTGTAAAAGCACCGACGCTGCCCGCCAGCATCTTCCGCG...  \n",
       "14072  ATGTCCCGGCCCCTGTCAGACCAAGAGAAAAGAAAGCAAATCAGTG...  \n",
       "14073  ATGAAACGCAAGGGCATCATCCTCGCCGGAGGCTCGGGCACCCGCC...  \n",
       "14074  ATGTCACAACCTATTTTTAACGATAAGCAATTTCAGGAAGCGCTTT...  \n",
       "14075  ATGAACAAAACGCTAATCGCCGCAGCTGTGGCAGGGATAGTTTTAC...  \n",
       "\n",
       "[14076 rows x 4 columns]"
      ]
     },
     "execution_count": 6,
     "metadata": {},
     "output_type": "execute_result"
    }
   ],
   "source": [
    "drugbank"
   ]
  },
  {
   "cell_type": "markdown",
   "metadata": {},
   "source": [
    "### Get DrugID -> Finderprint mapping from positive samples"
   ]
  },
  {
   "cell_type": "code",
   "execution_count": 7,
   "metadata": {},
   "outputs": [],
   "source": [
    "drug_map = drugbank[['drug_id', 'drug_fingerprint_code']].drop_duplicates('drug_id').set_index('drug_id')\n",
    "target_map = drugbank[['gene_id', 'target_gene_code']].drop_duplicates('gene_id').set_index('gene_id')"
   ]
  },
  {
   "cell_type": "code",
   "execution_count": 8,
   "metadata": {},
   "outputs": [],
   "source": [
    "negative_df = pd.read_csv('negative_samples/negative_samples_thrsh:12')[['node_0','node_1','shortest_path']] \n",
    "negative_df = negative_df.rename(columns = {'node_0': 'drug_id', 'node_1': 'gene_id'})\n",
    "negative_df = negative_df[negative_df['drug_id'].str.contains('DB') & negative_df['gene_id'].str.contains('BE')]"
   ]
  },
  {
   "cell_type": "code",
   "execution_count": 9,
   "metadata": {},
   "outputs": [],
   "source": [
    "negative_df = pd.merge(negative_df, drug_map, left_on = 'drug_id', right_index = True, how = 'left')\n",
    "negative_df = pd.merge(negative_df, target_map, left_on = 'gene_id', right_index = True, how = 'left')"
   ]
  },
  {
   "cell_type": "code",
   "execution_count": 10,
   "metadata": {},
   "outputs": [
    {
     "data": {
      "text/html": [
       "<div>\n",
       "<style scoped>\n",
       "    .dataframe tbody tr th:only-of-type {\n",
       "        vertical-align: middle;\n",
       "    }\n",
       "\n",
       "    .dataframe tbody tr th {\n",
       "        vertical-align: top;\n",
       "    }\n",
       "\n",
       "    .dataframe thead th {\n",
       "        text-align: right;\n",
       "    }\n",
       "</style>\n",
       "<table border=\"1\" class=\"dataframe\">\n",
       "  <thead>\n",
       "    <tr style=\"text-align: right;\">\n",
       "      <th></th>\n",
       "      <th>drug_id</th>\n",
       "      <th>gene_id</th>\n",
       "      <th>shortest_path</th>\n",
       "      <th>drug_fingerprint_code</th>\n",
       "      <th>target_gene_code</th>\n",
       "    </tr>\n",
       "  </thead>\n",
       "  <tbody>\n",
       "    <tr>\n",
       "      <th>1</th>\n",
       "      <td>DB04481</td>\n",
       "      <td>BE0002266</td>\n",
       "      <td>12.0</td>\n",
       "      <td>2245384272 4022716898 2245273601 1735424888 22...</td>\n",
       "      <td>ATGGCGACCTCCACGGGTCGCTGGCTTCTCCTCCGGCTTGCACTAT...</td>\n",
       "    </tr>\n",
       "    <tr>\n",
       "      <th>3</th>\n",
       "      <td>DB04481</td>\n",
       "      <td>BE0000206</td>\n",
       "      <td>13.0</td>\n",
       "      <td>2245384272 4022716898 2245273601 1735424888 22...</td>\n",
       "      <td>ATGTTTGACTGTATGGATGTTCTGTCAGTGAGTCCTGGGCAAATCC...</td>\n",
       "    </tr>\n",
       "    <tr>\n",
       "      <th>4</th>\n",
       "      <td>DB04481</td>\n",
       "      <td>BE0002401</td>\n",
       "      <td>13.0</td>\n",
       "      <td>2245384272 4022716898 2245273601 1735424888 22...</td>\n",
       "      <td>ATGGCAGCAGACCTGGGCCCCTGGAATGACACCATCAATGGCACCT...</td>\n",
       "    </tr>\n",
       "    <tr>\n",
       "      <th>6</th>\n",
       "      <td>DB04481</td>\n",
       "      <td>BE0004180</td>\n",
       "      <td>13.0</td>\n",
       "      <td>2245384272 4022716898 2245273601 1735424888 22...</td>\n",
       "      <td>ATGACGGAAAACAAAGGATCTTCTCAGCCTAAGAAAAACGGTAATA...</td>\n",
       "    </tr>\n",
       "    <tr>\n",
       "      <th>10</th>\n",
       "      <td>DB04481</td>\n",
       "      <td>BE0002840</td>\n",
       "      <td>12.0</td>\n",
       "      <td>2245384272 4022716898 2245273601 1735424888 22...</td>\n",
       "      <td>ATGAAATTTCTTCTGGACATCCTCCTGCTTCTCCCGTTACTGATCG...</td>\n",
       "    </tr>\n",
       "  </tbody>\n",
       "</table>\n",
       "</div>"
      ],
      "text/plain": [
       "    drug_id    gene_id  shortest_path  \\\n",
       "1   DB04481  BE0002266           12.0   \n",
       "3   DB04481  BE0000206           13.0   \n",
       "4   DB04481  BE0002401           13.0   \n",
       "6   DB04481  BE0004180           13.0   \n",
       "10  DB04481  BE0002840           12.0   \n",
       "\n",
       "                                drug_fingerprint_code  \\\n",
       "1   2245384272 4022716898 2245273601 1735424888 22...   \n",
       "3   2245384272 4022716898 2245273601 1735424888 22...   \n",
       "4   2245384272 4022716898 2245273601 1735424888 22...   \n",
       "6   2245384272 4022716898 2245273601 1735424888 22...   \n",
       "10  2245384272 4022716898 2245273601 1735424888 22...   \n",
       "\n",
       "                                     target_gene_code  \n",
       "1   ATGGCGACCTCCACGGGTCGCTGGCTTCTCCTCCGGCTTGCACTAT...  \n",
       "3   ATGTTTGACTGTATGGATGTTCTGTCAGTGAGTCCTGGGCAAATCC...  \n",
       "4   ATGGCAGCAGACCTGGGCCCCTGGAATGACACCATCAATGGCACCT...  \n",
       "6   ATGACGGAAAACAAAGGATCTTCTCAGCCTAAGAAAAACGGTAATA...  \n",
       "10  ATGAAATTTCTTCTGGACATCCTCCTGCTTCTCCCGTTACTGATCG...  "
      ]
     },
     "execution_count": 10,
     "metadata": {},
     "output_type": "execute_result"
    }
   ],
   "source": [
    "negative_df.head()"
   ]
  },
  {
   "cell_type": "markdown",
   "metadata": {},
   "source": [
    "#### Note: Around 13% of negative samples don't match a drug id. Since the number is small, we ignore it for now"
   ]
  },
  {
   "cell_type": "code",
   "execution_count": 11,
   "metadata": {},
   "outputs": [],
   "source": [
    "len(negative_df[(negative_df['target_gene_code'].isna()) |\n",
    "                (negative_df['drug_fingerprint_code'].isna())])/len(negative_df)\n",
    "\n",
    "negative_df = negative_df[(~ negative_df['target_gene_code'].isna()) &\n",
    "                (~ negative_df['drug_fingerprint_code'].isna())]"
   ]
  },
  {
   "cell_type": "code",
   "execution_count": 12,
   "metadata": {},
   "outputs": [
    {
     "name": "stderr",
     "output_type": "stream",
     "text": [
      "/home/omai.r/.local/lib/python3.5/site-packages/pandas/core/frame.py:7138: FutureWarning: Sorting because non-concatenation axis is not aligned. A future version\n",
      "of pandas will change to not sort by default.\n",
      "\n",
      "To accept the future behavior, pass 'sort=False'.\n",
      "\n",
      "To retain the current behavior and silence the warning, pass 'sort=True'.\n",
      "\n",
      "  sort=sort,\n"
     ]
    }
   ],
   "source": [
    "negative_df['Y'] = 0\n",
    "drugbank['Y'] = 1\n",
    "drugbank = drugbank.append(negative_df.sample(len(drugbank)))\n",
    "drugbank = drugbank.drop('shortest_path', axis = 1)"
   ]
  },
  {
   "cell_type": "code",
   "execution_count": 13,
   "metadata": {},
   "outputs": [
    {
     "data": {
      "text/html": [
       "<div>\n",
       "<style scoped>\n",
       "    .dataframe tbody tr th:only-of-type {\n",
       "        vertical-align: middle;\n",
       "    }\n",
       "\n",
       "    .dataframe tbody tr th {\n",
       "        vertical-align: top;\n",
       "    }\n",
       "\n",
       "    .dataframe thead th {\n",
       "        text-align: right;\n",
       "    }\n",
       "</style>\n",
       "<table border=\"1\" class=\"dataframe\">\n",
       "  <thead>\n",
       "    <tr style=\"text-align: right;\">\n",
       "      <th></th>\n",
       "      <th>Y</th>\n",
       "      <th>drug_fingerprint_code</th>\n",
       "      <th>drug_id</th>\n",
       "      <th>gene_id</th>\n",
       "      <th>target_gene_code</th>\n",
       "    </tr>\n",
       "  </thead>\n",
       "  <tbody>\n",
       "  </tbody>\n",
       "</table>\n",
       "</div>"
      ],
      "text/plain": [
       "Empty DataFrame\n",
       "Columns: [Y, drug_fingerprint_code, drug_id, gene_id, target_gene_code]\n",
       "Index: []"
      ]
     },
     "execution_count": 13,
     "metadata": {},
     "output_type": "execute_result"
    }
   ],
   "source": [
    "drugbank[drugbank['target_gene_code'].str.contains('S').isna()]"
   ]
  },
  {
   "cell_type": "code",
   "execution_count": 14,
   "metadata": {},
   "outputs": [],
   "source": [
    "drugbank = drugbank[~ drugbank['drug_fingerprint_code'].str.contains('n')]"
   ]
  },
  {
   "cell_type": "markdown",
   "metadata": {},
   "source": [
    "#### The dataset is clean and balanced"
   ]
  },
  {
   "cell_type": "code",
   "execution_count": 15,
   "metadata": {},
   "outputs": [
    {
     "data": {
      "text/plain": [
       "<matplotlib.axes._subplots.AxesSubplot at 0x7fc023a719b0>"
      ]
     },
     "execution_count": 15,
     "metadata": {},
     "output_type": "execute_result"
    },
    {
     "data": {
      "image/png": "[encoded data removed]",
      "text/plain": [
       "<Figure size 432x288 with 1 Axes>"
      ]
     },
     "metadata": {
      "needs_background": "light"
     },
     "output_type": "display_data"
    }
   ],
   "source": [
    "drugbank['Y'].hist()"
   ]
  },
  {
   "cell_type": "markdown",
   "metadata": {},
   "source": [
    "#### Preprocessing fingerprints to feed to CNN"
   ]
  },
  {
   "cell_type": "code",
   "execution_count": 16,
   "metadata": {},
   "outputs": [
    {
     "data": {
      "text/plain": [
       "LabelEncoder()"
      ]
     },
     "execution_count": 16,
     "metadata": {},
     "output_type": "execute_result"
    }
   ],
   "source": [
    "label_encoder = LabelEncoder()\n",
    "label_encoder.fit(list(drugbank['target_gene_code'].iloc[0]))"
   ]
  },
  {
   "cell_type": "code",
   "execution_count": 17,
   "metadata": {},
   "outputs": [],
   "source": [
    "gene_chars = set(list(drugbank['target_gene_code'].iloc[0]))"
   ]
  },
  {
   "cell_type": "code",
   "execution_count": 18,
   "metadata": {
    "scrolled": true
   },
   "outputs": [],
   "source": [
    "drugbank['target_gene_encoded'] = drugbank['target_gene_code'].apply(\\\n",
    "                                   lambda x: label_encoder.transform([i for i in list(x) if i in gene_chars]))"
   ]
  },
  {
   "cell_type": "code",
   "execution_count": 19,
   "metadata": {},
   "outputs": [],
   "source": [
    "drugbank['drug_fingerprint_encoded'] = drugbank['drug_fingerprint_code'].apply(lambda x: [int(i) for i in x.replace(' ', '')])"
   ]
  },
  {
   "cell_type": "code",
   "execution_count": 20,
   "metadata": {},
   "outputs": [
    {
     "data": {
      "text/html": [
       "<div>\n",
       "<style scoped>\n",
       "    .dataframe tbody tr th:only-of-type {\n",
       "        vertical-align: middle;\n",
       "    }\n",
       "\n",
       "    .dataframe tbody tr th {\n",
       "        vertical-align: top;\n",
       "    }\n",
       "\n",
       "    .dataframe thead th {\n",
       "        text-align: right;\n",
       "    }\n",
       "</style>\n",
       "<table border=\"1\" class=\"dataframe\">\n",
       "  <thead>\n",
       "    <tr style=\"text-align: right;\">\n",
       "      <th></th>\n",
       "      <th>Y</th>\n",
       "      <th>drug_fingerprint_code</th>\n",
       "      <th>drug_id</th>\n",
       "      <th>gene_id</th>\n",
       "      <th>target_gene_code</th>\n",
       "      <th>target_gene_encoded</th>\n",
       "      <th>drug_fingerprint_encoded</th>\n",
       "    </tr>\n",
       "  </thead>\n",
       "  <tbody>\n",
       "    <tr>\n",
       "      <th>0</th>\n",
       "      <td>1</td>\n",
       "      <td>2246728737 3545365497 2246699815 2664995851 86...</td>\n",
       "      <td>DB03313</td>\n",
       "      <td>BE0001349</td>\n",
       "      <td>ATGGTCTCAGGAACGGTGGGCAGAGGTACGGCGCTGGGCGCGGTGC...</td>\n",
       "      <td>[0, 3, 2, 2, 3, 1, 3, 1, 0, 2, 2, 0, 0, 1, 2, ...</td>\n",
       "      <td>[2, 2, 4, 6, 7, 2, 8, 7, 3, 7, 3, 5, 4, 5, 3, ...</td>\n",
       "    </tr>\n",
       "    <tr>\n",
       "      <th>1</th>\n",
       "      <td>1</td>\n",
       "      <td>2246728737 3545365497 2246699815 2664995851 86...</td>\n",
       "      <td>DB03313</td>\n",
       "      <td>BE0004335</td>\n",
       "      <td>ATGCAAAATCAATTAAATGAATTAAAACGAAAAATGCTGGAATTTT...</td>\n",
       "      <td>[0, 3, 2, 1, 0, 0, 0, 0, 3, 1, 0, 0, 3, 3, 0, ...</td>\n",
       "      <td>[2, 2, 4, 6, 7, 2, 8, 7, 3, 7, 3, 5, 4, 5, 3, ...</td>\n",
       "    </tr>\n",
       "    <tr>\n",
       "      <th>2</th>\n",
       "      <td>1</td>\n",
       "      <td>2246728737 3545365497 2246699815 2664995851 86...</td>\n",
       "      <td>DB03313</td>\n",
       "      <td>BE0004290</td>\n",
       "      <td>ATGAACAAACCAACGATTCTGCGCCTAATCAAGTATCTGAGCATTA...</td>\n",
       "      <td>[0, 3, 2, 0, 0, 1, 0, 0, 0, 1, 1, 0, 0, 1, 2, ...</td>\n",
       "      <td>[2, 2, 4, 6, 7, 2, 8, 7, 3, 7, 3, 5, 4, 5, 3, ...</td>\n",
       "    </tr>\n",
       "    <tr>\n",
       "      <th>3</th>\n",
       "      <td>1</td>\n",
       "      <td>2246728737 3545365497 2246699815 2664995851 86...</td>\n",
       "      <td>DB03313</td>\n",
       "      <td>BE0003624</td>\n",
       "      <td>ATGAGACTGATTTGTATGAGAAAATTTAACAGCCATTCGATTCCGA...</td>\n",
       "      <td>[0, 3, 2, 0, 2, 0, 1, 3, 2, 0, 3, 3, 3, 2, 3, ...</td>\n",
       "      <td>[2, 2, 4, 6, 7, 2, 8, 7, 3, 7, 3, 5, 4, 5, 3, ...</td>\n",
       "    </tr>\n",
       "    <tr>\n",
       "      <th>4</th>\n",
       "      <td>1</td>\n",
       "      <td>2246728737 3545365497 2246699815 2664995851 86...</td>\n",
       "      <td>DB03313</td>\n",
       "      <td>BE0004644</td>\n",
       "      <td>ATGAAATTAGATAAATTATTTGAGAAATTTCTTTCTCTTTTTAAAA...</td>\n",
       "      <td>[0, 3, 2, 0, 0, 0, 3, 3, 0, 2, 0, 3, 0, 0, 0, ...</td>\n",
       "      <td>[2, 2, 4, 6, 7, 2, 8, 7, 3, 7, 3, 5, 4, 5, 3, ...</td>\n",
       "    </tr>\n",
       "  </tbody>\n",
       "</table>\n",
       "</div>"
      ],
      "text/plain": [
       "   Y                              drug_fingerprint_code  drug_id    gene_id  \\\n",
       "0  1  2246728737 3545365497 2246699815 2664995851 86...  DB03313  BE0001349   \n",
       "1  1  2246728737 3545365497 2246699815 2664995851 86...  DB03313  BE0004335   \n",
       "2  1  2246728737 3545365497 2246699815 2664995851 86...  DB03313  BE0004290   \n",
       "3  1  2246728737 3545365497 2246699815 2664995851 86...  DB03313  BE0003624   \n",
       "4  1  2246728737 3545365497 2246699815 2664995851 86...  DB03313  BE0004644   \n",
       "\n",
       "                                    target_gene_code  \\\n",
       "0  ATGGTCTCAGGAACGGTGGGCAGAGGTACGGCGCTGGGCGCGGTGC...   \n",
       "1  ATGCAAAATCAATTAAATGAATTAAAACGAAAAATGCTGGAATTTT...   \n",
       "2  ATGAACAAACCAACGATTCTGCGCCTAATCAAGTATCTGAGCATTA...   \n",
       "3  ATGAGACTGATTTGTATGAGAAAATTTAACAGCCATTCGATTCCGA...   \n",
       "4  ATGAAATTAGATAAATTATTTGAGAAATTTCTTTCTCTTTTTAAAA...   \n",
       "\n",
       "                                 target_gene_encoded  \\\n",
       "0  [0, 3, 2, 2, 3, 1, 3, 1, 0, 2, 2, 0, 0, 1, 2, ...   \n",
       "1  [0, 3, 2, 1, 0, 0, 0, 0, 3, 1, 0, 0, 3, 3, 0, ...   \n",
       "2  [0, 3, 2, 0, 0, 1, 0, 0, 0, 1, 1, 0, 0, 1, 2, ...   \n",
       "3  [0, 3, 2, 0, 2, 0, 1, 3, 2, 0, 3, 3, 3, 2, 3, ...   \n",
       "4  [0, 3, 2, 0, 0, 0, 3, 3, 0, 2, 0, 3, 0, 0, 0, ...   \n",
       "\n",
       "                            drug_fingerprint_encoded  \n",
       "0  [2, 2, 4, 6, 7, 2, 8, 7, 3, 7, 3, 5, 4, 5, 3, ...  \n",
       "1  [2, 2, 4, 6, 7, 2, 8, 7, 3, 7, 3, 5, 4, 5, 3, ...  \n",
       "2  [2, 2, 4, 6, 7, 2, 8, 7, 3, 7, 3, 5, 4, 5, 3, ...  \n",
       "3  [2, 2, 4, 6, 7, 2, 8, 7, 3, 7, 3, 5, 4, 5, 3, ...  \n",
       "4  [2, 2, 4, 6, 7, 2, 8, 7, 3, 7, 3, 5, 4, 5, 3, ...  "
      ]
     },
     "execution_count": 20,
     "metadata": {},
     "output_type": "execute_result"
    }
   ],
   "source": [
    "drugbank.head()"
   ]
  },
  {
   "cell_type": "markdown",
   "metadata": {},
   "source": [
    "#### Calculate length mismatches and pad"
   ]
  },
  {
   "cell_type": "code",
   "execution_count": 21,
   "metadata": {},
   "outputs": [],
   "source": [
    "drugbank['target_gene_encoded_len'] = drugbank['target_gene_encoded']\\\n",
    "                                    .apply(lambda x: len(x))\n",
    "drugbank['drug_fingerprint_encoded_len'] = drugbank['drug_fingerprint_encoded']\\\n",
    "                                    .apply(lambda x: len(x))"
   ]
  },
  {
   "cell_type": "code",
   "execution_count": 22,
   "metadata": {},
   "outputs": [],
   "source": [
    "drugbank['mismatch'] = drugbank[['target_gene_encoded', 'drug_fingerprint_encoded']]\\\n",
    "                        .apply(lambda x: len(x['target_gene_encoded']) - len(x['drug_fingerprint_encoded']), axis = 1)"
   ]
  },
  {
   "cell_type": "code",
   "execution_count": 23,
   "metadata": {},
   "outputs": [
    {
     "data": {
      "text/plain": [
       "<matplotlib.axes._subplots.AxesSubplot at 0x7fc02296a4a8>"
      ]
     },
     "execution_count": 23,
     "metadata": {},
     "output_type": "execute_result"
    },
    {
     "data": {
      "image/png": "[encoded data removed]",
      "text/plain": [
       "<Figure size 720x360 with 1 Axes>"
      ]
     },
     "metadata": {
      "needs_background": "light"
     },
     "output_type": "display_data"
    }
   ],
   "source": [
    "drugbank['mismatch'].hist(bins = 100, figsize = (10, 5))"
   ]
  },
  {
   "cell_type": "code",
   "execution_count": 24,
   "metadata": {},
   "outputs": [
    {
     "name": "stdout",
     "output_type": "stream",
     "text": [
      "95 percent of the mismatches are of the range 22.982630 to 35.017370\n"
     ]
    }
   ],
   "source": [
    "print('95 percent of the mismatches are of the range %f to %f' % (max(drugbank['mismatch'].value_counts()) - np.std(drugbank['mismatch'].value_counts()),\n",
    "                                                           max(drugbank['mismatch'].value_counts()) + np.std(drugbank['mismatch'].value_counts())))"
   ]
  },
  {
   "cell_type": "code",
   "execution_count": 25,
   "metadata": {},
   "outputs": [],
   "source": [
    "max_target_gene_encoded_len = max(drugbank['target_gene_encoded_len'])\n",
    "max_drug_fingerprint_encoded_len = max(drugbank['drug_fingerprint_encoded_len'])"
   ]
  },
  {
   "cell_type": "code",
   "execution_count": 31,
   "metadata": {},
   "outputs": [],
   "source": [
    "drugbank['target_gene_encoded_mismatch'] = max_target_gene_encoded_len - drugbank['target_gene_encoded_len']"
   ]
  },
  {
   "cell_type": "code",
   "execution_count": 27,
   "metadata": {},
   "outputs": [],
   "source": [
    "drugbank['drug_fingerprint_encoded_mismatch'] = max_drug_fingerprint_encoded_len - drugbank['drug_fingerprint_encoded_len'] "
   ]
  },
  {
   "cell_type": "code",
   "execution_count": 35,
   "metadata": {},
   "outputs": [
    {
     "data": {
      "text/plain": [
       "<matplotlib.axes._subplots.AxesSubplot at 0x7fc01868ec18>"
      ]
     },
     "execution_count": 35,
     "metadata": {},
     "output_type": "execute_result"
    },
    {
     "data": {
      "image/png": "[encoded data removed]",
      "text/plain": [
       "<Figure size 720x360 with 1 Axes>"
      ]
     },
     "metadata": {
      "needs_background": "light"
     },
     "output_type": "display_data"
    }
   ],
   "source": [
    "drugbank['drug_fingerprint_encoded_mismatch'].hist(bins = 100, figsize = (10, 5), log = True)"
   ]
  },
  {
   "cell_type": "code",
   "execution_count": 34,
   "metadata": {},
   "outputs": [
    {
     "data": {
      "text/plain": [
       "<matplotlib.axes._subplots.AxesSubplot at 0x7fc0187d67b8>"
      ]
     },
     "execution_count": 34,
     "metadata": {},
     "output_type": "execute_result"
    },
    {
     "data": {
      "image/png": "[encoded data removed]",
      "text/plain": [
       "<Figure size 720x360 with 1 Axes>"
      ]
     },
     "metadata": {
      "needs_background": "light"
     },
     "output_type": "display_data"
    }
   ],
   "source": [
    "drugbank['target_gene_encoded_mismatch'].hist(bins = 100, figsize = (10, 5), log = True)"
   ]
  },
  {
   "cell_type": "code",
   "execution_count": null,
   "metadata": {},
   "outputs": [],
   "source": [
    "## "
   ]
  },
  {
   "cell_type": "code",
   "execution_count": null,
   "metadata": {},
   "outputs": [],
   "source": [
    "model = Sequential()\n",
    "model.add(Conv1D(filters=30, kernel_size=2, input_shape=input_shape,kernel_initializer= 'uniform')) \n",
    "model.add(LeakyReLU(alpha=0.3))\n",
    "model.add(Conv1D(filters=10, kernel_size=2, kernel_initializer= 'uniform')) \n",
    "model.add(LeakyReLU(alpha=0.3))\n",
    "\n",
    "model.add(Flatten())\n",
    "model.add(Dense(100))\n",
    "model.add(LeakyReLU(alpha=0.3))\n",
    "model.add(Dropout(0.5))\n",
    "model.add(Dense(50))\n",
    "model.add(LeakyReLU(alpha=0.3))\n",
    "model.add(Dropout(0.5))\n",
    "model.add(Dense(25))\n",
    "model.add(LeakyReLU(alpha=0.3))\n",
    "model.add(Dense(1, activation='sigmoid'))\n",
    "\n",
    "model.compile(optimizer='rmsprop',\n",
    "              loss='binary_crossentropy',\n",
    "              metrics=['accuracy'])\n",
    "\n",
    "\n"
   ]
  },
  {
   "cell_type": "code",
   "execution_count": null,
   "metadata": {},
   "outputs": [],
   "source": [
    "train_test_split(X, Y, train_size=0.8)"
   ]
  },
  {
   "cell_type": "code",
   "execution_count": null,
   "metadata": {},
   "outputs": [],
   "source": [
    "model.fit(train_x, train_y, epochs=300, batch_size=128)"
   ]
  }
 ],
 "metadata": {
  "kernelspec": {
   "display_name": "Python 3",
   "language": "python",
   "name": "python3"
  },
  "language_info": {
   "codemirror_mode": {
    "name": "ipython",
    "version": 3
   },
   "file_extension": ".py",
   "mimetype": "text/x-python",
   "name": "python",
   "nbconvert_exporter": "python",
   "pygments_lexer": "ipython3",
   "version": "3.5.3"
  }
 },
 "nbformat": 4,
 "nbformat_minor": 2
}
