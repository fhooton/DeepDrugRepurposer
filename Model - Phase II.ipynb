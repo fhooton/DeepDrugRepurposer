{
 "cells": [
  {
   "cell_type": "code",
   "execution_count": 74,
   "metadata": {
    "scrolled": true
   },
   "outputs": [],
   "source": [
    "import pickle as pkl\n",
    "\n",
    "import pandas as pd\n",
    "import numpy as np\n",
    "import seaborn as sns\n",
    "import matplotlib.pyplot as plt\n",
    "from keras.datasets import imdb\n",
    "\n",
    "\n",
    "from sklearn.metrics import confusion_matrix\n",
    "from sklearn.utils.multiclass import unique_labels\n",
    "from sklearn.metrics import f1_score\n",
    "\n",
    "from sklearn.preprocessing import LabelEncoder, OneHotEncoder\n",
    "from ast import literal_eval\n",
    "from sklearn.model_selection import train_test_split\n",
    "from sklearn.linear_model import LogisticRegression\n",
    "from sklearn.metrics import confusion_matrix, f1_score\n",
    "from keras.models import Sequential, Model\n",
    "from keras.layers import Dense, Activation, Dropout, Conv1D, Flatten, MaxPooling1D,\\\n",
    "                        AveragePooling1D, Concatenate, LeakyReLU, Embedding, GlobalMaxPooling1D\n",
    "from keras.utils.vis_utils import plot_model"
   ]
  },
  {
   "cell_type": "markdown",
   "metadata": {},
   "source": [
    "### Get postive samples"
   ]
  },
  {
   "cell_type": "code",
   "execution_count": 2,
   "metadata": {},
   "outputs": [],
   "source": [
    "drugbank = pkl.load(open('data/drugbank_embds.pkl', 'rb'))"
   ]
  },
  {
   "cell_type": "code",
   "execution_count": 3,
   "metadata": {},
   "outputs": [],
   "source": [
    "drugbank['target_gene_code'] = drugbank['target_gene'].apply(lambda x: ''.join(list(x.split('\\n')[1:])))\n",
    "drugbank['target_amino_code'] = drugbank['target_amino'].apply(lambda x: ''.join(list(x.split('\\n')[1:])))"
   ]
  },
  {
   "cell_type": "code",
   "execution_count": 4,
   "metadata": {},
   "outputs": [],
   "source": [
    "with open ('data/chem_cid_SMILE_fngr_vector_fngr.pickle', 'rb') as f:\n",
    "    smiles_df = pkl.load(f)\n",
    "    \n",
    "smiles_df['cid'] = smiles_df['cid'].astype(int)\n",
    "drugbank = pd.merge(smiles_df, drugbank, right_on = 'pubchem_id', left_on = 'cid', how = 'right')"
   ]
  },
  {
   "cell_type": "code",
   "execution_count": 5,
   "metadata": {
    "scrolled": true
   },
   "outputs": [],
   "source": [
    "drugbank = drugbank[['drug_id', 'target_id', 'fingerprint', 'target_gene_code']]\n",
    "drugbank = drugbank[~ drugbank['fingerprint'].isna()]\n",
    "drugbank = drugbank.rename(columns = {'fingerprint': 'drug_fingerprint_code', 'target_id': 'gene_id'})"
   ]
  },
  {
   "cell_type": "code",
   "execution_count": 6,
   "metadata": {},
   "outputs": [
    {
     "data": {
      "text/html": [
       "<div>\n",
       "<style scoped>\n",
       "    .dataframe tbody tr th:only-of-type {\n",
       "        vertical-align: middle;\n",
       "    }\n",
       "\n",
       "    .dataframe tbody tr th {\n",
       "        vertical-align: top;\n",
       "    }\n",
       "\n",
       "    .dataframe thead th {\n",
       "        text-align: right;\n",
       "    }\n",
       "</style>\n",
       "<table border=\"1\" class=\"dataframe\">\n",
       "  <thead>\n",
       "    <tr style=\"text-align: right;\">\n",
       "      <th></th>\n",
       "      <th>drug_id</th>\n",
       "      <th>gene_id</th>\n",
       "      <th>drug_fingerprint_code</th>\n",
       "      <th>target_gene_code</th>\n",
       "    </tr>\n",
       "  </thead>\n",
       "  <tbody>\n",
       "    <tr>\n",
       "      <th>0</th>\n",
       "      <td>DB03313</td>\n",
       "      <td>BE0001349</td>\n",
       "      <td>2246728737 3545365497 2246699815 2664995851 86...</td>\n",
       "      <td>ATGGTCTCAGGAACGGTGGGCAGAGGTACGGCGCTGGGCGCGGTGC...</td>\n",
       "    </tr>\n",
       "    <tr>\n",
       "      <th>1</th>\n",
       "      <td>DB03313</td>\n",
       "      <td>BE0004335</td>\n",
       "      <td>2246728737 3545365497 2246699815 2664995851 86...</td>\n",
       "      <td>ATGCAAAATCAATTAAATGAATTAAAACGAAAAATGCTGGAATTTT...</td>\n",
       "    </tr>\n",
       "    <tr>\n",
       "      <th>2</th>\n",
       "      <td>DB03313</td>\n",
       "      <td>BE0004290</td>\n",
       "      <td>2246728737 3545365497 2246699815 2664995851 86...</td>\n",
       "      <td>ATGAACAAACCAACGATTCTGCGCCTAATCAAGTATCTGAGCATTA...</td>\n",
       "    </tr>\n",
       "    <tr>\n",
       "      <th>3</th>\n",
       "      <td>DB03313</td>\n",
       "      <td>BE0003624</td>\n",
       "      <td>2246728737 3545365497 2246699815 2664995851 86...</td>\n",
       "      <td>ATGAGACTGATTTGTATGAGAAAATTTAACAGCCATTCGATTCCGA...</td>\n",
       "    </tr>\n",
       "    <tr>\n",
       "      <th>4</th>\n",
       "      <td>DB03313</td>\n",
       "      <td>BE0004644</td>\n",
       "      <td>2246728737 3545365497 2246699815 2664995851 86...</td>\n",
       "      <td>ATGAAATTAGATAAATTATTTGAGAAATTTCTTTCTCTTTTTAAAA...</td>\n",
       "    </tr>\n",
       "    <tr>\n",
       "      <th>...</th>\n",
       "      <td>...</td>\n",
       "      <td>...</td>\n",
       "      <td>...</td>\n",
       "      <td>...</td>\n",
       "    </tr>\n",
       "    <tr>\n",
       "      <th>14071</th>\n",
       "      <td>DB02843</td>\n",
       "      <td>BE0001369</td>\n",
       "      <td>2245384272 3153477100 2976033787 1916236386 29...</td>\n",
       "      <td>ATGAGCACTGTAAAAGCACCGACGCTGCCCGCCAGCATCTTCCGCG...</td>\n",
       "    </tr>\n",
       "    <tr>\n",
       "      <th>14072</th>\n",
       "      <td>DB02843</td>\n",
       "      <td>BE0000916</td>\n",
       "      <td>2245384272 3153477100 2976033787 1916236386 29...</td>\n",
       "      <td>ATGTCCCGGCCCCTGTCAGACCAAGAGAAAAGAAAGCAAATCAGTG...</td>\n",
       "    </tr>\n",
       "    <tr>\n",
       "      <th>14073</th>\n",
       "      <td>DB02843</td>\n",
       "      <td>BE0002493</td>\n",
       "      <td>2245384272 3153477100 2976033787 1916236386 29...</td>\n",
       "      <td>ATGAAACGCAAGGGCATCATCCTCGCCGGAGGCTCGGGCACCCGCC...</td>\n",
       "    </tr>\n",
       "    <tr>\n",
       "      <th>14074</th>\n",
       "      <td>DB02843</td>\n",
       "      <td>BE0001698</td>\n",
       "      <td>2245384272 3153477100 2976033787 1916236386 29...</td>\n",
       "      <td>ATGTCACAACCTATTTTTAACGATAAGCAATTTCAGGAAGCGCTTT...</td>\n",
       "    </tr>\n",
       "    <tr>\n",
       "      <th>14075</th>\n",
       "      <td>DB02843</td>\n",
       "      <td>BE0001703</td>\n",
       "      <td>2245384272 3153477100 2976033787 1916236386 29...</td>\n",
       "      <td>ATGAACAAAACGCTAATCGCCGCAGCTGTGGCAGGGATAGTTTTAC...</td>\n",
       "    </tr>\n",
       "  </tbody>\n",
       "</table>\n",
       "<p>14076 rows × 4 columns</p>\n",
       "</div>"
      ],
      "text/plain": [
       "       drug_id    gene_id                              drug_fingerprint_code  \\\n",
       "0      DB03313  BE0001349  2246728737 3545365497 2246699815 2664995851 86...   \n",
       "1      DB03313  BE0004335  2246728737 3545365497 2246699815 2664995851 86...   \n",
       "2      DB03313  BE0004290  2246728737 3545365497 2246699815 2664995851 86...   \n",
       "3      DB03313  BE0003624  2246728737 3545365497 2246699815 2664995851 86...   \n",
       "4      DB03313  BE0004644  2246728737 3545365497 2246699815 2664995851 86...   \n",
       "...        ...        ...                                                ...   \n",
       "14071  DB02843  BE0001369  2245384272 3153477100 2976033787 1916236386 29...   \n",
       "14072  DB02843  BE0000916  2245384272 3153477100 2976033787 1916236386 29...   \n",
       "14073  DB02843  BE0002493  2245384272 3153477100 2976033787 1916236386 29...   \n",
       "14074  DB02843  BE0001698  2245384272 3153477100 2976033787 1916236386 29...   \n",
       "14075  DB02843  BE0001703  2245384272 3153477100 2976033787 1916236386 29...   \n",
       "\n",
       "                                        target_gene_code  \n",
       "0      ATGGTCTCAGGAACGGTGGGCAGAGGTACGGCGCTGGGCGCGGTGC...  \n",
       "1      ATGCAAAATCAATTAAATGAATTAAAACGAAAAATGCTGGAATTTT...  \n",
       "2      ATGAACAAACCAACGATTCTGCGCCTAATCAAGTATCTGAGCATTA...  \n",
       "3      ATGAGACTGATTTGTATGAGAAAATTTAACAGCCATTCGATTCCGA...  \n",
       "4      ATGAAATTAGATAAATTATTTGAGAAATTTCTTTCTCTTTTTAAAA...  \n",
       "...                                                  ...  \n",
       "14071  ATGAGCACTGTAAAAGCACCGACGCTGCCCGCCAGCATCTTCCGCG...  \n",
       "14072  ATGTCCCGGCCCCTGTCAGACCAAGAGAAAAGAAAGCAAATCAGTG...  \n",
       "14073  ATGAAACGCAAGGGCATCATCCTCGCCGGAGGCTCGGGCACCCGCC...  \n",
       "14074  ATGTCACAACCTATTTTTAACGATAAGCAATTTCAGGAAGCGCTTT...  \n",
       "14075  ATGAACAAAACGCTAATCGCCGCAGCTGTGGCAGGGATAGTTTTAC...  \n",
       "\n",
       "[14076 rows x 4 columns]"
      ]
     },
     "execution_count": 6,
     "metadata": {},
     "output_type": "execute_result"
    }
   ],
   "source": [
    "drugbank"
   ]
  },
  {
   "cell_type": "markdown",
   "metadata": {},
   "source": [
    "### Get DrugID -> Finderprint mapping from positive samples"
   ]
  },
  {
   "cell_type": "code",
   "execution_count": 7,
   "metadata": {},
   "outputs": [],
   "source": [
    "drug_map = drugbank[['drug_id', 'drug_fingerprint_code']].drop_duplicates('drug_id').set_index('drug_id')\n",
    "target_map = drugbank[['gene_id', 'target_gene_code']].drop_duplicates('gene_id').set_index('gene_id')"
   ]
  },
  {
   "cell_type": "code",
   "execution_count": 8,
   "metadata": {},
   "outputs": [],
   "source": [
    "negative_df = pd.read_csv('negative_samples/negative_samples_thrsh:12')[['node_0','node_1','shortest_path']] \n",
    "negative_df = negative_df.rename(columns = {'node_0': 'drug_id', 'node_1': 'gene_id'})\n",
    "negative_df = negative_df[negative_df['drug_id'].str.contains('DB') & negative_df['gene_id'].str.contains('BE')]"
   ]
  },
  {
   "cell_type": "code",
   "execution_count": 9,
   "metadata": {},
   "outputs": [],
   "source": [
    "negative_df = pd.merge(negative_df, drug_map, left_on = 'drug_id', right_index = True, how = 'left')\n",
    "negative_df = pd.merge(negative_df, target_map, left_on = 'gene_id', right_index = True, how = 'left')"
   ]
  },
  {
   "cell_type": "code",
   "execution_count": 10,
   "metadata": {},
   "outputs": [
    {
     "data": {
      "text/html": [
       "<div>\n",
       "<style scoped>\n",
       "    .dataframe tbody tr th:only-of-type {\n",
       "        vertical-align: middle;\n",
       "    }\n",
       "\n",
       "    .dataframe tbody tr th {\n",
       "        vertical-align: top;\n",
       "    }\n",
       "\n",
       "    .dataframe thead th {\n",
       "        text-align: right;\n",
       "    }\n",
       "</style>\n",
       "<table border=\"1\" class=\"dataframe\">\n",
       "  <thead>\n",
       "    <tr style=\"text-align: right;\">\n",
       "      <th></th>\n",
       "      <th>drug_id</th>\n",
       "      <th>gene_id</th>\n",
       "      <th>shortest_path</th>\n",
       "      <th>drug_fingerprint_code</th>\n",
       "      <th>target_gene_code</th>\n",
       "    </tr>\n",
       "  </thead>\n",
       "  <tbody>\n",
       "    <tr>\n",
       "      <th>1</th>\n",
       "      <td>DB04481</td>\n",
       "      <td>BE0002266</td>\n",
       "      <td>12.0</td>\n",
       "      <td>2245384272 4022716898 2245273601 1735424888 22...</td>\n",
       "      <td>ATGGCGACCTCCACGGGTCGCTGGCTTCTCCTCCGGCTTGCACTAT...</td>\n",
       "    </tr>\n",
       "    <tr>\n",
       "      <th>3</th>\n",
       "      <td>DB04481</td>\n",
       "      <td>BE0000206</td>\n",
       "      <td>13.0</td>\n",
       "      <td>2245384272 4022716898 2245273601 1735424888 22...</td>\n",
       "      <td>ATGTTTGACTGTATGGATGTTCTGTCAGTGAGTCCTGGGCAAATCC...</td>\n",
       "    </tr>\n",
       "    <tr>\n",
       "      <th>4</th>\n",
       "      <td>DB04481</td>\n",
       "      <td>BE0002401</td>\n",
       "      <td>13.0</td>\n",
       "      <td>2245384272 4022716898 2245273601 1735424888 22...</td>\n",
       "      <td>ATGGCAGCAGACCTGGGCCCCTGGAATGACACCATCAATGGCACCT...</td>\n",
       "    </tr>\n",
       "    <tr>\n",
       "      <th>6</th>\n",
       "      <td>DB04481</td>\n",
       "      <td>BE0004180</td>\n",
       "      <td>13.0</td>\n",
       "      <td>2245384272 4022716898 2245273601 1735424888 22...</td>\n",
       "      <td>ATGACGGAAAACAAAGGATCTTCTCAGCCTAAGAAAAACGGTAATA...</td>\n",
       "    </tr>\n",
       "    <tr>\n",
       "      <th>10</th>\n",
       "      <td>DB04481</td>\n",
       "      <td>BE0002840</td>\n",
       "      <td>12.0</td>\n",
       "      <td>2245384272 4022716898 2245273601 1735424888 22...</td>\n",
       "      <td>ATGAAATTTCTTCTGGACATCCTCCTGCTTCTCCCGTTACTGATCG...</td>\n",
       "    </tr>\n",
       "  </tbody>\n",
       "</table>\n",
       "</div>"
      ],
      "text/plain": [
       "    drug_id    gene_id  shortest_path  \\\n",
       "1   DB04481  BE0002266           12.0   \n",
       "3   DB04481  BE0000206           13.0   \n",
       "4   DB04481  BE0002401           13.0   \n",
       "6   DB04481  BE0004180           13.0   \n",
       "10  DB04481  BE0002840           12.0   \n",
       "\n",
       "                                drug_fingerprint_code  \\\n",
       "1   2245384272 4022716898 2245273601 1735424888 22...   \n",
       "3   2245384272 4022716898 2245273601 1735424888 22...   \n",
       "4   2245384272 4022716898 2245273601 1735424888 22...   \n",
       "6   2245384272 4022716898 2245273601 1735424888 22...   \n",
       "10  2245384272 4022716898 2245273601 1735424888 22...   \n",
       "\n",
       "                                     target_gene_code  \n",
       "1   ATGGCGACCTCCACGGGTCGCTGGCTTCTCCTCCGGCTTGCACTAT...  \n",
       "3   ATGTTTGACTGTATGGATGTTCTGTCAGTGAGTCCTGGGCAAATCC...  \n",
       "4   ATGGCAGCAGACCTGGGCCCCTGGAATGACACCATCAATGGCACCT...  \n",
       "6   ATGACGGAAAACAAAGGATCTTCTCAGCCTAAGAAAAACGGTAATA...  \n",
       "10  ATGAAATTTCTTCTGGACATCCTCCTGCTTCTCCCGTTACTGATCG...  "
      ]
     },
     "execution_count": 10,
     "metadata": {},
     "output_type": "execute_result"
    }
   ],
   "source": [
    "negative_df.head()"
   ]
  },
  {
   "cell_type": "markdown",
   "metadata": {},
   "source": [
    "#### Note: Around 13% of negative samples don't match a drug id. Since the number is small, we ignore it for now"
   ]
  },
  {
   "cell_type": "code",
   "execution_count": 11,
   "metadata": {},
   "outputs": [],
   "source": [
    "len(negative_df[(negative_df['target_gene_code'].isna()) |\n",
    "                (negative_df['drug_fingerprint_code'].isna())])/len(negative_df)\n",
    "\n",
    "negative_df = negative_df[(~ negative_df['target_gene_code'].isna()) &\n",
    "                (~ negative_df['drug_fingerprint_code'].isna())]"
   ]
  },
  {
   "cell_type": "code",
   "execution_count": 12,
   "metadata": {},
   "outputs": [
    {
     "name": "stderr",
     "output_type": "stream",
     "text": [
      "/home/omai.r/.local/lib/python3.5/site-packages/pandas/core/frame.py:7138: FutureWarning: Sorting because non-concatenation axis is not aligned. A future version\n",
      "of pandas will change to not sort by default.\n",
      "\n",
      "To accept the future behavior, pass 'sort=False'.\n",
      "\n",
      "To retain the current behavior and silence the warning, pass 'sort=True'.\n",
      "\n",
      "  sort=sort,\n"
     ]
    }
   ],
   "source": [
    "negative_df['Y'] = 0\n",
    "drugbank['Y'] = 1\n",
    "drugbank = drugbank.append(negative_df.sample(len(drugbank)))\n",
    "drugbank = drugbank.drop('shortest_path', axis = 1)"
   ]
  },
  {
   "cell_type": "code",
   "execution_count": 13,
   "metadata": {},
   "outputs": [
    {
     "data": {
      "text/html": [
       "<div>\n",
       "<style scoped>\n",
       "    .dataframe tbody tr th:only-of-type {\n",
       "        vertical-align: middle;\n",
       "    }\n",
       "\n",
       "    .dataframe tbody tr th {\n",
       "        vertical-align: top;\n",
       "    }\n",
       "\n",
       "    .dataframe thead th {\n",
       "        text-align: right;\n",
       "    }\n",
       "</style>\n",
       "<table border=\"1\" class=\"dataframe\">\n",
       "  <thead>\n",
       "    <tr style=\"text-align: right;\">\n",
       "      <th></th>\n",
       "      <th>Y</th>\n",
       "      <th>drug_fingerprint_code</th>\n",
       "      <th>drug_id</th>\n",
       "      <th>gene_id</th>\n",
       "      <th>target_gene_code</th>\n",
       "    </tr>\n",
       "  </thead>\n",
       "  <tbody>\n",
       "  </tbody>\n",
       "</table>\n",
       "</div>"
      ],
      "text/plain": [
       "Empty DataFrame\n",
       "Columns: [Y, drug_fingerprint_code, drug_id, gene_id, target_gene_code]\n",
       "Index: []"
      ]
     },
     "execution_count": 13,
     "metadata": {},
     "output_type": "execute_result"
    }
   ],
   "source": [
    "drugbank[drugbank['target_gene_code'].str.contains('S').isna()]"
   ]
  },
  {
   "cell_type": "code",
   "execution_count": 14,
   "metadata": {},
   "outputs": [],
   "source": [
    "drugbank = drugbank[~ drugbank['drug_fingerprint_code'].str.contains('n')]"
   ]
  },
  {
   "cell_type": "markdown",
   "metadata": {},
   "source": [
    "#### The dataset is clean and balanced"
   ]
  },
  {
   "cell_type": "code",
   "execution_count": 15,
   "metadata": {},
   "outputs": [
    {
     "data": {
      "text/plain": [
       "<matplotlib.axes._subplots.AxesSubplot at 0x7f7dd6d73198>"
      ]
     },
     "execution_count": 15,
     "metadata": {},
     "output_type": "execute_result"
    },
    {
     "data": {
      "image/png": "[encoded data removed]",
      "text/plain": [
       "<Figure size 432x288 with 1 Axes>"
      ]
     },
     "metadata": {
      "needs_background": "light"
     },
     "output_type": "display_data"
    }
   ],
   "source": [
    "drugbank['Y'].hist()"
   ]
  },
  {
   "cell_type": "markdown",
   "metadata": {},
   "source": [
    "#### Preprocessing fingerprints to feed to CNN"
   ]
  },
  {
   "cell_type": "code",
   "execution_count": 16,
   "metadata": {},
   "outputs": [
    {
     "data": {
      "text/plain": [
       "LabelEncoder()"
      ]
     },
     "execution_count": 16,
     "metadata": {},
     "output_type": "execute_result"
    }
   ],
   "source": [
    "label_encoder = LabelEncoder()\n",
    "label_encoder.fit(list(drugbank['target_gene_code'].iloc[0]))"
   ]
  },
  {
   "cell_type": "code",
   "execution_count": 17,
   "metadata": {},
   "outputs": [],
   "source": [
    "gene_chars = set(list(drugbank['target_gene_code'].iloc[0]))"
   ]
  },
  {
   "cell_type": "code",
   "execution_count": 18,
   "metadata": {
    "scrolled": true
   },
   "outputs": [],
   "source": [
    "drugbank['target_gene_encoded'] = drugbank['target_gene_code'].apply(\\\n",
    "                                   lambda x: label_encoder.transform([i for i in list(x) if i in gene_chars]))"
   ]
  },
  {
   "cell_type": "code",
   "execution_count": 19,
   "metadata": {},
   "outputs": [],
   "source": [
    "drugbank['drug_fingerprint_encoded'] = drugbank['drug_fingerprint_code'].apply(lambda x: [int(i) for i in x.replace(' ', '')])"
   ]
  },
  {
   "cell_type": "code",
   "execution_count": 20,
   "metadata": {},
   "outputs": [
    {
     "data": {
      "text/html": [
       "<div>\n",
       "<style scoped>\n",
       "    .dataframe tbody tr th:only-of-type {\n",
       "        vertical-align: middle;\n",
       "    }\n",
       "\n",
       "    .dataframe tbody tr th {\n",
       "        vertical-align: top;\n",
       "    }\n",
       "\n",
       "    .dataframe thead th {\n",
       "        text-align: right;\n",
       "    }\n",
       "</style>\n",
       "<table border=\"1\" class=\"dataframe\">\n",
       "  <thead>\n",
       "    <tr style=\"text-align: right;\">\n",
       "      <th></th>\n",
       "      <th>Y</th>\n",
       "      <th>drug_fingerprint_code</th>\n",
       "      <th>drug_id</th>\n",
       "      <th>gene_id</th>\n",
       "      <th>target_gene_code</th>\n",
       "      <th>target_gene_encoded</th>\n",
       "      <th>drug_fingerprint_encoded</th>\n",
       "    </tr>\n",
       "  </thead>\n",
       "  <tbody>\n",
       "    <tr>\n",
       "      <th>0</th>\n",
       "      <td>1</td>\n",
       "      <td>2246728737 3545365497 2246699815 2664995851 86...</td>\n",
       "      <td>DB03313</td>\n",
       "      <td>BE0001349</td>\n",
       "      <td>ATGGTCTCAGGAACGGTGGGCAGAGGTACGGCGCTGGGCGCGGTGC...</td>\n",
       "      <td>[0, 3, 2, 2, 3, 1, 3, 1, 0, 2, 2, 0, 0, 1, 2, ...</td>\n",
       "      <td>[2, 2, 4, 6, 7, 2, 8, 7, 3, 7, 3, 5, 4, 5, 3, ...</td>\n",
       "    </tr>\n",
       "    <tr>\n",
       "      <th>1</th>\n",
       "      <td>1</td>\n",
       "      <td>2246728737 3545365497 2246699815 2664995851 86...</td>\n",
       "      <td>DB03313</td>\n",
       "      <td>BE0004335</td>\n",
       "      <td>ATGCAAAATCAATTAAATGAATTAAAACGAAAAATGCTGGAATTTT...</td>\n",
       "      <td>[0, 3, 2, 1, 0, 0, 0, 0, 3, 1, 0, 0, 3, 3, 0, ...</td>\n",
       "      <td>[2, 2, 4, 6, 7, 2, 8, 7, 3, 7, 3, 5, 4, 5, 3, ...</td>\n",
       "    </tr>\n",
       "    <tr>\n",
       "      <th>2</th>\n",
       "      <td>1</td>\n",
       "      <td>2246728737 3545365497 2246699815 2664995851 86...</td>\n",
       "      <td>DB03313</td>\n",
       "      <td>BE0004290</td>\n",
       "      <td>ATGAACAAACCAACGATTCTGCGCCTAATCAAGTATCTGAGCATTA...</td>\n",
       "      <td>[0, 3, 2, 0, 0, 1, 0, 0, 0, 1, 1, 0, 0, 1, 2, ...</td>\n",
       "      <td>[2, 2, 4, 6, 7, 2, 8, 7, 3, 7, 3, 5, 4, 5, 3, ...</td>\n",
       "    </tr>\n",
       "    <tr>\n",
       "      <th>3</th>\n",
       "      <td>1</td>\n",
       "      <td>2246728737 3545365497 2246699815 2664995851 86...</td>\n",
       "      <td>DB03313</td>\n",
       "      <td>BE0003624</td>\n",
       "      <td>ATGAGACTGATTTGTATGAGAAAATTTAACAGCCATTCGATTCCGA...</td>\n",
       "      <td>[0, 3, 2, 0, 2, 0, 1, 3, 2, 0, 3, 3, 3, 2, 3, ...</td>\n",
       "      <td>[2, 2, 4, 6, 7, 2, 8, 7, 3, 7, 3, 5, 4, 5, 3, ...</td>\n",
       "    </tr>\n",
       "    <tr>\n",
       "      <th>4</th>\n",
       "      <td>1</td>\n",
       "      <td>2246728737 3545365497 2246699815 2664995851 86...</td>\n",
       "      <td>DB03313</td>\n",
       "      <td>BE0004644</td>\n",
       "      <td>ATGAAATTAGATAAATTATTTGAGAAATTTCTTTCTCTTTTTAAAA...</td>\n",
       "      <td>[0, 3, 2, 0, 0, 0, 3, 3, 0, 2, 0, 3, 0, 0, 0, ...</td>\n",
       "      <td>[2, 2, 4, 6, 7, 2, 8, 7, 3, 7, 3, 5, 4, 5, 3, ...</td>\n",
       "    </tr>\n",
       "  </tbody>\n",
       "</table>\n",
       "</div>"
      ],
      "text/plain": [
       "   Y                              drug_fingerprint_code  drug_id    gene_id  \\\n",
       "0  1  2246728737 3545365497 2246699815 2664995851 86...  DB03313  BE0001349   \n",
       "1  1  2246728737 3545365497 2246699815 2664995851 86...  DB03313  BE0004335   \n",
       "2  1  2246728737 3545365497 2246699815 2664995851 86...  DB03313  BE0004290   \n",
       "3  1  2246728737 3545365497 2246699815 2664995851 86...  DB03313  BE0003624   \n",
       "4  1  2246728737 3545365497 2246699815 2664995851 86...  DB03313  BE0004644   \n",
       "\n",
       "                                    target_gene_code  \\\n",
       "0  ATGGTCTCAGGAACGGTGGGCAGAGGTACGGCGCTGGGCGCGGTGC...   \n",
       "1  ATGCAAAATCAATTAAATGAATTAAAACGAAAAATGCTGGAATTTT...   \n",
       "2  ATGAACAAACCAACGATTCTGCGCCTAATCAAGTATCTGAGCATTA...   \n",
       "3  ATGAGACTGATTTGTATGAGAAAATTTAACAGCCATTCGATTCCGA...   \n",
       "4  ATGAAATTAGATAAATTATTTGAGAAATTTCTTTCTCTTTTTAAAA...   \n",
       "\n",
       "                                 target_gene_encoded  \\\n",
       "0  [0, 3, 2, 2, 3, 1, 3, 1, 0, 2, 2, 0, 0, 1, 2, ...   \n",
       "1  [0, 3, 2, 1, 0, 0, 0, 0, 3, 1, 0, 0, 3, 3, 0, ...   \n",
       "2  [0, 3, 2, 0, 0, 1, 0, 0, 0, 1, 1, 0, 0, 1, 2, ...   \n",
       "3  [0, 3, 2, 0, 2, 0, 1, 3, 2, 0, 3, 3, 3, 2, 3, ...   \n",
       "4  [0, 3, 2, 0, 0, 0, 3, 3, 0, 2, 0, 3, 0, 0, 0, ...   \n",
       "\n",
       "                            drug_fingerprint_encoded  \n",
       "0  [2, 2, 4, 6, 7, 2, 8, 7, 3, 7, 3, 5, 4, 5, 3, ...  \n",
       "1  [2, 2, 4, 6, 7, 2, 8, 7, 3, 7, 3, 5, 4, 5, 3, ...  \n",
       "2  [2, 2, 4, 6, 7, 2, 8, 7, 3, 7, 3, 5, 4, 5, 3, ...  \n",
       "3  [2, 2, 4, 6, 7, 2, 8, 7, 3, 7, 3, 5, 4, 5, 3, ...  \n",
       "4  [2, 2, 4, 6, 7, 2, 8, 7, 3, 7, 3, 5, 4, 5, 3, ...  "
      ]
     },
     "execution_count": 20,
     "metadata": {},
     "output_type": "execute_result"
    }
   ],
   "source": [
    "drugbank.head()"
   ]
  },
  {
   "cell_type": "markdown",
   "metadata": {},
   "source": [
    "#### Calculate length mismatches and pad"
   ]
  },
  {
   "cell_type": "code",
   "execution_count": 21,
   "metadata": {},
   "outputs": [],
   "source": [
    "drugbank['target_gene_encoded_len'] = drugbank['target_gene_encoded']\\\n",
    "                                    .apply(lambda x: len(x))\n",
    "drugbank['drug_fingerprint_encoded_len'] = drugbank['drug_fingerprint_encoded']\\\n",
    "                                    .apply(lambda x: len(x))"
   ]
  },
  {
   "cell_type": "code",
   "execution_count": 22,
   "metadata": {},
   "outputs": [],
   "source": [
    "drugbank['mismatch'] = drugbank[['target_gene_encoded', 'drug_fingerprint_encoded']]\\\n",
    "                        .apply(lambda x: len(x['target_gene_encoded']) - len(x['drug_fingerprint_encoded']), axis = 1)"
   ]
  },
  {
   "cell_type": "code",
   "execution_count": 23,
   "metadata": {},
   "outputs": [
    {
     "data": {
      "text/plain": [
       "<matplotlib.axes._subplots.AxesSubplot at 0x7f7dd67bbc18>"
      ]
     },
     "execution_count": 23,
     "metadata": {},
     "output_type": "execute_result"
    },
    {
     "data": {
      "image/png": "[encoded data removed]",
      "text/plain": [
       "<Figure size 720x360 with 1 Axes>"
      ]
     },
     "metadata": {
      "needs_background": "light"
     },
     "output_type": "display_data"
    }
   ],
   "source": [
    "drugbank['mismatch'].hist(bins = 100, figsize = (10, 5))"
   ]
  },
  {
   "cell_type": "code",
   "execution_count": 24,
   "metadata": {},
   "outputs": [
    {
     "name": "stdout",
     "output_type": "stream",
     "text": [
      "95 percent of the mismatches are of the range 22.998257 to 35.001743\n"
     ]
    }
   ],
   "source": [
    "print('95 percent of the mismatches are of the range %f to %f' % (max(drugbank['mismatch'].value_counts()) - np.std(drugbank['mismatch'].value_counts()),\n",
    "                                                           max(drugbank['mismatch'].value_counts()) + np.std(drugbank['mismatch'].value_counts())))"
   ]
  },
  {
   "cell_type": "code",
   "execution_count": 25,
   "metadata": {},
   "outputs": [],
   "source": [
    "max_target_gene_encoded_len = max(drugbank['target_gene_encoded_len'])\n",
    "max_drug_fingerprint_encoded_len = max(drugbank['drug_fingerprint_encoded_len'])"
   ]
  },
  {
   "cell_type": "code",
   "execution_count": 26,
   "metadata": {},
   "outputs": [],
   "source": [
    "drugbank['target_gene_encoded_mismatch'] = max_target_gene_encoded_len - drugbank['target_gene_encoded_len']"
   ]
  },
  {
   "cell_type": "code",
   "execution_count": 27,
   "metadata": {},
   "outputs": [],
   "source": [
    "drugbank['drug_fingerprint_encoded_mismatch'] = max_drug_fingerprint_encoded_len - drugbank['drug_fingerprint_encoded_len'] "
   ]
  },
  {
   "cell_type": "code",
   "execution_count": 28,
   "metadata": {},
   "outputs": [
    {
     "data": {
      "text/plain": [
       "<matplotlib.axes._subplots.AxesSubplot at 0x7f7dd69075c0>"
      ]
     },
     "execution_count": 28,
     "metadata": {},
     "output_type": "execute_result"
    },
    {
     "data": {
      "image/png": "[encoded data removed]",
      "text/plain": [
       "<Figure size 720x360 with 1 Axes>"
      ]
     },
     "metadata": {
      "needs_background": "light"
     },
     "output_type": "display_data"
    }
   ],
   "source": [
    "drugbank['drug_fingerprint_encoded_mismatch'].hist(bins = 100, figsize = (10, 5), log = True)"
   ]
  },
  {
   "cell_type": "code",
   "execution_count": 29,
   "metadata": {},
   "outputs": [
    {
     "data": {
      "text/plain": [
       "<matplotlib.axes._subplots.AxesSubplot at 0x7f7dd632add8>"
      ]
     },
     "execution_count": 29,
     "metadata": {},
     "output_type": "execute_result"
    },
    {
     "data": {
      "image/png": "[encoded data removed]",
      "text/plain": [
       "<Figure size 720x360 with 1 Axes>"
      ]
     },
     "metadata": {
      "needs_background": "light"
     },
     "output_type": "display_data"
    }
   ],
   "source": [
    "drugbank['target_gene_encoded_mismatch'].hist(bins = 100, figsize = (10, 5), log = True)"
   ]
  },
  {
   "cell_type": "markdown",
   "metadata": {},
   "source": [
    "#### There appears to be quite large intracolumn mismatches in length. Unsure how to deal with it now. Current strategy is to pad the inputs and model it"
   ]
  },
  {
   "cell_type": "code",
   "execution_count": 38,
   "metadata": {},
   "outputs": [],
   "source": [
    "drugbank['target_gene_encoded_padded'] = drugbank[['target_gene_encoded','target_gene_encoded_mismatch']]\\\n",
    "                                         .apply(lambda x: ['-1' for i in range(int(x['target_gene_encoded_mismatch']/2))] +   \n",
    "                                                        list(x['target_gene_encoded']) +\n",
    "                                                        ['-1' for i in range (int(x['target_gene_encoded_mismatch']/2))]\n",
    "                                                        , axis = 1)\n",
    "drugbank['target_gene_encoded_padded'] = drugbank['target_gene_encoded_padded'].apply(lambda x: x + ['-1'] if len(x) < max_target_gene_encoded_len else x)"
   ]
  },
  {
   "cell_type": "code",
   "execution_count": 39,
   "metadata": {},
   "outputs": [],
   "source": [
    "drugbank['drug_fingerprint_encoded_padded'] = drugbank[['drug_fingerprint_encoded','drug_fingerprint_encoded_mismatch']]\\\n",
    "                                         .apply(lambda x: ['-1' for i in range(int(x['drug_fingerprint_encoded_mismatch']/2))] +   \n",
    "                                                        list(x['drug_fingerprint_encoded']) +\n",
    "                                                        ['-1' for i in range (int(x['drug_fingerprint_encoded_mismatch']/2))]\n",
    "                                                        , axis = 1)\n",
    "\n",
    "drugbank['drug_fingerprint_encoded_padded'] = drugbank['drug_fingerprint_encoded_padded'].apply(lambda x: x + ['-1'] if len(x) < max_drug_fingerprint_encoded_len else x)"
   ]
  },
  {
   "cell_type": "code",
   "execution_count": 4,
   "metadata": {},
   "outputs": [],
   "source": [
    "drugbank.to_csv('data/intermediate/interactions_preprocessed.csv', index = False)"
   ]
  },
  {
   "cell_type": "code",
   "execution_count": 48,
   "metadata": {},
   "outputs": [],
   "source": [
    "del smiles_df, negative_df"
   ]
  },
  {
   "cell_type": "markdown",
   "metadata": {},
   "source": [
    "## Building a CNN"
   ]
  },
  {
   "cell_type": "code",
   "execution_count": 3,
   "metadata": {},
   "outputs": [],
   "source": [
    "drugbank_reader = pd.read_csv('data/intermediate/interactions_preprocessed.csv', chunksize = 7500, iterator = True, converters={\"target_gene_encoded_padded\": \\\n",
    "                                                                                     lambda x: np.array(x.strip(\"[]\").replace(\"'\",\"\").split(\", \")),\n",
    "                                                                                    \"drug_fingerprint_encoded_padded\": \\\n",
    "                                                                                    lambda x: np.array(x.strip(\"[]\").replace(\"'\",\"\").split(\", \"))})\n",
    "\n",
    "#drugbank = drugbank.sample(7500)"
   ]
  },
  {
   "cell_type": "code",
   "execution_count": null,
   "metadata": {},
   "outputs": [],
   "source": [
    "drugbank = drugbank_reader.__next__().drop('Unnamed: 0', axis = 1)\n",
    "drugbank_test = drugbank_reader.__next__().drop('Unnamed: 0', axis = 1)"
   ]
  },
  {
   "cell_type": "code",
   "execution_count": 2,
   "metadata": {},
   "outputs": [],
   "source": [
    "drugbank_reader = pd.read_csv('data/intermediate/interactions_preprocessed.csv', converters={\"target_gene_encoded_padded\": \\\n",
    "                                                                                     lambda x: np.array(x.strip(\"[]\").replace(\"'\",\"\").split(\", \")),\n",
    "                                                                                    \"drug_fingerprint_encoded_padded\": \\\n",
    "                                                                                    lambda x: np.array(x.strip(\"[]\").replace(\"'\",\"\").split(\", \"))})"
   ]
  },
  {
   "cell_type": "code",
   "execution_count": 3,
   "metadata": {},
   "outputs": [],
   "source": [
    "drugbank = drugbank_reader.sample(7500, replace = False)\n",
    "drugbank_test = drugbank_reader.sample(7500, replace = False)\n"
   ]
  },
  {
   "cell_type": "code",
   "execution_count": 4,
   "metadata": {},
   "outputs": [
    {
     "data": {
      "text/plain": [
       "array(['-1', '-1', '-1', ..., '-1', '-1', '-1'], dtype='<U2')"
      ]
     },
     "execution_count": 4,
     "metadata": {},
     "output_type": "execute_result"
    }
   ],
   "source": [
    "drugbank['target_gene_encoded_padded'][0]"
   ]
  },
  {
   "cell_type": "code",
   "execution_count": 21,
   "metadata": {},
   "outputs": [],
   "source": [
    "X_0 = np.array(list(drugbank['target_gene_encoded_padded'])).astype(int)\n",
    "X_1 = np.array(list(drugbank['drug_fingerprint_encoded_padded'])).astype(int)\n",
    "Y   = np.array(list(drugbank['Y'])).astype(int)"
   ]
  },
  {
   "cell_type": "code",
   "execution_count": 22,
   "metadata": {},
   "outputs": [],
   "source": [
    "X_0_test = np.array(list(drugbank_test['target_gene_encoded_padded'])).astype(int)\n",
    "X_1_test = np.array(list(drugbank_test['drug_fingerprint_encoded_padded'])).astype(int)\n",
    "Y_test   = np.array(list(drugbank_test['Y'])).astype(int)"
   ]
  },
  {
   "cell_type": "code",
   "execution_count": 23,
   "metadata": {},
   "outputs": [
    {
     "data": {
      "text/plain": [
       "(7500, 21222)"
      ]
     },
     "execution_count": 23,
     "metadata": {},
     "output_type": "execute_result"
    }
   ],
   "source": [
    "X_0.shape"
   ]
  },
  {
   "cell_type": "code",
   "execution_count": 24,
   "metadata": {},
   "outputs": [
    {
     "data": {
      "text/plain": [
       "(7500, 21222)"
      ]
     },
     "execution_count": 24,
     "metadata": {},
     "output_type": "execute_result"
    }
   ],
   "source": [
    "X_0_test.shape"
   ]
  },
  {
   "cell_type": "markdown",
   "metadata": {},
   "source": [
    "#### Trimming the feature martrix to minimize padding. This trimming may result in loss of data from the largest SMILE and fingerprints, but are neccesary to reduce the amount of padding"
   ]
  },
  {
   "cell_type": "code",
   "execution_count": 41,
   "metadata": {},
   "outputs": [],
   "source": [
    "## Trim the X of -1's. Might loose actual sequences\n",
    "padding_fractions = []\n",
    "padding_fraction = 0.9\n",
    "\n",
    "while padding_fraction > 0.5:\n",
    "    \n",
    "    padding_fraction = len(X_0[np.where(X_0 == -1)]) / (X_0.shape[0] * X_0.shape[1])\n",
    "    padding_fractions.append(padding_fraction)\n",
    "    trimming_factor = 0.1\n",
    "\n",
    "    X_0 = X_0[:,int(X_0.shape[1]*trimming_factor) : X_0.shape[1] - int(X_0.shape[1]*trimming_factor)]\n",
    "    X_1 = X_1[:,int(X_1.shape[1]*trimming_factor) : X_1.shape[1] - int(X_1.shape[1]*trimming_factor)]\n",
    "\n",
    "    X_0_test = X_0_test[:,int(X_0_test.shape[1]*trimming_factor) : X_0_test.shape[1] - int(X_0_test.shape[1]*trimming_factor)]\n",
    "    X_1_test = X_1_test[:,int(X_1_test.shape[1]*trimming_factor) : X_1_test.shape[1] - int(X_1_test.shape[1]*trimming_factor)]\n"
   ]
  },
  {
   "cell_type": "code",
   "execution_count": 42,
   "metadata": {},
   "outputs": [
    {
     "data": {
      "text/plain": [
       "[<matplotlib.lines.Line2D at 0x7f2f50d94eb8>]"
      ]
     },
     "execution_count": 42,
     "metadata": {},
     "output_type": "execute_result"
    },
    {
     "data": {
      "image/png": "[encoded data removed]",
      "text/plain": [
       "<Figure size 432x288 with 1 Axes>"
      ]
     },
     "metadata": {
      "needs_background": "light"
     },
     "output_type": "display_data"
    }
   ],
   "source": [
    "plt.plot(padding_fractions)"
   ]
  },
  {
   "cell_type": "code",
   "execution_count": 43,
   "metadata": {},
   "outputs": [
    {
     "data": {
      "text/plain": [
       "(7500, 1828)"
      ]
     },
     "execution_count": 43,
     "metadata": {},
     "output_type": "execute_result"
    }
   ],
   "source": [
    "X_0.shape"
   ]
  },
  {
   "cell_type": "code",
   "execution_count": 44,
   "metadata": {},
   "outputs": [
    {
     "data": {
      "text/plain": [
       "(7500, 1828)"
      ]
     },
     "execution_count": 44,
     "metadata": {},
     "output_type": "execute_result"
    }
   ],
   "source": [
    "X_0_test.shape"
   ]
  },
  {
   "cell_type": "code",
   "execution_count": 45,
   "metadata": {},
   "outputs": [],
   "source": [
    "X_0 = np.hstack((X_0, X_1))\n",
    "X_0_test = np.hstack((X_0_test, X_1_test))"
   ]
  },
  {
   "cell_type": "code",
   "execution_count": 46,
   "metadata": {},
   "outputs": [
    {
     "data": {
      "text/plain": [
       "(7500, 2649)"
      ]
     },
     "execution_count": 46,
     "metadata": {},
     "output_type": "execute_result"
    }
   ],
   "source": [
    "X_0.shape"
   ]
  },
  {
   "cell_type": "code",
   "execution_count": 47,
   "metadata": {},
   "outputs": [
    {
     "data": {
      "text/plain": [
       "(7500, 2649)"
      ]
     },
     "execution_count": 47,
     "metadata": {},
     "output_type": "execute_result"
    }
   ],
   "source": [
    "X_0_test.shape"
   ]
  },
  {
   "cell_type": "code",
   "execution_count": 7,
   "metadata": {},
   "outputs": [],
   "source": [
    "del drugbank, drugbank_test, drugbank_reader"
   ]
  },
  {
   "cell_type": "code",
   "execution_count": 48,
   "metadata": {},
   "outputs": [
    {
     "name": "stdout",
     "output_type": "stream",
     "text": [
      "WARNING:tensorflow:From /usr/local/lib/python3.5/dist-packages/keras/backend/tensorflow_backend.py:66: The name tf.get_default_graph is deprecated. Please use tf.compat.v1.get_default_graph instead.\n",
      "\n",
      "WARNING:tensorflow:From /usr/local/lib/python3.5/dist-packages/keras/optimizers.py:793: The name tf.train.Optimizer is deprecated. Please use tf.compat.v1.train.Optimizer instead.\n",
      "\n",
      "WARNING:tensorflow:From /usr/local/lib/python3.5/dist-packages/keras/backend/tensorflow_backend.py:541: The name tf.placeholder is deprecated. Please use tf.compat.v1.placeholder instead.\n",
      "\n",
      "WARNING:tensorflow:From /usr/local/lib/python3.5/dist-packages/keras/backend/tensorflow_backend.py:4432: The name tf.random_uniform is deprecated. Please use tf.random.uniform instead.\n",
      "\n",
      "WARNING:tensorflow:From /usr/local/lib/python3.5/dist-packages/keras/backend/tensorflow_backend.py:148: The name tf.placeholder_with_default is deprecated. Please use tf.compat.v1.placeholder_with_default instead.\n",
      "\n",
      "WARNING:tensorflow:From /usr/local/lib/python3.5/dist-packages/keras/backend/tensorflow_backend.py:3733: calling dropout (from tensorflow.python.ops.nn_ops) with keep_prob is deprecated and will be removed in a future version.\n",
      "Instructions for updating:\n",
      "Please use `rate` instead of `keep_prob`. Rate should be set to `rate = 1 - keep_prob`.\n",
      "WARNING:tensorflow:From /usr/local/lib/python3.5/dist-packages/keras/backend/tensorflow_backend.py:3657: The name tf.log is deprecated. Please use tf.math.log instead.\n",
      "\n",
      "WARNING:tensorflow:From /usr/local/lib/python3.5/dist-packages/tensorflow/python/ops/nn_impl.py:180: add_dispatch_support.<locals>.wrapper (from tensorflow.python.ops.array_ops) is deprecated and will be removed in a future version.\n",
      "Instructions for updating:\n",
      "Use tf.where in 2.0, which has the same broadcast rule as np.where\n",
      "Train on 7500 samples, validate on 7500 samples\n",
      "Epoch 1/80\n",
      "7500/7500 [==============================] - 54s 7ms/step - loss: 3.9163 - acc: 0.5136 - val_loss: 0.8240 - val_acc: 0.5585\n",
      "Epoch 2/80\n",
      "7500/7500 [==============================] - 50s 7ms/step - loss: 1.1649 - acc: 0.5133 - val_loss: 0.6830 - val_acc: 0.5649\n",
      "Epoch 3/80\n",
      "7500/7500 [==============================] - 50s 7ms/step - loss: 0.7266 - acc: 0.5492 - val_loss: 0.6647 - val_acc: 0.5905\n",
      "Epoch 4/80\n",
      "7500/7500 [==============================] - 52s 7ms/step - loss: 0.6828 - acc: 0.5684 - val_loss: 0.6566 - val_acc: 0.6096\n",
      "Epoch 5/80\n",
      "7500/7500 [==============================] - 50s 7ms/step - loss: 0.6567 - acc: 0.6047 - val_loss: 0.6292 - val_acc: 0.6519\n",
      "Epoch 6/80\n",
      "7500/7500 [==============================] - 50s 7ms/step - loss: 0.6156 - acc: 0.6496 - val_loss: 0.5738 - val_acc: 0.7209\n",
      "Epoch 7/80\n",
      "7500/7500 [==============================] - 50s 7ms/step - loss: 0.5824 - acc: 0.6964 - val_loss: 0.5610 - val_acc: 0.7019\n",
      "Epoch 8/80\n",
      "7500/7500 [==============================] - 49s 6ms/step - loss: 0.5256 - acc: 0.7392 - val_loss: 0.5449 - val_acc: 0.7156\n",
      "Epoch 9/80\n",
      "7500/7500 [==============================] - 49s 7ms/step - loss: 0.5083 - acc: 0.7513 - val_loss: 0.5443 - val_acc: 0.7373\n",
      "Epoch 10/80\n",
      "7500/7500 [==============================] - 50s 7ms/step - loss: 0.4247 - acc: 0.8060 - val_loss: 0.4659 - val_acc: 0.7903\n",
      "Epoch 11/80\n",
      "7500/7500 [==============================] - 49s 7ms/step - loss: 0.3460 - acc: 0.8521 - val_loss: 0.4695 - val_acc: 0.7868\n",
      "Epoch 12/80\n",
      "7500/7500 [==============================] - 49s 7ms/step - loss: 0.3282 - acc: 0.8601 - val_loss: 0.4023 - val_acc: 0.8143\n",
      "Epoch 13/80\n",
      "1000/7500 [===>..........................] - ETA: 35s - loss: 0.3156 - acc: 0.8590"
     ]
    },
    {
     "ename": "KeyboardInterrupt",
     "evalue": "",
     "output_type": "error",
     "traceback": [
      "\u001b[0;31m---------------------------------------------------------------------------\u001b[0m",
      "\u001b[0;31mKeyboardInterrupt\u001b[0m                         Traceback (most recent call last)",
      "\u001b[0;32m<ipython-input-48-bf47bb47e120>\u001b[0m in \u001b[0;36m<module>\u001b[0;34m\u001b[0m\n\u001b[1;32m     42\u001b[0m           \u001b[0mbatch_size\u001b[0m\u001b[0;34m=\u001b[0m\u001b[0mbatch_size\u001b[0m\u001b[0;34m,\u001b[0m\u001b[0;34m\u001b[0m\u001b[0m\n\u001b[1;32m     43\u001b[0m           \u001b[0mepochs\u001b[0m\u001b[0;34m=\u001b[0m\u001b[0mepochs\u001b[0m\u001b[0;34m,\u001b[0m\u001b[0;34m\u001b[0m\u001b[0m\n\u001b[0;32m---> 44\u001b[0;31m           validation_data=(X_0_test[..., np.newaxis], Y_test))\n\u001b[0m",
      "\u001b[0;32m/usr/local/lib/python3.5/dist-packages/keras/engine/training.py\u001b[0m in \u001b[0;36mfit\u001b[0;34m(self, x, y, batch_size, epochs, verbose, callbacks, validation_split, validation_data, shuffle, class_weight, sample_weight, initial_epoch, steps_per_epoch, validation_steps, validation_freq, max_queue_size, workers, use_multiprocessing, **kwargs)\u001b[0m\n\u001b[1;32m   1176\u001b[0m                                         \u001b[0msteps_per_epoch\u001b[0m\u001b[0;34m=\u001b[0m\u001b[0msteps_per_epoch\u001b[0m\u001b[0;34m,\u001b[0m\u001b[0;34m\u001b[0m\u001b[0m\n\u001b[1;32m   1177\u001b[0m                                         \u001b[0mvalidation_steps\u001b[0m\u001b[0;34m=\u001b[0m\u001b[0mvalidation_steps\u001b[0m\u001b[0;34m,\u001b[0m\u001b[0;34m\u001b[0m\u001b[0m\n\u001b[0;32m-> 1178\u001b[0;31m                                         validation_freq=validation_freq)\n\u001b[0m\u001b[1;32m   1179\u001b[0m \u001b[0;34m\u001b[0m\u001b[0m\n\u001b[1;32m   1180\u001b[0m     def evaluate(self,\n",
      "\u001b[0;32m/usr/local/lib/python3.5/dist-packages/keras/engine/training_arrays.py\u001b[0m in \u001b[0;36mfit_loop\u001b[0;34m(model, fit_function, fit_inputs, out_labels, batch_size, epochs, verbose, callbacks, val_function, val_inputs, shuffle, callback_metrics, initial_epoch, steps_per_epoch, validation_steps, validation_freq)\u001b[0m\n\u001b[1;32m    202\u001b[0m                     \u001b[0mins_batch\u001b[0m\u001b[0;34m[\u001b[0m\u001b[0mi\u001b[0m\u001b[0;34m]\u001b[0m \u001b[0;34m=\u001b[0m \u001b[0mins_batch\u001b[0m\u001b[0;34m[\u001b[0m\u001b[0mi\u001b[0m\u001b[0;34m]\u001b[0m\u001b[0;34m.\u001b[0m\u001b[0mtoarray\u001b[0m\u001b[0;34m(\u001b[0m\u001b[0;34m)\u001b[0m\u001b[0;34m\u001b[0m\u001b[0m\n\u001b[1;32m    203\u001b[0m \u001b[0;34m\u001b[0m\u001b[0m\n\u001b[0;32m--> 204\u001b[0;31m                 \u001b[0mouts\u001b[0m \u001b[0;34m=\u001b[0m \u001b[0mfit_function\u001b[0m\u001b[0;34m(\u001b[0m\u001b[0mins_batch\u001b[0m\u001b[0;34m)\u001b[0m\u001b[0;34m\u001b[0m\u001b[0m\n\u001b[0m\u001b[1;32m    205\u001b[0m                 \u001b[0mouts\u001b[0m \u001b[0;34m=\u001b[0m \u001b[0mto_list\u001b[0m\u001b[0;34m(\u001b[0m\u001b[0mouts\u001b[0m\u001b[0;34m)\u001b[0m\u001b[0;34m\u001b[0m\u001b[0m\n\u001b[1;32m    206\u001b[0m                 \u001b[0;32mfor\u001b[0m \u001b[0ml\u001b[0m\u001b[0;34m,\u001b[0m \u001b[0mo\u001b[0m \u001b[0;32min\u001b[0m \u001b[0mzip\u001b[0m\u001b[0;34m(\u001b[0m\u001b[0mout_labels\u001b[0m\u001b[0;34m,\u001b[0m \u001b[0mouts\u001b[0m\u001b[0;34m)\u001b[0m\u001b[0;34m:\u001b[0m\u001b[0;34m\u001b[0m\u001b[0m\n",
      "\u001b[0;32m/usr/local/lib/python3.5/dist-packages/keras/backend/tensorflow_backend.py\u001b[0m in \u001b[0;36m__call__\u001b[0;34m(self, inputs)\u001b[0m\n\u001b[1;32m   2977\u001b[0m                     \u001b[0;32mreturn\u001b[0m \u001b[0mself\u001b[0m\u001b[0;34m.\u001b[0m\u001b[0m_legacy_call\u001b[0m\u001b[0;34m(\u001b[0m\u001b[0minputs\u001b[0m\u001b[0;34m)\u001b[0m\u001b[0;34m\u001b[0m\u001b[0m\n\u001b[1;32m   2978\u001b[0m \u001b[0;34m\u001b[0m\u001b[0m\n\u001b[0;32m-> 2979\u001b[0;31m             \u001b[0;32mreturn\u001b[0m \u001b[0mself\u001b[0m\u001b[0;34m.\u001b[0m\u001b[0m_call\u001b[0m\u001b[0;34m(\u001b[0m\u001b[0minputs\u001b[0m\u001b[0;34m)\u001b[0m\u001b[0;34m\u001b[0m\u001b[0m\n\u001b[0m\u001b[1;32m   2980\u001b[0m         \u001b[0;32melse\u001b[0m\u001b[0;34m:\u001b[0m\u001b[0;34m\u001b[0m\u001b[0m\n\u001b[1;32m   2981\u001b[0m             \u001b[0;32mif\u001b[0m \u001b[0mpy_any\u001b[0m\u001b[0;34m(\u001b[0m\u001b[0mis_tensor\u001b[0m\u001b[0;34m(\u001b[0m\u001b[0mx\u001b[0m\u001b[0;34m)\u001b[0m \u001b[0;32mfor\u001b[0m \u001b[0mx\u001b[0m \u001b[0;32min\u001b[0m \u001b[0minputs\u001b[0m\u001b[0;34m)\u001b[0m\u001b[0;34m:\u001b[0m\u001b[0;34m\u001b[0m\u001b[0m\n",
      "\u001b[0;32m/usr/local/lib/python3.5/dist-packages/keras/backend/tensorflow_backend.py\u001b[0m in \u001b[0;36m_call\u001b[0;34m(self, inputs)\u001b[0m\n\u001b[1;32m   2935\u001b[0m             \u001b[0mfetched\u001b[0m \u001b[0;34m=\u001b[0m \u001b[0mself\u001b[0m\u001b[0;34m.\u001b[0m\u001b[0m_callable_fn\u001b[0m\u001b[0;34m(\u001b[0m\u001b[0;34m*\u001b[0m\u001b[0marray_vals\u001b[0m\u001b[0;34m,\u001b[0m \u001b[0mrun_metadata\u001b[0m\u001b[0;34m=\u001b[0m\u001b[0mself\u001b[0m\u001b[0;34m.\u001b[0m\u001b[0mrun_metadata\u001b[0m\u001b[0;34m)\u001b[0m\u001b[0;34m\u001b[0m\u001b[0m\n\u001b[1;32m   2936\u001b[0m         \u001b[0;32melse\u001b[0m\u001b[0;34m:\u001b[0m\u001b[0;34m\u001b[0m\u001b[0m\n\u001b[0;32m-> 2937\u001b[0;31m             \u001b[0mfetched\u001b[0m \u001b[0;34m=\u001b[0m \u001b[0mself\u001b[0m\u001b[0;34m.\u001b[0m\u001b[0m_callable_fn\u001b[0m\u001b[0;34m(\u001b[0m\u001b[0;34m*\u001b[0m\u001b[0marray_vals\u001b[0m\u001b[0;34m)\u001b[0m\u001b[0;34m\u001b[0m\u001b[0m\n\u001b[0m\u001b[1;32m   2938\u001b[0m         \u001b[0;32mreturn\u001b[0m \u001b[0mfetched\u001b[0m\u001b[0;34m[\u001b[0m\u001b[0;34m:\u001b[0m\u001b[0mlen\u001b[0m\u001b[0;34m(\u001b[0m\u001b[0mself\u001b[0m\u001b[0;34m.\u001b[0m\u001b[0moutputs\u001b[0m\u001b[0;34m)\u001b[0m\u001b[0;34m]\u001b[0m\u001b[0;34m\u001b[0m\u001b[0m\n\u001b[1;32m   2939\u001b[0m \u001b[0;34m\u001b[0m\u001b[0m\n",
      "\u001b[0;32m/usr/local/lib/python3.5/dist-packages/tensorflow/python/client/session.py\u001b[0m in \u001b[0;36m__call__\u001b[0;34m(self, *args, **kwargs)\u001b[0m\n\u001b[1;32m   1456\u001b[0m         ret = tf_session.TF_SessionRunCallable(self._session._session,\n\u001b[1;32m   1457\u001b[0m                                                \u001b[0mself\u001b[0m\u001b[0;34m.\u001b[0m\u001b[0m_handle\u001b[0m\u001b[0;34m,\u001b[0m \u001b[0margs\u001b[0m\u001b[0;34m,\u001b[0m\u001b[0;34m\u001b[0m\u001b[0m\n\u001b[0;32m-> 1458\u001b[0;31m                                                run_metadata_ptr)\n\u001b[0m\u001b[1;32m   1459\u001b[0m         \u001b[0;32mif\u001b[0m \u001b[0mrun_metadata\u001b[0m\u001b[0;34m:\u001b[0m\u001b[0;34m\u001b[0m\u001b[0m\n\u001b[1;32m   1460\u001b[0m           \u001b[0mproto_data\u001b[0m \u001b[0;34m=\u001b[0m \u001b[0mtf_session\u001b[0m\u001b[0;34m.\u001b[0m\u001b[0mTF_GetBuffer\u001b[0m\u001b[0;34m(\u001b[0m\u001b[0mrun_metadata_ptr\u001b[0m\u001b[0;34m)\u001b[0m\u001b[0;34m\u001b[0m\u001b[0m\n",
      "\u001b[0;31mKeyboardInterrupt\u001b[0m: "
     ]
    }
   ],
   "source": [
    "#embedding_dims = 16\n",
    "hidden_dims = 512\n",
    "hidden_dims_2 = 256\n",
    "hidden_dims_3 = 128\n",
    "batch_size = 500\n",
    "epochs = 80\n",
    "#maxlen = \n",
    "\n",
    "model = Sequential()\n",
    "#model.add(Embedding(X_0.shape[1],\n",
    "#                    embedding_dims,\n",
    "#                    input_length=maxlen))\n",
    "\n",
    "#model.add(Dropout(0.2))\n",
    "model.add(Conv1D(X_0.shape[0],\n",
    "                 X_0.shape[1],\n",
    "                 activation='relu',\n",
    "                 strides=10))\n",
    "\n",
    "model.add(GlobalMaxPooling1D())\n",
    "\n",
    "model.add(Dense(hidden_dims))\n",
    "model.add(Dropout(0.2))\n",
    "model.add(Activation('relu'))\n",
    "\n",
    "model.add(Dense(hidden_dims_2))\n",
    "model.add(Dropout(0.2))\n",
    "model.add(Activation('relu'))\n",
    "\n",
    "model.add(Dense(hidden_dims_3))\n",
    "model.add(Dropout(0.2))\n",
    "model.add(Activation('relu'))\n",
    "\n",
    "model.add(Dense(1))\n",
    "model.add(Activation('sigmoid'))\n",
    "\n",
    "model.compile(loss='binary_crossentropy',\n",
    "              optimizer='adam',\n",
    "              metrics=['accuracy'])\n",
    "\n",
    "model.fit(X_0[..., np.newaxis], Y,\n",
    "          batch_size=batch_size,\n",
    "          epochs=epochs,\n",
    "          validation_data=(X_0_test[..., np.newaxis], Y_test))\n"
   ]
  },
  {
   "cell_type": "code",
   "execution_count": 51,
   "metadata": {},
   "outputs": [],
   "source": [
    "Y_pred = model.predict(X_0_test[..., np.newaxis])"
   ]
  },
  {
   "cell_type": "code",
   "execution_count": 57,
   "metadata": {},
   "outputs": [],
   "source": [
    "Y_pred = [1 if i > 0.5 else 0 for i in Y_pred]"
   ]
  },
  {
   "cell_type": "code",
   "execution_count": 61,
   "metadata": {},
   "outputs": [],
   "source": [
    "tn, fp, fn, tp = confusion_matrix(Y_test, Y_pred).ravel()\n",
    "cm = confusion_matrix(Y_test, Y_pred)"
   ]
  },
  {
   "cell_type": "code",
   "execution_count": 71,
   "metadata": {},
   "outputs": [],
   "source": [
    "def plot_confusion_matrix(y_true, y_pred, classes,\n",
    "                          normalize=False,\n",
    "                          title=None,\n",
    "                          cmap=plt.cm.Blues):\n",
    "    \"\"\"\n",
    "    This function prints and plots the confusion matrix.\n",
    "    Normalization can be applied by setting `normalize=True`.\n",
    "    \"\"\"\n",
    "    if not title:\n",
    "        if normalize:\n",
    "            title = 'Normalized confusion matrix'\n",
    "        else:\n",
    "            title = 'Confusion matrix, without normalization'\n",
    "\n",
    "    # Compute confusion matrix\n",
    "    cm = confusion_matrix(y_true, y_pred)\n",
    "    # Only use the labels that appear in the data\n",
    "    classes = [0,1]\n",
    "    if normalize:\n",
    "        cm = cm.astype('float') / cm.sum(axis=1)[:, np.newaxis]\n",
    "        print(\"Normalized confusion matrix\")\n",
    "    else:\n",
    "        print('Confusion matrix, without normalization')\n",
    "\n",
    "    print(cm)\n",
    "\n",
    "    fig, ax = plt.subplots()\n",
    "    im = ax.imshow(cm, interpolation='nearest', cmap=cmap)\n",
    "    ax.figure.colorbar(im, ax=ax)\n",
    "    # We want to show all ticks...\n",
    "    ax.set(xticks=np.arange(cm.shape[1]),\n",
    "           yticks=np.arange(cm.shape[0]),\n",
    "           # ... and label them with the respective list entries\n",
    "           xticklabels=classes, yticklabels=classes,\n",
    "           title=title,\n",
    "           ylabel='True label',\n",
    "           xlabel='Predicted label')\n",
    "\n",
    "    # Rotate the tick labels and set their alignment.\n",
    "    plt.setp(ax.get_xticklabels(), rotation=45, ha=\"right\",\n",
    "             rotation_mode=\"anchor\")\n",
    "\n",
    "    # Loop over data dimensions and create text annotations.\n",
    "    fmt = '.2f' if normalize else 'd'\n",
    "    thresh = cm.max() / 2.\n",
    "    for i in range(cm.shape[0]):\n",
    "        for j in range(cm.shape[1]):\n",
    "            ax.text(j, i, format(cm[i, j], fmt),\n",
    "                    ha=\"center\", va=\"center\",\n",
    "                    color=\"white\" if cm[i, j] > thresh else \"black\")\n",
    "    fig.tight_layout()\n",
    "    return ax"
   ]
  },
  {
   "cell_type": "code",
   "execution_count": 72,
   "metadata": {},
   "outputs": [
    {
     "name": "stdout",
     "output_type": "stream",
     "text": [
      "Confusion matrix, without normalization\n",
      "[[2788  930]\n",
      " [ 579 3203]]\n",
      "Normalized confusion matrix\n",
      "[[0.74986552 0.25013448]\n",
      " [0.1530936  0.8469064 ]]\n"
     ]
    },
    {
     "data": {
      "image/png": "[encoded data removed]",
      "text/plain": [
       "<Figure size 432x288 with 2 Axes>"
      ]
     },
     "metadata": {
      "needs_background": "light"
     },
     "output_type": "display_data"
    },
    {
     "data": {
      "image/png": "[encoded data removed]",
      "text/plain": [
       "<Figure size 432x288 with 2 Axes>"
      ]
     },
     "metadata": {
      "needs_background": "light"
     },
     "output_type": "display_data"
    }
   ],
   "source": [
    "# Plot non-normalized confusion matrix\n",
    "plot_confusion_matrix(Y_test, Y_pred, classes=[0, 1],\n",
    "                      title='Confusion matrix, without normalization')\n",
    "\n",
    "# Plot normalized confusion matrix\n",
    "plot_confusion_matrix(Y_test, Y_pred, classes=[0, 1], normalize=True,\n",
    "                      title='Normalized confusion matrix')\n",
    "\n",
    "plt.show()"
   ]
  },
  {
   "cell_type": "code",
   "execution_count": 76,
   "metadata": {},
   "outputs": [
    {
     "data": {
      "text/plain": [
       "0.8093493367024637"
      ]
     },
     "execution_count": 76,
     "metadata": {},
     "output_type": "execute_result"
    }
   ],
   "source": [
    "f1_score(Y_test, Y_pred)"
   ]
  },
  {
   "cell_type": "code",
   "execution_count": null,
   "metadata": {},
   "outputs": [],
   "source": []
  }
 ],
 "metadata": {
  "kernelspec": {
   "display_name": "Python 3",
   "language": "python",
   "name": "python3"
  },
  "language_info": {
   "codemirror_mode": {
    "name": "ipython",
    "version": 3
   },
   "file_extension": ".py",
   "mimetype": "text/x-python",
   "name": "python",
   "nbconvert_exporter": "python",
   "pygments_lexer": "ipython3",
   "version": "3.5.3"
  }
 },
 "nbformat": 4,
 "nbformat_minor": 2
}
