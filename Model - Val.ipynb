{
 "cells": [
  {
   "cell_type": "code",
   "execution_count": 121,
   "metadata": {
    "scrolled": true
   },
   "outputs": [],
   "source": [
    "import pickle as pkl\n",
    "\n",
    "import pandas as pd\n",
    "import numpy as np\n",
    "import seaborn as sns\n",
    "import matplotlib.pyplot as plt\n",
    "plt.rcParams['figure.dpi']= 150 \n",
    "\n",
    "from keras.datasets import imdb\n",
    "from keras.callbacks import CSVLogger\n",
    "\n",
    "from sklearn.metrics import confusion_matrix\n",
    "from sklearn.utils.multiclass import unique_labels\n",
    "from sklearn.metrics import f1_score\n",
    "\n",
    "from sklearn.preprocessing import LabelEncoder, OneHotEncoder\n",
    "from ast import literal_eval\n",
    "from sklearn.model_selection import train_test_split\n",
    "from sklearn.linear_model import LogisticRegression\n",
    "from sklearn.metrics import confusion_matrix, f1_score, recall_score, precision_score\n",
    "from keras.models import Sequential, Model\n",
    "from keras.layers import Dense, Activation, Dropout, Conv1D, Flatten, MaxPooling1D,\\\n",
    "                        AveragePooling1D, Concatenate, LeakyReLU, Embedding, GlobalMaxPooling1D\n",
    "from keras.utils.vis_utils import plot_model"
   ]
  },
  {
   "cell_type": "code",
   "execution_count": 2,
   "metadata": {},
   "outputs": [],
   "source": [
    "from pipe import Data"
   ]
  },
  {
   "cell_type": "code",
   "execution_count": 110,
   "metadata": {},
   "outputs": [],
   "source": [
    "def plot_confusion_matrix(y_true, y_pred, classes,\n",
    "                          normalize=False,\n",
    "                          title=None,\n",
    "                          cmap=plt.cm.Blues):\n",
    "    \"\"\"\n",
    "    This function prints and plots the confusion matrix.\n",
    "    Normalization can be applied by setting `normalize=True`.\n",
    "    \n",
    "    NOTE: Taken from sklearn example\n",
    "    \"\"\"\n",
    "    if not title:\n",
    "        if normalize:\n",
    "            title = 'Normalized confusion matrix'\n",
    "        else:\n",
    "            title = 'Confusion matrix, without normalization'\n",
    "\n",
    "    # Compute confusion matrix\n",
    "    cm = confusion_matrix(y_true, y_pred)\n",
    "    # Only use the labels that appear in the data\n",
    "    classes = [0,1]\n",
    "    if normalize:\n",
    "        cm = cm.astype('float') / cm.sum(axis=1)[:, np.newaxis]\n",
    "        print(\"Normalized confusion matrix\")\n",
    "    else:\n",
    "        print('Confusion matrix, without normalization')\n",
    "\n",
    "    print(cm)\n",
    "\n",
    "    fig, ax = plt.subplots()\n",
    "    \n",
    "    ax.figsize((10, 10))\n",
    "    im = ax.imshow(cm, interpolation='nearest', cmap=cmap)\n",
    "    ax.figure.colorbar(im, ax=ax)\n",
    "    # We want to show all ticks...\n",
    "    ax.set(xticks=np.arange(cm.shape[1]),\n",
    "           yticks=np.arange(cm.shape[0]),\n",
    "           # ... and label them with the respective list entries\n",
    "           xticklabels=classes, yticklabels=classes,\n",
    "           title=title,\n",
    "           ylabel='True label',\n",
    "           xlabel='Predicted label')\n",
    "\n",
    "    # Rotate the tick labels and set their alignment.\n",
    "    plt.setp(ax.get_xticklabels(), rotation=45, ha=\"right\",\n",
    "             rotation_mode=\"anchor\")\n",
    "\n",
    "    # Loop over data dimensions and create text annotations.\n",
    "    fmt = '.2f' if normalize else 'd'\n",
    "    thresh = cm.max() / 2.\n",
    "    for i in range(cm.shape[0]):\n",
    "        for j in range(cm.shape[1]):\n",
    "            ax.text(j, i, format(cm[i, j], fmt),\n",
    "                    ha=\"center\", va=\"center\",\n",
    "                    color=\"white\" if cm[i, j] > thresh else \"black\")\n",
    "    fig.tight_layout()\n",
    "    return ax"
   ]
  },
  {
   "cell_type": "markdown",
   "metadata": {},
   "source": [
    "## Building a CNN"
   ]
  },
  {
   "cell_type": "code",
   "execution_count": 3,
   "metadata": {},
   "outputs": [],
   "source": [
    "drugbank_reader = pd.read_csv('data/intermediate/interactions_preprocessed.csv', chunksize = 7500, iterator = True, converters={\"target_gene_encoded_padded\": \\\n",
    "                                                                                     lambda x: np.array(x.strip(\"[]\").replace(\"'\",\"\").split(\", \")),\n",
    "                                                                                    \"drug_fingerprint_encoded_padded\": \\\n",
    "                                                                                    lambda x: np.array(x.strip(\"[]\").replace(\"'\",\"\").split(\", \"))})\n",
    "\n",
    "#drugbank = drugbank.sample(7500)"
   ]
  },
  {
   "cell_type": "code",
   "execution_count": null,
   "metadata": {},
   "outputs": [],
   "source": [
    "drugbank = drugbank_reader.__next__().drop('Unnamed: 0', axis = 1)\n",
    "drugbank_test = drugbank_reader.__next__().drop('Unnamed: 0', axis = 1)"
   ]
  },
  {
   "cell_type": "code",
   "execution_count": 31,
   "metadata": {},
   "outputs": [],
   "source": [
    "drugbank_reader = pd.read_csv('data/intermediate/interactions_preprocessed.csv', converters={\"target_gene_encoded_padded\": \\\n",
    "                                                                                     lambda x: np.array(x.strip(\"[]\").replace(\"'\",\"\").split(\", \")),\n",
    "                                                                                    \"drug_fingerprint_encoded_padded\": \\\n",
    "                                                                                    lambda x: np.array(x.strip(\"[]\").replace(\"'\",\"\").split(\", \"))})"
   ]
  },
  {
   "cell_type": "code",
   "execution_count": 4,
   "metadata": {},
   "outputs": [],
   "source": [
    "drugbank = drugbank_reader.sample(7500, replace = False)\n",
    "drugbank_test = drugbank_reader.sample(7500, replace = False)\n"
   ]
  },
  {
   "cell_type": "code",
   "execution_count": 8,
   "metadata": {},
   "outputs": [],
   "source": [
    "drugbank['target_gene_encoded_padded']"
   ]
  },
  {
   "cell_type": "code",
   "execution_count": 3,
   "metadata": {},
   "outputs": [],
   "source": [
    "amino = Data().load_conv_train()\n",
    "gene = Data().load_conv_train(is_amino=False)"
   ]
  },
  {
   "cell_type": "code",
   "execution_count": 35,
   "metadata": {},
   "outputs": [
    {
     "data": {
      "text/html": [
       "<div>\n",
       "<style scoped>\n",
       "    .dataframe tbody tr th:only-of-type {\n",
       "        vertical-align: middle;\n",
       "    }\n",
       "\n",
       "    .dataframe tbody tr th {\n",
       "        vertical-align: top;\n",
       "    }\n",
       "\n",
       "    .dataframe thead th {\n",
       "        text-align: right;\n",
       "    }\n",
       "</style>\n",
       "<table border=\"1\" class=\"dataframe\">\n",
       "  <thead>\n",
       "    <tr style=\"text-align: right;\">\n",
       "      <th></th>\n",
       "      <th>drug_fingerprint</th>\n",
       "      <th>target_gene_code</th>\n",
       "      <th>label</th>\n",
       "      <th>set</th>\n",
       "      <th>d_enc</th>\n",
       "      <th>t_enc</th>\n",
       "      <th>d_len</th>\n",
       "      <th>t_len</th>\n",
       "      <th>d_enc_p</th>\n",
       "      <th>t_enc_p</th>\n",
       "    </tr>\n",
       "  </thead>\n",
       "  <tbody>\n",
       "    <tr>\n",
       "      <th>0</th>\n",
       "      <td>2246728737 3542456614 2245384272 1506563592 22...</td>\n",
       "      <td>ATGGCGCACGTCCGAGGCTTGCAGCTGCCTGGCTGCCTGGCCCTGG...</td>\n",
       "      <td>1</td>\n",
       "      <td>train</td>\n",
       "      <td>[2, 2, 4, 6, 7, 2, 8, 7, 3, 7, 3, 5, 4, 2, 4, ...</td>\n",
       "      <td>[0, 5, 2, 2, 1, 2, 1, 0, 1, 2, 5, 1, 1, 2, 0, ...</td>\n",
       "      <td>3003</td>\n",
       "      <td>1869</td>\n",
       "      <td>[-1, -1, -1, -1, -1, -1, -1, -1, -1, -1, -1, -...</td>\n",
       "      <td>[-1, -1, -1, -1, -1, -1, -1, -1, -1, -1, -1, -...</td>\n",
       "    </tr>\n",
       "    <tr>\n",
       "      <th>1</th>\n",
       "      <td>2246728737 3537119515 2245273601 2423543607 22...</td>\n",
       "      <td>ATGAAGCAGCGGTTCTCGGCGCTGCAGCTGCTGAAGCTGCTGCTGC...</td>\n",
       "      <td>1</td>\n",
       "      <td>train</td>\n",
       "      <td>[2, 2, 4, 6, 7, 2, 8, 7, 3, 7, 3, 5, 3, 7, 1, ...</td>\n",
       "      <td>[0, 5, 2, 0, 0, 2, 1, 0, 2, 1, 2, 2, 5, 5, 1, ...</td>\n",
       "      <td>1769</td>\n",
       "      <td>2100</td>\n",
       "      <td>[-1, -1, -1, -1, -1, -1, -1, -1, -1, -1, -1, -...</td>\n",
       "      <td>[-1, -1, -1, -1, -1, -1, -1, -1, -1, -1, -1, -...</td>\n",
       "    </tr>\n",
       "    <tr>\n",
       "      <th>2</th>\n",
       "      <td>2246728737 3537119515 2245273601 2423543607 22...</td>\n",
       "      <td>ATGGCAAACAGTGCCTCTCCTGAACAGAATCAAAATCACTGTTCAG...</td>\n",
       "      <td>1</td>\n",
       "      <td>train</td>\n",
       "      <td>[2, 2, 4, 6, 7, 2, 8, 7, 3, 7, 3, 5, 3, 7, 1, ...</td>\n",
       "      <td>[0, 5, 2, 2, 1, 0, 0, 0, 1, 0, 2, 5, 2, 1, 1, ...</td>\n",
       "      <td>1769</td>\n",
       "      <td>987</td>\n",
       "      <td>[-1, -1, -1, -1, -1, -1, -1, -1, -1, -1, -1, -...</td>\n",
       "      <td>[-1, -1, -1, -1, -1, -1, -1, -1, -1, -1, -1, -...</td>\n",
       "    </tr>\n",
       "    <tr>\n",
       "      <th>3</th>\n",
       "      <td>2968968094 2142032900 2968968094 2117068077 29...</td>\n",
       "      <td>ATGCTCATGGCGTCCACCACTTCCGCTGTGCCTGGGCATCCCTCTC...</td>\n",
       "      <td>1</td>\n",
       "      <td>train</td>\n",
       "      <td>[2, 9, 6, 8, 9, 6, 8, 0, 9, 4, 2, 1, 4, 2, 0, ...</td>\n",
       "      <td>[0, 5, 2, 1, 5, 1, 0, 5, 2, 2, 1, 2, 5, 1, 1, ...</td>\n",
       "      <td>1431</td>\n",
       "      <td>1116</td>\n",
       "      <td>[-1, -1, -1, -1, -1, -1, -1, -1, -1, -1, -1, -...</td>\n",
       "      <td>[-1, -1, -1, -1, -1, -1, -1, -1, -1, -1, -1, -...</td>\n",
       "    </tr>\n",
       "    <tr>\n",
       "      <th>4</th>\n",
       "      <td>2968968094 2142032900 2968968094 2117068077 29...</td>\n",
       "      <td>ATGCGTCTCTCCGCCGGTCCCGACGCGGGGCCCTCGGGCAACTCCA...</td>\n",
       "      <td>1</td>\n",
       "      <td>train</td>\n",
       "      <td>[2, 9, 6, 8, 9, 6, 8, 0, 9, 4, 2, 1, 4, 2, 0, ...</td>\n",
       "      <td>[0, 5, 2, 1, 2, 5, 1, 5, 1, 5, 1, 1, 2, 1, 1, ...</td>\n",
       "      <td>1431</td>\n",
       "      <td>1257</td>\n",
       "      <td>[-1, -1, -1, -1, -1, -1, -1, -1, -1, -1, -1, -...</td>\n",
       "      <td>[-1, -1, -1, -1, -1, -1, -1, -1, -1, -1, -1, -...</td>\n",
       "    </tr>\n",
       "  </tbody>\n",
       "</table>\n",
       "</div>"
      ],
      "text/plain": [
       "                                    drug_fingerprint  \\\n",
       "0  2246728737 3542456614 2245384272 1506563592 22...   \n",
       "1  2246728737 3537119515 2245273601 2423543607 22...   \n",
       "2  2246728737 3537119515 2245273601 2423543607 22...   \n",
       "3  2968968094 2142032900 2968968094 2117068077 29...   \n",
       "4  2968968094 2142032900 2968968094 2117068077 29...   \n",
       "\n",
       "                                    target_gene_code  label    set  \\\n",
       "0  ATGGCGCACGTCCGAGGCTTGCAGCTGCCTGGCTGCCTGGCCCTGG...      1  train   \n",
       "1  ATGAAGCAGCGGTTCTCGGCGCTGCAGCTGCTGAAGCTGCTGCTGC...      1  train   \n",
       "2  ATGGCAAACAGTGCCTCTCCTGAACAGAATCAAAATCACTGTTCAG...      1  train   \n",
       "3  ATGCTCATGGCGTCCACCACTTCCGCTGTGCCTGGGCATCCCTCTC...      1  train   \n",
       "4  ATGCGTCTCTCCGCCGGTCCCGACGCGGGGCCCTCGGGCAACTCCA...      1  train   \n",
       "\n",
       "                                               d_enc  \\\n",
       "0  [2, 2, 4, 6, 7, 2, 8, 7, 3, 7, 3, 5, 4, 2, 4, ...   \n",
       "1  [2, 2, 4, 6, 7, 2, 8, 7, 3, 7, 3, 5, 3, 7, 1, ...   \n",
       "2  [2, 2, 4, 6, 7, 2, 8, 7, 3, 7, 3, 5, 3, 7, 1, ...   \n",
       "3  [2, 9, 6, 8, 9, 6, 8, 0, 9, 4, 2, 1, 4, 2, 0, ...   \n",
       "4  [2, 9, 6, 8, 9, 6, 8, 0, 9, 4, 2, 1, 4, 2, 0, ...   \n",
       "\n",
       "                                               t_enc  d_len  t_len  \\\n",
       "0  [0, 5, 2, 2, 1, 2, 1, 0, 1, 2, 5, 1, 1, 2, 0, ...   3003   1869   \n",
       "1  [0, 5, 2, 0, 0, 2, 1, 0, 2, 1, 2, 2, 5, 5, 1, ...   1769   2100   \n",
       "2  [0, 5, 2, 2, 1, 0, 0, 0, 1, 0, 2, 5, 2, 1, 1, ...   1769    987   \n",
       "3  [0, 5, 2, 1, 5, 1, 0, 5, 2, 2, 1, 2, 5, 1, 1, ...   1431   1116   \n",
       "4  [0, 5, 2, 1, 2, 5, 1, 5, 1, 5, 1, 1, 2, 1, 1, ...   1431   1257   \n",
       "\n",
       "                                             d_enc_p  \\\n",
       "0  [-1, -1, -1, -1, -1, -1, -1, -1, -1, -1, -1, -...   \n",
       "1  [-1, -1, -1, -1, -1, -1, -1, -1, -1, -1, -1, -...   \n",
       "2  [-1, -1, -1, -1, -1, -1, -1, -1, -1, -1, -1, -...   \n",
       "3  [-1, -1, -1, -1, -1, -1, -1, -1, -1, -1, -1, -...   \n",
       "4  [-1, -1, -1, -1, -1, -1, -1, -1, -1, -1, -1, -...   \n",
       "\n",
       "                                             t_enc_p  \n",
       "0  [-1, -1, -1, -1, -1, -1, -1, -1, -1, -1, -1, -...  \n",
       "1  [-1, -1, -1, -1, -1, -1, -1, -1, -1, -1, -1, -...  \n",
       "2  [-1, -1, -1, -1, -1, -1, -1, -1, -1, -1, -1, -...  \n",
       "3  [-1, -1, -1, -1, -1, -1, -1, -1, -1, -1, -1, -...  \n",
       "4  [-1, -1, -1, -1, -1, -1, -1, -1, -1, -1, -1, -...  "
      ]
     },
     "execution_count": 35,
     "metadata": {},
     "output_type": "execute_result"
    }
   ],
   "source": [
    "gene.head()"
   ]
  },
  {
   "cell_type": "code",
   "execution_count": 4,
   "metadata": {},
   "outputs": [],
   "source": [
    "targ_string = 'amino'\n",
    "if targ_string == 'gene':\n",
    "    data = gene.copy()\n",
    "elif targ_string == 'amino':\n",
    "    data = amino.copy()\n",
    "\n",
    "# d_len = 200\n",
    "# # t_len = 2000 # for aminos\n",
    "# t_len = 5000 # for genes\n",
    "\n",
    "# data = data[(data.d_len <= d_len) & (data.t_len <= t_len)] # for aminos\n",
    "# data['d_enc_p'] = data['d_enc_p'].apply(lambda x: x[:d_len])\n",
    "# data['t_enc_p'] = data['t_enc_p'].apply(lambda x: x[:t_len])"
   ]
  },
  {
   "cell_type": "code",
   "execution_count": 6,
   "metadata": {},
   "outputs": [
    {
     "data": {
      "text/html": [
       "<div>\n",
       "<style scoped>\n",
       "    .dataframe tbody tr th:only-of-type {\n",
       "        vertical-align: middle;\n",
       "    }\n",
       "\n",
       "    .dataframe tbody tr th {\n",
       "        vertical-align: top;\n",
       "    }\n",
       "\n",
       "    .dataframe thead th {\n",
       "        text-align: right;\n",
       "    }\n",
       "</style>\n",
       "<table border=\"1\" class=\"dataframe\">\n",
       "  <thead>\n",
       "    <tr style=\"text-align: right;\">\n",
       "      <th></th>\n",
       "      <th>drug_fingerprint</th>\n",
       "      <th>target_amino_code</th>\n",
       "      <th>label</th>\n",
       "      <th>set</th>\n",
       "      <th>d_enc</th>\n",
       "      <th>t_enc</th>\n",
       "      <th>d_len</th>\n",
       "      <th>t_len</th>\n",
       "      <th>d_enc_p</th>\n",
       "      <th>t_enc_p</th>\n",
       "    </tr>\n",
       "  </thead>\n",
       "  <tbody>\n",
       "    <tr>\n",
       "      <th>0</th>\n",
       "      <td>2246728737 3542456614 2245384272 1506563592 22...</td>\n",
       "      <td>MAHVRGLQLPGCLALAALCSLVHSQHVFLAPQQARSLLQRVRRANT...</td>\n",
       "      <td>1.0</td>\n",
       "      <td>train</td>\n",
       "      <td>[2, 2, 4, 6, 7, 2, 8, 7, 3, 7, 3, 5, 4, 2, 4, ...</td>\n",
       "      <td>[10, 0, 6, 18, 14, 5, 9, 13, 9, 12, 5, 1, 9, 0...</td>\n",
       "      <td>3003</td>\n",
       "      <td>622</td>\n",
       "      <td>[-1, -1, -1, -1, -1, -1, -1, -1, -1, -1, -1, -...</td>\n",
       "      <td>[-1, -1, -1, -1, -1, -1, -1, -1, -1, -1, -1, -...</td>\n",
       "    </tr>\n",
       "    <tr>\n",
       "      <th>1</th>\n",
       "      <td>2246728737 3537119515 2245273601 2423543607 22...</td>\n",
       "      <td>MKQRFSALQLLKLLLLLQPPLPRALREALCPEPCNCVPDGALRCPG...</td>\n",
       "      <td>1.0</td>\n",
       "      <td>train</td>\n",
       "      <td>[2, 2, 4, 6, 7, 2, 8, 7, 3, 7, 3, 5, 3, 7, 1, ...</td>\n",
       "      <td>[10, 8, 13, 14, 4, 15, 0, 9, 13, 9, 9, 8, 9, 9...</td>\n",
       "      <td>1769</td>\n",
       "      <td>699</td>\n",
       "      <td>[-1, -1, -1, -1, -1, -1, -1, -1, -1, -1, -1, -...</td>\n",
       "      <td>[-1, -1, -1, -1, -1, -1, -1, -1, -1, -1, -1, -...</td>\n",
       "    </tr>\n",
       "    <tr>\n",
       "      <th>2</th>\n",
       "      <td>2246728737 3537119515 2245273601 2423543607 22...</td>\n",
       "      <td>MANSASPEQNQNHCSAINNSIPLMQGNLPTLTLSGKIRVTVTFFLF...</td>\n",
       "      <td>1.0</td>\n",
       "      <td>train</td>\n",
       "      <td>[2, 2, 4, 6, 7, 2, 8, 7, 3, 7, 3, 5, 3, 7, 1, ...</td>\n",
       "      <td>[10, 0, 11, 15, 0, 15, 12, 3, 13, 11, 13, 11, ...</td>\n",
       "      <td>1769</td>\n",
       "      <td>328</td>\n",
       "      <td>[-1, -1, -1, -1, -1, -1, -1, -1, -1, -1, -1, -...</td>\n",
       "      <td>[-1, -1, -1, -1, -1, -1, -1, -1, -1, -1, -1, -...</td>\n",
       "    </tr>\n",
       "    <tr>\n",
       "      <th>3</th>\n",
       "      <td>2968968094 2142032900 2968968094 2117068077 29...</td>\n",
       "      <td>MLMASTTSAVPGHPSLPSLPSNSSQERPLDTRDPLLARAELALLSI...</td>\n",
       "      <td>1.0</td>\n",
       "      <td>train</td>\n",
       "      <td>[2, 9, 6, 8, 9, 6, 8, 0, 9, 4, 2, 1, 4, 2, 0, ...</td>\n",
       "      <td>[10, 9, 10, 0, 15, 16, 16, 15, 0, 18, 12, 5, 6...</td>\n",
       "      <td>1431</td>\n",
       "      <td>371</td>\n",
       "      <td>[-1, -1, -1, -1, -1, -1, -1, -1, -1, -1, -1, -...</td>\n",
       "      <td>[-1, -1, -1, -1, -1, -1, -1, -1, -1, -1, -1, -...</td>\n",
       "    </tr>\n",
       "    <tr>\n",
       "      <th>4</th>\n",
       "      <td>2968968094 2142032900 2968968094 2117068077 29...</td>\n",
       "      <td>MRLSAGPDAGPSGNSSPWWPLATGAGNTSREAEALGEGNGPPRDVR...</td>\n",
       "      <td>1.0</td>\n",
       "      <td>train</td>\n",
       "      <td>[2, 9, 6, 8, 9, 6, 8, 0, 9, 4, 2, 1, 4, 2, 0, ...</td>\n",
       "      <td>[10, 14, 9, 15, 0, 5, 12, 2, 0, 5, 12, 15, 5, ...</td>\n",
       "      <td>1431</td>\n",
       "      <td>418</td>\n",
       "      <td>[-1, -1, -1, -1, -1, -1, -1, -1, -1, -1, -1, -...</td>\n",
       "      <td>[-1, -1, -1, -1, -1, -1, -1, -1, -1, -1, -1, -...</td>\n",
       "    </tr>\n",
       "  </tbody>\n",
       "</table>\n",
       "</div>"
      ],
      "text/plain": [
       "                                    drug_fingerprint  \\\n",
       "0  2246728737 3542456614 2245384272 1506563592 22...   \n",
       "1  2246728737 3537119515 2245273601 2423543607 22...   \n",
       "2  2246728737 3537119515 2245273601 2423543607 22...   \n",
       "3  2968968094 2142032900 2968968094 2117068077 29...   \n",
       "4  2968968094 2142032900 2968968094 2117068077 29...   \n",
       "\n",
       "                                   target_amino_code  label    set  \\\n",
       "0  MAHVRGLQLPGCLALAALCSLVHSQHVFLAPQQARSLLQRVRRANT...    1.0  train   \n",
       "1  MKQRFSALQLLKLLLLLQPPLPRALREALCPEPCNCVPDGALRCPG...    1.0  train   \n",
       "2  MANSASPEQNQNHCSAINNSIPLMQGNLPTLTLSGKIRVTVTFFLF...    1.0  train   \n",
       "3  MLMASTTSAVPGHPSLPSLPSNSSQERPLDTRDPLLARAELALLSI...    1.0  train   \n",
       "4  MRLSAGPDAGPSGNSSPWWPLATGAGNTSREAEALGEGNGPPRDVR...    1.0  train   \n",
       "\n",
       "                                               d_enc  \\\n",
       "0  [2, 2, 4, 6, 7, 2, 8, 7, 3, 7, 3, 5, 4, 2, 4, ...   \n",
       "1  [2, 2, 4, 6, 7, 2, 8, 7, 3, 7, 3, 5, 3, 7, 1, ...   \n",
       "2  [2, 2, 4, 6, 7, 2, 8, 7, 3, 7, 3, 5, 3, 7, 1, ...   \n",
       "3  [2, 9, 6, 8, 9, 6, 8, 0, 9, 4, 2, 1, 4, 2, 0, ...   \n",
       "4  [2, 9, 6, 8, 9, 6, 8, 0, 9, 4, 2, 1, 4, 2, 0, ...   \n",
       "\n",
       "                                               t_enc  d_len  t_len  \\\n",
       "0  [10, 0, 6, 18, 14, 5, 9, 13, 9, 12, 5, 1, 9, 0...   3003    622   \n",
       "1  [10, 8, 13, 14, 4, 15, 0, 9, 13, 9, 9, 8, 9, 9...   1769    699   \n",
       "2  [10, 0, 11, 15, 0, 15, 12, 3, 13, 11, 13, 11, ...   1769    328   \n",
       "3  [10, 9, 10, 0, 15, 16, 16, 15, 0, 18, 12, 5, 6...   1431    371   \n",
       "4  [10, 14, 9, 15, 0, 5, 12, 2, 0, 5, 12, 15, 5, ...   1431    418   \n",
       "\n",
       "                                             d_enc_p  \\\n",
       "0  [-1, -1, -1, -1, -1, -1, -1, -1, -1, -1, -1, -...   \n",
       "1  [-1, -1, -1, -1, -1, -1, -1, -1, -1, -1, -1, -...   \n",
       "2  [-1, -1, -1, -1, -1, -1, -1, -1, -1, -1, -1, -...   \n",
       "3  [-1, -1, -1, -1, -1, -1, -1, -1, -1, -1, -1, -...   \n",
       "4  [-1, -1, -1, -1, -1, -1, -1, -1, -1, -1, -1, -...   \n",
       "\n",
       "                                             t_enc_p  \n",
       "0  [-1, -1, -1, -1, -1, -1, -1, -1, -1, -1, -1, -...  \n",
       "1  [-1, -1, -1, -1, -1, -1, -1, -1, -1, -1, -1, -...  \n",
       "2  [-1, -1, -1, -1, -1, -1, -1, -1, -1, -1, -1, -...  \n",
       "3  [-1, -1, -1, -1, -1, -1, -1, -1, -1, -1, -1, -...  \n",
       "4  [-1, -1, -1, -1, -1, -1, -1, -1, -1, -1, -1, -...  "
      ]
     },
     "execution_count": 6,
     "metadata": {},
     "output_type": "execute_result"
    }
   ],
   "source": [
    "train = data[data.set=='train'].copy()#.sample(n=500)\n",
    "test  = train.sample(frac=.3, replace = True).copy()\n",
    "val   = data[data.set=='val'].copy()\n",
    "\n",
    "# Remove testing indicies\n",
    "train = train.loc[list(set(train.index.tolist()) - set(test.index.tolist())), :].reset_index(drop=True)\n",
    "test.reset_index(drop=True, inplace=True)\n",
    "train.head()"
   ]
  },
  {
   "cell_type": "code",
   "execution_count": 38,
   "metadata": {},
   "outputs": [],
   "source": [
    "X_0 = np.array(train['d_enc_p'].tolist())\n",
    "X_1 = np.array(train['t_enc_p'].tolist())\n",
    "Y = np.array(train['label'].tolist())"
   ]
  },
  {
   "cell_type": "code",
   "execution_count": 39,
   "metadata": {},
   "outputs": [],
   "source": [
    "X_0_test = np.array(test['d_enc_p'].tolist())\n",
    "X_1_test = np.array(test['t_enc_p'].tolist())\n",
    "Y_test = np.array(test['label'].tolist())"
   ]
  },
  {
   "cell_type": "code",
   "execution_count": 40,
   "metadata": {},
   "outputs": [],
   "source": [
    "X_0_val = np.array(val['d_enc_p'].tolist())\n",
    "X_1_val = np.array(val['t_enc_p'].tolist())\n",
    "Y_val = np.array(val['label'].tolist())"
   ]
  },
  {
   "cell_type": "code",
   "execution_count": 41,
   "metadata": {},
   "outputs": [
    {
     "name": "stdout",
     "output_type": "stream",
     "text": [
      "(20865, 9501)\n",
      "(20865, 7073)\n"
     ]
    }
   ],
   "source": [
    "print(X_0.shape)\n",
    "print(X_1.shape)"
   ]
  },
  {
   "cell_type": "code",
   "execution_count": 42,
   "metadata": {},
   "outputs": [],
   "source": [
    "# X = np.hstack((X_0, X_1))\n",
    "# X_test = np.hstack((X_0_test, X_1_test))"
   ]
  },
  {
   "cell_type": "code",
   "execution_count": 43,
   "metadata": {},
   "outputs": [
    {
     "data": {
      "text/plain": [
       "(8444, 9501)"
      ]
     },
     "execution_count": 43,
     "metadata": {},
     "output_type": "execute_result"
    }
   ],
   "source": [
    "X_0_test.shape"
   ]
  },
  {
   "cell_type": "code",
   "execution_count": 44,
   "metadata": {},
   "outputs": [
    {
     "data": {
      "text/plain": [
       "(13976, 9501)"
      ]
     },
     "execution_count": 44,
     "metadata": {},
     "output_type": "execute_result"
    }
   ],
   "source": [
    "X_0_val.shape"
   ]
  },
  {
   "cell_type": "code",
   "execution_count": 45,
   "metadata": {},
   "outputs": [
    {
     "data": {
      "text/plain": [
       "<matplotlib.axes._subplots.AxesSubplot at 0x7fda011ae4a8>"
      ]
     },
     "execution_count": 45,
     "metadata": {},
     "output_type": "execute_result"
    },
    {
     "data": {
      "image/png": "[encoded data removed]",
      "text/plain": [
       "<Figure size 432x288 with 1 Axes>"
      ]
     },
     "metadata": {
      "needs_background": "light"
     },
     "output_type": "display_data"
    }
   ],
   "source": [
    "sns.distplot(train['d_len'], kde=False)"
   ]
  },
  {
   "cell_type": "code",
   "execution_count": 46,
   "metadata": {},
   "outputs": [
    {
     "data": {
      "text/plain": [
       "<matplotlib.axes._subplots.AxesSubplot at 0x7fda0110e6d8>"
      ]
     },
     "execution_count": 46,
     "metadata": {},
     "output_type": "execute_result"
    },
    {
     "data": {
      "image/png": "[encoded data removed]",
      "text/plain": [
       "<Figure size 432x288 with 1 Axes>"
      ]
     },
     "metadata": {
      "needs_background": "light"
     },
     "output_type": "display_data"
    }
   ],
   "source": [
    "sns.distplot(train['t_len'], kde=False)"
   ]
  },
  {
   "cell_type": "code",
   "execution_count": 47,
   "metadata": {
    "scrolled": true
   },
   "outputs": [
    {
     "data": {
      "text/html": [
       "<div>\n",
       "<style scoped>\n",
       "    .dataframe tbody tr th:only-of-type {\n",
       "        vertical-align: middle;\n",
       "    }\n",
       "\n",
       "    .dataframe tbody tr th {\n",
       "        vertical-align: top;\n",
       "    }\n",
       "\n",
       "    .dataframe thead th {\n",
       "        text-align: right;\n",
       "    }\n",
       "</style>\n",
       "<table border=\"1\" class=\"dataframe\">\n",
       "  <thead>\n",
       "    <tr style=\"text-align: right;\">\n",
       "      <th></th>\n",
       "      <th>drug_fingerprint</th>\n",
       "      <th>target_amino_code</th>\n",
       "      <th>label</th>\n",
       "      <th>set</th>\n",
       "      <th>d_enc</th>\n",
       "      <th>t_enc</th>\n",
       "      <th>d_len</th>\n",
       "      <th>t_len</th>\n",
       "      <th>d_enc_p</th>\n",
       "      <th>t_enc_p</th>\n",
       "    </tr>\n",
       "  </thead>\n",
       "  <tbody>\n",
       "    <tr>\n",
       "      <th>0</th>\n",
       "      <td>2246728737 3542456614 2245384272 1506563592 22...</td>\n",
       "      <td>MAHVRGLQLPGCLALAALCSLVHSQHVFLAPQQARSLLQRVRRANT...</td>\n",
       "      <td>1.0</td>\n",
       "      <td>train</td>\n",
       "      <td>[2, 2, 4, 6, 7, 2, 8, 7, 3, 7, 3, 5, 4, 2, 4, ...</td>\n",
       "      <td>[10, 0, 6, 18, 14, 5, 9, 13, 9, 12, 5, 1, 9, 0...</td>\n",
       "      <td>3003</td>\n",
       "      <td>622</td>\n",
       "      <td>[-1, -1, -1, -1, -1, -1, -1, -1, -1, -1, -1, -...</td>\n",
       "      <td>[-1, -1, -1, -1, -1, -1, -1, -1, -1, -1, -1, -...</td>\n",
       "    </tr>\n",
       "    <tr>\n",
       "      <th>1</th>\n",
       "      <td>2246728737 3537119515 2245273601 2423543607 22...</td>\n",
       "      <td>MKQRFSALQLLKLLLLLQPPLPRALREALCPEPCNCVPDGALRCPG...</td>\n",
       "      <td>1.0</td>\n",
       "      <td>train</td>\n",
       "      <td>[2, 2, 4, 6, 7, 2, 8, 7, 3, 7, 3, 5, 3, 7, 1, ...</td>\n",
       "      <td>[10, 8, 13, 14, 4, 15, 0, 9, 13, 9, 9, 8, 9, 9...</td>\n",
       "      <td>1769</td>\n",
       "      <td>699</td>\n",
       "      <td>[-1, -1, -1, -1, -1, -1, -1, -1, -1, -1, -1, -...</td>\n",
       "      <td>[-1, -1, -1, -1, -1, -1, -1, -1, -1, -1, -1, -...</td>\n",
       "    </tr>\n",
       "    <tr>\n",
       "      <th>2</th>\n",
       "      <td>2246728737 3537119515 2245273601 2423543607 22...</td>\n",
       "      <td>MANSASPEQNQNHCSAINNSIPLMQGNLPTLTLSGKIRVTVTFFLF...</td>\n",
       "      <td>1.0</td>\n",
       "      <td>train</td>\n",
       "      <td>[2, 2, 4, 6, 7, 2, 8, 7, 3, 7, 3, 5, 3, 7, 1, ...</td>\n",
       "      <td>[10, 0, 11, 15, 0, 15, 12, 3, 13, 11, 13, 11, ...</td>\n",
       "      <td>1769</td>\n",
       "      <td>328</td>\n",
       "      <td>[-1, -1, -1, -1, -1, -1, -1, -1, -1, -1, -1, -...</td>\n",
       "      <td>[-1, -1, -1, -1, -1, -1, -1, -1, -1, -1, -1, -...</td>\n",
       "    </tr>\n",
       "    <tr>\n",
       "      <th>3</th>\n",
       "      <td>2968968094 2142032900 2968968094 2117068077 29...</td>\n",
       "      <td>MLMASTTSAVPGHPSLPSLPSNSSQERPLDTRDPLLARAELALLSI...</td>\n",
       "      <td>1.0</td>\n",
       "      <td>train</td>\n",
       "      <td>[2, 9, 6, 8, 9, 6, 8, 0, 9, 4, 2, 1, 4, 2, 0, ...</td>\n",
       "      <td>[10, 9, 10, 0, 15, 16, 16, 15, 0, 18, 12, 5, 6...</td>\n",
       "      <td>1431</td>\n",
       "      <td>371</td>\n",
       "      <td>[-1, -1, -1, -1, -1, -1, -1, -1, -1, -1, -1, -...</td>\n",
       "      <td>[-1, -1, -1, -1, -1, -1, -1, -1, -1, -1, -1, -...</td>\n",
       "    </tr>\n",
       "    <tr>\n",
       "      <th>4</th>\n",
       "      <td>2968968094 2142032900 2968968094 2117068077 29...</td>\n",
       "      <td>MRLSAGPDAGPSGNSSPWWPLATGAGNTSREAEALGEGNGPPRDVR...</td>\n",
       "      <td>1.0</td>\n",
       "      <td>train</td>\n",
       "      <td>[2, 9, 6, 8, 9, 6, 8, 0, 9, 4, 2, 1, 4, 2, 0, ...</td>\n",
       "      <td>[10, 14, 9, 15, 0, 5, 12, 2, 0, 5, 12, 15, 5, ...</td>\n",
       "      <td>1431</td>\n",
       "      <td>418</td>\n",
       "      <td>[-1, -1, -1, -1, -1, -1, -1, -1, -1, -1, -1, -...</td>\n",
       "      <td>[-1, -1, -1, -1, -1, -1, -1, -1, -1, -1, -1, -...</td>\n",
       "    </tr>\n",
       "  </tbody>\n",
       "</table>\n",
       "</div>"
      ],
      "text/plain": [
       "                                    drug_fingerprint  \\\n",
       "0  2246728737 3542456614 2245384272 1506563592 22...   \n",
       "1  2246728737 3537119515 2245273601 2423543607 22...   \n",
       "2  2246728737 3537119515 2245273601 2423543607 22...   \n",
       "3  2968968094 2142032900 2968968094 2117068077 29...   \n",
       "4  2968968094 2142032900 2968968094 2117068077 29...   \n",
       "\n",
       "                                   target_amino_code  label    set  \\\n",
       "0  MAHVRGLQLPGCLALAALCSLVHSQHVFLAPQQARSLLQRVRRANT...    1.0  train   \n",
       "1  MKQRFSALQLLKLLLLLQPPLPRALREALCPEPCNCVPDGALRCPG...    1.0  train   \n",
       "2  MANSASPEQNQNHCSAINNSIPLMQGNLPTLTLSGKIRVTVTFFLF...    1.0  train   \n",
       "3  MLMASTTSAVPGHPSLPSLPSNSSQERPLDTRDPLLARAELALLSI...    1.0  train   \n",
       "4  MRLSAGPDAGPSGNSSPWWPLATGAGNTSREAEALGEGNGPPRDVR...    1.0  train   \n",
       "\n",
       "                                               d_enc  \\\n",
       "0  [2, 2, 4, 6, 7, 2, 8, 7, 3, 7, 3, 5, 4, 2, 4, ...   \n",
       "1  [2, 2, 4, 6, 7, 2, 8, 7, 3, 7, 3, 5, 3, 7, 1, ...   \n",
       "2  [2, 2, 4, 6, 7, 2, 8, 7, 3, 7, 3, 5, 3, 7, 1, ...   \n",
       "3  [2, 9, 6, 8, 9, 6, 8, 0, 9, 4, 2, 1, 4, 2, 0, ...   \n",
       "4  [2, 9, 6, 8, 9, 6, 8, 0, 9, 4, 2, 1, 4, 2, 0, ...   \n",
       "\n",
       "                                               t_enc  d_len  t_len  \\\n",
       "0  [10, 0, 6, 18, 14, 5, 9, 13, 9, 12, 5, 1, 9, 0...   3003    622   \n",
       "1  [10, 8, 13, 14, 4, 15, 0, 9, 13, 9, 9, 8, 9, 9...   1769    699   \n",
       "2  [10, 0, 11, 15, 0, 15, 12, 3, 13, 11, 13, 11, ...   1769    328   \n",
       "3  [10, 9, 10, 0, 15, 16, 16, 15, 0, 18, 12, 5, 6...   1431    371   \n",
       "4  [10, 14, 9, 15, 0, 5, 12, 2, 0, 5, 12, 15, 5, ...   1431    418   \n",
       "\n",
       "                                             d_enc_p  \\\n",
       "0  [-1, -1, -1, -1, -1, -1, -1, -1, -1, -1, -1, -...   \n",
       "1  [-1, -1, -1, -1, -1, -1, -1, -1, -1, -1, -1, -...   \n",
       "2  [-1, -1, -1, -1, -1, -1, -1, -1, -1, -1, -1, -...   \n",
       "3  [-1, -1, -1, -1, -1, -1, -1, -1, -1, -1, -1, -...   \n",
       "4  [-1, -1, -1, -1, -1, -1, -1, -1, -1, -1, -1, -...   \n",
       "\n",
       "                                             t_enc_p  \n",
       "0  [-1, -1, -1, -1, -1, -1, -1, -1, -1, -1, -1, -...  \n",
       "1  [-1, -1, -1, -1, -1, -1, -1, -1, -1, -1, -1, -...  \n",
       "2  [-1, -1, -1, -1, -1, -1, -1, -1, -1, -1, -1, -...  \n",
       "3  [-1, -1, -1, -1, -1, -1, -1, -1, -1, -1, -1, -...  \n",
       "4  [-1, -1, -1, -1, -1, -1, -1, -1, -1, -1, -1, -...  "
      ]
     },
     "execution_count": 47,
     "metadata": {},
     "output_type": "execute_result"
    }
   ],
   "source": [
    "train.head()"
   ]
  },
  {
   "cell_type": "markdown",
   "metadata": {},
   "source": [
    "#### Trimming the feature martrix to minimize padding. This trimming may result in loss of data from the largest SMILE and fingerprints, but are neccesary to reduce the amount of padding"
   ]
  },
  {
   "cell_type": "code",
   "execution_count": 48,
   "metadata": {},
   "outputs": [],
   "source": [
    "## Trim the X of -1's. Might loose actual sequences\n",
    "padding_fractions = []\n",
    "padding_fraction = 0.9\n",
    "\n",
    "while padding_fraction > 0.5:\n",
    "    \n",
    "    padding_fraction = len(X_0[np.where(X_0 == -1)]) / (X_0.shape[0] * X_0.shape[1])\n",
    "    padding_fractions.append(padding_fraction)\n",
    "    trimming_factor = 0.1\n",
    "\n",
    "    X_0 = X_0[:,int(X_0.shape[1]*trimming_factor) : X_0.shape[1] - int(X_0.shape[1]*trimming_factor)]\n",
    "    X_1 = X_1[:,int(X_1.shape[1]*trimming_factor) : X_1.shape[1] - int(X_1.shape[1]*trimming_factor)]\n",
    "\n",
    "    X_0_test = X_0_test[:,int(X_0_test.shape[1]*trimming_factor) : X_0_test.shape[1] - int(X_0_test.shape[1]*trimming_factor)]\n",
    "    X_1_test = X_1_test[:,int(X_1_test.shape[1]*trimming_factor) : X_1_test.shape[1] - int(X_1_test.shape[1]*trimming_factor)]\n",
    "\n",
    "    X_0_val = X_0_val[:,int(X_0_val.shape[1]*trimming_factor) : X_0_val.shape[1] - int(X_0_val.shape[1]*trimming_factor)]\n",
    "    X_1_val = X_1_val[:,int(X_1_val.shape[1]*trimming_factor) : X_1_val.shape[1] - int(X_1_val.shape[1]*trimming_factor)]\n",
    "\n"
   ]
  },
  {
   "cell_type": "code",
   "execution_count": 49,
   "metadata": {
    "scrolled": true
   },
   "outputs": [
    {
     "data": {
      "text/plain": [
       "[<matplotlib.lines.Line2D at 0x7fdab2704d30>]"
      ]
     },
     "execution_count": 49,
     "metadata": {},
     "output_type": "execute_result"
    },
    {
     "data": {
      "image/png": "[encoded data removed]",
      "text/plain": [
       "<Figure size 432x288 with 1 Axes>"
      ]
     },
     "metadata": {
      "needs_background": "light"
     },
     "output_type": "display_data"
    }
   ],
   "source": [
    "plt.plot(padding_fractions)"
   ]
  },
  {
   "cell_type": "code",
   "execution_count": 82,
   "metadata": {},
   "outputs": [],
   "source": [
    "# +1 to shift all values by 1 so the -1 padding becomes 0.\n",
    "\n",
    "X = np.hstack((X_0, X_1)) + 1\n",
    "X_test = np.hstack((X_0_test, X_1_test)) + 1\n",
    "X_val = np.hstack((X_0_val, X_1_val)) + 1"
   ]
  },
  {
   "cell_type": "code",
   "execution_count": 79,
   "metadata": {},
   "outputs": [],
   "source": [
    "X_mixed_index = np.random.randint(len(X), size=int(len(X)/2))\n",
    "X_val_mixed_index = np.random.randint(len(X_val), size=int(len(X_val)/2))"
   ]
  },
  {
   "cell_type": "code",
   "execution_count": 95,
   "metadata": {},
   "outputs": [
    {
     "data": {
      "text/plain": [
       "(10432,)"
      ]
     },
     "execution_count": 95,
     "metadata": {},
     "output_type": "execute_result"
    }
   ],
   "source": [
    "Y[X_mixed_index].shape"
   ]
  },
  {
   "cell_type": "code",
   "execution_count": 96,
   "metadata": {},
   "outputs": [
    {
     "data": {
      "text/plain": [
       "(6988,)"
      ]
     },
     "execution_count": 96,
     "metadata": {},
     "output_type": "execute_result"
    }
   ],
   "source": [
    "Y_val[X_val_mixed_index].shape"
   ]
  },
  {
   "cell_type": "code",
   "execution_count": 99,
   "metadata": {},
   "outputs": [],
   "source": [
    "X_mixed = np.vstack((X[X_mixed_index], X_val[X_val_mixed_index]))\n",
    "X_mixed_val = np.vstack((X[~ X_mixed_index], X_val[ ~ X_val_mixed_index]))\n",
    "\n",
    "#Y is shaped as a horizontal array\n",
    "Y_mixed = np.hstack((Y[X_mixed_index], Y_val[X_val_mixed_index]))\n",
    "Y_mixed_val = np.hstack((Y[~X_mixed_index], Y_val[~X_val_mixed_index]))"
   ]
  },
  {
   "cell_type": "code",
   "execution_count": 100,
   "metadata": {},
   "outputs": [
    {
     "data": {
      "text/plain": [
       "array([[ 0,  0,  0, ...,  0,  0,  0],\n",
       "       [ 0,  0,  0, ...,  0,  0,  0],\n",
       "       [ 0,  0,  0, ..., 19,  8,  6],\n",
       "       ...,\n",
       "       [ 0,  0,  0, ...,  0,  0,  0],\n",
       "       [ 0,  0,  0, ..., 11, 14, 13],\n",
       "       [ 7,  3,  4, ...,  0,  0,  0]])"
      ]
     },
     "execution_count": 100,
     "metadata": {},
     "output_type": "execute_result"
    }
   ],
   "source": [
    "X_mixed"
   ]
  },
  {
   "cell_type": "code",
   "execution_count": 101,
   "metadata": {},
   "outputs": [
    {
     "data": {
      "text/plain": [
       "array([[ 0,  0,  0, ...,  0,  0,  0],\n",
       "       [ 0,  0,  0, ..., 13,  1,  4],\n",
       "       [ 0,  0,  0, ...,  0,  0,  0],\n",
       "       ...,\n",
       "       [ 0,  0,  0, ...,  5, 17, 13],\n",
       "       [ 4,  9,  5, ...,  0,  0,  0],\n",
       "       [ 9,  2,  9, ...,  0,  0,  0]])"
      ]
     },
     "execution_count": 101,
     "metadata": {},
     "output_type": "execute_result"
    }
   ],
   "source": [
    "X_mixed_val"
   ]
  },
  {
   "cell_type": "code",
   "execution_count": 104,
   "metadata": {},
   "outputs": [],
   "source": [
    "#embedding_dims = 16\n",
    "hidden_dims = 512\n",
    "hidden_dims_2 = 256\n",
    "hidden_dims_3 = 128\n",
    "batch_size = 500\n",
    "epochs = 30\n",
    "#maxlen = \n",
    "\n",
    "model = Sequential()\n",
    "#model.add(Embedding(X_0.shape[1],\n",
    "#                    embedding_dims,\n",
    "#                    input_length=maxlen))\n",
    "\n",
    "#model.add(Dropout(0.2))\n",
    "model.add(Conv1D(512,\n",
    "                 1024,\n",
    "                 activation='relu',\n",
    "                 strides=2))\n",
    "\n",
    "\n",
    "model.add(GlobalMaxPooling1D())\n",
    "\n",
    "model.add(Dense(hidden_dims))\n",
    "model.add(Dropout(0.3))\n",
    "model.add(Activation('relu'))\n",
    "\n",
    "model.add(Dense(hidden_dims_2))\n",
    "model.add(Dropout(0.3))\n",
    "model.add(Activation('relu'))\n",
    "\n",
    "model.add(Dense(hidden_dims_3))\n",
    "model.add(Dropout(0.3))\n",
    "model.add(Activation('relu'))\n",
    "\n",
    "model.add(Dense(1))\n",
    "model.add(Activation('sigmoid'))\n",
    "\n",
    "model.compile(loss='binary_crossentropy',\n",
    "              optimizer='adam',\n",
    "              metrics=['accuracy'])\n"
   ]
  },
  {
   "cell_type": "code",
   "execution_count": 30,
   "metadata": {},
   "outputs": [],
   "source": [
    "csv_logger = CSVLogger(('%s_log.csv') % targ_string, append=True, separator=';')\n",
    "\n",
    "model.fit(X[..., np.newaxis], Y,\n",
    "          batch_size=batch_size,\n",
    "          epochs=epochs,\n",
    "          validation_data=(X_test[..., np.newaxis], Y_test),\n",
    "          callbacks=[csv_logger])"
   ]
  },
  {
   "cell_type": "code",
   "execution_count": 106,
   "metadata": {},
   "outputs": [
    {
     "name": "stdout",
     "output_type": "stream",
     "text": [
      "Train on 17420 samples, validate on 8444 samples\n",
      "Epoch 1/30\n",
      "17420/17420 [==============================] - 29s 2ms/step - loss: 0.6055 - acc: 0.6625 - val_loss: 0.7405 - val_acc: 0.5338\n",
      "Epoch 2/30\n",
      "17420/17420 [==============================] - 28s 2ms/step - loss: 0.6078 - acc: 0.6623 - val_loss: 0.6038 - val_acc: 0.6826\n",
      "Epoch 3/30\n",
      "17420/17420 [==============================] - 29s 2ms/step - loss: 0.5685 - acc: 0.6982 - val_loss: 0.5946 - val_acc: 0.6711\n",
      "Epoch 4/30\n",
      "17420/17420 [==============================] - 28s 2ms/step - loss: 0.5508 - acc: 0.7200 - val_loss: 0.5560 - val_acc: 0.7072\n",
      "Epoch 5/30\n",
      "17420/17420 [==============================] - 29s 2ms/step - loss: 0.5093 - acc: 0.7525 - val_loss: 0.5264 - val_acc: 0.7448\n",
      "Epoch 6/30\n",
      "17420/17420 [==============================] - 28s 2ms/step - loss: 0.6387 - acc: 0.6614 - val_loss: 0.6076 - val_acc: 0.6813\n",
      "Epoch 7/30\n",
      "17420/17420 [==============================] - 31s 2ms/step - loss: 0.5877 - acc: 0.6885 - val_loss: 0.6354 - val_acc: 0.6335\n",
      "Epoch 8/30\n",
      "17420/17420 [==============================] - 29s 2ms/step - loss: 0.5669 - acc: 0.7003 - val_loss: 0.6245 - val_acc: 0.6592\n",
      "Epoch 9/30\n",
      "17420/17420 [==============================] - 29s 2ms/step - loss: 0.5189 - acc: 0.7431 - val_loss: 0.5430 - val_acc: 0.7226\n",
      "Epoch 10/30\n",
      "17420/17420 [==============================] - 29s 2ms/step - loss: 0.4962 - acc: 0.7645 - val_loss: 0.5310 - val_acc: 0.7287\n",
      "Epoch 11/30\n",
      "17420/17420 [==============================] - 29s 2ms/step - loss: 0.5254 - acc: 0.7390 - val_loss: 0.5278 - val_acc: 0.7309\n",
      "Epoch 12/30\n",
      "17420/17420 [==============================] - 29s 2ms/step - loss: 0.4939 - acc: 0.7561 - val_loss: 0.5458 - val_acc: 0.7146\n",
      "Epoch 13/30\n",
      "17420/17420 [==============================] - 28s 2ms/step - loss: 0.4477 - acc: 0.7943 - val_loss: 0.6111 - val_acc: 0.7086\n",
      "Epoch 14/30\n",
      "17420/17420 [==============================] - 29s 2ms/step - loss: 0.4712 - acc: 0.7800 - val_loss: 0.5481 - val_acc: 0.7279\n",
      "Epoch 15/30\n",
      "17420/17420 [==============================] - 28s 2ms/step - loss: 0.4439 - acc: 0.7973 - val_loss: 0.5435 - val_acc: 0.7282\n",
      "Epoch 16/30\n",
      "17420/17420 [==============================] - 28s 2ms/step - loss: 0.4348 - acc: 0.8011 - val_loss: 0.5616 - val_acc: 0.7205\n",
      "Epoch 17/30\n",
      "17420/17420 [==============================] - 28s 2ms/step - loss: 0.4811 - acc: 0.7631 - val_loss: 0.5986 - val_acc: 0.6974\n",
      "Epoch 18/30\n",
      "17420/17420 [==============================] - 30s 2ms/step - loss: 0.4245 - acc: 0.8047 - val_loss: 0.5831 - val_acc: 0.7334\n",
      "Epoch 19/30\n",
      "17420/17420 [==============================] - 28s 2ms/step - loss: 0.4315 - acc: 0.8036 - val_loss: 0.5736 - val_acc: 0.7327\n",
      "Epoch 20/30\n",
      "17420/17420 [==============================] - 28s 2ms/step - loss: 0.4328 - acc: 0.8049 - val_loss: 0.6282 - val_acc: 0.6907\n",
      "Epoch 21/30\n",
      "17420/17420 [==============================] - 29s 2ms/step - loss: 0.4040 - acc: 0.8175 - val_loss: 0.5451 - val_acc: 0.7460\n",
      "Epoch 22/30\n",
      "17420/17420 [==============================] - 28s 2ms/step - loss: 0.3719 - acc: 0.8382 - val_loss: 0.5342 - val_acc: 0.7444\n",
      "Epoch 23/30\n",
      "17420/17420 [==============================] - 29s 2ms/step - loss: 0.3750 - acc: 0.8378 - val_loss: 0.5765 - val_acc: 0.7263\n",
      "Epoch 24/30\n",
      "17420/17420 [==============================] - 28s 2ms/step - loss: 0.4068 - acc: 0.8177 - val_loss: 0.7021 - val_acc: 0.6748\n",
      "Epoch 25/30\n",
      "17420/17420 [==============================] - 28s 2ms/step - loss: 0.3683 - acc: 0.8397 - val_loss: 0.6799 - val_acc: 0.7061\n",
      "Epoch 26/30\n",
      "17420/17420 [==============================] - 29s 2ms/step - loss: 0.3810 - acc: 0.8323 - val_loss: 0.5267 - val_acc: 0.7483\n",
      "Epoch 27/30\n",
      "17420/17420 [==============================] - 28s 2ms/step - loss: 0.3511 - acc: 0.8530 - val_loss: 0.6438 - val_acc: 0.7357\n",
      "Epoch 28/30\n",
      "17420/17420 [==============================] - 28s 2ms/step - loss: 0.3591 - acc: 0.8447 - val_loss: 0.5965 - val_acc: 0.7411\n",
      "Epoch 29/30\n",
      "17420/17420 [==============================] - 29s 2ms/step - loss: 0.3586 - acc: 0.8448 - val_loss: 0.6362 - val_acc: 0.7183\n",
      "Epoch 30/30\n",
      "17420/17420 [==============================] - 29s 2ms/step - loss: 0.3769 - acc: 0.8331 - val_loss: 0.5817 - val_acc: 0.7376\n"
     ]
    },
    {
     "data": {
      "text/plain": [
       "<keras.callbacks.History at 0x7fdab0f1c9b0>"
      ]
     },
     "execution_count": 106,
     "metadata": {},
     "output_type": "execute_result"
    }
   ],
   "source": [
    "csv_logger = CSVLogger(('%s_log.csv') % targ_string, append=True, separator=';')\n",
    "\n",
    "model.fit(X_mixed[..., np.newaxis], Y_mixed,\n",
    "          batch_size=batch_size,\n",
    "          epochs=epochs,\n",
    "          validation_data=(X_test[..., np.newaxis], Y_test),\n",
    "          callbacks=[csv_logger])"
   ]
  },
  {
   "cell_type": "code",
   "execution_count": 26,
   "metadata": {},
   "outputs": [
    {
     "data": {
      "image/png": "[encoded data removed]",
      "text/plain": [
       "<IPython.core.display.Image object>"
      ]
     },
     "execution_count": 26,
     "metadata": {},
     "output_type": "execute_result"
    }
   ],
   "source": [
    "plot_model(model, show_shapes = True)"
   ]
  },
  {
   "cell_type": "code",
   "execution_count": 107,
   "metadata": {},
   "outputs": [],
   "source": [
    "Y_pred = model.predict(X_mixed_val[..., np.newaxis])"
   ]
  },
  {
   "cell_type": "code",
   "execution_count": 108,
   "metadata": {},
   "outputs": [],
   "source": [
    "Y_pred = [1 if i > 0.5 else 0 for i in Y_pred]"
   ]
  },
  {
   "cell_type": "code",
   "execution_count": 56,
   "metadata": {},
   "outputs": [],
   "source": []
  },
  {
   "cell_type": "code",
   "execution_count": 89,
   "metadata": {},
   "outputs": [
    {
     "data": {
      "text/plain": [
       "0.8094935905571773"
      ]
     },
     "execution_count": 89,
     "metadata": {},
     "output_type": "execute_result"
    }
   ],
   "source": [
    "f1_score(Y_test, Y_pred)"
   ]
  },
  {
   "cell_type": "code",
   "execution_count": 59,
   "metadata": {},
   "outputs": [],
   "source": [
    "model.save('data/models/pure_cnn_amino.model')"
   ]
  },
  {
   "cell_type": "markdown",
   "metadata": {},
   "source": [
    "### External Validation"
   ]
  },
  {
   "cell_type": "code",
   "execution_count": 112,
   "metadata": {},
   "outputs": [],
   "source": [
    "Y_pred = model.predict(X_mixed_val[..., np.newaxis])\n",
    "Y_pred = [1 if i > 0.5 else 0 for i in Y_pred]"
   ]
  },
  {
   "cell_type": "code",
   "execution_count": 122,
   "metadata": {
    "scrolled": false
   },
   "outputs": [
    {
     "name": "stdout",
     "output_type": "stream",
     "text": [
      "Confusion matrix, without normalization\n",
      "[[5153 3717]\n",
      " [ 804 7746]]\n",
      "Normalized confusion matrix\n",
      "[[0.58094701 0.41905299]\n",
      " [0.09403509 0.90596491]]\n"
     ]
    },
    {
     "data": {
      "text/plain": [
       "<matplotlib.axes._subplots.AxesSubplot at 0x7fdab0222550>"
      ]
     },
     "execution_count": 122,
     "metadata": {},
     "output_type": "execute_result"
    },
    {
     "data": {
      "image/png": "[encoded data removed]",
      "text/plain": [
       "<Figure size 900x600 with 2 Axes>"
      ]
     },
     "metadata": {
      "needs_background": "light"
     },
     "output_type": "display_data"
    },
    {
     "data": {
      "image/png": "[encoded data removed]",
      "text/plain": [
       "<Figure size 900x600 with 2 Axes>"
      ]
     },
     "metadata": {
      "needs_background": "light"
     },
     "output_type": "display_data"
    }
   ],
   "source": [
    "plot_confusion_matrix(Y_mixed_val, Y_pred, classes=[0, 1],\n",
    "                      title='Confusion matrix, without normalization')\n",
    "\n",
    "# Plot normalized confusion matrix\n",
    "plot_confusion_matrix(Y_mixed_val, Y_pred, classes=[0, 1], normalize=True,\n",
    "                      title='Normalized confusion matrix')\n",
    "\n"
   ]
  },
  {
   "cell_type": "code",
   "execution_count": 115,
   "metadata": {},
   "outputs": [
    {
     "data": {
      "text/plain": [
       "0.7740968370559137"
      ]
     },
     "execution_count": 115,
     "metadata": {},
     "output_type": "execute_result"
    }
   ],
   "source": [
    "f1_score(Y_mixed_val, Y_pred)"
   ]
  },
  {
   "cell_type": "code",
   "execution_count": 118,
   "metadata": {},
   "outputs": [
    {
     "data": {
      "text/plain": [
       "0.9059649122807018"
      ]
     },
     "execution_count": 118,
     "metadata": {},
     "output_type": "execute_result"
    }
   ],
   "source": [
    "recall_score(Y_mixed_val, Y_pred)"
   ]
  },
  {
   "cell_type": "code",
   "execution_count": 120,
   "metadata": {},
   "outputs": [
    {
     "data": {
      "text/plain": [
       "0.6757393352525517"
      ]
     },
     "execution_count": 120,
     "metadata": {},
     "output_type": "execute_result"
    }
   ],
   "source": [
    "precision_score(Y_mixed_val, Y_pred)"
   ]
  },
  {
   "cell_type": "code",
   "execution_count": 105,
   "metadata": {},
   "outputs": [
    {
     "data": {
      "text/plain": [
       "-1"
      ]
     },
     "execution_count": 105,
     "metadata": {},
     "output_type": "execute_result"
    }
   ],
   "source": [
    "np.unique(X_val[0])[0]"
   ]
  },
  {
   "cell_type": "code",
   "execution_count": null,
   "metadata": {},
   "outputs": [],
   "source": []
  }
 ],
 "metadata": {
  "kernelspec": {
   "display_name": "Python 3",
   "language": "python",
   "name": "python3"
  },
  "language_info": {
   "codemirror_mode": {
    "name": "ipython",
    "version": 3
   },
   "file_extension": ".py",
   "mimetype": "text/x-python",
   "name": "python",
   "nbconvert_exporter": "python",
   "pygments_lexer": "ipython3",
   "version": "3.5.3"
  }
 },
 "nbformat": 4,
 "nbformat_minor": 2
}
