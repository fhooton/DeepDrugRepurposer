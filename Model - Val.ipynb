{
 "cells": [
  {
   "cell_type": "code",
   "execution_count": 1,
   "metadata": {
    "scrolled": true
   },
   "outputs": [
    {
     "name": "stderr",
     "output_type": "stream",
     "text": [
      "Using TensorFlow backend.\n"
     ]
    }
   ],
   "source": [
    "import pickle as pkl\n",
    "\n",
    "import pandas as pd\n",
    "import numpy as np\n",
    "import seaborn as sns\n",
    "import matplotlib.pyplot as plt\n",
    "from keras.datasets import imdb\n",
    "\n",
    "\n",
    "from sklearn.metrics import confusion_matrix\n",
    "from sklearn.utils.multiclass import unique_labels\n",
    "from sklearn.metrics import f1_score\n",
    "\n",
    "from sklearn.preprocessing import LabelEncoder, OneHotEncoder\n",
    "from ast import literal_eval\n",
    "from sklearn.model_selection import train_test_split\n",
    "from sklearn.linear_model import LogisticRegression\n",
    "from sklearn.metrics import confusion_matrix, f1_score\n",
    "from keras.models import Sequential, Model\n",
    "from keras.layers import Dense, Activation, Dropout, Conv1D, Flatten, MaxPooling1D,\\\n",
    "                        AveragePooling1D, Concatenate, LeakyReLU, Embedding, GlobalMaxPooling1D\n",
    "from keras.utils.vis_utils import plot_model"
   ]
  },
  {
   "cell_type": "code",
   "execution_count": 2,
   "metadata": {},
   "outputs": [],
   "source": [
    "from pipe import Data"
   ]
  },
  {
   "cell_type": "markdown",
   "metadata": {},
   "source": [
    "## Building a CNN"
   ]
  },
  {
   "cell_type": "code",
   "execution_count": 3,
   "metadata": {},
   "outputs": [],
   "source": [
    "drugbank_reader = pd.read_csv('data/intermediate/interactions_preprocessed.csv', chunksize = 7500, iterator = True, converters={\"target_gene_encoded_padded\": \\\n",
    "                                                                                     lambda x: np.array(x.strip(\"[]\").replace(\"'\",\"\").split(\", \")),\n",
    "                                                                                    \"drug_fingerprint_encoded_padded\": \\\n",
    "                                                                                    lambda x: np.array(x.strip(\"[]\").replace(\"'\",\"\").split(\", \"))})\n",
    "\n",
    "#drugbank = drugbank.sample(7500)"
   ]
  },
  {
   "cell_type": "code",
   "execution_count": null,
   "metadata": {},
   "outputs": [],
   "source": [
    "drugbank = drugbank_reader.__next__().drop('Unnamed: 0', axis = 1)\n",
    "drugbank_test = drugbank_reader.__next__().drop('Unnamed: 0', axis = 1)"
   ]
  },
  {
   "cell_type": "code",
   "execution_count": 2,
   "metadata": {},
   "outputs": [],
   "source": [
    "drugbank_reader = pd.read_csv('data/intermediate/interactions_preprocessed.csv', converters={\"target_gene_encoded_padded\": \\\n",
    "                                                                                     lambda x: np.array(x.strip(\"[]\").replace(\"'\",\"\").split(\", \")),\n",
    "                                                                                    \"drug_fingerprint_encoded_padded\": \\\n",
    "                                                                                    lambda x: np.array(x.strip(\"[]\").replace(\"'\",\"\").split(\", \"))})"
   ]
  },
  {
   "cell_type": "code",
   "execution_count": 3,
   "metadata": {},
   "outputs": [],
   "source": [
    "drugbank = drugbank_reader.sample(7500, replace = False)\n",
    "drugbank_test = drugbank_reader.sample(7500, replace = False)\n"
   ]
  },
  {
   "cell_type": "code",
   "execution_count": 4,
   "metadata": {},
   "outputs": [
    {
     "data": {
      "text/plain": [
       "array(['-1', '-1', '-1', ..., '-1', '-1', '-1'], dtype='<U2')"
      ]
     },
     "execution_count": 4,
     "metadata": {},
     "output_type": "execute_result"
    }
   ],
   "source": [
    "drugbank['target_gene_encoded_padded'][0]"
   ]
  },
  {
   "cell_type": "code",
   "execution_count": 3,
   "metadata": {},
   "outputs": [],
   "source": [
    "data = Data().load_conv_train()"
   ]
  },
  {
   "cell_type": "code",
   "execution_count": 17,
   "metadata": {},
   "outputs": [
    {
     "data": {
      "text/html": [
       "<div>\n",
       "<style scoped>\n",
       "    .dataframe tbody tr th:only-of-type {\n",
       "        vertical-align: middle;\n",
       "    }\n",
       "\n",
       "    .dataframe tbody tr th {\n",
       "        vertical-align: top;\n",
       "    }\n",
       "\n",
       "    .dataframe thead th {\n",
       "        text-align: right;\n",
       "    }\n",
       "</style>\n",
       "<table border=\"1\" class=\"dataframe\">\n",
       "  <thead>\n",
       "    <tr style=\"text-align: right;\">\n",
       "      <th></th>\n",
       "      <th>drug_fingerprint</th>\n",
       "      <th>target_amino_code</th>\n",
       "      <th>label</th>\n",
       "      <th>set</th>\n",
       "      <th>d_enc</th>\n",
       "      <th>t_enc</th>\n",
       "      <th>d_len</th>\n",
       "      <th>t_len</th>\n",
       "      <th>d_enc_p</th>\n",
       "      <th>t_enc_p</th>\n",
       "    </tr>\n",
       "  </thead>\n",
       "  <tbody>\n",
       "    <tr>\n",
       "      <th>0</th>\n",
       "      <td>2246728737 3542456614 2245384272 1506563592 22...</td>\n",
       "      <td>MAHVRGLQLPGCLALAALCSLVHSQHVFLAPQQARSLLQRVRRANT...</td>\n",
       "      <td>1.0</td>\n",
       "      <td>train</td>\n",
       "      <td>[1556, 3199, 1544, 581, 1542, 1729, 1556, 3191...</td>\n",
       "      <td>[10, 0, 6, 18, 14, 5, 9, 13, 9, 12, 5, 1, 9, 0...</td>\n",
       "      <td>310</td>\n",
       "      <td>622</td>\n",
       "      <td>[1556, 3199, 1544, 581, 1542, 1729, 1556, 3191...</td>\n",
       "      <td>[10, 0, 6, 18, 14, 5, 9, 13, 9, 12, 5, 1, 9, 0...</td>\n",
       "    </tr>\n",
       "    <tr>\n",
       "      <th>1</th>\n",
       "      <td>2968968094 2142032900 2968968094 2117068077 29...</td>\n",
       "      <td>MRLSAGPDAGPSGNSSPWWPLATGAGNTSREAEALGEGNGPPRDVR...</td>\n",
       "      <td>1.0</td>\n",
       "      <td>train</td>\n",
       "      <td>[2460, 1385, 2460, 1356, 2472, 1482, 1328, 420...</td>\n",
       "      <td>[10, 14, 9, 15, 0, 5, 12, 2, 0, 5, 12, 15, 5, ...</td>\n",
       "      <td>148</td>\n",
       "      <td>418</td>\n",
       "      <td>[2460, 1385, 2460, 1356, 2472, 1482, 1328, 420...</td>\n",
       "      <td>[10, 14, 9, 15, 0, 5, 12, 2, 0, 5, 12, 15, 5, ...</td>\n",
       "    </tr>\n",
       "    <tr>\n",
       "      <th>2</th>\n",
       "      <td>2246728737 3537119515 2245273601 2423543607 22...</td>\n",
       "      <td>MANSASPEQNQNHCSAINNSIPLMQGNLPTLTLSGKIRVTVTFFLF...</td>\n",
       "      <td>1.0</td>\n",
       "      <td>train</td>\n",
       "      <td>[1556, 3191, 1542, 1815, 1556, 3191, 1544, 671...</td>\n",
       "      <td>[10, 0, 11, 15, 0, 15, 12, 3, 13, 11, 13, 11, ...</td>\n",
       "      <td>204</td>\n",
       "      <td>328</td>\n",
       "      <td>[1556, 3191, 1542, 1815, 1556, 3191, 1544, 671...</td>\n",
       "      <td>[10, 0, 11, 15, 0, 15, 12, 3, 13, 11, 13, 11, ...</td>\n",
       "    </tr>\n",
       "    <tr>\n",
       "      <th>3</th>\n",
       "      <td>2246728737 3537119515 2245273601 2423543607 22...</td>\n",
       "      <td>MKQRFSALQLLKLLLLLQPPLPRALREALCPEPCNCVPDGALRCPG...</td>\n",
       "      <td>1.0</td>\n",
       "      <td>train</td>\n",
       "      <td>[1556, 3191, 1542, 1815, 1556, 3191, 1544, 671...</td>\n",
       "      <td>[10, 8, 13, 14, 4, 15, 0, 9, 13, 9, 9, 8, 9, 9...</td>\n",
       "      <td>204</td>\n",
       "      <td>699</td>\n",
       "      <td>[1556, 3191, 1542, 1815, 1556, 3191, 1544, 671...</td>\n",
       "      <td>[10, 8, 13, 14, 4, 15, 0, 9, 13, 9, 9, 8, 9, 9...</td>\n",
       "    </tr>\n",
       "    <tr>\n",
       "      <th>4</th>\n",
       "      <td>2246728737 3542456614 2245384272 3594356142 29...</td>\n",
       "      <td>MGNEASYPAEMCSHFDNDEIKRLGRRFKKLDLDKSGSLSVEEFMSL...</td>\n",
       "      <td>1.0</td>\n",
       "      <td>train</td>\n",
       "      <td>[1556, 3199, 1544, 3264, 2472, 3482, 2795, 366...</td>\n",
       "      <td>[10, 5, 11, 3, 0, 15, 21, 12, 0, 3, 10, 1, 15,...</td>\n",
       "      <td>170</td>\n",
       "      <td>170</td>\n",
       "      <td>[1556, 3199, 1544, 3264, 2472, 3482, 2795, 366...</td>\n",
       "      <td>[10, 5, 11, 3, 0, 15, 21, 12, 0, 3, 10, 1, 15,...</td>\n",
       "    </tr>\n",
       "  </tbody>\n",
       "</table>\n",
       "</div>"
      ],
      "text/plain": [
       "                                    drug_fingerprint  \\\n",
       "0  2246728737 3542456614 2245384272 1506563592 22...   \n",
       "1  2968968094 2142032900 2968968094 2117068077 29...   \n",
       "2  2246728737 3537119515 2245273601 2423543607 22...   \n",
       "3  2246728737 3537119515 2245273601 2423543607 22...   \n",
       "4  2246728737 3542456614 2245384272 3594356142 29...   \n",
       "\n",
       "                                   target_amino_code  label    set  \\\n",
       "0  MAHVRGLQLPGCLALAALCSLVHSQHVFLAPQQARSLLQRVRRANT...    1.0  train   \n",
       "1  MRLSAGPDAGPSGNSSPWWPLATGAGNTSREAEALGEGNGPPRDVR...    1.0  train   \n",
       "2  MANSASPEQNQNHCSAINNSIPLMQGNLPTLTLSGKIRVTVTFFLF...    1.0  train   \n",
       "3  MKQRFSALQLLKLLLLLQPPLPRALREALCPEPCNCVPDGALRCPG...    1.0  train   \n",
       "4  MGNEASYPAEMCSHFDNDEIKRLGRRFKKLDLDKSGSLSVEEFMSL...    1.0  train   \n",
       "\n",
       "                                               d_enc  \\\n",
       "0  [1556, 3199, 1544, 581, 1542, 1729, 1556, 3191...   \n",
       "1  [2460, 1385, 2460, 1356, 2472, 1482, 1328, 420...   \n",
       "2  [1556, 3191, 1542, 1815, 1556, 3191, 1544, 671...   \n",
       "3  [1556, 3191, 1542, 1815, 1556, 3191, 1544, 671...   \n",
       "4  [1556, 3199, 1544, 3264, 2472, 3482, 2795, 366...   \n",
       "\n",
       "                                               t_enc  d_len  t_len  \\\n",
       "0  [10, 0, 6, 18, 14, 5, 9, 13, 9, 12, 5, 1, 9, 0...    310    622   \n",
       "1  [10, 14, 9, 15, 0, 5, 12, 2, 0, 5, 12, 15, 5, ...    148    418   \n",
       "2  [10, 0, 11, 15, 0, 15, 12, 3, 13, 11, 13, 11, ...    204    328   \n",
       "3  [10, 8, 13, 14, 4, 15, 0, 9, 13, 9, 9, 8, 9, 9...    204    699   \n",
       "4  [10, 5, 11, 3, 0, 15, 21, 12, 0, 3, 10, 1, 15,...    170    170   \n",
       "\n",
       "                                             d_enc_p  \\\n",
       "0  [1556, 3199, 1544, 581, 1542, 1729, 1556, 3191...   \n",
       "1  [2460, 1385, 2460, 1356, 2472, 1482, 1328, 420...   \n",
       "2  [1556, 3191, 1542, 1815, 1556, 3191, 1544, 671...   \n",
       "3  [1556, 3191, 1542, 1815, 1556, 3191, 1544, 671...   \n",
       "4  [1556, 3199, 1544, 3264, 2472, 3482, 2795, 366...   \n",
       "\n",
       "                                             t_enc_p  \n",
       "0  [10, 0, 6, 18, 14, 5, 9, 13, 9, 12, 5, 1, 9, 0...  \n",
       "1  [10, 14, 9, 15, 0, 5, 12, 2, 0, 5, 12, 15, 5, ...  \n",
       "2  [10, 0, 11, 15, 0, 15, 12, 3, 13, 11, 13, 11, ...  \n",
       "3  [10, 8, 13, 14, 4, 15, 0, 9, 13, 9, 9, 8, 9, 9...  \n",
       "4  [10, 5, 11, 3, 0, 15, 21, 12, 0, 3, 10, 1, 15,...  "
      ]
     },
     "execution_count": 17,
     "metadata": {},
     "output_type": "execute_result"
    }
   ],
   "source": [
    "train = data[data.set=='train'].copy()#.sample(n=500)\n",
    "test = train.sample(frac=.3).copy()\n",
    "\n",
    "# Remove testing indicies\n",
    "train = train.loc[list(set(train.index.tolist()) - set(test.index.tolist())), :].reset_index(drop=True)\n",
    "test.reset_index(drop=True, inplace=True)\n",
    "train.head()"
   ]
  },
  {
   "cell_type": "code",
   "execution_count": 23,
   "metadata": {},
   "outputs": [
    {
     "data": {
      "text/plain": [
       "28152"
      ]
     },
     "execution_count": 23,
     "metadata": {},
     "output_type": "execute_result"
    }
   ],
   "source": [
    "len(train)"
   ]
  },
  {
   "cell_type": "code",
   "execution_count": 18,
   "metadata": {},
   "outputs": [],
   "source": [
    "X_0 = np.array(train['d_enc_p'].tolist())\n",
    "X_1 = np.array(train['t_enc_p'].tolist())\n",
    "Y = np.array(train['label'].tolist())"
   ]
  },
  {
   "cell_type": "code",
   "execution_count": 19,
   "metadata": {},
   "outputs": [],
   "source": [
    "X_0_test = np.array(test['d_enc_p'].tolist())\n",
    "X_1_test = np.array(test['t_enc_p'].tolist())\n",
    "Y_test = np.array(test['label'].tolist())"
   ]
  },
  {
   "cell_type": "code",
   "execution_count": 32,
   "metadata": {},
   "outputs": [
    {
     "data": {
      "text/plain": [
       "(28152, 8057)"
      ]
     },
     "execution_count": 32,
     "metadata": {},
     "output_type": "execute_result"
    }
   ],
   "source": [
    "X_0.shape"
   ]
  },
  {
   "cell_type": "code",
   "execution_count": 20,
   "metadata": {},
   "outputs": [],
   "source": [
    "X = np.hstack((X_0, X_1))\n",
    "X_test = np.hstack((X_0_test, X_1_test))"
   ]
  },
  {
   "cell_type": "code",
   "execution_count": 24,
   "metadata": {},
   "outputs": [
    {
     "data": {
      "text/plain": [
       "(7500, 21222)"
      ]
     },
     "execution_count": 24,
     "metadata": {},
     "output_type": "execute_result"
    }
   ],
   "source": [
    "X_0_test.shape"
   ]
  },
  {
   "cell_type": "markdown",
   "metadata": {},
   "source": [
    "#### Trimming the feature martrix to minimize padding. This trimming may result in loss of data from the largest SMILE and fingerprints, but are neccesary to reduce the amount of padding"
   ]
  },
  {
   "cell_type": "code",
   "execution_count": 41,
   "metadata": {},
   "outputs": [],
   "source": [
    "## Trim the X of -1's. Might loose actual sequences\n",
    "padding_fractions = []\n",
    "padding_fraction = 0.9\n",
    "\n",
    "while padding_fraction > 0.5:\n",
    "    \n",
    "    padding_fraction = len(X_0[np.where(X_0 == -1)]) / (X_0.shape[0] * X_0.shape[1])\n",
    "    padding_fractions.append(padding_fraction)\n",
    "    trimming_factor = 0.1\n",
    "\n",
    "    X_0 = X_0[:,int(X_0.shape[1]*trimming_factor) : X_0.shape[1] - int(X_0.shape[1]*trimming_factor)]\n",
    "    X_1 = X_1[:,int(X_1.shape[1]*trimming_factor) : X_1.shape[1] - int(X_1.shape[1]*trimming_factor)]\n",
    "\n",
    "    X_0_test = X_0_test[:,int(X_0_test.shape[1]*trimming_factor) : X_0_test.shape[1] - int(X_0_test.shape[1]*trimming_factor)]\n",
    "    X_1_test = X_1_test[:,int(X_1_test.shape[1]*trimming_factor) : X_1_test.shape[1] - int(X_1_test.shape[1]*trimming_factor)]\n"
   ]
  },
  {
   "cell_type": "code",
   "execution_count": 42,
   "metadata": {},
   "outputs": [
    {
     "data": {
      "text/plain": [
       "[<matplotlib.lines.Line2D at 0x7f2f50d94eb8>]"
      ]
     },
     "execution_count": 42,
     "metadata": {},
     "output_type": "execute_result"
    },
    {
     "data": {
      "image/png": "[encoded data removed]",
      "text/plain": [
       "<Figure size 432x288 with 1 Axes>"
      ]
     },
     "metadata": {
      "needs_background": "light"
     },
     "output_type": "display_data"
    }
   ],
   "source": [
    "plt.plot(padding_fractions)"
   ]
  },
  {
   "cell_type": "code",
   "execution_count": null,
   "metadata": {},
   "outputs": [
    {
     "name": "stdout",
     "output_type": "stream",
     "text": [
      "Train on 19706 samples, validate on 8446 samples\n",
      "Epoch 1/10\n",
      " 1000/19706 [>.............................] - ETA: 30:46 - loss: 4.4587 - acc: 0.5110"
     ]
    }
   ],
   "source": [
    "#embedding_dims = 16\n",
    "hidden_dims = 512\n",
    "hidden_dims_2 = 256\n",
    "hidden_dims_3 = 128\n",
    "batch_size = 500\n",
    "epochs = 10\n",
    "#maxlen = \n",
    "\n",
    "model = Sequential()\n",
    "#model.add(Embedding(X_0.shape[1],\n",
    "#                    embedding_dims,\n",
    "#                    input_length=maxlen))\n",
    "\n",
    "#model.add(Dropout(0.2))\n",
    "model.add(Conv1D(X.shape[0],\n",
    "                 X.shape[1],\n",
    "                 activation='relu',\n",
    "                 strides=10))\n",
    "\n",
    "model.add(GlobalMaxPooling1D())\n",
    "\n",
    "model.add(Dense(hidden_dims))\n",
    "model.add(Dropout(0.2))\n",
    "model.add(Activation('relu'))\n",
    "\n",
    "model.add(Dense(hidden_dims_2))\n",
    "model.add(Dropout(0.2))\n",
    "model.add(Activation('relu'))\n",
    "\n",
    "model.add(Dense(hidden_dims_3))\n",
    "model.add(Dropout(0.2))\n",
    "model.add(Activation('relu'))\n",
    "\n",
    "model.add(Dense(1))\n",
    "model.add(Activation('sigmoid'))\n",
    "\n",
    "model.compile(loss='binary_crossentropy',\n",
    "              optimizer='adam',\n",
    "              metrics=['accuracy'])\n",
    "\n",
    "model.fit(X[..., np.newaxis], Y,\n",
    "          batch_size=batch_size,\n",
    "          epochs=epochs,\n",
    "          validation_data=(X_test[..., np.newaxis], Y_test))\n"
   ]
  },
  {
   "cell_type": "code",
   "execution_count": 78,
   "metadata": {},
   "outputs": [],
   "source": [
    "Y_pred = model.predict(X_0_test[..., np.newaxis])"
   ]
  },
  {
   "cell_type": "code",
   "execution_count": 79,
   "metadata": {},
   "outputs": [],
   "source": [
    "Y_pred = [1 if i > 0.5 else 0 for i in Y_pred]"
   ]
  },
  {
   "cell_type": "code",
   "execution_count": 80,
   "metadata": {},
   "outputs": [],
   "source": [
    "tn, fp, fn, tp = confusion_matrix(Y_test, Y_pred).ravel()\n",
    "cm = confusion_matrix(Y_test, Y_pred)"
   ]
  },
  {
   "cell_type": "code",
   "execution_count": 71,
   "metadata": {},
   "outputs": [],
   "source": [
    "def plot_confusion_matrix(y_true, y_pred, classes,\n",
    "                          normalize=False,\n",
    "                          title=None,\n",
    "                          cmap=plt.cm.Blues):\n",
    "    \"\"\"\n",
    "    This function prints and plots the confusion matrix.\n",
    "    Normalization can be applied by setting `normalize=True`.\n",
    "    \n",
    "    NOTE: Taken from sklearn example\n",
    "    \"\"\"\n",
    "    if not title:\n",
    "        if normalize:\n",
    "            title = 'Normalized confusion matrix'\n",
    "        else:\n",
    "            title = 'Confusion matrix, without normalization'\n",
    "\n",
    "    # Compute confusion matrix\n",
    "    cm = confusion_matrix(y_true, y_pred)\n",
    "    # Only use the labels that appear in the data\n",
    "    classes = [0,1]\n",
    "    if normalize:\n",
    "        cm = cm.astype('float') / cm.sum(axis=1)[:, np.newaxis]\n",
    "        print(\"Normalized confusion matrix\")\n",
    "    else:\n",
    "        print('Confusion matrix, without normalization')\n",
    "\n",
    "    print(cm)\n",
    "\n",
    "    fig, ax = plt.subplots()\n",
    "    im = ax.imshow(cm, interpolation='nearest', cmap=cmap)\n",
    "    ax.figure.colorbar(im, ax=ax)\n",
    "    # We want to show all ticks...\n",
    "    ax.set(xticks=np.arange(cm.shape[1]),\n",
    "           yticks=np.arange(cm.shape[0]),\n",
    "           # ... and label them with the respective list entries\n",
    "           xticklabels=classes, yticklabels=classes,\n",
    "           title=title,\n",
    "           ylabel='True label',\n",
    "           xlabel='Predicted label')\n",
    "\n",
    "    # Rotate the tick labels and set their alignment.\n",
    "    plt.setp(ax.get_xticklabels(), rotation=45, ha=\"right\",\n",
    "             rotation_mode=\"anchor\")\n",
    "\n",
    "    # Loop over data dimensions and create text annotations.\n",
    "    fmt = '.2f' if normalize else 'd'\n",
    "    thresh = cm.max() / 2.\n",
    "    for i in range(cm.shape[0]):\n",
    "        for j in range(cm.shape[1]):\n",
    "            ax.text(j, i, format(cm[i, j], fmt),\n",
    "                    ha=\"center\", va=\"center\",\n",
    "                    color=\"white\" if cm[i, j] > thresh else \"black\")\n",
    "    fig.tight_layout()\n",
    "    return ax"
   ]
  },
  {
   "cell_type": "code",
   "execution_count": 82,
   "metadata": {},
   "outputs": [
    {
     "name": "stdout",
     "output_type": "stream",
     "text": [
      "Confusion matrix, without normalization\n",
      "[[3328  390]\n",
      " [ 667 3115]]\n",
      "Normalized confusion matrix\n",
      "[[0.8951049  0.1048951 ]\n",
      " [0.17636171 0.82363829]]\n"
     ]
    },
    {
     "data": {
      "image/png": "[encoded data removed]",
      "text/plain": [
       "<Figure size 432x288 with 2 Axes>"
      ]
     },
     "metadata": {
      "needs_background": "light"
     },
     "output_type": "display_data"
    },
    {
     "data": {
      "image/png": "[encoded data removed]",
      "text/plain": [
       "<Figure size 432x288 with 2 Axes>"
      ]
     },
     "metadata": {
      "needs_background": "light"
     },
     "output_type": "display_data"
    }
   ],
   "source": [
    "# Plot non-normalized confusion matrix\n",
    "plot_confusion_matrix(Y_test, Y_pred, classes=[0, 1],\n",
    "                      title='Confusion matrix, without normalization')\n",
    "\n",
    "# Plot normalized confusion matrix\n",
    "plot_confusion_matrix(Y_test, Y_pred, classes=[0, 1], normalize=True,\n",
    "                      title='Normalized confusion matrix')\n",
    "\n",
    "plt.show()"
   ]
  },
  {
   "cell_type": "code",
   "execution_count": 83,
   "metadata": {},
   "outputs": [
    {
     "data": {
      "text/plain": [
       "0.8549471661863592"
      ]
     },
     "execution_count": 83,
     "metadata": {},
     "output_type": "execute_result"
    }
   ],
   "source": [
    "f1_score(Y_test, Y_pred)"
   ]
  },
  {
   "cell_type": "code",
   "execution_count": null,
   "metadata": {},
   "outputs": [],
   "source": []
  }
 ],
 "metadata": {
  "kernelspec": {
   "display_name": "Python 3",
   "language": "python",
   "name": "python3"
  },
  "language_info": {
   "codemirror_mode": {
    "name": "ipython",
    "version": 3
   },
   "file_extension": ".py",
   "mimetype": "text/x-python",
   "name": "python",
   "nbconvert_exporter": "python",
   "pygments_lexer": "ipython3",
   "version": "3.7.5"
  }
 },
 "nbformat": 4,
 "nbformat_minor": 2
}
