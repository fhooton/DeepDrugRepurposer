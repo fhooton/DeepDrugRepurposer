{
 "cells": [
  {
   "cell_type": "code",
   "execution_count": 1,
   "metadata": {
    "scrolled": true
   },
   "outputs": [
    {
     "name": "stderr",
     "output_type": "stream",
     "text": [
      "Using TensorFlow backend.\n"
     ]
    }
   ],
   "source": [
    "import pickle as pkl\n",
    "\n",
    "import pandas as pd\n",
    "import numpy as np\n",
    "import seaborn as sns\n",
    "import matplotlib.pyplot as plt\n",
    "\n",
    "from keras.datasets import imdb\n",
    "from keras.callbacks import CSVLogger\n",
    "\n",
    "from sklearn.metrics import confusion_matrix\n",
    "from sklearn.utils.multiclass import unique_labels\n",
    "from sklearn.metrics import f1_score\n",
    "\n",
    "from sklearn.preprocessing import LabelEncoder, OneHotEncoder\n",
    "from ast import literal_eval\n",
    "from sklearn.model_selection import train_test_split\n",
    "from sklearn.linear_model import LogisticRegression\n",
    "from sklearn.metrics import confusion_matrix, f1_score, recall_score, precision_score\n",
    "from keras.models import Sequential, Model\n",
    "from keras.layers import Dense, Activation, Dropout, Conv1D, Flatten, MaxPooling1D,\\\n",
    "                        AveragePooling1D, Concatenate, LeakyReLU, Embedding, GlobalMaxPooling1D\n",
    "from keras.utils.vis_utils import plot_model"
   ]
  },
  {
   "cell_type": "code",
   "execution_count": null,
   "metadata": {},
   "outputs": [],
   "source": [
    "plt.rcParams['figure.dpi']= 150 "
   ]
  },
  {
   "cell_type": "code",
   "execution_count": 2,
   "metadata": {},
   "outputs": [],
   "source": [
    "from pipe import Data"
   ]
  },
  {
   "cell_type": "code",
   "execution_count": 3,
   "metadata": {},
   "outputs": [],
   "source": [
    "def plot_confusion_matrix(y_true, y_pred, classes,\n",
    "                          normalize=False,\n",
    "                          title=None,\n",
    "                          cmap=plt.cm.Blues):\n",
    "    \"\"\"\n",
    "    This function prints and plots the confusion matrix.\n",
    "    Normalization can be applied by setting `normalize=True`.\n",
    "    \n",
    "    NOTE: Taken from sklearn example\n",
    "    \"\"\"\n",
    "    if not title:\n",
    "        if normalize:\n",
    "            title = 'Normalized confusion matrix'\n",
    "        else:\n",
    "            title = 'Confusion matrix, without normalization'\n",
    "\n",
    "    # Compute confusion matrix\n",
    "    cm = confusion_matrix(y_true, y_pred)\n",
    "    # Only use the labels that appear in the data\n",
    "    classes = [0,1]\n",
    "    if normalize:\n",
    "        cm = cm.astype('float') / cm.sum(axis=1)[:, np.newaxis]\n",
    "        print(\"Normalized confusion matrix\")\n",
    "    else:\n",
    "        print('Confusion matrix, without normalization')\n",
    "\n",
    "    print(cm)\n",
    "\n",
    "    fig, ax = plt.subplots()\n",
    "    \n",
    "    ax.figsize((10, 10))\n",
    "    im = ax.imshow(cm, interpolation='nearest', cmap=cmap)\n",
    "    ax.figure.colorbar(im, ax=ax)\n",
    "    # We want to show all ticks...\n",
    "    ax.set(xticks=np.arange(cm.shape[1]),\n",
    "           yticks=np.arange(cm.shape[0]),\n",
    "           # ... and label them with the respective list entries\n",
    "           xticklabels=classes, yticklabels=classes,\n",
    "           title=title,\n",
    "           ylabel='True label',\n",
    "           xlabel='Predicted label')\n",
    "\n",
    "    # Rotate the tick labels and set their alignment.\n",
    "    plt.setp(ax.get_xticklabels(), rotation=45, ha=\"right\",\n",
    "             rotation_mode=\"anchor\")\n",
    "\n",
    "    # Loop over data dimensions and create text annotations.\n",
    "    fmt = '.2f' if normalize else 'd'\n",
    "    thresh = cm.max() / 2.\n",
    "    for i in range(cm.shape[0]):\n",
    "        for j in range(cm.shape[1]):\n",
    "            ax.text(j, i, format(cm[i, j], fmt),\n",
    "                    ha=\"center\", va=\"center\",\n",
    "                    color=\"white\" if cm[i, j] > thresh else \"black\")\n",
    "    fig.tight_layout()\n",
    "    return ax"
   ]
  },
  {
   "cell_type": "code",
   "execution_count": 15,
   "metadata": {},
   "outputs": [],
   "source": [
    "def trim_padding(matrices):\n",
    "    ## Trim the X of -1's. Might loose actual sequences\n",
    "    padding_fractions = []\n",
    "    padding_fraction = 0.9\n",
    "\n",
    "    while padding_fraction > 0.5:\n",
    "\n",
    "        padding_fraction = len(matrices[0][np.where(matrices[0] == -1)]) / (matrices[0].shape[0] * matrices[0].shape[1])\n",
    "        padding_fractions.append(padding_fraction)\n",
    "        trimming_factor = 0.1\n",
    "        \n",
    "        for i, m in enumerate(matrices):\n",
    "            matrices[i] = m[:,int(m.shape[1]*trimming_factor) : m.shape[1] - int(m.shape[1]*trimming_factor)]\n",
    "            \n",
    "    return matrices\n",
    "\n",
    "def build_model():\n",
    "    #embedding_dims = 16\n",
    "    hidden_dims = 512\n",
    "    hidden_dims_2 = 256\n",
    "    hidden_dims_3 = 128\n",
    "    #maxlen = \n",
    "\n",
    "    model = Sequential()\n",
    "    #model.add(Embedding(X_0.shape[1],\n",
    "    #                    embedding_dims,\n",
    "    #                    input_length=maxlen))\n",
    "\n",
    "    #model.add(Dropout(0.2))\n",
    "    model.add(Conv1D(512,\n",
    "                     1024,\n",
    "                     activation='relu',\n",
    "                     strides=2))\n",
    "\n",
    "\n",
    "    model.add(GlobalMaxPooling1D())\n",
    "\n",
    "    model.add(Dense(hidden_dims))\n",
    "    model.add(Dropout(0.3))\n",
    "    model.add(Activation('relu'))\n",
    "\n",
    "    model.add(Dense(hidden_dims_2))\n",
    "    model.add(Dropout(0.3))\n",
    "    model.add(Activation('relu'))\n",
    "\n",
    "    model.add(Dense(hidden_dims_3))\n",
    "    model.add(Dropout(0.3))\n",
    "    model.add(Activation('relu'))\n",
    "\n",
    "    model.add(Dense(1))\n",
    "    model.add(Activation('sigmoid'))\n",
    "\n",
    "    model.compile(loss='binary_crossentropy',\n",
    "                  optimizer='adam',\n",
    "                  metrics=['accuracy'])\n",
    "    \n",
    "    return model\n",
    "\n",
    "def fit_model(X, Y, Xt, Yt, filepath):\n",
    "    batch_size = 500\n",
    "    epochs = 30\n",
    "    \n",
    "    csv_logger = CSVLogger(filepath, append=True, separator=';')\n",
    "    \n",
    "    model = build_model()\n",
    "    \n",
    "    model.fit(X[..., np.newaxis], Y,\n",
    "              batch_size=batch_size,\n",
    "              epochs=epochs,\n",
    "              validation_data=(Xt[..., np.newaxis], Yt),\n",
    "              callbacks=[csv_logger])\n",
    "    \n",
    "    return model\n"
   ]
  },
  {
   "cell_type": "code",
   "execution_count": 5,
   "metadata": {},
   "outputs": [],
   "source": [
    "amino = Data().load_conv_train()\n",
    "gene = Data().load_conv_train(is_amino=False)"
   ]
  },
  {
   "cell_type": "markdown",
   "metadata": {},
   "source": [
    "## Genes"
   ]
  },
  {
   "cell_type": "code",
   "execution_count": 6,
   "metadata": {},
   "outputs": [],
   "source": [
    "targ_string = 'gene'\n",
    "data = gene.copy()"
   ]
  },
  {
   "cell_type": "code",
   "execution_count": 7,
   "metadata": {},
   "outputs": [],
   "source": [
    "train = data[data.set=='train'].copy()#.sample(n=500)\n",
    "test  = train.sample(frac=.3, replace = True).copy()\n",
    "\n",
    "# Remove testing indicies\n",
    "train = train.loc[list(set(train.index.tolist()) - set(test.index.tolist())), :].reset_index(drop=True)\n",
    "test.reset_index(drop=True, inplace=True)\n"
   ]
  },
  {
   "cell_type": "code",
   "execution_count": 8,
   "metadata": {},
   "outputs": [],
   "source": [
    "X_0 = np.array(train['d_enc_p'].tolist())\n",
    "X_1 = np.array(train['t_enc_p'].tolist())\n",
    "Y = np.array(train['label'].tolist())\n",
    "\n",
    "X_0_test = np.array(test['d_enc_p'].tolist())\n",
    "X_1_test = np.array(test['t_enc_p'].tolist())\n",
    "Y_test = np.array(test['label'].tolist())\n",
    "\n",
    "trimmed = trim_padding([X_0, X_0_test])\n",
    "X_0, X_0_test = trimmed[0], trimmed[1]\n",
    "\n",
    "trimmed = trim_padding([X_1, X_1_test])\n",
    "X_1, X_1_test = trimmed[0], trimmed[1]\n",
    "\n",
    "X = np.hstack((X_0, X_1)) + 1\n",
    "X_test = np.hstack((X_0_test, X_1_test)) + 1"
   ]
  },
  {
   "cell_type": "code",
   "execution_count": null,
   "metadata": {},
   "outputs": [
    {
     "name": "stdout",
     "output_type": "stream",
     "text": [
      "WARNING:tensorflow:From C:\\software\\Anaconda3\\envs\\dl\\lib\\site-packages\\keras\\backend\\tensorflow_backend.py:517: The name tf.placeholder is deprecated. Please use tf.compat.v1.placeholder instead.\n",
      "\n",
      "WARNING:tensorflow:From C:\\software\\Anaconda3\\envs\\dl\\lib\\site-packages\\keras\\backend\\tensorflow_backend.py:4138: The name tf.random_uniform is deprecated. Please use tf.random.uniform instead.\n",
      "\n",
      "WARNING:tensorflow:From C:\\software\\Anaconda3\\envs\\dl\\lib\\site-packages\\keras\\backend\\tensorflow_backend.py:133: The name tf.placeholder_with_default is deprecated. Please use tf.compat.v1.placeholder_with_default instead.\n",
      "\n",
      "WARNING:tensorflow:From C:\\software\\Anaconda3\\envs\\dl\\lib\\site-packages\\keras\\backend\\tensorflow_backend.py:3445: calling dropout (from tensorflow.python.ops.nn_ops) with keep_prob is deprecated and will be removed in a future version.\n",
      "Instructions for updating:\n",
      "Please use `rate` instead of `keep_prob`. Rate should be set to `rate = 1 - keep_prob`.\n",
      "WARNING:tensorflow:From C:\\software\\Anaconda3\\envs\\dl\\lib\\site-packages\\keras\\backend\\tensorflow_backend.py:3376: The name tf.log is deprecated. Please use tf.math.log instead.\n",
      "\n",
      "WARNING:tensorflow:From C:\\software\\Anaconda3\\envs\\dl\\lib\\site-packages\\tensorflow_core\\python\\ops\\nn_impl.py:183: where (from tensorflow.python.ops.array_ops) is deprecated and will be removed in a future version.\n",
      "Instructions for updating:\n",
      "Use tf.where in 2.0, which has the same broadcast rule as np.where\n",
      "WARNING:tensorflow:From C:\\software\\Anaconda3\\envs\\dl\\lib\\site-packages\\keras\\backend\\tensorflow_backend.py:986: The name tf.assign_add is deprecated. Please use tf.compat.v1.assign_add instead.\n",
      "\n",
      "WARNING:tensorflow:From C:\\software\\Anaconda3\\envs\\dl\\lib\\site-packages\\keras\\backend\\tensorflow_backend.py:973: The name tf.assign is deprecated. Please use tf.compat.v1.assign instead.\n",
      "\n",
      "WARNING:tensorflow:From C:\\software\\Anaconda3\\envs\\dl\\lib\\site-packages\\keras\\backend\\tensorflow_backend.py:2741: The name tf.Session is deprecated. Please use tf.compat.v1.Session instead.\n",
      "\n",
      "Train on 374 samples, validate on 150 samples\n",
      "Epoch 1/30\n",
      "WARNING:tensorflow:From C:\\software\\Anaconda3\\envs\\dl\\lib\\site-packages\\keras\\backend\\tensorflow_backend.py:174: The name tf.get_default_session is deprecated. Please use tf.compat.v1.get_default_session instead.\n",
      "\n",
      "WARNING:tensorflow:From C:\\software\\Anaconda3\\envs\\dl\\lib\\site-packages\\keras\\backend\\tensorflow_backend.py:181: The name tf.ConfigProto is deprecated. Please use tf.compat.v1.ConfigProto instead.\n",
      "\n",
      "WARNING:tensorflow:From C:\\software\\Anaconda3\\envs\\dl\\lib\\site-packages\\keras\\backend\\tensorflow_backend.py:190: The name tf.global_variables is deprecated. Please use tf.compat.v1.global_variables instead.\n",
      "\n",
      "WARNING:tensorflow:From C:\\software\\Anaconda3\\envs\\dl\\lib\\site-packages\\keras\\backend\\tensorflow_backend.py:199: The name tf.is_variable_initialized is deprecated. Please use tf.compat.v1.is_variable_initialized instead.\n",
      "\n",
      "WARNING:tensorflow:From C:\\software\\Anaconda3\\envs\\dl\\lib\\site-packages\\keras\\backend\\tensorflow_backend.py:206: The name tf.variables_initializer is deprecated. Please use tf.compat.v1.variables_initializer instead.\n",
      "\n",
      "374/374 [==============================] - 23s 60ms/step - loss: 0.6986 - acc: 0.5321 - val_loss: 2.8584 - val_acc: 0.4933\n",
      "Epoch 2/30\n",
      "374/374 [==============================] - 14s 38ms/step - loss: 2.8965 - acc: 0.5267 - val_loss: 2.4300 - val_acc: 0.5067\n",
      "Epoch 3/30\n",
      "374/374 [==============================] - 14s 37ms/step - loss: 2.4864 - acc: 0.4786 - val_loss: 0.6976 - val_acc: 0.4933\n",
      "Epoch 4/30\n",
      "374/374 [==============================] - 16s 43ms/step - loss: 1.2143 - acc: 0.4840 - val_loss: 1.2343 - val_acc: 0.4933\n",
      "Epoch 5/30\n"
     ]
    }
   ],
   "source": [
    "model=fit_model(X, Y, X_test, Y_test, f'logs/{targ_string}_log.csv')"
   ]
  },
  {
   "cell_type": "code",
   "execution_count": null,
   "metadata": {},
   "outputs": [],
   "source": [
    "Y_pred = model.predict(X_test[..., np.newaxis])\n",
    "Y_pred = [1 if i > 0.5 else 0 for i in Y_pred]"
   ]
  },
  {
   "cell_type": "code",
   "execution_count": null,
   "metadata": {},
   "outputs": [],
   "source": [
    "plot_confusion_matrix(Y_mixed_val, Y_pred, classes=[0, 1],\n",
    "                      title='Confusion matrix, without normalization')\n",
    "\n",
    "# Plot normalized confusion matrix\n",
    "plot_confusion_matrix(Y_mixed_val, Y_pred, classes=[0, 1], normalize=True,\n",
    "                      title='Normalized confusion matrix')"
   ]
  },
  {
   "cell_type": "code",
   "execution_count": null,
   "metadata": {},
   "outputs": [],
   "source": []
  },
  {
   "cell_type": "markdown",
   "metadata": {},
   "source": [
    "## Amino Acids"
   ]
  },
  {
   "cell_type": "code",
   "execution_count": null,
   "metadata": {},
   "outputs": [],
   "source": [
    "targ_string = 'amino':\n",
    "data = amino.copy()"
   ]
  },
  {
   "cell_type": "code",
   "execution_count": 6,
   "metadata": {},
   "outputs": [
    {
     "data": {
      "text/html": [
       "<div>\n",
       "<style scoped>\n",
       "    .dataframe tbody tr th:only-of-type {\n",
       "        vertical-align: middle;\n",
       "    }\n",
       "\n",
       "    .dataframe tbody tr th {\n",
       "        vertical-align: top;\n",
       "    }\n",
       "\n",
       "    .dataframe thead th {\n",
       "        text-align: right;\n",
       "    }\n",
       "</style>\n",
       "<table border=\"1\" class=\"dataframe\">\n",
       "  <thead>\n",
       "    <tr style=\"text-align: right;\">\n",
       "      <th></th>\n",
       "      <th>drug_fingerprint</th>\n",
       "      <th>target_amino_code</th>\n",
       "      <th>label</th>\n",
       "      <th>set</th>\n",
       "      <th>d_enc</th>\n",
       "      <th>t_enc</th>\n",
       "      <th>d_len</th>\n",
       "      <th>t_len</th>\n",
       "      <th>d_enc_p</th>\n",
       "      <th>t_enc_p</th>\n",
       "    </tr>\n",
       "  </thead>\n",
       "  <tbody>\n",
       "    <tr>\n",
       "      <th>0</th>\n",
       "      <td>2246728737 3542456614 2245384272 1506563592 22...</td>\n",
       "      <td>MAHVRGLQLPGCLALAALCSLVHSQHVFLAPQQARSLLQRVRRANT...</td>\n",
       "      <td>1.0</td>\n",
       "      <td>train</td>\n",
       "      <td>[2, 2, 4, 6, 7, 2, 8, 7, 3, 7, 3, 5, 4, 2, 4, ...</td>\n",
       "      <td>[10, 0, 6, 18, 14, 5, 9, 13, 9, 12, 5, 1, 9, 0...</td>\n",
       "      <td>3003</td>\n",
       "      <td>622</td>\n",
       "      <td>[-1, -1, -1, -1, -1, -1, -1, -1, -1, -1, -1, -...</td>\n",
       "      <td>[-1, -1, -1, -1, -1, -1, -1, -1, -1, -1, -1, -...</td>\n",
       "    </tr>\n",
       "    <tr>\n",
       "      <th>1</th>\n",
       "      <td>2246728737 3537119515 2245273601 2423543607 22...</td>\n",
       "      <td>MKQRFSALQLLKLLLLLQPPLPRALREALCPEPCNCVPDGALRCPG...</td>\n",
       "      <td>1.0</td>\n",
       "      <td>train</td>\n",
       "      <td>[2, 2, 4, 6, 7, 2, 8, 7, 3, 7, 3, 5, 3, 7, 1, ...</td>\n",
       "      <td>[10, 8, 13, 14, 4, 15, 0, 9, 13, 9, 9, 8, 9, 9...</td>\n",
       "      <td>1769</td>\n",
       "      <td>699</td>\n",
       "      <td>[-1, -1, -1, -1, -1, -1, -1, -1, -1, -1, -1, -...</td>\n",
       "      <td>[-1, -1, -1, -1, -1, -1, -1, -1, -1, -1, -1, -...</td>\n",
       "    </tr>\n",
       "    <tr>\n",
       "      <th>2</th>\n",
       "      <td>2246728737 3537119515 2245273601 2423543607 22...</td>\n",
       "      <td>MANSASPEQNQNHCSAINNSIPLMQGNLPTLTLSGKIRVTVTFFLF...</td>\n",
       "      <td>1.0</td>\n",
       "      <td>train</td>\n",
       "      <td>[2, 2, 4, 6, 7, 2, 8, 7, 3, 7, 3, 5, 3, 7, 1, ...</td>\n",
       "      <td>[10, 0, 11, 15, 0, 15, 12, 3, 13, 11, 13, 11, ...</td>\n",
       "      <td>1769</td>\n",
       "      <td>328</td>\n",
       "      <td>[-1, -1, -1, -1, -1, -1, -1, -1, -1, -1, -1, -...</td>\n",
       "      <td>[-1, -1, -1, -1, -1, -1, -1, -1, -1, -1, -1, -...</td>\n",
       "    </tr>\n",
       "    <tr>\n",
       "      <th>3</th>\n",
       "      <td>2968968094 2142032900 2968968094 2117068077 29...</td>\n",
       "      <td>MLMASTTSAVPGHPSLPSLPSNSSQERPLDTRDPLLARAELALLSI...</td>\n",
       "      <td>1.0</td>\n",
       "      <td>train</td>\n",
       "      <td>[2, 9, 6, 8, 9, 6, 8, 0, 9, 4, 2, 1, 4, 2, 0, ...</td>\n",
       "      <td>[10, 9, 10, 0, 15, 16, 16, 15, 0, 18, 12, 5, 6...</td>\n",
       "      <td>1431</td>\n",
       "      <td>371</td>\n",
       "      <td>[-1, -1, -1, -1, -1, -1, -1, -1, -1, -1, -1, -...</td>\n",
       "      <td>[-1, -1, -1, -1, -1, -1, -1, -1, -1, -1, -1, -...</td>\n",
       "    </tr>\n",
       "    <tr>\n",
       "      <th>4</th>\n",
       "      <td>2968968094 2142032900 2968968094 2117068077 29...</td>\n",
       "      <td>MRLSAGPDAGPSGNSSPWWPLATGAGNTSREAEALGEGNGPPRDVR...</td>\n",
       "      <td>1.0</td>\n",
       "      <td>train</td>\n",
       "      <td>[2, 9, 6, 8, 9, 6, 8, 0, 9, 4, 2, 1, 4, 2, 0, ...</td>\n",
       "      <td>[10, 14, 9, 15, 0, 5, 12, 2, 0, 5, 12, 15, 5, ...</td>\n",
       "      <td>1431</td>\n",
       "      <td>418</td>\n",
       "      <td>[-1, -1, -1, -1, -1, -1, -1, -1, -1, -1, -1, -...</td>\n",
       "      <td>[-1, -1, -1, -1, -1, -1, -1, -1, -1, -1, -1, -...</td>\n",
       "    </tr>\n",
       "  </tbody>\n",
       "</table>\n",
       "</div>"
      ],
      "text/plain": [
       "                                    drug_fingerprint  \\\n",
       "0  2246728737 3542456614 2245384272 1506563592 22...   \n",
       "1  2246728737 3537119515 2245273601 2423543607 22...   \n",
       "2  2246728737 3537119515 2245273601 2423543607 22...   \n",
       "3  2968968094 2142032900 2968968094 2117068077 29...   \n",
       "4  2968968094 2142032900 2968968094 2117068077 29...   \n",
       "\n",
       "                                   target_amino_code  label    set  \\\n",
       "0  MAHVRGLQLPGCLALAALCSLVHSQHVFLAPQQARSLLQRVRRANT...    1.0  train   \n",
       "1  MKQRFSALQLLKLLLLLQPPLPRALREALCPEPCNCVPDGALRCPG...    1.0  train   \n",
       "2  MANSASPEQNQNHCSAINNSIPLMQGNLPTLTLSGKIRVTVTFFLF...    1.0  train   \n",
       "3  MLMASTTSAVPGHPSLPSLPSNSSQERPLDTRDPLLARAELALLSI...    1.0  train   \n",
       "4  MRLSAGPDAGPSGNSSPWWPLATGAGNTSREAEALGEGNGPPRDVR...    1.0  train   \n",
       "\n",
       "                                               d_enc  \\\n",
       "0  [2, 2, 4, 6, 7, 2, 8, 7, 3, 7, 3, 5, 4, 2, 4, ...   \n",
       "1  [2, 2, 4, 6, 7, 2, 8, 7, 3, 7, 3, 5, 3, 7, 1, ...   \n",
       "2  [2, 2, 4, 6, 7, 2, 8, 7, 3, 7, 3, 5, 3, 7, 1, ...   \n",
       "3  [2, 9, 6, 8, 9, 6, 8, 0, 9, 4, 2, 1, 4, 2, 0, ...   \n",
       "4  [2, 9, 6, 8, 9, 6, 8, 0, 9, 4, 2, 1, 4, 2, 0, ...   \n",
       "\n",
       "                                               t_enc  d_len  t_len  \\\n",
       "0  [10, 0, 6, 18, 14, 5, 9, 13, 9, 12, 5, 1, 9, 0...   3003    622   \n",
       "1  [10, 8, 13, 14, 4, 15, 0, 9, 13, 9, 9, 8, 9, 9...   1769    699   \n",
       "2  [10, 0, 11, 15, 0, 15, 12, 3, 13, 11, 13, 11, ...   1769    328   \n",
       "3  [10, 9, 10, 0, 15, 16, 16, 15, 0, 18, 12, 5, 6...   1431    371   \n",
       "4  [10, 14, 9, 15, 0, 5, 12, 2, 0, 5, 12, 15, 5, ...   1431    418   \n",
       "\n",
       "                                             d_enc_p  \\\n",
       "0  [-1, -1, -1, -1, -1, -1, -1, -1, -1, -1, -1, -...   \n",
       "1  [-1, -1, -1, -1, -1, -1, -1, -1, -1, -1, -1, -...   \n",
       "2  [-1, -1, -1, -1, -1, -1, -1, -1, -1, -1, -1, -...   \n",
       "3  [-1, -1, -1, -1, -1, -1, -1, -1, -1, -1, -1, -...   \n",
       "4  [-1, -1, -1, -1, -1, -1, -1, -1, -1, -1, -1, -...   \n",
       "\n",
       "                                             t_enc_p  \n",
       "0  [-1, -1, -1, -1, -1, -1, -1, -1, -1, -1, -1, -...  \n",
       "1  [-1, -1, -1, -1, -1, -1, -1, -1, -1, -1, -1, -...  \n",
       "2  [-1, -1, -1, -1, -1, -1, -1, -1, -1, -1, -1, -...  \n",
       "3  [-1, -1, -1, -1, -1, -1, -1, -1, -1, -1, -1, -...  \n",
       "4  [-1, -1, -1, -1, -1, -1, -1, -1, -1, -1, -1, -...  "
      ]
     },
     "execution_count": 6,
     "metadata": {},
     "output_type": "execute_result"
    }
   ],
   "source": [
    "train = data[data.set=='train'].copy()#.sample(n=500)\n",
    "test  = train.sample(frac=.3, replace = True).copy()\n",
    "\n",
    "# Remove testing indicies\n",
    "train = train.loc[list(set(train.index.tolist()) - set(test.index.tolist())), :].reset_index(drop=True)\n",
    "test.reset_index(drop=True, inplace=True)\n"
   ]
  },
  {
   "cell_type": "code",
   "execution_count": null,
   "metadata": {},
   "outputs": [],
   "source": [
    "X_0 = np.array(train['d_enc_p'].tolist())\n",
    "X_1 = np.array(train['t_enc_p'].tolist())\n",
    "Y = np.array(train['label'].tolist())\n",
    "\n",
    "X_0_test = np.array(test['d_enc_p'].tolist())\n",
    "X_1_test = np.array(test['t_enc_p'].tolist())\n",
    "Y_test = np.array(test['label'].tolist())\n",
    "\n",
    "trimmed = trim_padding([X_0, X_0_test])\n",
    "X_0, X_0_test = trimmed[0], trimmed[1]\n",
    "\n",
    "trimmed = trim_padding([X_1, X_1_test])\n",
    "X_1, X_1_test = trimmed[0], trimmed[1]\n",
    "\n",
    "X = np.hstack((X_0, X_1)) + 1\n",
    "X_test = np.hstack((X_0_test, X_1_test)) + 1"
   ]
  },
  {
   "cell_type": "code",
   "execution_count": null,
   "metadata": {},
   "outputs": [],
   "source": [
    "model=fit_model(X, Y, X_test, Y_test, f'logs/{targ_string}_log.csv')"
   ]
  },
  {
   "cell_type": "code",
   "execution_count": null,
   "metadata": {},
   "outputs": [],
   "source": [
    "Y_pred = model.predict(X_test[..., np.newaxis])\n",
    "Y_pred = [1 if i > 0.5 else 0 for i in Y_pred]"
   ]
  },
  {
   "cell_type": "code",
   "execution_count": null,
   "metadata": {},
   "outputs": [],
   "source": [
    "plot_confusion_matrix(Y_mixed_val, Y_pred, classes=[0, 1],\n",
    "                      title='Confusion matrix, without normalization')\n",
    "\n",
    "# Plot normalized confusion matrix\n",
    "plot_confusion_matrix(Y_mixed_val, Y_pred, classes=[0, 1], normalize=True,\n",
    "                      title='Normalized confusion matrix')"
   ]
  },
  {
   "cell_type": "markdown",
   "metadata": {},
   "source": [
    "## Validation"
   ]
  },
  {
   "cell_type": "code",
   "execution_count": null,
   "metadata": {},
   "outputs": [],
   "source": [
    "data = amino.copy()"
   ]
  },
  {
   "cell_type": "code",
   "execution_count": null,
   "metadata": {},
   "outputs": [],
   "source": [
    "train = data[data.set=='train'].copy()#.sample(n=500)\n",
    "test  = train.sample(frac=.3, replace = True).copy()\n",
    "val   = data[data.set=='val'].copy()\n",
    "\n",
    "# Remove testing indicies\n",
    "train = train.loc[list(set(train.index.tolist()) - set(test.index.tolist())), :].reset_index(drop=True)\n",
    "test.reset_index(drop=True, inplace=True)\n"
   ]
  },
  {
   "cell_type": "code",
   "execution_count": 38,
   "metadata": {},
   "outputs": [],
   "source": [
    "X_0 = np.array(train['d_enc_p'].tolist())\n",
    "X_1 = np.array(train['t_enc_p'].tolist())\n",
    "Y = np.array(train['label'].tolist())\n",
    "\n",
    "X_0_test = np.array(test['d_enc_p'].tolist())\n",
    "X_1_test = np.array(test['t_enc_p'].tolist())\n",
    "Y_test = np.array(test['label'].tolist())\n",
    "\n",
    "X_0_val = np.array(val['d_enc_p'].tolist())\n",
    "X_1_val = np.array(val['t_enc_p'].tolist())\n",
    "Y_val = np.array(val['label'].tolist())\n",
    "\n",
    "trimmed = trim_padding([X_0, X_0_test, X_0_val])\n",
    "X_0, X_0_test, X_0_val = trimmed[0], trimmed[1], trimmed[2]\n",
    "\n",
    "trimmed = trim_padding([X_1, X_1_test, X_1_val])\n",
    "X_1, X_1_test,X_1_val  = trimmed[0], trimmed[1], trimmed[2]\n",
    "\n",
    "# +1 to shift all values by 1 so the -1 padding becomes 0.\n",
    "X = np.hstack((X_0, X_1)) + 1\n",
    "X_test = np.hstack((X_0_test, X_1_test)) + 1\n",
    "X_val = np.hstack((X_0_val, X_1_val)) + 1"
   ]
  },
  {
   "cell_type": "code",
   "execution_count": 79,
   "metadata": {},
   "outputs": [],
   "source": [
    "X_mixed_index = np.random.randint(len(X), size=int(len(X)/2))\n",
    "X_val_mixed_index = np.random.randint(len(X_val), size=int(len(X_val)/2))"
   ]
  },
  {
   "cell_type": "code",
   "execution_count": 95,
   "metadata": {},
   "outputs": [
    {
     "data": {
      "text/plain": [
       "(10432,)"
      ]
     },
     "execution_count": 95,
     "metadata": {},
     "output_type": "execute_result"
    }
   ],
   "source": [
    "Y[X_mixed_index].shape"
   ]
  },
  {
   "cell_type": "code",
   "execution_count": 96,
   "metadata": {},
   "outputs": [
    {
     "data": {
      "text/plain": [
       "(6988,)"
      ]
     },
     "execution_count": 96,
     "metadata": {},
     "output_type": "execute_result"
    }
   ],
   "source": [
    "Y_val[X_val_mixed_index].shape"
   ]
  },
  {
   "cell_type": "code",
   "execution_count": 99,
   "metadata": {},
   "outputs": [],
   "source": [
    "X_mixed = np.vstack((X[X_mixed_index], X_val[X_val_mixed_index]))\n",
    "X_mixed_val = np.vstack((X[~ X_mixed_index], X_val[ ~ X_val_mixed_index]))\n",
    "\n",
    "#Y is shaped as a horizontal array\n",
    "Y_mixed = np.hstack((Y[X_mixed_index], Y_val[X_val_mixed_index]))\n",
    "Y_mixed_val = np.hstack((Y[~X_mixed_index], Y_val[~X_val_mixed_index]))"
   ]
  },
  {
   "cell_type": "code",
   "execution_count": 30,
   "metadata": {},
   "outputs": [],
   "source": [
    "model=fit_model(X_mixed, Y_mixed, X_test, Y_test, f'logs/{targ_string}_val_log.csv')"
   ]
  },
  {
   "cell_type": "code",
   "execution_count": 106,
   "metadata": {},
   "outputs": [
    {
     "name": "stdout",
     "output_type": "stream",
     "text": [
      "Train on 17420 samples, validate on 8444 samples\n",
      "Epoch 1/30\n",
      "17420/17420 [==============================] - 29s 2ms/step - loss: 0.6055 - acc: 0.6625 - val_loss: 0.7405 - val_acc: 0.5338\n",
      "Epoch 2/30\n",
      "17420/17420 [==============================] - 28s 2ms/step - loss: 0.6078 - acc: 0.6623 - val_loss: 0.6038 - val_acc: 0.6826\n",
      "Epoch 3/30\n",
      "17420/17420 [==============================] - 29s 2ms/step - loss: 0.5685 - acc: 0.6982 - val_loss: 0.5946 - val_acc: 0.6711\n",
      "Epoch 4/30\n",
      "17420/17420 [==============================] - 28s 2ms/step - loss: 0.5508 - acc: 0.7200 - val_loss: 0.5560 - val_acc: 0.7072\n",
      "Epoch 5/30\n",
      "17420/17420 [==============================] - 29s 2ms/step - loss: 0.5093 - acc: 0.7525 - val_loss: 0.5264 - val_acc: 0.7448\n",
      "Epoch 6/30\n",
      "17420/17420 [==============================] - 28s 2ms/step - loss: 0.6387 - acc: 0.6614 - val_loss: 0.6076 - val_acc: 0.6813\n",
      "Epoch 7/30\n",
      "17420/17420 [==============================] - 31s 2ms/step - loss: 0.5877 - acc: 0.6885 - val_loss: 0.6354 - val_acc: 0.6335\n",
      "Epoch 8/30\n",
      "17420/17420 [==============================] - 29s 2ms/step - loss: 0.5669 - acc: 0.7003 - val_loss: 0.6245 - val_acc: 0.6592\n",
      "Epoch 9/30\n",
      "17420/17420 [==============================] - 29s 2ms/step - loss: 0.5189 - acc: 0.7431 - val_loss: 0.5430 - val_acc: 0.7226\n",
      "Epoch 10/30\n",
      "17420/17420 [==============================] - 29s 2ms/step - loss: 0.4962 - acc: 0.7645 - val_loss: 0.5310 - val_acc: 0.7287\n",
      "Epoch 11/30\n",
      "17420/17420 [==============================] - 29s 2ms/step - loss: 0.5254 - acc: 0.7390 - val_loss: 0.5278 - val_acc: 0.7309\n",
      "Epoch 12/30\n",
      "17420/17420 [==============================] - 29s 2ms/step - loss: 0.4939 - acc: 0.7561 - val_loss: 0.5458 - val_acc: 0.7146\n",
      "Epoch 13/30\n",
      "17420/17420 [==============================] - 28s 2ms/step - loss: 0.4477 - acc: 0.7943 - val_loss: 0.6111 - val_acc: 0.7086\n",
      "Epoch 14/30\n",
      "17420/17420 [==============================] - 29s 2ms/step - loss: 0.4712 - acc: 0.7800 - val_loss: 0.5481 - val_acc: 0.7279\n",
      "Epoch 15/30\n",
      "17420/17420 [==============================] - 28s 2ms/step - loss: 0.4439 - acc: 0.7973 - val_loss: 0.5435 - val_acc: 0.7282\n",
      "Epoch 16/30\n",
      "17420/17420 [==============================] - 28s 2ms/step - loss: 0.4348 - acc: 0.8011 - val_loss: 0.5616 - val_acc: 0.7205\n",
      "Epoch 17/30\n",
      "17420/17420 [==============================] - 28s 2ms/step - loss: 0.4811 - acc: 0.7631 - val_loss: 0.5986 - val_acc: 0.6974\n",
      "Epoch 18/30\n",
      "17420/17420 [==============================] - 30s 2ms/step - loss: 0.4245 - acc: 0.8047 - val_loss: 0.5831 - val_acc: 0.7334\n",
      "Epoch 19/30\n",
      "17420/17420 [==============================] - 28s 2ms/step - loss: 0.4315 - acc: 0.8036 - val_loss: 0.5736 - val_acc: 0.7327\n",
      "Epoch 20/30\n",
      "17420/17420 [==============================] - 28s 2ms/step - loss: 0.4328 - acc: 0.8049 - val_loss: 0.6282 - val_acc: 0.6907\n",
      "Epoch 21/30\n",
      "17420/17420 [==============================] - 29s 2ms/step - loss: 0.4040 - acc: 0.8175 - val_loss: 0.5451 - val_acc: 0.7460\n",
      "Epoch 22/30\n",
      "17420/17420 [==============================] - 28s 2ms/step - loss: 0.3719 - acc: 0.8382 - val_loss: 0.5342 - val_acc: 0.7444\n",
      "Epoch 23/30\n",
      "17420/17420 [==============================] - 29s 2ms/step - loss: 0.3750 - acc: 0.8378 - val_loss: 0.5765 - val_acc: 0.7263\n",
      "Epoch 24/30\n",
      "17420/17420 [==============================] - 28s 2ms/step - loss: 0.4068 - acc: 0.8177 - val_loss: 0.7021 - val_acc: 0.6748\n",
      "Epoch 25/30\n",
      "17420/17420 [==============================] - 28s 2ms/step - loss: 0.3683 - acc: 0.8397 - val_loss: 0.6799 - val_acc: 0.7061\n",
      "Epoch 26/30\n",
      "17420/17420 [==============================] - 29s 2ms/step - loss: 0.3810 - acc: 0.8323 - val_loss: 0.5267 - val_acc: 0.7483\n",
      "Epoch 27/30\n",
      "17420/17420 [==============================] - 28s 2ms/step - loss: 0.3511 - acc: 0.8530 - val_loss: 0.6438 - val_acc: 0.7357\n",
      "Epoch 28/30\n",
      "17420/17420 [==============================] - 28s 2ms/step - loss: 0.3591 - acc: 0.8447 - val_loss: 0.5965 - val_acc: 0.7411\n",
      "Epoch 29/30\n",
      "17420/17420 [==============================] - 29s 2ms/step - loss: 0.3586 - acc: 0.8448 - val_loss: 0.6362 - val_acc: 0.7183\n",
      "Epoch 30/30\n",
      "17420/17420 [==============================] - 29s 2ms/step - loss: 0.3769 - acc: 0.8331 - val_loss: 0.5817 - val_acc: 0.7376\n"
     ]
    },
    {
     "data": {
      "text/plain": [
       "<keras.callbacks.History at 0x7fdab0f1c9b0>"
      ]
     },
     "execution_count": 106,
     "metadata": {},
     "output_type": "execute_result"
    }
   ],
   "source": [
    "Y_pred = model.predict(X_mixed_val[..., np.newaxis])\n",
    "Y_pred = [1 if i > 0.5 else 0 for i in Y_pred]"
   ]
  },
  {
   "cell_type": "code",
   "execution_count": null,
   "metadata": {},
   "outputs": [],
   "source": [
    "plot_confusion_matrix(Y_mixed_val, Y_pred, classes=[0, 1],\n",
    "                      title='Confusion matrix, without normalization')\n",
    "\n",
    "# Plot normalized confusion matrix\n",
    "plot_confusion_matrix(Y_mixed_val, Y_pred, classes=[0, 1], normalize=True,\n",
    "                      title='Normalized confusion matrix')"
   ]
  },
  {
   "cell_type": "code",
   "execution_count": 26,
   "metadata": {},
   "outputs": [
    {
     "data": {
      "image/png": "[encoded data removed]",
      "text/plain": [
       "<IPython.core.display.Image object>"
      ]
     },
     "execution_count": 26,
     "metadata": {},
     "output_type": "execute_result"
    }
   ],
   "source": [
    "plot_model(model, show_shapes = True)"
   ]
  },
  {
   "cell_type": "code",
   "execution_count": 59,
   "metadata": {},
   "outputs": [],
   "source": [
    "# model.save('data/models/pure_cnn_amino.model')"
   ]
  }
 ],
 "metadata": {
  "kernelspec": {
   "display_name": "Python 3",
   "language": "python",
   "name": "python3"
  },
  "language_info": {
   "codemirror_mode": {
    "name": "ipython",
    "version": 3
   },
   "file_extension": ".py",
   "mimetype": "text/x-python",
   "name": "python",
   "nbconvert_exporter": "python",
   "pygments_lexer": "ipython3",
   "version": "3.7.5"
  }
 },
 "nbformat": 4,
 "nbformat_minor": 2
}
